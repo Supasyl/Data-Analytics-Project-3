{
 "metadata": {
  "language_info": {
   "codemirror_mode": {
    "name": "ipython",
    "version": 3
   },
   "file_extension": ".py",
   "mimetype": "text/x-python",
   "name": "python",
   "nbconvert_exporter": "python",
   "pygments_lexer": "ipython3",
   "version": "3.7.9-final"
  },
  "orig_nbformat": 2,
  "kernelspec": {
   "name": "python3",
   "display_name": "Python 3.7.9 64-bit ('homework': conda)",
   "metadata": {
    "interpreter": {
     "hash": "bda7821ce18a0b2c0f737a4544fda4e96b70694268c6080765f14fcf13080e2c"
    }
   }
  }
 },
 "nbformat": 4,
 "nbformat_minor": 2,
 "cells": [
  {
   "cell_type": "code",
   "execution_count": 185,
   "metadata": {},
   "outputs": [],
   "source": [
    "# importing the libraries\n",
    "import pandas as pd\n",
    "import numpy as np"
   ]
  },
  {
   "source": [
    "# 2019"
   ],
   "cell_type": "markdown",
   "metadata": {}
  },
  {
   "cell_type": "code",
   "execution_count": 186,
   "metadata": {},
   "outputs": [
    {
     "output_type": "execute_result",
     "data": {
      "text/plain": [
       "   QUESTID2  AGE2  NOMARR2  SERVICE  HEALTH  MOVSINPYR2  SEXATRACT  SEXIDENT  \\\n",
       "0  43295143    15        1        2       2           0          1         1   \n",
       "1  65095143    17        2        2       2           0          1         1   \n",
       "2  49405143    14       99        2       2           0          1         1   \n",
       "3  51015143     9       99        2       3           0          1         1   \n",
       "4  31825143     7       99        2       2           0          1         1   \n",
       "\n",
       "   DIFFTHINK  DIFFWALK  ...  PNRANYLIF  TRQANYLIF  STMANYLIF  SEDANYLIF  \\\n",
       "0          2         2  ...          1          2          2          2   \n",
       "1          2         2  ...          1          2          2          2   \n",
       "2          2         2  ...          1          2          2          2   \n",
       "3          2         2  ...          1          1          2          2   \n",
       "4          2         2  ...          2          2          2          2   \n",
       "\n",
       "   DSTNRV30  DSTHOP30  DSTRST30  DSTCHR30  DSTEFF30  DSTNGD30  \n",
       "0         2         3         3         3         2         4  \n",
       "1         5         5         5         5         5         5  \n",
       "2         4         5         5         5         5         5  \n",
       "3         3         4         5         4         5         5  \n",
       "4         2         3         3         4         4         3  \n",
       "\n",
       "[5 rows x 66 columns]"
      ],
      "text/html": "<div>\n<style scoped>\n    .dataframe tbody tr th:only-of-type {\n        vertical-align: middle;\n    }\n\n    .dataframe tbody tr th {\n        vertical-align: top;\n    }\n\n    .dataframe thead th {\n        text-align: right;\n    }\n</style>\n<table border=\"1\" class=\"dataframe\">\n  <thead>\n    <tr style=\"text-align: right;\">\n      <th></th>\n      <th>QUESTID2</th>\n      <th>AGE2</th>\n      <th>NOMARR2</th>\n      <th>SERVICE</th>\n      <th>HEALTH</th>\n      <th>MOVSINPYR2</th>\n      <th>SEXATRACT</th>\n      <th>SEXIDENT</th>\n      <th>DIFFTHINK</th>\n      <th>DIFFWALK</th>\n      <th>...</th>\n      <th>PNRANYLIF</th>\n      <th>TRQANYLIF</th>\n      <th>STMANYLIF</th>\n      <th>SEDANYLIF</th>\n      <th>DSTNRV30</th>\n      <th>DSTHOP30</th>\n      <th>DSTRST30</th>\n      <th>DSTCHR30</th>\n      <th>DSTEFF30</th>\n      <th>DSTNGD30</th>\n    </tr>\n  </thead>\n  <tbody>\n    <tr>\n      <th>0</th>\n      <td>43295143</td>\n      <td>15</td>\n      <td>1</td>\n      <td>2</td>\n      <td>2</td>\n      <td>0</td>\n      <td>1</td>\n      <td>1</td>\n      <td>2</td>\n      <td>2</td>\n      <td>...</td>\n      <td>1</td>\n      <td>2</td>\n      <td>2</td>\n      <td>2</td>\n      <td>2</td>\n      <td>3</td>\n      <td>3</td>\n      <td>3</td>\n      <td>2</td>\n      <td>4</td>\n    </tr>\n    <tr>\n      <th>1</th>\n      <td>65095143</td>\n      <td>17</td>\n      <td>2</td>\n      <td>2</td>\n      <td>2</td>\n      <td>0</td>\n      <td>1</td>\n      <td>1</td>\n      <td>2</td>\n      <td>2</td>\n      <td>...</td>\n      <td>1</td>\n      <td>2</td>\n      <td>2</td>\n      <td>2</td>\n      <td>5</td>\n      <td>5</td>\n      <td>5</td>\n      <td>5</td>\n      <td>5</td>\n      <td>5</td>\n    </tr>\n    <tr>\n      <th>2</th>\n      <td>49405143</td>\n      <td>14</td>\n      <td>99</td>\n      <td>2</td>\n      <td>2</td>\n      <td>0</td>\n      <td>1</td>\n      <td>1</td>\n      <td>2</td>\n      <td>2</td>\n      <td>...</td>\n      <td>1</td>\n      <td>2</td>\n      <td>2</td>\n      <td>2</td>\n      <td>4</td>\n      <td>5</td>\n      <td>5</td>\n      <td>5</td>\n      <td>5</td>\n      <td>5</td>\n    </tr>\n    <tr>\n      <th>3</th>\n      <td>51015143</td>\n      <td>9</td>\n      <td>99</td>\n      <td>2</td>\n      <td>3</td>\n      <td>0</td>\n      <td>1</td>\n      <td>1</td>\n      <td>2</td>\n      <td>2</td>\n      <td>...</td>\n      <td>1</td>\n      <td>1</td>\n      <td>2</td>\n      <td>2</td>\n      <td>3</td>\n      <td>4</td>\n      <td>5</td>\n      <td>4</td>\n      <td>5</td>\n      <td>5</td>\n    </tr>\n    <tr>\n      <th>4</th>\n      <td>31825143</td>\n      <td>7</td>\n      <td>99</td>\n      <td>2</td>\n      <td>2</td>\n      <td>0</td>\n      <td>1</td>\n      <td>1</td>\n      <td>2</td>\n      <td>2</td>\n      <td>...</td>\n      <td>2</td>\n      <td>2</td>\n      <td>2</td>\n      <td>2</td>\n      <td>2</td>\n      <td>3</td>\n      <td>3</td>\n      <td>4</td>\n      <td>4</td>\n      <td>3</td>\n    </tr>\n  </tbody>\n</table>\n<p>5 rows × 66 columns</p>\n</div>"
     },
     "metadata": {},
     "execution_count": 186
    }
   ],
   "source": [
    "# Reading in the data\n",
    "data1_df = pd.read_csv('NSDUH_2019_Tab.csv')\n",
    "data1.head()"
   ]
  },
  {
   "cell_type": "code",
   "execution_count": 187,
   "metadata": {},
   "outputs": [
    {
     "output_type": "stream",
     "name": "stdout",
     "text": [
      "<class 'pandas.core.frame.DataFrame'>\nRangeIndex: 56136 entries, 0 to 56135\nColumns: 2741 entries, QUESTID2 to VEREP\ndtypes: float64(407), int64(2332), object(2)\nmemory usage: 1.1+ GB\n"
     ]
    }
   ],
   "source": [
    "data1_df.info()"
   ]
  },
  {
   "cell_type": "code",
   "execution_count": 188,
   "metadata": {},
   "outputs": [
    {
     "output_type": "stream",
     "name": "stdout",
     "text": [
      "<class 'pandas.core.frame.DataFrame'>\nRangeIndex: 56136 entries, 0 to 56135\nData columns (total 64 columns):\n #   Column        Non-Null Count  Dtype\n---  ------        --------------  -----\n 0   AGE2          56136 non-null  int64\n 1   IRMARIT       56136 non-null  int64\n 2   SERVICE       56136 non-null  int64\n 3   HEALTH        56136 non-null  int64\n 4   MOVSINPYR2    56136 non-null  int64\n 5   SEXATRACT     56136 non-null  int64\n 6   SEXIDENT      56136 non-null  int64\n 7   DIFFTHINK     56136 non-null  int64\n 8   DIFFWALK      56136 non-null  int64\n 9   DIFFDRESS     56136 non-null  int64\n 10  DIFFERAND     56136 non-null  int64\n 11  IREDUHIGHST2  56136 non-null  int64\n 12  WRKSTATWK2    56136 non-null  int64\n 13  IRWRKSTAT     56136 non-null  int64\n 14  WRKNUMJOB2    56136 non-null  int64\n 15  IRPINC3       56136 non-null  int64\n 16  CIGEVER       56136 non-null  int64\n 17  CIGTRY        56136 non-null  int64\n 18  CIGDLYMO      56136 non-null  int64\n 19  CIG100LF      56136 non-null  int64\n 20  CG30EST       56136 non-null  int64\n 21  ALCEVER       56136 non-null  int64\n 22  ALCREC        56136 non-null  int64\n 23  ALCYRTOT      56136 non-null  int64\n 24  ALCDAYS       56136 non-null  int64\n 25  ALCUS30D      56136 non-null  int64\n 26  MJEVER        56136 non-null  int64\n 27  COCEVER       56136 non-null  int64\n 28  CRKEVER       56136 non-null  int64\n 29  HEREVER       56136 non-null  int64\n 30  LSD           56136 non-null  int64\n 31  PCP           56136 non-null  int64\n 32  PEYOTE        56136 non-null  int64\n 33  MESC          56136 non-null  int64\n 34  PSILCY        56136 non-null  int64\n 35  ECSTMOLLY     56136 non-null  int64\n 36  KETMINESK     56136 non-null  int64\n 37  DMTAMTFXY     56136 non-null  int64\n 38  SALVIADIV     56136 non-null  int64\n 39  HALLUCOTH     56136 non-null  int64\n 40  AMYLNIT       56136 non-null  int64\n 41  CLEFLU        56136 non-null  int64\n 42  GAS           56136 non-null  int64\n 43  GLUE          56136 non-null  int64\n 44  ETHER         56136 non-null  int64\n 45  SOLVENT       56136 non-null  int64\n 46  LGAS          56136 non-null  int64\n 47  NITOXID       56136 non-null  int64\n 48  FELTMARKR     56136 non-null  int64\n 49  SPPAINT       56136 non-null  int64\n 50  AIRDUSTER     56136 non-null  int64\n 51  OTHAEROS      56136 non-null  int64\n 52  INHALOTH      56136 non-null  int64\n 53  METHAMEVR     56136 non-null  int64\n 54  PNRANYLIF     56136 non-null  int64\n 55  TRQANYLIF     56136 non-null  int64\n 56  STMANYLIF     56136 non-null  int64\n 57  SEDANYLIF     56136 non-null  int64\n 58  DSTNRV30      56136 non-null  int64\n 59  DSTHOP30      56136 non-null  int64\n 60  DSTRST30      56136 non-null  int64\n 61  DSTCHR30      56136 non-null  int64\n 62  DSTEFF30      56136 non-null  int64\n 63  DSTNGD30      56136 non-null  int64\ndtypes: int64(64)\nmemory usage: 27.4 MB\n"
     ]
    }
   ],
   "source": [
    "# Extracting the colums required for the project\n",
    "data1_df = data1_df[['AGE2', 'IRMARIT', 'SERVICE', 'HEALTH', 'MOVSINPYR2', 'SEXATRACT', 'SEXIDENT', 'DIFFTHINK', 'DIFFWALK','DIFFDRESS', 'DIFFERAND', 'IREDUHIGHST2', 'WRKSTATWK2', 'IRWRKSTAT', 'WRKNUMJOB2', 'IRPINC3', 'CIGEVER', 'CIGTRY', 'CIGDLYMO', 'CIG100LF', 'CG30EST', 'ALCEVER', 'ALCREC', 'ALCYRTOT', 'ALCDAYS', 'ALCUS30D', 'MJEVER', 'COCEVER', 'CRKEVER', 'HEREVER', 'LSD', 'PCP', 'PEYOTE', 'MESC', 'PSILCY', 'ECSTMOLLY', 'KETMINESK', 'DMTAMTFXY', 'SALVIADIV', 'HALLUCOTH', 'AMYLNIT', 'CLEFLU', 'GAS', 'GLUE', 'ETHER', 'SOLVENT', 'LGAS', 'NITOXID', 'FELTMARKR', 'SPPAINT', 'AIRDUSTER', 'OTHAEROS', 'INHALOTH', 'METHAMEVR', 'PNRANYLIF', 'TRQANYLIF', 'STMANYLIF', 'SEDANYLIF', 'DSTNRV30', 'DSTHOP30', 'DSTRST30', 'DSTCHR30', 'DSTEFF30', 'DSTNGD30']]\n",
    "data1_df.info()"
   ]
  },
  {
   "cell_type": "code",
   "execution_count": 189,
   "metadata": {},
   "outputs": [
    {
     "output_type": "execute_result",
     "data": {
      "text/plain": [
       "       AGE2  IRMARIT  SERVICE  HEALTH  MOVSINPYR2  SEXATRACT  SEXIDENT  \\\n",
       "0        15        1        2       2           0          1         1   \n",
       "1        17        1        2       2           0          1         1   \n",
       "2        14        4        2       2           0          1         1   \n",
       "3         9        4        2       3           0          1         1   \n",
       "4         7        4        2       2           0          1         1   \n",
       "...     ...      ...      ...     ...         ...        ...       ...   \n",
       "56128    15        4        2       1           0          1         1   \n",
       "56129    13        1        2       1           0          1         1   \n",
       "56130    15        1        2       3           0          2         1   \n",
       "56131    10        4        2       2           1          3         3   \n",
       "56132    13        3        2       2           0          4         2   \n",
       "\n",
       "       DIFFTHINK  DIFFWALK  DIFFDRESS  ...  PNRANYLIF  TRQANYLIF  STMANYLIF  \\\n",
       "0              2         2          2  ...          1          2          2   \n",
       "1              2         2          2  ...          1          2          2   \n",
       "2              2         2          2  ...          1          2          2   \n",
       "3              2         2          2  ...          1          1          2   \n",
       "4              2         2          2  ...          2          2          2   \n",
       "...          ...       ...        ...  ...        ...        ...        ...   \n",
       "56128          2         2          2  ...          2          2          2   \n",
       "56129          2         2          2  ...          1          5          1   \n",
       "56130          2         2          2  ...          2          2          2   \n",
       "56131          2         2          2  ...          5          2          2   \n",
       "56132          2         2          2  ...          2          2          2   \n",
       "\n",
       "       SEDANYLIF  DSTNRV30  DSTHOP30  DSTRST30  DSTCHR30  DSTEFF30  DSTNGD30  \n",
       "0              2         2         3         3         3         2         4  \n",
       "1              2         5         5         5         5         5         5  \n",
       "2              2         4         5         5         5         5         5  \n",
       "3              2         3         4         5         4         5         5  \n",
       "4              2         2         3         3         4         4         3  \n",
       "...          ...       ...       ...       ...       ...       ...       ...  \n",
       "56128          2         4         5         5         5        97         5  \n",
       "56129          2         2         4         3         4         4         4  \n",
       "56130          2         5         5         5         5         5         5  \n",
       "56131          2         4         4         4         4         4         4  \n",
       "56132          2         3         4         4         5         2         5  \n",
       "\n",
       "[42739 rows x 64 columns]"
      ],
      "text/html": "<div>\n<style scoped>\n    .dataframe tbody tr th:only-of-type {\n        vertical-align: middle;\n    }\n\n    .dataframe tbody tr th {\n        vertical-align: top;\n    }\n\n    .dataframe thead th {\n        text-align: right;\n    }\n</style>\n<table border=\"1\" class=\"dataframe\">\n  <thead>\n    <tr style=\"text-align: right;\">\n      <th></th>\n      <th>AGE2</th>\n      <th>IRMARIT</th>\n      <th>SERVICE</th>\n      <th>HEALTH</th>\n      <th>MOVSINPYR2</th>\n      <th>SEXATRACT</th>\n      <th>SEXIDENT</th>\n      <th>DIFFTHINK</th>\n      <th>DIFFWALK</th>\n      <th>DIFFDRESS</th>\n      <th>...</th>\n      <th>PNRANYLIF</th>\n      <th>TRQANYLIF</th>\n      <th>STMANYLIF</th>\n      <th>SEDANYLIF</th>\n      <th>DSTNRV30</th>\n      <th>DSTHOP30</th>\n      <th>DSTRST30</th>\n      <th>DSTCHR30</th>\n      <th>DSTEFF30</th>\n      <th>DSTNGD30</th>\n    </tr>\n  </thead>\n  <tbody>\n    <tr>\n      <th>0</th>\n      <td>15</td>\n      <td>1</td>\n      <td>2</td>\n      <td>2</td>\n      <td>0</td>\n      <td>1</td>\n      <td>1</td>\n      <td>2</td>\n      <td>2</td>\n      <td>2</td>\n      <td>...</td>\n      <td>1</td>\n      <td>2</td>\n      <td>2</td>\n      <td>2</td>\n      <td>2</td>\n      <td>3</td>\n      <td>3</td>\n      <td>3</td>\n      <td>2</td>\n      <td>4</td>\n    </tr>\n    <tr>\n      <th>1</th>\n      <td>17</td>\n      <td>1</td>\n      <td>2</td>\n      <td>2</td>\n      <td>0</td>\n      <td>1</td>\n      <td>1</td>\n      <td>2</td>\n      <td>2</td>\n      <td>2</td>\n      <td>...</td>\n      <td>1</td>\n      <td>2</td>\n      <td>2</td>\n      <td>2</td>\n      <td>5</td>\n      <td>5</td>\n      <td>5</td>\n      <td>5</td>\n      <td>5</td>\n      <td>5</td>\n    </tr>\n    <tr>\n      <th>2</th>\n      <td>14</td>\n      <td>4</td>\n      <td>2</td>\n      <td>2</td>\n      <td>0</td>\n      <td>1</td>\n      <td>1</td>\n      <td>2</td>\n      <td>2</td>\n      <td>2</td>\n      <td>...</td>\n      <td>1</td>\n      <td>2</td>\n      <td>2</td>\n      <td>2</td>\n      <td>4</td>\n      <td>5</td>\n      <td>5</td>\n      <td>5</td>\n      <td>5</td>\n      <td>5</td>\n    </tr>\n    <tr>\n      <th>3</th>\n      <td>9</td>\n      <td>4</td>\n      <td>2</td>\n      <td>3</td>\n      <td>0</td>\n      <td>1</td>\n      <td>1</td>\n      <td>2</td>\n      <td>2</td>\n      <td>2</td>\n      <td>...</td>\n      <td>1</td>\n      <td>1</td>\n      <td>2</td>\n      <td>2</td>\n      <td>3</td>\n      <td>4</td>\n      <td>5</td>\n      <td>4</td>\n      <td>5</td>\n      <td>5</td>\n    </tr>\n    <tr>\n      <th>4</th>\n      <td>7</td>\n      <td>4</td>\n      <td>2</td>\n      <td>2</td>\n      <td>0</td>\n      <td>1</td>\n      <td>1</td>\n      <td>2</td>\n      <td>2</td>\n      <td>2</td>\n      <td>...</td>\n      <td>2</td>\n      <td>2</td>\n      <td>2</td>\n      <td>2</td>\n      <td>2</td>\n      <td>3</td>\n      <td>3</td>\n      <td>4</td>\n      <td>4</td>\n      <td>3</td>\n    </tr>\n    <tr>\n      <th>...</th>\n      <td>...</td>\n      <td>...</td>\n      <td>...</td>\n      <td>...</td>\n      <td>...</td>\n      <td>...</td>\n      <td>...</td>\n      <td>...</td>\n      <td>...</td>\n      <td>...</td>\n      <td>...</td>\n      <td>...</td>\n      <td>...</td>\n      <td>...</td>\n      <td>...</td>\n      <td>...</td>\n      <td>...</td>\n      <td>...</td>\n      <td>...</td>\n      <td>...</td>\n      <td>...</td>\n    </tr>\n    <tr>\n      <th>56128</th>\n      <td>15</td>\n      <td>4</td>\n      <td>2</td>\n      <td>1</td>\n      <td>0</td>\n      <td>1</td>\n      <td>1</td>\n      <td>2</td>\n      <td>2</td>\n      <td>2</td>\n      <td>...</td>\n      <td>2</td>\n      <td>2</td>\n      <td>2</td>\n      <td>2</td>\n      <td>4</td>\n      <td>5</td>\n      <td>5</td>\n      <td>5</td>\n      <td>97</td>\n      <td>5</td>\n    </tr>\n    <tr>\n      <th>56129</th>\n      <td>13</td>\n      <td>1</td>\n      <td>2</td>\n      <td>1</td>\n      <td>0</td>\n      <td>1</td>\n      <td>1</td>\n      <td>2</td>\n      <td>2</td>\n      <td>2</td>\n      <td>...</td>\n      <td>1</td>\n      <td>5</td>\n      <td>1</td>\n      <td>2</td>\n      <td>2</td>\n      <td>4</td>\n      <td>3</td>\n      <td>4</td>\n      <td>4</td>\n      <td>4</td>\n    </tr>\n    <tr>\n      <th>56130</th>\n      <td>15</td>\n      <td>1</td>\n      <td>2</td>\n      <td>3</td>\n      <td>0</td>\n      <td>2</td>\n      <td>1</td>\n      <td>2</td>\n      <td>2</td>\n      <td>2</td>\n      <td>...</td>\n      <td>2</td>\n      <td>2</td>\n      <td>2</td>\n      <td>2</td>\n      <td>5</td>\n      <td>5</td>\n      <td>5</td>\n      <td>5</td>\n      <td>5</td>\n      <td>5</td>\n    </tr>\n    <tr>\n      <th>56131</th>\n      <td>10</td>\n      <td>4</td>\n      <td>2</td>\n      <td>2</td>\n      <td>1</td>\n      <td>3</td>\n      <td>3</td>\n      <td>2</td>\n      <td>2</td>\n      <td>2</td>\n      <td>...</td>\n      <td>5</td>\n      <td>2</td>\n      <td>2</td>\n      <td>2</td>\n      <td>4</td>\n      <td>4</td>\n      <td>4</td>\n      <td>4</td>\n      <td>4</td>\n      <td>4</td>\n    </tr>\n    <tr>\n      <th>56132</th>\n      <td>13</td>\n      <td>3</td>\n      <td>2</td>\n      <td>2</td>\n      <td>0</td>\n      <td>4</td>\n      <td>2</td>\n      <td>2</td>\n      <td>2</td>\n      <td>2</td>\n      <td>...</td>\n      <td>2</td>\n      <td>2</td>\n      <td>2</td>\n      <td>2</td>\n      <td>3</td>\n      <td>4</td>\n      <td>4</td>\n      <td>5</td>\n      <td>2</td>\n      <td>5</td>\n    </tr>\n  </tbody>\n</table>\n<p>42739 rows × 64 columns</p>\n</div>"
     },
     "metadata": {},
     "execution_count": 189
    }
   ],
   "source": [
    "# extracting over 18-years-of-age responses\n",
    "data1_df = data1_df[data1_df['AGE2'] > 6]\n",
    "data1_df"
   ]
  },
  {
   "cell_type": "code",
   "execution_count": 190,
   "metadata": {},
   "outputs": [],
   "source": [
    "# copying the dataframe for more data cleaning\n",
    "data1_df_cp = data1_df.copy()"
   ]
  },
  {
   "cell_type": "code",
   "execution_count": 191,
   "metadata": {},
   "outputs": [
    {
     "output_type": "execute_result",
     "data": {
      "text/plain": [
       "       AGE2  IRMARIT  SERVICE  HEALTH  MOVSINPYR2  SEXATRACT  SEXIDENT  \\\n",
       "0        15        1      2.0       2         0.0        1.0       1.0   \n",
       "1        17        1      2.0       2         0.0        1.0       1.0   \n",
       "2        14        4      2.0       2         0.0        1.0       1.0   \n",
       "3         9        4      2.0       3         0.0        1.0       1.0   \n",
       "4         7        4      2.0       2         0.0        1.0       1.0   \n",
       "...     ...      ...      ...     ...         ...        ...       ...   \n",
       "56128    15        4      2.0       1         0.0        1.0       1.0   \n",
       "56129    13        1      2.0       1         0.0        1.0       1.0   \n",
       "56130    15        1      2.0       3         0.0        2.0       1.0   \n",
       "56131    10        4      2.0       2         1.0        3.0       3.0   \n",
       "56132    13        3      2.0       2         0.0        4.0       2.0   \n",
       "\n",
       "       DIFFTHINK  DIFFWALK  DIFFDRESS  ...  PNRANYLIF  TRQANYLIF  STMANYLIF  \\\n",
       "0            2.0       2.0        2.0  ...          1          2          2   \n",
       "1            2.0       2.0        2.0  ...          1          2          2   \n",
       "2            2.0       2.0        2.0  ...          1          2          2   \n",
       "3            2.0       2.0        2.0  ...          1          1          2   \n",
       "4            2.0       2.0        2.0  ...          2          2          2   \n",
       "...          ...       ...        ...  ...        ...        ...        ...   \n",
       "56128        2.0       2.0        2.0  ...          2          2          2   \n",
       "56129        2.0       2.0        2.0  ...          1          5          1   \n",
       "56130        2.0       2.0        2.0  ...          2          2          2   \n",
       "56131        2.0       2.0        2.0  ...          5          2          2   \n",
       "56132        2.0       2.0        2.0  ...          2          2          2   \n",
       "\n",
       "       SEDANYLIF  DSTNRV30  DSTHOP30  DSTRST30  DSTCHR30  DSTEFF30  DSTNGD30  \n",
       "0              2       2.0       3.0       3.0       3.0       2.0       4.0  \n",
       "1              2       5.0       5.0       5.0       5.0       5.0       5.0  \n",
       "2              2       4.0       5.0       5.0       5.0       5.0       5.0  \n",
       "3              2       3.0       4.0       5.0       4.0       5.0       5.0  \n",
       "4              2       2.0       3.0       3.0       4.0       4.0       3.0  \n",
       "...          ...       ...       ...       ...       ...       ...       ...  \n",
       "56128          2       4.0       5.0       5.0       5.0      97.0       5.0  \n",
       "56129          2       2.0       4.0       3.0       4.0       4.0       4.0  \n",
       "56130          2       5.0       5.0       5.0       5.0       5.0       5.0  \n",
       "56131          2       4.0       4.0       4.0       4.0       4.0       4.0  \n",
       "56132          2       3.0       4.0       4.0       5.0       2.0       5.0  \n",
       "\n",
       "[41950 rows x 64 columns]"
      ],
      "text/html": "<div>\n<style scoped>\n    .dataframe tbody tr th:only-of-type {\n        vertical-align: middle;\n    }\n\n    .dataframe tbody tr th {\n        vertical-align: top;\n    }\n\n    .dataframe thead th {\n        text-align: right;\n    }\n</style>\n<table border=\"1\" class=\"dataframe\">\n  <thead>\n    <tr style=\"text-align: right;\">\n      <th></th>\n      <th>AGE2</th>\n      <th>IRMARIT</th>\n      <th>SERVICE</th>\n      <th>HEALTH</th>\n      <th>MOVSINPYR2</th>\n      <th>SEXATRACT</th>\n      <th>SEXIDENT</th>\n      <th>DIFFTHINK</th>\n      <th>DIFFWALK</th>\n      <th>DIFFDRESS</th>\n      <th>...</th>\n      <th>PNRANYLIF</th>\n      <th>TRQANYLIF</th>\n      <th>STMANYLIF</th>\n      <th>SEDANYLIF</th>\n      <th>DSTNRV30</th>\n      <th>DSTHOP30</th>\n      <th>DSTRST30</th>\n      <th>DSTCHR30</th>\n      <th>DSTEFF30</th>\n      <th>DSTNGD30</th>\n    </tr>\n  </thead>\n  <tbody>\n    <tr>\n      <th>0</th>\n      <td>15</td>\n      <td>1</td>\n      <td>2.0</td>\n      <td>2</td>\n      <td>0.0</td>\n      <td>1.0</td>\n      <td>1.0</td>\n      <td>2.0</td>\n      <td>2.0</td>\n      <td>2.0</td>\n      <td>...</td>\n      <td>1</td>\n      <td>2</td>\n      <td>2</td>\n      <td>2</td>\n      <td>2.0</td>\n      <td>3.0</td>\n      <td>3.0</td>\n      <td>3.0</td>\n      <td>2.0</td>\n      <td>4.0</td>\n    </tr>\n    <tr>\n      <th>1</th>\n      <td>17</td>\n      <td>1</td>\n      <td>2.0</td>\n      <td>2</td>\n      <td>0.0</td>\n      <td>1.0</td>\n      <td>1.0</td>\n      <td>2.0</td>\n      <td>2.0</td>\n      <td>2.0</td>\n      <td>...</td>\n      <td>1</td>\n      <td>2</td>\n      <td>2</td>\n      <td>2</td>\n      <td>5.0</td>\n      <td>5.0</td>\n      <td>5.0</td>\n      <td>5.0</td>\n      <td>5.0</td>\n      <td>5.0</td>\n    </tr>\n    <tr>\n      <th>2</th>\n      <td>14</td>\n      <td>4</td>\n      <td>2.0</td>\n      <td>2</td>\n      <td>0.0</td>\n      <td>1.0</td>\n      <td>1.0</td>\n      <td>2.0</td>\n      <td>2.0</td>\n      <td>2.0</td>\n      <td>...</td>\n      <td>1</td>\n      <td>2</td>\n      <td>2</td>\n      <td>2</td>\n      <td>4.0</td>\n      <td>5.0</td>\n      <td>5.0</td>\n      <td>5.0</td>\n      <td>5.0</td>\n      <td>5.0</td>\n    </tr>\n    <tr>\n      <th>3</th>\n      <td>9</td>\n      <td>4</td>\n      <td>2.0</td>\n      <td>3</td>\n      <td>0.0</td>\n      <td>1.0</td>\n      <td>1.0</td>\n      <td>2.0</td>\n      <td>2.0</td>\n      <td>2.0</td>\n      <td>...</td>\n      <td>1</td>\n      <td>1</td>\n      <td>2</td>\n      <td>2</td>\n      <td>3.0</td>\n      <td>4.0</td>\n      <td>5.0</td>\n      <td>4.0</td>\n      <td>5.0</td>\n      <td>5.0</td>\n    </tr>\n    <tr>\n      <th>4</th>\n      <td>7</td>\n      <td>4</td>\n      <td>2.0</td>\n      <td>2</td>\n      <td>0.0</td>\n      <td>1.0</td>\n      <td>1.0</td>\n      <td>2.0</td>\n      <td>2.0</td>\n      <td>2.0</td>\n      <td>...</td>\n      <td>2</td>\n      <td>2</td>\n      <td>2</td>\n      <td>2</td>\n      <td>2.0</td>\n      <td>3.0</td>\n      <td>3.0</td>\n      <td>4.0</td>\n      <td>4.0</td>\n      <td>3.0</td>\n    </tr>\n    <tr>\n      <th>...</th>\n      <td>...</td>\n      <td>...</td>\n      <td>...</td>\n      <td>...</td>\n      <td>...</td>\n      <td>...</td>\n      <td>...</td>\n      <td>...</td>\n      <td>...</td>\n      <td>...</td>\n      <td>...</td>\n      <td>...</td>\n      <td>...</td>\n      <td>...</td>\n      <td>...</td>\n      <td>...</td>\n      <td>...</td>\n      <td>...</td>\n      <td>...</td>\n      <td>...</td>\n      <td>...</td>\n    </tr>\n    <tr>\n      <th>56128</th>\n      <td>15</td>\n      <td>4</td>\n      <td>2.0</td>\n      <td>1</td>\n      <td>0.0</td>\n      <td>1.0</td>\n      <td>1.0</td>\n      <td>2.0</td>\n      <td>2.0</td>\n      <td>2.0</td>\n      <td>...</td>\n      <td>2</td>\n      <td>2</td>\n      <td>2</td>\n      <td>2</td>\n      <td>4.0</td>\n      <td>5.0</td>\n      <td>5.0</td>\n      <td>5.0</td>\n      <td>97.0</td>\n      <td>5.0</td>\n    </tr>\n    <tr>\n      <th>56129</th>\n      <td>13</td>\n      <td>1</td>\n      <td>2.0</td>\n      <td>1</td>\n      <td>0.0</td>\n      <td>1.0</td>\n      <td>1.0</td>\n      <td>2.0</td>\n      <td>2.0</td>\n      <td>2.0</td>\n      <td>...</td>\n      <td>1</td>\n      <td>5</td>\n      <td>1</td>\n      <td>2</td>\n      <td>2.0</td>\n      <td>4.0</td>\n      <td>3.0</td>\n      <td>4.0</td>\n      <td>4.0</td>\n      <td>4.0</td>\n    </tr>\n    <tr>\n      <th>56130</th>\n      <td>15</td>\n      <td>1</td>\n      <td>2.0</td>\n      <td>3</td>\n      <td>0.0</td>\n      <td>2.0</td>\n      <td>1.0</td>\n      <td>2.0</td>\n      <td>2.0</td>\n      <td>2.0</td>\n      <td>...</td>\n      <td>2</td>\n      <td>2</td>\n      <td>2</td>\n      <td>2</td>\n      <td>5.0</td>\n      <td>5.0</td>\n      <td>5.0</td>\n      <td>5.0</td>\n      <td>5.0</td>\n      <td>5.0</td>\n    </tr>\n    <tr>\n      <th>56131</th>\n      <td>10</td>\n      <td>4</td>\n      <td>2.0</td>\n      <td>2</td>\n      <td>1.0</td>\n      <td>3.0</td>\n      <td>3.0</td>\n      <td>2.0</td>\n      <td>2.0</td>\n      <td>2.0</td>\n      <td>...</td>\n      <td>5</td>\n      <td>2</td>\n      <td>2</td>\n      <td>2</td>\n      <td>4.0</td>\n      <td>4.0</td>\n      <td>4.0</td>\n      <td>4.0</td>\n      <td>4.0</td>\n      <td>4.0</td>\n    </tr>\n    <tr>\n      <th>56132</th>\n      <td>13</td>\n      <td>3</td>\n      <td>2.0</td>\n      <td>2</td>\n      <td>0.0</td>\n      <td>4.0</td>\n      <td>2.0</td>\n      <td>2.0</td>\n      <td>2.0</td>\n      <td>2.0</td>\n      <td>...</td>\n      <td>2</td>\n      <td>2</td>\n      <td>2</td>\n      <td>2</td>\n      <td>3.0</td>\n      <td>4.0</td>\n      <td>4.0</td>\n      <td>5.0</td>\n      <td>2.0</td>\n      <td>5.0</td>\n    </tr>\n  </tbody>\n</table>\n<p>41950 rows × 64 columns</p>\n</div>"
     },
     "metadata": {},
     "execution_count": 191
    }
   ],
   "source": [
    "# removing the 85 & 985 (bad data) response from all appropriate columns\n",
    "data1_df_cp.loc[:, ['ALCYRTOT', 'ALCUS30D']] = data1_df_cp.loc[:, ['ALCYRTOT', 'ALCUS30D']].replace(85, 9999)\n",
    "data1_df_cp = data1_df_cp.replace([85, 985], np.nan)\n",
    "data1_df_cp = data1_df_cp.dropna()\n",
    "data1_df_cp.loc[:, ['ALCYRTOT', 'ALCUS30D']] = data1_df_cp.loc[:, ['ALCYRTOT', 'ALCUS30D']].replace(9999, 85)\n",
    "data1_df_cp"
   ]
  },
  {
   "cell_type": "code",
   "execution_count": 192,
   "metadata": {},
   "outputs": [],
   "source": [
    "# replacing the responses not useable for the project, like 'don't know' or 'refused to respond' with NaN for easy removal of rows\n",
    "data1_df_cp.loc[:, 'SERVICE'] = data1_df_cp.loc[:, 'SERVICE'].replace(97, np.nan)\n",
    "data1_df_cp.loc[:, 'HEALTH'] = data1_df_cp.loc[:, 'HEALTH'].replace(97, np.nan)\n",
    "data1_df_cp.loc[:, 'MOVSINPYR2'] = data1_df_cp.loc[:, 'MOVSINPYR2'].replace([994, 997, 998], np.nan)\n",
    "data1_df_cp.loc[:, 'DIFFTHINK'] = data1_df_cp.loc[:, 'DIFFTHINK'].replace([94, 97, 98], np.nan)\n",
    "data1_df_cp.loc[:, 'DIFFWALK'] = data1_df_cp.loc[:, 'DIFFWALK'].replace([94, 97, 98], np.nan)\n",
    "data1_df_cp.loc[:, 'DIFFDRESS'] = data1_df_cp.loc[:, 'DIFFDRESS'].replace([94, 97, 98], np.nan)\n",
    "data1_df_cp.loc[:, 'DIFFERAND'] = data1_df_cp.loc[:, 'DIFFERAND'].replace([94, 97, 98, 99], np.nan)\n",
    "data1_df_cp.loc[:, 'IRMARIT'] = data1_df_cp.loc[:, 'IRMARIT'].replace(99, np.nan)\n",
    "data1_df_cp.loc[:, 'WRKSTATWK2'] = data1_df_cp.loc[:, 'WRKSTATWK2'].replace([99, 98], np.nan)\n",
    "data1_df_cp.loc[:, 'WRKNUMJOB2'] = data1_df_cp.loc[:, 'WRKNUMJOB2'].replace([94, 97, 98, 99], np.nan)\n",
    "data1_df_cp.loc[:, 'IRWRKSTAT'] = data1_df_cp.loc[:, 'IRWRKSTAT'].replace(99, np.nan)\n",
    "\n",
    "data1_df_cp.loc[:, 'CIGTRY'] = data1_df_cp.loc[:, 'CIGTRY'].replace([994, 997], np.nan)\n",
    "data1_df_cp.loc[:, 'CIGDLYMO'] = data1_df_cp.loc[:, 'CIGDLYMO'].replace([94, 97], np.nan)\n",
    "data1_df_cp.loc[:, 'CIG100LF'] = data1_df_cp.loc[:, 'CIG100LF'].replace([94, 97], np.nan)\n",
    "data1_df_cp.loc[:, 'CG30EST'] = data1_df_cp.loc[:, 'CG30EST'].replace([94, 97, 98, 99], np.nan)\n",
    "\n",
    "data1_df_cp.loc[:, 'ALCEVER'] = data1_df_cp.loc[:, 'ALCEVER'].replace([94, 97], np.nan)\n",
    "data1_df_cp.loc[:, 'ALCREC'] = data1_df_cp.loc[:, 'ALCREC'].replace([97, 98], np.nan)\n",
    "data1_df_cp.loc[:, 'ALCYRTOT'] = data1_df_cp.loc[:, 'ALCYRTOT'].replace([994, 997, 998], np.nan)\n",
    "data1_df_cp.loc[:, 'ALCDAYS'] = data1_df_cp.loc[:, 'ALCDAYS'].replace([94, 97, 98, 99], np.nan)\n",
    "data1_df_cp.loc[:, 'ALCUS30D'] = data1_df_cp.loc[:, 'ALCUS30D'].replace([994, 997, 998], np.nan)\n",
    "\n",
    "data1_df_cp.loc[:, 'MOVSINPYR2'] = data1_df_cp.loc[:, 'MOVSINPYR2'].replace([994, 997, 998], np.nan)\n",
    "data1_df_cp.loc[:, 'MOVSINPYR2'] = data1_df_cp.loc[:, 'MOVSINPYR2'].replace([994, 997, 998], np.nan)\n",
    "\n",
    "data1_df_cp.loc[:, 'MJEVER'] = data1_df_cp.loc[:, 'MJEVER'].replace([94, 97], np.nan)\n",
    "data1_df_cp.loc[:, 'COCEVER'] = data1_df_cp.loc[:, 'COCEVER'].replace([94, 97], np.nan)\n",
    "data1_df_cp.loc[:, 'CRKEVER'] = data1_df_cp.loc[:, 'CRKEVER'].replace([94, 97, 98], np.nan)\n",
    "data1_df_cp.loc[:, 'HEREVER'] = data1_df_cp.loc[:, 'HEREVER'].replace([94, 97], np.nan)\n",
    "\n",
    "data1_df_cp.loc[:, ['LSD', 'PCP', 'PEYOTE', 'MESC', 'PSILCY', 'ECSTMOLLY', 'KETMINESK', 'DMTAMTFXY', 'SALVIADIV', 'HALLUCOTH']] = data1_df_cp.loc[:, ['LSD', 'PCP', 'PEYOTE', 'MESC', 'PSILCY', 'ECSTMOLLY', 'KETMINESK', 'DMTAMTFXY', 'SALVIADIV', 'HALLUCOTH']].replace([94, 97], np.nan)\n",
    "data1_df_cp.loc[:, ['AMYLNIT', 'CLEFLU', 'GAS', 'GLUE', 'ETHER', 'SOLVENT', 'LGAS', 'NITOXID', 'AIRDUSTER', 'OTHAEROS', 'INHALOTH']] = data1_df_cp.loc[:, ['AMYLNIT', 'CLEFLU', 'GAS', 'GLUE', 'ETHER', 'SOLVENT', 'LGAS', 'NITOXID', 'AIRDUSTER', 'OTHAEROS', 'INHALOTH']].replace([94, 97], np.nan)\n",
    "\n",
    "data1_df_cp.loc[:, 'METHAMEVR'] = data1_df_cp.loc[:, 'METHAMEVR'].replace([94, 97], np.nan)\n",
    "\n",
    "data1_df_cp.loc[:, ['PNRANYLIF', 'TRQANYLIF', 'STMANYLIF', 'SEDANYLIF']] = data1_df_cp.loc[:, ['PNRANYLIF', 'TRQANYLIF', 'STMANYLIF', 'SEDANYLIF']].replace([94, 97, 98], np.nan)\n",
    "\n",
    "data1_df_cp.loc[:, ['DSTNRV30', 'DSTHOP30', 'DSTRST30', 'DSTCHR30', 'DSTEFF30', 'DSTNGD30']] = data1_df_cp.loc[:, ['DSTNRV30', 'DSTHOP30', 'DSTRST30', 'DSTCHR30', 'DSTEFF30', 'DSTNGD30']].replace([94, 97, 98, 99], np.nan)\n",
    "\n"
   ]
  },
  {
   "cell_type": "code",
   "execution_count": 193,
   "metadata": {},
   "outputs": [
    {
     "output_type": "execute_result",
     "data": {
      "text/plain": [
       "       AGE2  IRMARIT  SERVICE  HEALTH  MOVSINPYR2  SEXATRACT  SEXIDENT  \\\n",
       "0        15        1      2.0     2.0         0.0        1.0       1.0   \n",
       "1        17        1      2.0     2.0         0.0        1.0       1.0   \n",
       "2        14        4      2.0     2.0         0.0        1.0       1.0   \n",
       "6         8        4      2.0     2.0         1.0        1.0       1.0   \n",
       "8        14        1      2.0     2.0         0.0        1.0       1.0   \n",
       "...     ...      ...      ...     ...         ...        ...       ...   \n",
       "56127     8        4      2.0     3.0         2.0        1.0       1.0   \n",
       "56129    13        1      2.0     1.0         0.0        1.0       1.0   \n",
       "56130    15        1      2.0     3.0         0.0        2.0       1.0   \n",
       "56131    10        4      2.0     2.0         1.0        3.0       3.0   \n",
       "56132    13        3      2.0     2.0         0.0        4.0       2.0   \n",
       "\n",
       "       DIFFTHINK  DIFFWALK  DIFFDRESS  ...  PNRANYLIF  TRQANYLIF  STMANYLIF  \\\n",
       "0            2.0       2.0        2.0  ...        1.0        2.0        2.0   \n",
       "1            2.0       2.0        2.0  ...        1.0        2.0        2.0   \n",
       "2            2.0       2.0        2.0  ...        1.0        2.0        2.0   \n",
       "6            2.0       2.0        2.0  ...        2.0        5.0        5.0   \n",
       "8            2.0       2.0        2.0  ...        5.0        2.0        2.0   \n",
       "...          ...       ...        ...  ...        ...        ...        ...   \n",
       "56127        2.0       2.0        2.0  ...        2.0        2.0        2.0   \n",
       "56129        2.0       2.0        2.0  ...        1.0        5.0        1.0   \n",
       "56130        2.0       2.0        2.0  ...        2.0        2.0        2.0   \n",
       "56131        2.0       2.0        2.0  ...        5.0        2.0        2.0   \n",
       "56132        2.0       2.0        2.0  ...        2.0        2.0        2.0   \n",
       "\n",
       "       SEDANYLIF  DSTNRV30  DSTHOP30  DSTRST30  DSTCHR30  DSTEFF30  DSTNGD30  \n",
       "0            2.0       2.0       3.0       3.0       3.0       2.0       4.0  \n",
       "1            2.0       5.0       5.0       5.0       5.0       5.0       5.0  \n",
       "2            2.0       4.0       5.0       5.0       5.0       5.0       5.0  \n",
       "6            2.0       4.0       5.0       5.0       5.0       5.0       5.0  \n",
       "8            2.0       4.0       5.0       5.0       4.0       4.0       5.0  \n",
       "...          ...       ...       ...       ...       ...       ...       ...  \n",
       "56127        2.0       3.0       2.0       3.0       3.0       4.0       3.0  \n",
       "56129        2.0       2.0       4.0       3.0       4.0       4.0       4.0  \n",
       "56130        2.0       5.0       5.0       5.0       5.0       5.0       5.0  \n",
       "56131        2.0       4.0       4.0       4.0       4.0       4.0       4.0  \n",
       "56132        2.0       3.0       4.0       4.0       5.0       2.0       5.0  \n",
       "\n",
       "[24584 rows x 64 columns]"
      ],
      "text/html": "<div>\n<style scoped>\n    .dataframe tbody tr th:only-of-type {\n        vertical-align: middle;\n    }\n\n    .dataframe tbody tr th {\n        vertical-align: top;\n    }\n\n    .dataframe thead th {\n        text-align: right;\n    }\n</style>\n<table border=\"1\" class=\"dataframe\">\n  <thead>\n    <tr style=\"text-align: right;\">\n      <th></th>\n      <th>AGE2</th>\n      <th>IRMARIT</th>\n      <th>SERVICE</th>\n      <th>HEALTH</th>\n      <th>MOVSINPYR2</th>\n      <th>SEXATRACT</th>\n      <th>SEXIDENT</th>\n      <th>DIFFTHINK</th>\n      <th>DIFFWALK</th>\n      <th>DIFFDRESS</th>\n      <th>...</th>\n      <th>PNRANYLIF</th>\n      <th>TRQANYLIF</th>\n      <th>STMANYLIF</th>\n      <th>SEDANYLIF</th>\n      <th>DSTNRV30</th>\n      <th>DSTHOP30</th>\n      <th>DSTRST30</th>\n      <th>DSTCHR30</th>\n      <th>DSTEFF30</th>\n      <th>DSTNGD30</th>\n    </tr>\n  </thead>\n  <tbody>\n    <tr>\n      <th>0</th>\n      <td>15</td>\n      <td>1</td>\n      <td>2.0</td>\n      <td>2.0</td>\n      <td>0.0</td>\n      <td>1.0</td>\n      <td>1.0</td>\n      <td>2.0</td>\n      <td>2.0</td>\n      <td>2.0</td>\n      <td>...</td>\n      <td>1.0</td>\n      <td>2.0</td>\n      <td>2.0</td>\n      <td>2.0</td>\n      <td>2.0</td>\n      <td>3.0</td>\n      <td>3.0</td>\n      <td>3.0</td>\n      <td>2.0</td>\n      <td>4.0</td>\n    </tr>\n    <tr>\n      <th>1</th>\n      <td>17</td>\n      <td>1</td>\n      <td>2.0</td>\n      <td>2.0</td>\n      <td>0.0</td>\n      <td>1.0</td>\n      <td>1.0</td>\n      <td>2.0</td>\n      <td>2.0</td>\n      <td>2.0</td>\n      <td>...</td>\n      <td>1.0</td>\n      <td>2.0</td>\n      <td>2.0</td>\n      <td>2.0</td>\n      <td>5.0</td>\n      <td>5.0</td>\n      <td>5.0</td>\n      <td>5.0</td>\n      <td>5.0</td>\n      <td>5.0</td>\n    </tr>\n    <tr>\n      <th>2</th>\n      <td>14</td>\n      <td>4</td>\n      <td>2.0</td>\n      <td>2.0</td>\n      <td>0.0</td>\n      <td>1.0</td>\n      <td>1.0</td>\n      <td>2.0</td>\n      <td>2.0</td>\n      <td>2.0</td>\n      <td>...</td>\n      <td>1.0</td>\n      <td>2.0</td>\n      <td>2.0</td>\n      <td>2.0</td>\n      <td>4.0</td>\n      <td>5.0</td>\n      <td>5.0</td>\n      <td>5.0</td>\n      <td>5.0</td>\n      <td>5.0</td>\n    </tr>\n    <tr>\n      <th>6</th>\n      <td>8</td>\n      <td>4</td>\n      <td>2.0</td>\n      <td>2.0</td>\n      <td>1.0</td>\n      <td>1.0</td>\n      <td>1.0</td>\n      <td>2.0</td>\n      <td>2.0</td>\n      <td>2.0</td>\n      <td>...</td>\n      <td>2.0</td>\n      <td>5.0</td>\n      <td>5.0</td>\n      <td>2.0</td>\n      <td>4.0</td>\n      <td>5.0</td>\n      <td>5.0</td>\n      <td>5.0</td>\n      <td>5.0</td>\n      <td>5.0</td>\n    </tr>\n    <tr>\n      <th>8</th>\n      <td>14</td>\n      <td>1</td>\n      <td>2.0</td>\n      <td>2.0</td>\n      <td>0.0</td>\n      <td>1.0</td>\n      <td>1.0</td>\n      <td>2.0</td>\n      <td>2.0</td>\n      <td>2.0</td>\n      <td>...</td>\n      <td>5.0</td>\n      <td>2.0</td>\n      <td>2.0</td>\n      <td>2.0</td>\n      <td>4.0</td>\n      <td>5.0</td>\n      <td>5.0</td>\n      <td>4.0</td>\n      <td>4.0</td>\n      <td>5.0</td>\n    </tr>\n    <tr>\n      <th>...</th>\n      <td>...</td>\n      <td>...</td>\n      <td>...</td>\n      <td>...</td>\n      <td>...</td>\n      <td>...</td>\n      <td>...</td>\n      <td>...</td>\n      <td>...</td>\n      <td>...</td>\n      <td>...</td>\n      <td>...</td>\n      <td>...</td>\n      <td>...</td>\n      <td>...</td>\n      <td>...</td>\n      <td>...</td>\n      <td>...</td>\n      <td>...</td>\n      <td>...</td>\n      <td>...</td>\n    </tr>\n    <tr>\n      <th>56127</th>\n      <td>8</td>\n      <td>4</td>\n      <td>2.0</td>\n      <td>3.0</td>\n      <td>2.0</td>\n      <td>1.0</td>\n      <td>1.0</td>\n      <td>2.0</td>\n      <td>2.0</td>\n      <td>2.0</td>\n      <td>...</td>\n      <td>2.0</td>\n      <td>2.0</td>\n      <td>2.0</td>\n      <td>2.0</td>\n      <td>3.0</td>\n      <td>2.0</td>\n      <td>3.0</td>\n      <td>3.0</td>\n      <td>4.0</td>\n      <td>3.0</td>\n    </tr>\n    <tr>\n      <th>56129</th>\n      <td>13</td>\n      <td>1</td>\n      <td>2.0</td>\n      <td>1.0</td>\n      <td>0.0</td>\n      <td>1.0</td>\n      <td>1.0</td>\n      <td>2.0</td>\n      <td>2.0</td>\n      <td>2.0</td>\n      <td>...</td>\n      <td>1.0</td>\n      <td>5.0</td>\n      <td>1.0</td>\n      <td>2.0</td>\n      <td>2.0</td>\n      <td>4.0</td>\n      <td>3.0</td>\n      <td>4.0</td>\n      <td>4.0</td>\n      <td>4.0</td>\n    </tr>\n    <tr>\n      <th>56130</th>\n      <td>15</td>\n      <td>1</td>\n      <td>2.0</td>\n      <td>3.0</td>\n      <td>0.0</td>\n      <td>2.0</td>\n      <td>1.0</td>\n      <td>2.0</td>\n      <td>2.0</td>\n      <td>2.0</td>\n      <td>...</td>\n      <td>2.0</td>\n      <td>2.0</td>\n      <td>2.0</td>\n      <td>2.0</td>\n      <td>5.0</td>\n      <td>5.0</td>\n      <td>5.0</td>\n      <td>5.0</td>\n      <td>5.0</td>\n      <td>5.0</td>\n    </tr>\n    <tr>\n      <th>56131</th>\n      <td>10</td>\n      <td>4</td>\n      <td>2.0</td>\n      <td>2.0</td>\n      <td>1.0</td>\n      <td>3.0</td>\n      <td>3.0</td>\n      <td>2.0</td>\n      <td>2.0</td>\n      <td>2.0</td>\n      <td>...</td>\n      <td>5.0</td>\n      <td>2.0</td>\n      <td>2.0</td>\n      <td>2.0</td>\n      <td>4.0</td>\n      <td>4.0</td>\n      <td>4.0</td>\n      <td>4.0</td>\n      <td>4.0</td>\n      <td>4.0</td>\n    </tr>\n    <tr>\n      <th>56132</th>\n      <td>13</td>\n      <td>3</td>\n      <td>2.0</td>\n      <td>2.0</td>\n      <td>0.0</td>\n      <td>4.0</td>\n      <td>2.0</td>\n      <td>2.0</td>\n      <td>2.0</td>\n      <td>2.0</td>\n      <td>...</td>\n      <td>2.0</td>\n      <td>2.0</td>\n      <td>2.0</td>\n      <td>2.0</td>\n      <td>3.0</td>\n      <td>4.0</td>\n      <td>4.0</td>\n      <td>5.0</td>\n      <td>2.0</td>\n      <td>5.0</td>\n    </tr>\n  </tbody>\n</table>\n<p>24584 rows × 64 columns</p>\n</div>"
     },
     "metadata": {},
     "execution_count": 193
    }
   ],
   "source": [
    "data1_df_cp = data1_df_cp.dropna()\n",
    "data1_df_cp"
   ]
  },
  {
   "cell_type": "code",
   "execution_count": 194,
   "metadata": {},
   "outputs": [
    {
     "output_type": "stream",
     "name": "stdout",
     "text": [
      "<class 'pandas.core.frame.DataFrame'>\nInt64Index: 24584 entries, 0 to 56132\nData columns (total 64 columns):\n #   Column        Non-Null Count  Dtype  \n---  ------        --------------  -----  \n 0   AGE2          24584 non-null  int64  \n 1   IRMARIT       24584 non-null  int64  \n 2   SERVICE       24584 non-null  float64\n 3   HEALTH        24584 non-null  float64\n 4   MOVSINPYR2    24584 non-null  float64\n 5   SEXATRACT     24584 non-null  float64\n 6   SEXIDENT      24584 non-null  float64\n 7   DIFFTHINK     24584 non-null  float64\n 8   DIFFWALK      24584 non-null  float64\n 9   DIFFDRESS     24584 non-null  float64\n 10  DIFFERAND     24584 non-null  float64\n 11  IREDUHIGHST2  24584 non-null  int64  \n 12  WRKSTATWK2    24584 non-null  float64\n 13  IRWRKSTAT     24584 non-null  int64  \n 14  WRKNUMJOB2    24584 non-null  float64\n 15  IRPINC3       24584 non-null  int64  \n 16  CIGEVER       24584 non-null  int64  \n 17  CIGTRY        24584 non-null  float64\n 18  CIGDLYMO      24584 non-null  float64\n 19  CIG100LF      24584 non-null  float64\n 20  CG30EST       24584 non-null  float64\n 21  ALCEVER       24584 non-null  float64\n 22  ALCREC        24584 non-null  float64\n 23  ALCYRTOT      24584 non-null  float64\n 24  ALCDAYS       24584 non-null  float64\n 25  ALCUS30D      24584 non-null  float64\n 26  MJEVER        24584 non-null  float64\n 27  COCEVER       24584 non-null  float64\n 28  CRKEVER       24584 non-null  float64\n 29  HEREVER       24584 non-null  float64\n 30  LSD           24584 non-null  float64\n 31  PCP           24584 non-null  float64\n 32  PEYOTE        24584 non-null  float64\n 33  MESC          24584 non-null  float64\n 34  PSILCY        24584 non-null  float64\n 35  ECSTMOLLY     24584 non-null  float64\n 36  KETMINESK     24584 non-null  float64\n 37  DMTAMTFXY     24584 non-null  float64\n 38  SALVIADIV     24584 non-null  float64\n 39  HALLUCOTH     24584 non-null  float64\n 40  AMYLNIT       24584 non-null  float64\n 41  CLEFLU        24584 non-null  float64\n 42  GAS           24584 non-null  float64\n 43  GLUE          24584 non-null  float64\n 44  ETHER         24584 non-null  float64\n 45  SOLVENT       24584 non-null  float64\n 46  LGAS          24584 non-null  float64\n 47  NITOXID       24584 non-null  float64\n 48  FELTMARKR     24584 non-null  float64\n 49  SPPAINT       24584 non-null  float64\n 50  AIRDUSTER     24584 non-null  float64\n 51  OTHAEROS      24584 non-null  float64\n 52  INHALOTH      24584 non-null  float64\n 53  METHAMEVR     24584 non-null  float64\n 54  PNRANYLIF     24584 non-null  float64\n 55  TRQANYLIF     24584 non-null  float64\n 56  STMANYLIF     24584 non-null  float64\n 57  SEDANYLIF     24584 non-null  float64\n 58  DSTNRV30      24584 non-null  float64\n 59  DSTHOP30      24584 non-null  float64\n 60  DSTRST30      24584 non-null  float64\n 61  DSTCHR30      24584 non-null  float64\n 62  DSTEFF30      24584 non-null  float64\n 63  DSTNGD30      24584 non-null  float64\ndtypes: float64(58), int64(6)\nmemory usage: 12.2 MB\n"
     ]
    }
   ],
   "source": [
    "data1_df_cp.info()"
   ]
  },
  {
   "cell_type": "code",
   "execution_count": 195,
   "metadata": {},
   "outputs": [
    {
     "output_type": "execute_result",
     "data": {
      "text/plain": [
       "       AGE2  IRMARIT  SERVICE  HEALTH  MOVSINPYR2  SEXATRACT  SEXIDENT  \\\n",
       "0        15        1      2.0     2.0         0.0        1.0       1.0   \n",
       "1        17        1      2.0     2.0         0.0        1.0       1.0   \n",
       "2        14        4      2.0     2.0         0.0        1.0       1.0   \n",
       "6         8        4      2.0     2.0         1.0        1.0       1.0   \n",
       "8        14        1      2.0     2.0         0.0        1.0       1.0   \n",
       "...     ...      ...      ...     ...         ...        ...       ...   \n",
       "56127     8        4      2.0     3.0         2.0        1.0       1.0   \n",
       "56129    13        1      2.0     1.0         0.0        1.0       1.0   \n",
       "56130    15        1      2.0     3.0         0.0        2.0       1.0   \n",
       "56131    10        4      2.0     2.0         1.0        3.0       3.0   \n",
       "56132    13        3      2.0     2.0         0.0        4.0       2.0   \n",
       "\n",
       "       DIFFTHINK  DIFFWALK  DIFFDRESS  ...  PNRANYLIF  TRQANYLIF  STMANYLIF  \\\n",
       "0            2.0       2.0        2.0  ...        1.0        2.0        2.0   \n",
       "1            2.0       2.0        2.0  ...        1.0        2.0        2.0   \n",
       "2            2.0       2.0        2.0  ...        1.0        2.0        2.0   \n",
       "6            2.0       2.0        2.0  ...        2.0        1.0        1.0   \n",
       "8            2.0       2.0        2.0  ...        1.0        2.0        2.0   \n",
       "...          ...       ...        ...  ...        ...        ...        ...   \n",
       "56127        2.0       2.0        2.0  ...        2.0        2.0        2.0   \n",
       "56129        2.0       2.0        2.0  ...        1.0        1.0        1.0   \n",
       "56130        2.0       2.0        2.0  ...        2.0        2.0        2.0   \n",
       "56131        2.0       2.0        2.0  ...        1.0        2.0        2.0   \n",
       "56132        2.0       2.0        2.0  ...        2.0        2.0        2.0   \n",
       "\n",
       "       SEDANYLIF  DSTNRV30  DSTHOP30  DSTRST30  DSTCHR30  DSTEFF30  DSTNGD30  \n",
       "0            2.0       2.0       3.0       3.0       3.0       2.0       4.0  \n",
       "1            2.0       5.0       5.0       5.0       5.0       5.0       5.0  \n",
       "2            2.0       4.0       5.0       5.0       5.0       5.0       5.0  \n",
       "6            2.0       4.0       5.0       5.0       5.0       5.0       5.0  \n",
       "8            2.0       4.0       5.0       5.0       4.0       4.0       5.0  \n",
       "...          ...       ...       ...       ...       ...       ...       ...  \n",
       "56127        2.0       3.0       2.0       3.0       3.0       4.0       3.0  \n",
       "56129        2.0       2.0       4.0       3.0       4.0       4.0       4.0  \n",
       "56130        2.0       5.0       5.0       5.0       5.0       5.0       5.0  \n",
       "56131        2.0       4.0       4.0       4.0       4.0       4.0       4.0  \n",
       "56132        2.0       3.0       4.0       4.0       5.0       2.0       5.0  \n",
       "\n",
       "[24584 rows x 64 columns]"
      ],
      "text/html": "<div>\n<style scoped>\n    .dataframe tbody tr th:only-of-type {\n        vertical-align: middle;\n    }\n\n    .dataframe tbody tr th {\n        vertical-align: top;\n    }\n\n    .dataframe thead th {\n        text-align: right;\n    }\n</style>\n<table border=\"1\" class=\"dataframe\">\n  <thead>\n    <tr style=\"text-align: right;\">\n      <th></th>\n      <th>AGE2</th>\n      <th>IRMARIT</th>\n      <th>SERVICE</th>\n      <th>HEALTH</th>\n      <th>MOVSINPYR2</th>\n      <th>SEXATRACT</th>\n      <th>SEXIDENT</th>\n      <th>DIFFTHINK</th>\n      <th>DIFFWALK</th>\n      <th>DIFFDRESS</th>\n      <th>...</th>\n      <th>PNRANYLIF</th>\n      <th>TRQANYLIF</th>\n      <th>STMANYLIF</th>\n      <th>SEDANYLIF</th>\n      <th>DSTNRV30</th>\n      <th>DSTHOP30</th>\n      <th>DSTRST30</th>\n      <th>DSTCHR30</th>\n      <th>DSTEFF30</th>\n      <th>DSTNGD30</th>\n    </tr>\n  </thead>\n  <tbody>\n    <tr>\n      <th>0</th>\n      <td>15</td>\n      <td>1</td>\n      <td>2.0</td>\n      <td>2.0</td>\n      <td>0.0</td>\n      <td>1.0</td>\n      <td>1.0</td>\n      <td>2.0</td>\n      <td>2.0</td>\n      <td>2.0</td>\n      <td>...</td>\n      <td>1.0</td>\n      <td>2.0</td>\n      <td>2.0</td>\n      <td>2.0</td>\n      <td>2.0</td>\n      <td>3.0</td>\n      <td>3.0</td>\n      <td>3.0</td>\n      <td>2.0</td>\n      <td>4.0</td>\n    </tr>\n    <tr>\n      <th>1</th>\n      <td>17</td>\n      <td>1</td>\n      <td>2.0</td>\n      <td>2.0</td>\n      <td>0.0</td>\n      <td>1.0</td>\n      <td>1.0</td>\n      <td>2.0</td>\n      <td>2.0</td>\n      <td>2.0</td>\n      <td>...</td>\n      <td>1.0</td>\n      <td>2.0</td>\n      <td>2.0</td>\n      <td>2.0</td>\n      <td>5.0</td>\n      <td>5.0</td>\n      <td>5.0</td>\n      <td>5.0</td>\n      <td>5.0</td>\n      <td>5.0</td>\n    </tr>\n    <tr>\n      <th>2</th>\n      <td>14</td>\n      <td>4</td>\n      <td>2.0</td>\n      <td>2.0</td>\n      <td>0.0</td>\n      <td>1.0</td>\n      <td>1.0</td>\n      <td>2.0</td>\n      <td>2.0</td>\n      <td>2.0</td>\n      <td>...</td>\n      <td>1.0</td>\n      <td>2.0</td>\n      <td>2.0</td>\n      <td>2.0</td>\n      <td>4.0</td>\n      <td>5.0</td>\n      <td>5.0</td>\n      <td>5.0</td>\n      <td>5.0</td>\n      <td>5.0</td>\n    </tr>\n    <tr>\n      <th>6</th>\n      <td>8</td>\n      <td>4</td>\n      <td>2.0</td>\n      <td>2.0</td>\n      <td>1.0</td>\n      <td>1.0</td>\n      <td>1.0</td>\n      <td>2.0</td>\n      <td>2.0</td>\n      <td>2.0</td>\n      <td>...</td>\n      <td>2.0</td>\n      <td>1.0</td>\n      <td>1.0</td>\n      <td>2.0</td>\n      <td>4.0</td>\n      <td>5.0</td>\n      <td>5.0</td>\n      <td>5.0</td>\n      <td>5.0</td>\n      <td>5.0</td>\n    </tr>\n    <tr>\n      <th>8</th>\n      <td>14</td>\n      <td>1</td>\n      <td>2.0</td>\n      <td>2.0</td>\n      <td>0.0</td>\n      <td>1.0</td>\n      <td>1.0</td>\n      <td>2.0</td>\n      <td>2.0</td>\n      <td>2.0</td>\n      <td>...</td>\n      <td>1.0</td>\n      <td>2.0</td>\n      <td>2.0</td>\n      <td>2.0</td>\n      <td>4.0</td>\n      <td>5.0</td>\n      <td>5.0</td>\n      <td>4.0</td>\n      <td>4.0</td>\n      <td>5.0</td>\n    </tr>\n    <tr>\n      <th>...</th>\n      <td>...</td>\n      <td>...</td>\n      <td>...</td>\n      <td>...</td>\n      <td>...</td>\n      <td>...</td>\n      <td>...</td>\n      <td>...</td>\n      <td>...</td>\n      <td>...</td>\n      <td>...</td>\n      <td>...</td>\n      <td>...</td>\n      <td>...</td>\n      <td>...</td>\n      <td>...</td>\n      <td>...</td>\n      <td>...</td>\n      <td>...</td>\n      <td>...</td>\n      <td>...</td>\n    </tr>\n    <tr>\n      <th>56127</th>\n      <td>8</td>\n      <td>4</td>\n      <td>2.0</td>\n      <td>3.0</td>\n      <td>2.0</td>\n      <td>1.0</td>\n      <td>1.0</td>\n      <td>2.0</td>\n      <td>2.0</td>\n      <td>2.0</td>\n      <td>...</td>\n      <td>2.0</td>\n      <td>2.0</td>\n      <td>2.0</td>\n      <td>2.0</td>\n      <td>3.0</td>\n      <td>2.0</td>\n      <td>3.0</td>\n      <td>3.0</td>\n      <td>4.0</td>\n      <td>3.0</td>\n    </tr>\n    <tr>\n      <th>56129</th>\n      <td>13</td>\n      <td>1</td>\n      <td>2.0</td>\n      <td>1.0</td>\n      <td>0.0</td>\n      <td>1.0</td>\n      <td>1.0</td>\n      <td>2.0</td>\n      <td>2.0</td>\n      <td>2.0</td>\n      <td>...</td>\n      <td>1.0</td>\n      <td>1.0</td>\n      <td>1.0</td>\n      <td>2.0</td>\n      <td>2.0</td>\n      <td>4.0</td>\n      <td>3.0</td>\n      <td>4.0</td>\n      <td>4.0</td>\n      <td>4.0</td>\n    </tr>\n    <tr>\n      <th>56130</th>\n      <td>15</td>\n      <td>1</td>\n      <td>2.0</td>\n      <td>3.0</td>\n      <td>0.0</td>\n      <td>2.0</td>\n      <td>1.0</td>\n      <td>2.0</td>\n      <td>2.0</td>\n      <td>2.0</td>\n      <td>...</td>\n      <td>2.0</td>\n      <td>2.0</td>\n      <td>2.0</td>\n      <td>2.0</td>\n      <td>5.0</td>\n      <td>5.0</td>\n      <td>5.0</td>\n      <td>5.0</td>\n      <td>5.0</td>\n      <td>5.0</td>\n    </tr>\n    <tr>\n      <th>56131</th>\n      <td>10</td>\n      <td>4</td>\n      <td>2.0</td>\n      <td>2.0</td>\n      <td>1.0</td>\n      <td>3.0</td>\n      <td>3.0</td>\n      <td>2.0</td>\n      <td>2.0</td>\n      <td>2.0</td>\n      <td>...</td>\n      <td>1.0</td>\n      <td>2.0</td>\n      <td>2.0</td>\n      <td>2.0</td>\n      <td>4.0</td>\n      <td>4.0</td>\n      <td>4.0</td>\n      <td>4.0</td>\n      <td>4.0</td>\n      <td>4.0</td>\n    </tr>\n    <tr>\n      <th>56132</th>\n      <td>13</td>\n      <td>3</td>\n      <td>2.0</td>\n      <td>2.0</td>\n      <td>0.0</td>\n      <td>4.0</td>\n      <td>2.0</td>\n      <td>2.0</td>\n      <td>2.0</td>\n      <td>2.0</td>\n      <td>...</td>\n      <td>2.0</td>\n      <td>2.0</td>\n      <td>2.0</td>\n      <td>2.0</td>\n      <td>3.0</td>\n      <td>4.0</td>\n      <td>4.0</td>\n      <td>5.0</td>\n      <td>2.0</td>\n      <td>5.0</td>\n    </tr>\n  </tbody>\n</table>\n<p>24584 rows × 64 columns</p>\n</div>"
     },
     "metadata": {},
     "execution_count": 195
    }
   ],
   "source": [
    "# Some responses have different numbers but will mean the same in the m achine learning stage so I'm replacing them to be the same number\n",
    "data1_df_cp.loc[:, 'SEXATRACT'] = data1_df_cp.loc[:, 'SEXATRACT'].replace(94, 6)\n",
    "data1_df_cp.loc[:, 'SEXATRACT'] = data1_df_cp.loc[:, 'SEXATRACT'].replace([97, 99], 98)\n",
    "data1_df_cp.loc[:, 'SEXIDENT'] = data1_df_cp.loc[:, 'SEXIDENT'].replace([97, 99], 98)\n",
    "data1_df_cp.loc[:, ['CIGDLYMO', 'PNRANYLIF', 'TRQANYLIF', 'STMANYLIF', 'SEDANYLIF']] = data1_df_cp.loc[:, ['CIGDLYMO', 'PNRANYLIF', 'TRQANYLIF', 'STMANYLIF', 'SEDANYLIF']].replace(5, 1)\n",
    "\n",
    "data1_df_cp.loc[:, 'ALCREC'] = data1_df_cp.loc[:, 'ALCREC'].replace(11, 1)\n",
    "data1_df_cp.loc[:, 'ALCREC'] = data1_df_cp.loc[:, 'ALCREC'].replace(8, 2)\n",
    "data1_df_cp.loc[:, 'ALCUS30D'] = data1_df_cp.loc[:, 'ALCUS30D'].replace(975, 4)\n",
    "\n",
    "data1_df_cp.loc[:, ['CRKEVER', 'LSD', 'PCP', 'PEYOTE', 'MESC', 'PSILCY', 'ECSTMOLLY', 'KETMINESK', 'DMTAMTFXY', 'SALVIADIV', 'HALLUCOTH']] = data1_df_cp.loc[:, ['CRKEVER', 'LSD', 'PCP', 'PEYOTE', 'MESC', 'PSILCY', 'ECSTMOLLY', 'KETMINESK', 'DMTAMTFXY', 'SALVIADIV', 'HALLUCOTH']].replace(91, 2)\n",
    "\n",
    "data1_df_cp.loc[:, ['LSD', 'PCP', 'PEYOTE', 'MESC', 'PSILCY', 'ECSTMOLLY', 'KETMINESK', 'DMTAMTFXY', 'SALVIADIV', 'HALLUCOTH']] = data1_df_cp.loc[:, ['LSD', 'PCP', 'PEYOTE', 'MESC', 'PSILCY', 'ECSTMOLLY', 'KETMINESK', 'DMTAMTFXY', 'SALVIADIV', 'HALLUCOTH']].replace(3, 1)\n",
    "\n",
    "data1_df_cp.loc[:, ['AMYLNIT', 'CLEFLU', 'GAS', 'GLUE', 'ETHER', 'SOLVENT', 'LGAS', 'NITOXID', 'FELTMARKR', 'SPPAINT', 'AIRDUSTER', 'OTHAEROS', 'INHALOTH']] = data1_df_cp.loc[:, ['AMYLNIT', 'CLEFLU', 'GAS', 'GLUE', 'ETHER', 'SOLVENT', 'LGAS', 'NITOXID', 'FELTMARKR', 'SPPAINT', 'AIRDUSTER', 'OTHAEROS', 'INHALOTH']].replace(91, 2)\n",
    "\n",
    "data1_df_cp.loc[:, ['AMYLNIT', 'CLEFLU', 'GAS', 'GLUE', 'ETHER', 'SOLVENT', 'LGAS', 'NITOXID', 'FELTMARKR', 'SPPAINT', 'AIRDUSTER', 'OTHAEROS', 'INHALOTH']] = data1_df_cp.loc[:, ['AMYLNIT', 'CLEFLU', 'GAS', 'GLUE', 'ETHER', 'SOLVENT', 'LGAS', 'NITOXID', 'FELTMARKR', 'SPPAINT', 'AIRDUSTER', 'OTHAEROS', 'INHALOTH']].replace(3, 1)\n",
    "\n",
    "data1_df_cp"
   ]
  },
  {
   "cell_type": "code",
   "execution_count": 196,
   "metadata": {},
   "outputs": [],
   "source": [
    "# exporting the data to csv file\n",
    "data1_df_cp.to_csv(\"project3_raw_2019.csv\", index=False)"
   ]
  },
  {
   "source": [
    "# 2018"
   ],
   "cell_type": "markdown",
   "metadata": {}
  },
  {
   "cell_type": "code",
   "execution_count": 197,
   "metadata": {},
   "outputs": [
    {
     "output_type": "execute_result",
     "data": {
      "text/plain": [
       "   QUESTID2 FILEDATE  CIGEVER  CIGOFRSM  CIGWILYR  CIGTRY  CIGYFU  CIGMFU  \\\n",
       "0  11015143  10/8/19        1        99        99      12    9999      99   \n",
       "1  86325143  10/8/19        2        99        99     991    9991      91   \n",
       "2  35425143  10/8/19        1        99        99      13    9999      99   \n",
       "3  98125143  10/8/19        2        99        99     991    9991      91   \n",
       "4  15945143  10/8/19        2        99        99     991    9991      91   \n",
       "\n",
       "   CIGREC  CIG30USE  ...  POVERTY3  TOOLONG  TROUBUND  PDEN10  COUTYP4  \\\n",
       "0       1        20  ...       3.0        2         2       1        1   \n",
       "1      91        91  ...       2.0        2         2       3        3   \n",
       "2       4        93  ...       3.0        2         2       2        2   \n",
       "3      91        91  ...       2.0        2         2       2        2   \n",
       "4      91        91  ...       2.0        1         2       1        1   \n",
       "\n",
       "   MAIIN102  AIIND102      ANALWT_C  VESTR  VEREP  \n",
       "0         2         2  20783.261910  40001      1  \n",
       "1         2         2   1095.884074  40004      1  \n",
       "2         2         2    374.445005  40017      2  \n",
       "3         2         2   2421.263435  40038      2  \n",
       "4         2         2   6637.319591  40040      2  \n",
       "\n",
       "[5 rows x 2691 columns]"
      ],
      "text/html": "<div>\n<style scoped>\n    .dataframe tbody tr th:only-of-type {\n        vertical-align: middle;\n    }\n\n    .dataframe tbody tr th {\n        vertical-align: top;\n    }\n\n    .dataframe thead th {\n        text-align: right;\n    }\n</style>\n<table border=\"1\" class=\"dataframe\">\n  <thead>\n    <tr style=\"text-align: right;\">\n      <th></th>\n      <th>QUESTID2</th>\n      <th>FILEDATE</th>\n      <th>CIGEVER</th>\n      <th>CIGOFRSM</th>\n      <th>CIGWILYR</th>\n      <th>CIGTRY</th>\n      <th>CIGYFU</th>\n      <th>CIGMFU</th>\n      <th>CIGREC</th>\n      <th>CIG30USE</th>\n      <th>...</th>\n      <th>POVERTY3</th>\n      <th>TOOLONG</th>\n      <th>TROUBUND</th>\n      <th>PDEN10</th>\n      <th>COUTYP4</th>\n      <th>MAIIN102</th>\n      <th>AIIND102</th>\n      <th>ANALWT_C</th>\n      <th>VESTR</th>\n      <th>VEREP</th>\n    </tr>\n  </thead>\n  <tbody>\n    <tr>\n      <th>0</th>\n      <td>11015143</td>\n      <td>10/8/19</td>\n      <td>1</td>\n      <td>99</td>\n      <td>99</td>\n      <td>12</td>\n      <td>9999</td>\n      <td>99</td>\n      <td>1</td>\n      <td>20</td>\n      <td>...</td>\n      <td>3.0</td>\n      <td>2</td>\n      <td>2</td>\n      <td>1</td>\n      <td>1</td>\n      <td>2</td>\n      <td>2</td>\n      <td>20783.261910</td>\n      <td>40001</td>\n      <td>1</td>\n    </tr>\n    <tr>\n      <th>1</th>\n      <td>86325143</td>\n      <td>10/8/19</td>\n      <td>2</td>\n      <td>99</td>\n      <td>99</td>\n      <td>991</td>\n      <td>9991</td>\n      <td>91</td>\n      <td>91</td>\n      <td>91</td>\n      <td>...</td>\n      <td>2.0</td>\n      <td>2</td>\n      <td>2</td>\n      <td>3</td>\n      <td>3</td>\n      <td>2</td>\n      <td>2</td>\n      <td>1095.884074</td>\n      <td>40004</td>\n      <td>1</td>\n    </tr>\n    <tr>\n      <th>2</th>\n      <td>35425143</td>\n      <td>10/8/19</td>\n      <td>1</td>\n      <td>99</td>\n      <td>99</td>\n      <td>13</td>\n      <td>9999</td>\n      <td>99</td>\n      <td>4</td>\n      <td>93</td>\n      <td>...</td>\n      <td>3.0</td>\n      <td>2</td>\n      <td>2</td>\n      <td>2</td>\n      <td>2</td>\n      <td>2</td>\n      <td>2</td>\n      <td>374.445005</td>\n      <td>40017</td>\n      <td>2</td>\n    </tr>\n    <tr>\n      <th>3</th>\n      <td>98125143</td>\n      <td>10/8/19</td>\n      <td>2</td>\n      <td>99</td>\n      <td>99</td>\n      <td>991</td>\n      <td>9991</td>\n      <td>91</td>\n      <td>91</td>\n      <td>91</td>\n      <td>...</td>\n      <td>2.0</td>\n      <td>2</td>\n      <td>2</td>\n      <td>2</td>\n      <td>2</td>\n      <td>2</td>\n      <td>2</td>\n      <td>2421.263435</td>\n      <td>40038</td>\n      <td>2</td>\n    </tr>\n    <tr>\n      <th>4</th>\n      <td>15945143</td>\n      <td>10/8/19</td>\n      <td>2</td>\n      <td>99</td>\n      <td>99</td>\n      <td>991</td>\n      <td>9991</td>\n      <td>91</td>\n      <td>91</td>\n      <td>91</td>\n      <td>...</td>\n      <td>2.0</td>\n      <td>1</td>\n      <td>2</td>\n      <td>1</td>\n      <td>1</td>\n      <td>2</td>\n      <td>2</td>\n      <td>6637.319591</td>\n      <td>40040</td>\n      <td>2</td>\n    </tr>\n  </tbody>\n</table>\n<p>5 rows × 2691 columns</p>\n</div>"
     },
     "metadata": {},
     "execution_count": 197
    }
   ],
   "source": [
    "# Reading in the data\n",
    "data2_df = pd.read_csv('NSDUH_2018_Tab.csv')\n",
    "data2_df.head()"
   ]
  },
  {
   "cell_type": "code",
   "execution_count": 198,
   "metadata": {},
   "outputs": [
    {
     "output_type": "stream",
     "name": "stdout",
     "text": [
      "<class 'pandas.core.frame.DataFrame'>\nRangeIndex: 56313 entries, 0 to 56312\nColumns: 2691 entries, QUESTID2 to VEREP\ndtypes: float64(405), int64(2284), object(2)\nmemory usage: 1.1+ GB\n"
     ]
    }
   ],
   "source": [
    "data2_df.info()"
   ]
  },
  {
   "cell_type": "code",
   "execution_count": 199,
   "metadata": {},
   "outputs": [
    {
     "output_type": "stream",
     "name": "stdout",
     "text": [
      "<class 'pandas.core.frame.DataFrame'>\nRangeIndex: 56313 entries, 0 to 56312\nData columns (total 64 columns):\n #   Column        Non-Null Count  Dtype\n---  ------        --------------  -----\n 0   AGE2          56313 non-null  int64\n 1   IRMARIT       56313 non-null  int64\n 2   SERVICE       56313 non-null  int64\n 3   HEALTH        56313 non-null  int64\n 4   MOVSINPYR2    56313 non-null  int64\n 5   SEXATRACT     56313 non-null  int64\n 6   SEXIDENT      56313 non-null  int64\n 7   DIFFTHINK     56313 non-null  int64\n 8   DIFFWALK      56313 non-null  int64\n 9   DIFFDRESS     56313 non-null  int64\n 10  DIFFERAND     56313 non-null  int64\n 11  IREDUHIGHST2  56313 non-null  int64\n 12  WRKSTATWK2    56313 non-null  int64\n 13  IRWRKSTAT     56313 non-null  int64\n 14  WRKNUMJOB2    56313 non-null  int64\n 15  IRPINC3       56313 non-null  int64\n 16  CIGEVER       56313 non-null  int64\n 17  CIGTRY        56313 non-null  int64\n 18  CIGDLYMO      56313 non-null  int64\n 19  CIG100LF      56313 non-null  int64\n 20  CG30EST       56313 non-null  int64\n 21  ALCEVER       56313 non-null  int64\n 22  ALCREC        56313 non-null  int64\n 23  ALCYRTOT      56313 non-null  int64\n 24  ALCDAYS       56313 non-null  int64\n 25  ALCUS30D      56313 non-null  int64\n 26  MJEVER        56313 non-null  int64\n 27  COCEVER       56313 non-null  int64\n 28  CRKEVER       56313 non-null  int64\n 29  HEREVER       56313 non-null  int64\n 30  LSD           56313 non-null  int64\n 31  PCP           56313 non-null  int64\n 32  PEYOTE        56313 non-null  int64\n 33  MESC          56313 non-null  int64\n 34  PSILCY        56313 non-null  int64\n 35  ECSTMOLLY     56313 non-null  int64\n 36  KETMINESK     56313 non-null  int64\n 37  DMTAMTFXY     56313 non-null  int64\n 38  SALVIADIV     56313 non-null  int64\n 39  HALLUCOTH     56313 non-null  int64\n 40  AMYLNIT       56313 non-null  int64\n 41  CLEFLU        56313 non-null  int64\n 42  GAS           56313 non-null  int64\n 43  GLUE          56313 non-null  int64\n 44  ETHER         56313 non-null  int64\n 45  SOLVENT       56313 non-null  int64\n 46  LGAS          56313 non-null  int64\n 47  NITOXID       56313 non-null  int64\n 48  FELTMARKR     56313 non-null  int64\n 49  SPPAINT       56313 non-null  int64\n 50  AIRDUSTER     56313 non-null  int64\n 51  OTHAEROS      56313 non-null  int64\n 52  INHALOTH      56313 non-null  int64\n 53  METHAMEVR     56313 non-null  int64\n 54  PNRANYLIF     56313 non-null  int64\n 55  TRQANYLIF     56313 non-null  int64\n 56  STMANYLIF     56313 non-null  int64\n 57  SEDANYLIF     56313 non-null  int64\n 58  DSTNRV30      56313 non-null  int64\n 59  DSTHOP30      56313 non-null  int64\n 60  DSTRST30      56313 non-null  int64\n 61  DSTCHR30      56313 non-null  int64\n 62  DSTEFF30      56313 non-null  int64\n 63  DSTNGD30      56313 non-null  int64\ndtypes: int64(64)\nmemory usage: 27.5 MB\n"
     ]
    }
   ],
   "source": [
    "# Extracting the colums required for the project\n",
    "data2_df = data2_df[['AGE2', 'IRMARIT', 'SERVICE', 'HEALTH', 'MOVSINPYR2', 'SEXATRACT', 'SEXIDENT', 'DIFFTHINK', 'DIFFWALK','DIFFDRESS', 'DIFFERAND', 'IREDUHIGHST2', 'WRKSTATWK2', 'IRWRKSTAT', 'WRKNUMJOB2', 'IRPINC3', 'CIGEVER', 'CIGTRY', 'CIGDLYMO', 'CIG100LF', 'CG30EST', 'ALCEVER', 'ALCREC', 'ALCYRTOT', 'ALCDAYS', 'ALCUS30D', 'MJEVER', 'COCEVER', 'CRKEVER', 'HEREVER', 'LSD', 'PCP', 'PEYOTE', 'MESC', 'PSILCY', 'ECSTMOLLY', 'KETMINESK', 'DMTAMTFXY', 'SALVIADIV', 'HALLUCOTH', 'AMYLNIT', 'CLEFLU', 'GAS', 'GLUE', 'ETHER', 'SOLVENT', 'LGAS', 'NITOXID', 'FELTMARKR', 'SPPAINT', 'AIRDUSTER', 'OTHAEROS', 'INHALOTH', 'METHAMEVR', 'PNRANYLIF', 'TRQANYLIF', 'STMANYLIF', 'SEDANYLIF', 'DSTNRV30', 'DSTHOP30', 'DSTRST30', 'DSTCHR30', 'DSTEFF30', 'DSTNGD30']]\n",
    "data2_df.info()"
   ]
  },
  {
   "cell_type": "code",
   "execution_count": 200,
   "metadata": {},
   "outputs": [
    {
     "output_type": "execute_result",
     "data": {
      "text/plain": [
       "       AGE2  IRMARIT  SERVICE  HEALTH  MOVSINPYR2  SEXATRACT  SEXIDENT  \\\n",
       "0        16        1        2       3           0          1         1   \n",
       "1        12        1        2       3           0          1         1   \n",
       "2         8        4        2       3           0          3         3   \n",
       "3        15        3        2       3           2          1         1   \n",
       "4        15        1        2       3           0          6         1   \n",
       "...     ...      ...      ...     ...         ...        ...       ...   \n",
       "56306    14        4        2       1           0          1         1   \n",
       "56307    14        4        2       4           0          1         1   \n",
       "56310     8        4        2       1           1          1         1   \n",
       "56311    13        4        2       2           1          1         1   \n",
       "56312    10        4        2       3         997          1         1   \n",
       "\n",
       "       DIFFTHINK  DIFFWALK  DIFFDRESS  ...  PNRANYLIF  TRQANYLIF  STMANYLIF  \\\n",
       "0              2         2          2  ...          2          2          2   \n",
       "1              2         2          2  ...          5          2          5   \n",
       "2              2         2          2  ...          5          2          5   \n",
       "3              1         2          2  ...          5          5          2   \n",
       "4              2         2          2  ...          2          2          2   \n",
       "...          ...       ...        ...  ...        ...        ...        ...   \n",
       "56306          2         2          2  ...          5          2          2   \n",
       "56307          2         2          2  ...          5          2          2   \n",
       "56310          2         2          2  ...          1          2          2   \n",
       "56311          2         2          2  ...          5          2          2   \n",
       "56312          2         2          2  ...          5          5          2   \n",
       "\n",
       "       SEDANYLIF  DSTNRV30  DSTHOP30  DSTRST30  DSTCHR30  DSTEFF30  DSTNGD30  \n",
       "0              2         5         5         5         5         5         5  \n",
       "1              2         4         5         5         5         5         5  \n",
       "2              2         2         3         3         3         1         4  \n",
       "3              2         4         5         4         5         5         5  \n",
       "4              2         5         5         5         5         5         5  \n",
       "...          ...       ...       ...       ...       ...       ...       ...  \n",
       "56306          2         4         5         4         5         5         5  \n",
       "56307          2         5         5         5         5         5         5  \n",
       "56310          2         3         5         5         4         4         3  \n",
       "56311          2         3         3         5         3         2         2  \n",
       "56312          1         2         1         2         5         5         5  \n",
       "\n",
       "[43026 rows x 64 columns]"
      ],
      "text/html": "<div>\n<style scoped>\n    .dataframe tbody tr th:only-of-type {\n        vertical-align: middle;\n    }\n\n    .dataframe tbody tr th {\n        vertical-align: top;\n    }\n\n    .dataframe thead th {\n        text-align: right;\n    }\n</style>\n<table border=\"1\" class=\"dataframe\">\n  <thead>\n    <tr style=\"text-align: right;\">\n      <th></th>\n      <th>AGE2</th>\n      <th>IRMARIT</th>\n      <th>SERVICE</th>\n      <th>HEALTH</th>\n      <th>MOVSINPYR2</th>\n      <th>SEXATRACT</th>\n      <th>SEXIDENT</th>\n      <th>DIFFTHINK</th>\n      <th>DIFFWALK</th>\n      <th>DIFFDRESS</th>\n      <th>...</th>\n      <th>PNRANYLIF</th>\n      <th>TRQANYLIF</th>\n      <th>STMANYLIF</th>\n      <th>SEDANYLIF</th>\n      <th>DSTNRV30</th>\n      <th>DSTHOP30</th>\n      <th>DSTRST30</th>\n      <th>DSTCHR30</th>\n      <th>DSTEFF30</th>\n      <th>DSTNGD30</th>\n    </tr>\n  </thead>\n  <tbody>\n    <tr>\n      <th>0</th>\n      <td>16</td>\n      <td>1</td>\n      <td>2</td>\n      <td>3</td>\n      <td>0</td>\n      <td>1</td>\n      <td>1</td>\n      <td>2</td>\n      <td>2</td>\n      <td>2</td>\n      <td>...</td>\n      <td>2</td>\n      <td>2</td>\n      <td>2</td>\n      <td>2</td>\n      <td>5</td>\n      <td>5</td>\n      <td>5</td>\n      <td>5</td>\n      <td>5</td>\n      <td>5</td>\n    </tr>\n    <tr>\n      <th>1</th>\n      <td>12</td>\n      <td>1</td>\n      <td>2</td>\n      <td>3</td>\n      <td>0</td>\n      <td>1</td>\n      <td>1</td>\n      <td>2</td>\n      <td>2</td>\n      <td>2</td>\n      <td>...</td>\n      <td>5</td>\n      <td>2</td>\n      <td>5</td>\n      <td>2</td>\n      <td>4</td>\n      <td>5</td>\n      <td>5</td>\n      <td>5</td>\n      <td>5</td>\n      <td>5</td>\n    </tr>\n    <tr>\n      <th>2</th>\n      <td>8</td>\n      <td>4</td>\n      <td>2</td>\n      <td>3</td>\n      <td>0</td>\n      <td>3</td>\n      <td>3</td>\n      <td>2</td>\n      <td>2</td>\n      <td>2</td>\n      <td>...</td>\n      <td>5</td>\n      <td>2</td>\n      <td>5</td>\n      <td>2</td>\n      <td>2</td>\n      <td>3</td>\n      <td>3</td>\n      <td>3</td>\n      <td>1</td>\n      <td>4</td>\n    </tr>\n    <tr>\n      <th>3</th>\n      <td>15</td>\n      <td>3</td>\n      <td>2</td>\n      <td>3</td>\n      <td>2</td>\n      <td>1</td>\n      <td>1</td>\n      <td>1</td>\n      <td>2</td>\n      <td>2</td>\n      <td>...</td>\n      <td>5</td>\n      <td>5</td>\n      <td>2</td>\n      <td>2</td>\n      <td>4</td>\n      <td>5</td>\n      <td>4</td>\n      <td>5</td>\n      <td>5</td>\n      <td>5</td>\n    </tr>\n    <tr>\n      <th>4</th>\n      <td>15</td>\n      <td>1</td>\n      <td>2</td>\n      <td>3</td>\n      <td>0</td>\n      <td>6</td>\n      <td>1</td>\n      <td>2</td>\n      <td>2</td>\n      <td>2</td>\n      <td>...</td>\n      <td>2</td>\n      <td>2</td>\n      <td>2</td>\n      <td>2</td>\n      <td>5</td>\n      <td>5</td>\n      <td>5</td>\n      <td>5</td>\n      <td>5</td>\n      <td>5</td>\n    </tr>\n    <tr>\n      <th>...</th>\n      <td>...</td>\n      <td>...</td>\n      <td>...</td>\n      <td>...</td>\n      <td>...</td>\n      <td>...</td>\n      <td>...</td>\n      <td>...</td>\n      <td>...</td>\n      <td>...</td>\n      <td>...</td>\n      <td>...</td>\n      <td>...</td>\n      <td>...</td>\n      <td>...</td>\n      <td>...</td>\n      <td>...</td>\n      <td>...</td>\n      <td>...</td>\n      <td>...</td>\n      <td>...</td>\n    </tr>\n    <tr>\n      <th>56306</th>\n      <td>14</td>\n      <td>4</td>\n      <td>2</td>\n      <td>1</td>\n      <td>0</td>\n      <td>1</td>\n      <td>1</td>\n      <td>2</td>\n      <td>2</td>\n      <td>2</td>\n      <td>...</td>\n      <td>5</td>\n      <td>2</td>\n      <td>2</td>\n      <td>2</td>\n      <td>4</td>\n      <td>5</td>\n      <td>4</td>\n      <td>5</td>\n      <td>5</td>\n      <td>5</td>\n    </tr>\n    <tr>\n      <th>56307</th>\n      <td>14</td>\n      <td>4</td>\n      <td>2</td>\n      <td>4</td>\n      <td>0</td>\n      <td>1</td>\n      <td>1</td>\n      <td>2</td>\n      <td>2</td>\n      <td>2</td>\n      <td>...</td>\n      <td>5</td>\n      <td>2</td>\n      <td>2</td>\n      <td>2</td>\n      <td>5</td>\n      <td>5</td>\n      <td>5</td>\n      <td>5</td>\n      <td>5</td>\n      <td>5</td>\n    </tr>\n    <tr>\n      <th>56310</th>\n      <td>8</td>\n      <td>4</td>\n      <td>2</td>\n      <td>1</td>\n      <td>1</td>\n      <td>1</td>\n      <td>1</td>\n      <td>2</td>\n      <td>2</td>\n      <td>2</td>\n      <td>...</td>\n      <td>1</td>\n      <td>2</td>\n      <td>2</td>\n      <td>2</td>\n      <td>3</td>\n      <td>5</td>\n      <td>5</td>\n      <td>4</td>\n      <td>4</td>\n      <td>3</td>\n    </tr>\n    <tr>\n      <th>56311</th>\n      <td>13</td>\n      <td>4</td>\n      <td>2</td>\n      <td>2</td>\n      <td>1</td>\n      <td>1</td>\n      <td>1</td>\n      <td>2</td>\n      <td>2</td>\n      <td>2</td>\n      <td>...</td>\n      <td>5</td>\n      <td>2</td>\n      <td>2</td>\n      <td>2</td>\n      <td>3</td>\n      <td>3</td>\n      <td>5</td>\n      <td>3</td>\n      <td>2</td>\n      <td>2</td>\n    </tr>\n    <tr>\n      <th>56312</th>\n      <td>10</td>\n      <td>4</td>\n      <td>2</td>\n      <td>3</td>\n      <td>997</td>\n      <td>1</td>\n      <td>1</td>\n      <td>2</td>\n      <td>2</td>\n      <td>2</td>\n      <td>...</td>\n      <td>5</td>\n      <td>5</td>\n      <td>2</td>\n      <td>1</td>\n      <td>2</td>\n      <td>1</td>\n      <td>2</td>\n      <td>5</td>\n      <td>5</td>\n      <td>5</td>\n    </tr>\n  </tbody>\n</table>\n<p>43026 rows × 64 columns</p>\n</div>"
     },
     "metadata": {},
     "execution_count": 200
    }
   ],
   "source": [
    "# extracting over 18-years-of-age responses\n",
    "data2_df = data2_df[data2_df['AGE2'] > 6]\n",
    "data2_df"
   ]
  },
  {
   "cell_type": "code",
   "execution_count": 201,
   "metadata": {},
   "outputs": [],
   "source": [
    "# copying the dataframe for more data cleaning\n",
    "data2_df_cp = data2_df.copy()"
   ]
  },
  {
   "cell_type": "code",
   "execution_count": 202,
   "metadata": {},
   "outputs": [
    {
     "output_type": "execute_result",
     "data": {
      "text/plain": [
       "       AGE2  IRMARIT  SERVICE  HEALTH  MOVSINPYR2  SEXATRACT  SEXIDENT  \\\n",
       "0        16        1      2.0       3         0.0        1.0       1.0   \n",
       "1        12        1      2.0       3         0.0        1.0       1.0   \n",
       "2         8        4      2.0       3         0.0        3.0       3.0   \n",
       "3        15        3      2.0       3         2.0        1.0       1.0   \n",
       "4        15        1      2.0       3         0.0        6.0       1.0   \n",
       "...     ...      ...      ...     ...         ...        ...       ...   \n",
       "56306    14        4      2.0       1         0.0        1.0       1.0   \n",
       "56307    14        4      2.0       4         0.0        1.0       1.0   \n",
       "56310     8        4      2.0       1         1.0        1.0       1.0   \n",
       "56311    13        4      2.0       2         1.0        1.0       1.0   \n",
       "56312    10        4      2.0       3       997.0        1.0       1.0   \n",
       "\n",
       "       DIFFTHINK  DIFFWALK  DIFFDRESS  ...  PNRANYLIF  TRQANYLIF  STMANYLIF  \\\n",
       "0            2.0       2.0        2.0  ...          2          2          2   \n",
       "1            2.0       2.0        2.0  ...          5          2          5   \n",
       "2            2.0       2.0        2.0  ...          5          2          5   \n",
       "3            1.0       2.0        2.0  ...          5          5          2   \n",
       "4            2.0       2.0        2.0  ...          2          2          2   \n",
       "...          ...       ...        ...  ...        ...        ...        ...   \n",
       "56306        2.0       2.0        2.0  ...          5          2          2   \n",
       "56307        2.0       2.0        2.0  ...          5          2          2   \n",
       "56310        2.0       2.0        2.0  ...          1          2          2   \n",
       "56311        2.0       2.0        2.0  ...          5          2          2   \n",
       "56312        2.0       2.0        2.0  ...          5          5          2   \n",
       "\n",
       "       SEDANYLIF  DSTNRV30  DSTHOP30  DSTRST30  DSTCHR30  DSTEFF30  DSTNGD30  \n",
       "0              2       5.0       5.0       5.0       5.0       5.0       5.0  \n",
       "1              2       4.0       5.0       5.0       5.0       5.0       5.0  \n",
       "2              2       2.0       3.0       3.0       3.0       1.0       4.0  \n",
       "3              2       4.0       5.0       4.0       5.0       5.0       5.0  \n",
       "4              2       5.0       5.0       5.0       5.0       5.0       5.0  \n",
       "...          ...       ...       ...       ...       ...       ...       ...  \n",
       "56306          2       4.0       5.0       4.0       5.0       5.0       5.0  \n",
       "56307          2       5.0       5.0       5.0       5.0       5.0       5.0  \n",
       "56310          2       3.0       5.0       5.0       4.0       4.0       3.0  \n",
       "56311          2       3.0       3.0       5.0       3.0       2.0       2.0  \n",
       "56312          1       2.0       1.0       2.0       5.0       5.0       5.0  \n",
       "\n",
       "[42252 rows x 64 columns]"
      ],
      "text/html": "<div>\n<style scoped>\n    .dataframe tbody tr th:only-of-type {\n        vertical-align: middle;\n    }\n\n    .dataframe tbody tr th {\n        vertical-align: top;\n    }\n\n    .dataframe thead th {\n        text-align: right;\n    }\n</style>\n<table border=\"1\" class=\"dataframe\">\n  <thead>\n    <tr style=\"text-align: right;\">\n      <th></th>\n      <th>AGE2</th>\n      <th>IRMARIT</th>\n      <th>SERVICE</th>\n      <th>HEALTH</th>\n      <th>MOVSINPYR2</th>\n      <th>SEXATRACT</th>\n      <th>SEXIDENT</th>\n      <th>DIFFTHINK</th>\n      <th>DIFFWALK</th>\n      <th>DIFFDRESS</th>\n      <th>...</th>\n      <th>PNRANYLIF</th>\n      <th>TRQANYLIF</th>\n      <th>STMANYLIF</th>\n      <th>SEDANYLIF</th>\n      <th>DSTNRV30</th>\n      <th>DSTHOP30</th>\n      <th>DSTRST30</th>\n      <th>DSTCHR30</th>\n      <th>DSTEFF30</th>\n      <th>DSTNGD30</th>\n    </tr>\n  </thead>\n  <tbody>\n    <tr>\n      <th>0</th>\n      <td>16</td>\n      <td>1</td>\n      <td>2.0</td>\n      <td>3</td>\n      <td>0.0</td>\n      <td>1.0</td>\n      <td>1.0</td>\n      <td>2.0</td>\n      <td>2.0</td>\n      <td>2.0</td>\n      <td>...</td>\n      <td>2</td>\n      <td>2</td>\n      <td>2</td>\n      <td>2</td>\n      <td>5.0</td>\n      <td>5.0</td>\n      <td>5.0</td>\n      <td>5.0</td>\n      <td>5.0</td>\n      <td>5.0</td>\n    </tr>\n    <tr>\n      <th>1</th>\n      <td>12</td>\n      <td>1</td>\n      <td>2.0</td>\n      <td>3</td>\n      <td>0.0</td>\n      <td>1.0</td>\n      <td>1.0</td>\n      <td>2.0</td>\n      <td>2.0</td>\n      <td>2.0</td>\n      <td>...</td>\n      <td>5</td>\n      <td>2</td>\n      <td>5</td>\n      <td>2</td>\n      <td>4.0</td>\n      <td>5.0</td>\n      <td>5.0</td>\n      <td>5.0</td>\n      <td>5.0</td>\n      <td>5.0</td>\n    </tr>\n    <tr>\n      <th>2</th>\n      <td>8</td>\n      <td>4</td>\n      <td>2.0</td>\n      <td>3</td>\n      <td>0.0</td>\n      <td>3.0</td>\n      <td>3.0</td>\n      <td>2.0</td>\n      <td>2.0</td>\n      <td>2.0</td>\n      <td>...</td>\n      <td>5</td>\n      <td>2</td>\n      <td>5</td>\n      <td>2</td>\n      <td>2.0</td>\n      <td>3.0</td>\n      <td>3.0</td>\n      <td>3.0</td>\n      <td>1.0</td>\n      <td>4.0</td>\n    </tr>\n    <tr>\n      <th>3</th>\n      <td>15</td>\n      <td>3</td>\n      <td>2.0</td>\n      <td>3</td>\n      <td>2.0</td>\n      <td>1.0</td>\n      <td>1.0</td>\n      <td>1.0</td>\n      <td>2.0</td>\n      <td>2.0</td>\n      <td>...</td>\n      <td>5</td>\n      <td>5</td>\n      <td>2</td>\n      <td>2</td>\n      <td>4.0</td>\n      <td>5.0</td>\n      <td>4.0</td>\n      <td>5.0</td>\n      <td>5.0</td>\n      <td>5.0</td>\n    </tr>\n    <tr>\n      <th>4</th>\n      <td>15</td>\n      <td>1</td>\n      <td>2.0</td>\n      <td>3</td>\n      <td>0.0</td>\n      <td>6.0</td>\n      <td>1.0</td>\n      <td>2.0</td>\n      <td>2.0</td>\n      <td>2.0</td>\n      <td>...</td>\n      <td>2</td>\n      <td>2</td>\n      <td>2</td>\n      <td>2</td>\n      <td>5.0</td>\n      <td>5.0</td>\n      <td>5.0</td>\n      <td>5.0</td>\n      <td>5.0</td>\n      <td>5.0</td>\n    </tr>\n    <tr>\n      <th>...</th>\n      <td>...</td>\n      <td>...</td>\n      <td>...</td>\n      <td>...</td>\n      <td>...</td>\n      <td>...</td>\n      <td>...</td>\n      <td>...</td>\n      <td>...</td>\n      <td>...</td>\n      <td>...</td>\n      <td>...</td>\n      <td>...</td>\n      <td>...</td>\n      <td>...</td>\n      <td>...</td>\n      <td>...</td>\n      <td>...</td>\n      <td>...</td>\n      <td>...</td>\n      <td>...</td>\n    </tr>\n    <tr>\n      <th>56306</th>\n      <td>14</td>\n      <td>4</td>\n      <td>2.0</td>\n      <td>1</td>\n      <td>0.0</td>\n      <td>1.0</td>\n      <td>1.0</td>\n      <td>2.0</td>\n      <td>2.0</td>\n      <td>2.0</td>\n      <td>...</td>\n      <td>5</td>\n      <td>2</td>\n      <td>2</td>\n      <td>2</td>\n      <td>4.0</td>\n      <td>5.0</td>\n      <td>4.0</td>\n      <td>5.0</td>\n      <td>5.0</td>\n      <td>5.0</td>\n    </tr>\n    <tr>\n      <th>56307</th>\n      <td>14</td>\n      <td>4</td>\n      <td>2.0</td>\n      <td>4</td>\n      <td>0.0</td>\n      <td>1.0</td>\n      <td>1.0</td>\n      <td>2.0</td>\n      <td>2.0</td>\n      <td>2.0</td>\n      <td>...</td>\n      <td>5</td>\n      <td>2</td>\n      <td>2</td>\n      <td>2</td>\n      <td>5.0</td>\n      <td>5.0</td>\n      <td>5.0</td>\n      <td>5.0</td>\n      <td>5.0</td>\n      <td>5.0</td>\n    </tr>\n    <tr>\n      <th>56310</th>\n      <td>8</td>\n      <td>4</td>\n      <td>2.0</td>\n      <td>1</td>\n      <td>1.0</td>\n      <td>1.0</td>\n      <td>1.0</td>\n      <td>2.0</td>\n      <td>2.0</td>\n      <td>2.0</td>\n      <td>...</td>\n      <td>1</td>\n      <td>2</td>\n      <td>2</td>\n      <td>2</td>\n      <td>3.0</td>\n      <td>5.0</td>\n      <td>5.0</td>\n      <td>4.0</td>\n      <td>4.0</td>\n      <td>3.0</td>\n    </tr>\n    <tr>\n      <th>56311</th>\n      <td>13</td>\n      <td>4</td>\n      <td>2.0</td>\n      <td>2</td>\n      <td>1.0</td>\n      <td>1.0</td>\n      <td>1.0</td>\n      <td>2.0</td>\n      <td>2.0</td>\n      <td>2.0</td>\n      <td>...</td>\n      <td>5</td>\n      <td>2</td>\n      <td>2</td>\n      <td>2</td>\n      <td>3.0</td>\n      <td>3.0</td>\n      <td>5.0</td>\n      <td>3.0</td>\n      <td>2.0</td>\n      <td>2.0</td>\n    </tr>\n    <tr>\n      <th>56312</th>\n      <td>10</td>\n      <td>4</td>\n      <td>2.0</td>\n      <td>3</td>\n      <td>997.0</td>\n      <td>1.0</td>\n      <td>1.0</td>\n      <td>2.0</td>\n      <td>2.0</td>\n      <td>2.0</td>\n      <td>...</td>\n      <td>5</td>\n      <td>5</td>\n      <td>2</td>\n      <td>1</td>\n      <td>2.0</td>\n      <td>1.0</td>\n      <td>2.0</td>\n      <td>5.0</td>\n      <td>5.0</td>\n      <td>5.0</td>\n    </tr>\n  </tbody>\n</table>\n<p>42252 rows × 64 columns</p>\n</div>"
     },
     "metadata": {},
     "execution_count": 202
    }
   ],
   "source": [
    "# removing the 85 & 985 (bad data) response from all appropriate columns\n",
    "data2_df_cp.loc[:, ['ALCYRTOT', 'ALCUS30D']] = data2_df_cp.loc[:, ['ALCYRTOT', 'ALCUS30D']].replace(85, 9999)\n",
    "data2_df_cp = data2_df_cp.replace([85, 985], np.nan)\n",
    "data2_df_cp = data2_df_cp.dropna()\n",
    "data2_df_cp.loc[:, ['ALCYRTOT', 'ALCUS30D']] = data2_df_cp.loc[:, ['ALCYRTOT', 'ALCUS30D']].replace(9999, 85)\n",
    "data2_df_cp"
   ]
  },
  {
   "cell_type": "code",
   "execution_count": 203,
   "metadata": {},
   "outputs": [],
   "source": [
    "# replacing the responses not useable for the project, like 'don't know' or 'refused to respond' with NaN for easy removal of rows\n",
    "data2_df_cp.loc[:, 'SERVICE'] = data2_df_cp.loc[:, 'SERVICE'].replace(97, np.nan)\n",
    "data2_df_cp.loc[:, 'HEALTH'] = data2_df_cp.loc[:, 'HEALTH'].replace(97, np.nan)\n",
    "data2_df_cp.loc[:, 'MOVSINPYR2'] = data2_df_cp.loc[:, 'MOVSINPYR2'].replace([994, 997, 998], np.nan)\n",
    "data2_df_cp.loc[:, 'DIFFTHINK'] = data2_df_cp.loc[:, 'DIFFTHINK'].replace([94, 97, 98], np.nan)\n",
    "data2_df_cp.loc[:, 'DIFFWALK'] = data2_df_cp.loc[:, 'DIFFWALK'].replace([94, 97, 98], np.nan)\n",
    "data2_df_cp.loc[:, 'DIFFDRESS'] = data2_df_cp.loc[:, 'DIFFDRESS'].replace([94, 97, 98], np.nan)\n",
    "data2_df_cp.loc[:, 'DIFFERAND'] = data2_df_cp.loc[:, 'DIFFERAND'].replace([94, 97, 98, 99], np.nan)\n",
    "data2_df_cp.loc[:, 'IRMARIT'] = data2_df_cp.loc[:, 'IRMARIT'].replace(99, np.nan)\n",
    "data2_df_cp.loc[:, 'WRKSTATWK2'] = data2_df_cp.loc[:, 'WRKSTATWK2'].replace([99, 98], np.nan)\n",
    "data2_df_cp.loc[:, 'WRKNUMJOB2'] = data2_df_cp.loc[:, 'WRKNUMJOB2'].replace([94, 97, 98, 99], np.nan)\n",
    "data2_df_cp.loc[:, 'IRWRKSTAT'] = data2_df_cp.loc[:, 'IRWRKSTAT'].replace(99, np.nan)\n",
    "\n",
    "data2_df_cp.loc[:, 'CIGTRY'] = data2_df_cp.loc[:, 'CIGTRY'].replace([994, 997], np.nan)\n",
    "data2_df_cp.loc[:, 'CIGDLYMO'] = data2_df_cp.loc[:, 'CIGDLYMO'].replace([94, 97, 98], np.nan)\n",
    "data2_df_cp.loc[:, 'CIG100LF'] = data2_df_cp.loc[:, 'CIG100LF'].replace([94, 97, 98], np.nan)\n",
    "data2_df_cp.loc[:, 'CG30EST'] = data2_df_cp.loc[:, 'CG30EST'].replace([94, 97, 98, 99], np.nan)\n",
    "\n",
    "data2_df_cp.loc[:, 'ALCEVER'] = data2_df_cp.loc[:, 'ALCEVER'].replace([98, 97], np.nan)\n",
    "data2_df_cp.loc[:, 'ALCREC'] = data2_df_cp.loc[:, 'ALCREC'].replace([97, 98], np.nan)\n",
    "data2_df_cp.loc[:, 'ALCYRTOT'] = data2_df_cp.loc[:, 'ALCYRTOT'].replace([994, 997, 998], np.nan)\n",
    "data2_df_cp.loc[:, 'ALCDAYS'] = data2_df_cp.loc[:, 'ALCDAYS'].replace([94, 97, 98], np.nan)\n",
    "data2_df_cp.loc[:, 'ALCUS30D'] = data2_df_cp.loc[:, 'ALCUS30D'].replace([994, 997, 998], np.nan)\n",
    "\n",
    "data2_df_cp.loc[:, 'MOVSINPYR2'] = data2_df_cp.loc[:, 'MOVSINPYR2'].replace([994, 997, 998], np.nan)\n",
    "data2_df_cp.loc[:, 'MOVSINPYR2'] = data2_df_cp.loc[:, 'MOVSINPYR2'].replace([994, 997, 998], np.nan)\n",
    "\n",
    "data2_df_cp.loc[:, 'MJEVER'] = data2_df_cp.loc[:, 'MJEVER'].replace([94, 97], np.nan)\n",
    "data2_df_cp.loc[:, 'COCEVER'] = data2_df_cp.loc[:, 'COCEVER'].replace([94, 97], np.nan)\n",
    "data2_df_cp.loc[:, 'CRKEVER'] = data2_df_cp.loc[:, 'CRKEVER'].replace([94, 97, 98], np.nan)\n",
    "data2_df_cp.loc[:, 'HEREVER'] = data2_df_cp.loc[:, 'HEREVER'].replace([94, 97], np.nan)\n",
    "\n",
    "data2_df_cp.loc[:, ['LSD', 'PCP', 'PEYOTE', 'MESC', 'PSILCY', 'ECSTMOLLY', 'KETMINESK', 'DMTAMTFXY', 'SALVIADIV', 'HALLUCOTH']] = data2_df_cp.loc[:, ['LSD', 'PCP', 'PEYOTE', 'MESC', 'PSILCY', 'ECSTMOLLY', 'KETMINESK', 'DMTAMTFXY', 'SALVIADIV', 'HALLUCOTH']].replace([94, 97], np.nan)\n",
    "\n",
    "data2_df_cp.loc[:, ['AMYLNIT', 'CLEFLU', 'GAS', 'GLUE', 'ETHER', 'SOLVENT', 'LGAS', 'NITOXID', 'AIRDUSTER', 'OTHAEROS', 'INHALOTH']] = data2_df_cp.loc[:, ['AMYLNIT', 'CLEFLU', 'GAS', 'GLUE', 'ETHER', 'SOLVENT', 'LGAS', 'NITOXID', 'AIRDUSTER', 'OTHAEROS', 'INHALOTH']].replace([94, 97], np.nan)\n",
    "\n",
    "data2_df_cp.loc[:, 'METHAMEVR'] = data2_df_cp.loc[:, 'METHAMEVR'].replace([94, 97], np.nan)\n",
    "\n",
    "data2_df_cp.loc[:, ['PNRANYLIF', 'TRQANYLIF', 'STMANYLIF', 'SEDANYLIF']] = data2_df_cp.loc[:, ['PNRANYLIF', 'TRQANYLIF', 'STMANYLIF', 'SEDANYLIF']].replace([94, 97, 98], np.nan)\n",
    "\n",
    "data2_df_cp.loc[:, ['DSTNRV30', 'DSTHOP30', 'DSTRST30', 'DSTCHR30', 'DSTEFF30', 'DSTNGD30']] = data2_df_cp.loc[:, ['DSTNRV30', 'DSTHOP30', 'DSTRST30', 'DSTCHR30', 'DSTEFF30', 'DSTNGD30']].replace([94, 97, 98, 99], np.nan)\n"
   ]
  },
  {
   "cell_type": "code",
   "execution_count": 204,
   "metadata": {},
   "outputs": [
    {
     "output_type": "execute_result",
     "data": {
      "text/plain": [
       "       AGE2  IRMARIT  SERVICE  HEALTH  MOVSINPYR2  SEXATRACT  SEXIDENT  \\\n",
       "1        12        1      2.0     3.0         0.0        1.0       1.0   \n",
       "2         8        4      2.0     3.0         0.0        3.0       3.0   \n",
       "4        15        1      2.0     3.0         0.0        6.0       1.0   \n",
       "5        12        4      2.0     2.0         3.0        1.0       1.0   \n",
       "7        15        4      2.0     3.0         0.0        2.0       1.0   \n",
       "...     ...      ...      ...     ...         ...        ...       ...   \n",
       "56298    15        1      2.0     3.0         0.0        1.0       1.0   \n",
       "56301    16        1      1.0     2.0         0.0        1.0       1.0   \n",
       "56304    14        4      2.0     3.0         0.0        1.0       1.0   \n",
       "56305    15        4      2.0     3.0         0.0        1.0       1.0   \n",
       "56310     8        4      2.0     1.0         1.0        1.0       1.0   \n",
       "\n",
       "       DIFFTHINK  DIFFWALK  DIFFDRESS  ...  PNRANYLIF  TRQANYLIF  STMANYLIF  \\\n",
       "1            2.0       2.0        2.0  ...        5.0        2.0        5.0   \n",
       "2            2.0       2.0        2.0  ...        5.0        2.0        5.0   \n",
       "4            2.0       2.0        2.0  ...        2.0        2.0        2.0   \n",
       "5            2.0       2.0        2.0  ...        5.0        2.0        2.0   \n",
       "7            2.0       2.0        2.0  ...        1.0        2.0        2.0   \n",
       "...          ...       ...        ...  ...        ...        ...        ...   \n",
       "56298        2.0       2.0        2.0  ...        5.0        5.0        2.0   \n",
       "56301        2.0       2.0        2.0  ...        5.0        5.0        2.0   \n",
       "56304        2.0       2.0        2.0  ...        1.0        2.0        1.0   \n",
       "56305        2.0       2.0        2.0  ...        1.0        1.0        2.0   \n",
       "56310        2.0       2.0        2.0  ...        1.0        2.0        2.0   \n",
       "\n",
       "       SEDANYLIF  DSTNRV30  DSTHOP30  DSTRST30  DSTCHR30  DSTEFF30  DSTNGD30  \n",
       "1            2.0       4.0       5.0       5.0       5.0       5.0       5.0  \n",
       "2            2.0       2.0       3.0       3.0       3.0       1.0       4.0  \n",
       "4            2.0       5.0       5.0       5.0       5.0       5.0       5.0  \n",
       "5            2.0       3.0       4.0       4.0       5.0       5.0       5.0  \n",
       "7            2.0       3.0       5.0       5.0       5.0       5.0       5.0  \n",
       "...          ...       ...       ...       ...       ...       ...       ...  \n",
       "56298        2.0       5.0       5.0       5.0       3.0       4.0       5.0  \n",
       "56301        2.0       5.0       5.0       5.0       5.0       4.0       5.0  \n",
       "56304        1.0       3.0       4.0       3.0       4.0       4.0       4.0  \n",
       "56305        2.0       4.0       5.0       5.0       4.0       5.0       4.0  \n",
       "56310        2.0       3.0       5.0       5.0       4.0       4.0       3.0  \n",
       "\n",
       "[24575 rows x 64 columns]"
      ],
      "text/html": "<div>\n<style scoped>\n    .dataframe tbody tr th:only-of-type {\n        vertical-align: middle;\n    }\n\n    .dataframe tbody tr th {\n        vertical-align: top;\n    }\n\n    .dataframe thead th {\n        text-align: right;\n    }\n</style>\n<table border=\"1\" class=\"dataframe\">\n  <thead>\n    <tr style=\"text-align: right;\">\n      <th></th>\n      <th>AGE2</th>\n      <th>IRMARIT</th>\n      <th>SERVICE</th>\n      <th>HEALTH</th>\n      <th>MOVSINPYR2</th>\n      <th>SEXATRACT</th>\n      <th>SEXIDENT</th>\n      <th>DIFFTHINK</th>\n      <th>DIFFWALK</th>\n      <th>DIFFDRESS</th>\n      <th>...</th>\n      <th>PNRANYLIF</th>\n      <th>TRQANYLIF</th>\n      <th>STMANYLIF</th>\n      <th>SEDANYLIF</th>\n      <th>DSTNRV30</th>\n      <th>DSTHOP30</th>\n      <th>DSTRST30</th>\n      <th>DSTCHR30</th>\n      <th>DSTEFF30</th>\n      <th>DSTNGD30</th>\n    </tr>\n  </thead>\n  <tbody>\n    <tr>\n      <th>1</th>\n      <td>12</td>\n      <td>1</td>\n      <td>2.0</td>\n      <td>3.0</td>\n      <td>0.0</td>\n      <td>1.0</td>\n      <td>1.0</td>\n      <td>2.0</td>\n      <td>2.0</td>\n      <td>2.0</td>\n      <td>...</td>\n      <td>5.0</td>\n      <td>2.0</td>\n      <td>5.0</td>\n      <td>2.0</td>\n      <td>4.0</td>\n      <td>5.0</td>\n      <td>5.0</td>\n      <td>5.0</td>\n      <td>5.0</td>\n      <td>5.0</td>\n    </tr>\n    <tr>\n      <th>2</th>\n      <td>8</td>\n      <td>4</td>\n      <td>2.0</td>\n      <td>3.0</td>\n      <td>0.0</td>\n      <td>3.0</td>\n      <td>3.0</td>\n      <td>2.0</td>\n      <td>2.0</td>\n      <td>2.0</td>\n      <td>...</td>\n      <td>5.0</td>\n      <td>2.0</td>\n      <td>5.0</td>\n      <td>2.0</td>\n      <td>2.0</td>\n      <td>3.0</td>\n      <td>3.0</td>\n      <td>3.0</td>\n      <td>1.0</td>\n      <td>4.0</td>\n    </tr>\n    <tr>\n      <th>4</th>\n      <td>15</td>\n      <td>1</td>\n      <td>2.0</td>\n      <td>3.0</td>\n      <td>0.0</td>\n      <td>6.0</td>\n      <td>1.0</td>\n      <td>2.0</td>\n      <td>2.0</td>\n      <td>2.0</td>\n      <td>...</td>\n      <td>2.0</td>\n      <td>2.0</td>\n      <td>2.0</td>\n      <td>2.0</td>\n      <td>5.0</td>\n      <td>5.0</td>\n      <td>5.0</td>\n      <td>5.0</td>\n      <td>5.0</td>\n      <td>5.0</td>\n    </tr>\n    <tr>\n      <th>5</th>\n      <td>12</td>\n      <td>4</td>\n      <td>2.0</td>\n      <td>2.0</td>\n      <td>3.0</td>\n      <td>1.0</td>\n      <td>1.0</td>\n      <td>2.0</td>\n      <td>2.0</td>\n      <td>2.0</td>\n      <td>...</td>\n      <td>5.0</td>\n      <td>2.0</td>\n      <td>2.0</td>\n      <td>2.0</td>\n      <td>3.0</td>\n      <td>4.0</td>\n      <td>4.0</td>\n      <td>5.0</td>\n      <td>5.0</td>\n      <td>5.0</td>\n    </tr>\n    <tr>\n      <th>7</th>\n      <td>15</td>\n      <td>4</td>\n      <td>2.0</td>\n      <td>3.0</td>\n      <td>0.0</td>\n      <td>2.0</td>\n      <td>1.0</td>\n      <td>2.0</td>\n      <td>2.0</td>\n      <td>2.0</td>\n      <td>...</td>\n      <td>1.0</td>\n      <td>2.0</td>\n      <td>2.0</td>\n      <td>2.0</td>\n      <td>3.0</td>\n      <td>5.0</td>\n      <td>5.0</td>\n      <td>5.0</td>\n      <td>5.0</td>\n      <td>5.0</td>\n    </tr>\n    <tr>\n      <th>...</th>\n      <td>...</td>\n      <td>...</td>\n      <td>...</td>\n      <td>...</td>\n      <td>...</td>\n      <td>...</td>\n      <td>...</td>\n      <td>...</td>\n      <td>...</td>\n      <td>...</td>\n      <td>...</td>\n      <td>...</td>\n      <td>...</td>\n      <td>...</td>\n      <td>...</td>\n      <td>...</td>\n      <td>...</td>\n      <td>...</td>\n      <td>...</td>\n      <td>...</td>\n      <td>...</td>\n    </tr>\n    <tr>\n      <th>56298</th>\n      <td>15</td>\n      <td>1</td>\n      <td>2.0</td>\n      <td>3.0</td>\n      <td>0.0</td>\n      <td>1.0</td>\n      <td>1.0</td>\n      <td>2.0</td>\n      <td>2.0</td>\n      <td>2.0</td>\n      <td>...</td>\n      <td>5.0</td>\n      <td>5.0</td>\n      <td>2.0</td>\n      <td>2.0</td>\n      <td>5.0</td>\n      <td>5.0</td>\n      <td>5.0</td>\n      <td>3.0</td>\n      <td>4.0</td>\n      <td>5.0</td>\n    </tr>\n    <tr>\n      <th>56301</th>\n      <td>16</td>\n      <td>1</td>\n      <td>1.0</td>\n      <td>2.0</td>\n      <td>0.0</td>\n      <td>1.0</td>\n      <td>1.0</td>\n      <td>2.0</td>\n      <td>2.0</td>\n      <td>2.0</td>\n      <td>...</td>\n      <td>5.0</td>\n      <td>5.0</td>\n      <td>2.0</td>\n      <td>2.0</td>\n      <td>5.0</td>\n      <td>5.0</td>\n      <td>5.0</td>\n      <td>5.0</td>\n      <td>4.0</td>\n      <td>5.0</td>\n    </tr>\n    <tr>\n      <th>56304</th>\n      <td>14</td>\n      <td>4</td>\n      <td>2.0</td>\n      <td>3.0</td>\n      <td>0.0</td>\n      <td>1.0</td>\n      <td>1.0</td>\n      <td>2.0</td>\n      <td>2.0</td>\n      <td>2.0</td>\n      <td>...</td>\n      <td>1.0</td>\n      <td>2.0</td>\n      <td>1.0</td>\n      <td>1.0</td>\n      <td>3.0</td>\n      <td>4.0</td>\n      <td>3.0</td>\n      <td>4.0</td>\n      <td>4.0</td>\n      <td>4.0</td>\n    </tr>\n    <tr>\n      <th>56305</th>\n      <td>15</td>\n      <td>4</td>\n      <td>2.0</td>\n      <td>3.0</td>\n      <td>0.0</td>\n      <td>1.0</td>\n      <td>1.0</td>\n      <td>2.0</td>\n      <td>2.0</td>\n      <td>2.0</td>\n      <td>...</td>\n      <td>1.0</td>\n      <td>1.0</td>\n      <td>2.0</td>\n      <td>2.0</td>\n      <td>4.0</td>\n      <td>5.0</td>\n      <td>5.0</td>\n      <td>4.0</td>\n      <td>5.0</td>\n      <td>4.0</td>\n    </tr>\n    <tr>\n      <th>56310</th>\n      <td>8</td>\n      <td>4</td>\n      <td>2.0</td>\n      <td>1.0</td>\n      <td>1.0</td>\n      <td>1.0</td>\n      <td>1.0</td>\n      <td>2.0</td>\n      <td>2.0</td>\n      <td>2.0</td>\n      <td>...</td>\n      <td>1.0</td>\n      <td>2.0</td>\n      <td>2.0</td>\n      <td>2.0</td>\n      <td>3.0</td>\n      <td>5.0</td>\n      <td>5.0</td>\n      <td>4.0</td>\n      <td>4.0</td>\n      <td>3.0</td>\n    </tr>\n  </tbody>\n</table>\n<p>24575 rows × 64 columns</p>\n</div>"
     },
     "metadata": {},
     "execution_count": 204
    }
   ],
   "source": [
    "data2_df_cp = data2_df_cp.dropna()\n",
    "data2_df_cp"
   ]
  },
  {
   "cell_type": "code",
   "execution_count": 205,
   "metadata": {},
   "outputs": [
    {
     "output_type": "stream",
     "name": "stdout",
     "text": [
      "<class 'pandas.core.frame.DataFrame'>\nInt64Index: 24575 entries, 1 to 56310\nData columns (total 64 columns):\n #   Column        Non-Null Count  Dtype  \n---  ------        --------------  -----  \n 0   AGE2          24575 non-null  int64  \n 1   IRMARIT       24575 non-null  int64  \n 2   SERVICE       24575 non-null  float64\n 3   HEALTH        24575 non-null  float64\n 4   MOVSINPYR2    24575 non-null  float64\n 5   SEXATRACT     24575 non-null  float64\n 6   SEXIDENT      24575 non-null  float64\n 7   DIFFTHINK     24575 non-null  float64\n 8   DIFFWALK      24575 non-null  float64\n 9   DIFFDRESS     24575 non-null  float64\n 10  DIFFERAND     24575 non-null  float64\n 11  IREDUHIGHST2  24575 non-null  int64  \n 12  WRKSTATWK2    24575 non-null  float64\n 13  IRWRKSTAT     24575 non-null  int64  \n 14  WRKNUMJOB2    24575 non-null  float64\n 15  IRPINC3       24575 non-null  int64  \n 16  CIGEVER       24575 non-null  int64  \n 17  CIGTRY        24575 non-null  float64\n 18  CIGDLYMO      24575 non-null  float64\n 19  CIG100LF      24575 non-null  float64\n 20  CG30EST       24575 non-null  float64\n 21  ALCEVER       24575 non-null  float64\n 22  ALCREC        24575 non-null  float64\n 23  ALCYRTOT      24575 non-null  float64\n 24  ALCDAYS       24575 non-null  float64\n 25  ALCUS30D      24575 non-null  float64\n 26  MJEVER        24575 non-null  float64\n 27  COCEVER       24575 non-null  float64\n 28  CRKEVER       24575 non-null  float64\n 29  HEREVER       24575 non-null  float64\n 30  LSD           24575 non-null  float64\n 31  PCP           24575 non-null  float64\n 32  PEYOTE        24575 non-null  float64\n 33  MESC          24575 non-null  float64\n 34  PSILCY        24575 non-null  float64\n 35  ECSTMOLLY     24575 non-null  float64\n 36  KETMINESK     24575 non-null  float64\n 37  DMTAMTFXY     24575 non-null  float64\n 38  SALVIADIV     24575 non-null  float64\n 39  HALLUCOTH     24575 non-null  float64\n 40  AMYLNIT       24575 non-null  float64\n 41  CLEFLU        24575 non-null  float64\n 42  GAS           24575 non-null  float64\n 43  GLUE          24575 non-null  float64\n 44  ETHER         24575 non-null  float64\n 45  SOLVENT       24575 non-null  float64\n 46  LGAS          24575 non-null  float64\n 47  NITOXID       24575 non-null  float64\n 48  FELTMARKR     24575 non-null  float64\n 49  SPPAINT       24575 non-null  float64\n 50  AIRDUSTER     24575 non-null  float64\n 51  OTHAEROS      24575 non-null  float64\n 52  INHALOTH      24575 non-null  float64\n 53  METHAMEVR     24575 non-null  float64\n 54  PNRANYLIF     24575 non-null  float64\n 55  TRQANYLIF     24575 non-null  float64\n 56  STMANYLIF     24575 non-null  float64\n 57  SEDANYLIF     24575 non-null  float64\n 58  DSTNRV30      24575 non-null  float64\n 59  DSTHOP30      24575 non-null  float64\n 60  DSTRST30      24575 non-null  float64\n 61  DSTCHR30      24575 non-null  float64\n 62  DSTEFF30      24575 non-null  float64\n 63  DSTNGD30      24575 non-null  float64\ndtypes: float64(58), int64(6)\nmemory usage: 12.2 MB\n"
     ]
    }
   ],
   "source": [
    "data2_df_cp.info()"
   ]
  },
  {
   "cell_type": "code",
   "execution_count": 206,
   "metadata": {},
   "outputs": [
    {
     "output_type": "execute_result",
     "data": {
      "text/plain": [
       "       AGE2  IRMARIT  SERVICE  HEALTH  MOVSINPYR2  SEXATRACT  SEXIDENT  \\\n",
       "1        12        1      2.0     3.0         0.0        1.0       1.0   \n",
       "2         8        4      2.0     3.0         0.0        3.0       3.0   \n",
       "4        15        1      2.0     3.0         0.0        6.0       1.0   \n",
       "5        12        4      2.0     2.0         3.0        1.0       1.0   \n",
       "7        15        4      2.0     3.0         0.0        2.0       1.0   \n",
       "...     ...      ...      ...     ...         ...        ...       ...   \n",
       "56298    15        1      2.0     3.0         0.0        1.0       1.0   \n",
       "56301    16        1      1.0     2.0         0.0        1.0       1.0   \n",
       "56304    14        4      2.0     3.0         0.0        1.0       1.0   \n",
       "56305    15        4      2.0     3.0         0.0        1.0       1.0   \n",
       "56310     8        4      2.0     1.0         1.0        1.0       1.0   \n",
       "\n",
       "       DIFFTHINK  DIFFWALK  DIFFDRESS  ...  PNRANYLIF  TRQANYLIF  STMANYLIF  \\\n",
       "1            2.0       2.0        2.0  ...        1.0        2.0        1.0   \n",
       "2            2.0       2.0        2.0  ...        1.0        2.0        1.0   \n",
       "4            2.0       2.0        2.0  ...        2.0        2.0        2.0   \n",
       "5            2.0       2.0        2.0  ...        1.0        2.0        2.0   \n",
       "7            2.0       2.0        2.0  ...        1.0        2.0        2.0   \n",
       "...          ...       ...        ...  ...        ...        ...        ...   \n",
       "56298        2.0       2.0        2.0  ...        1.0        1.0        2.0   \n",
       "56301        2.0       2.0        2.0  ...        1.0        1.0        2.0   \n",
       "56304        2.0       2.0        2.0  ...        1.0        2.0        1.0   \n",
       "56305        2.0       2.0        2.0  ...        1.0        1.0        2.0   \n",
       "56310        2.0       2.0        2.0  ...        1.0        2.0        2.0   \n",
       "\n",
       "       SEDANYLIF  DSTNRV30  DSTHOP30  DSTRST30  DSTCHR30  DSTEFF30  DSTNGD30  \n",
       "1            2.0       4.0       5.0       5.0       5.0       5.0       5.0  \n",
       "2            2.0       2.0       3.0       3.0       3.0       1.0       4.0  \n",
       "4            2.0       5.0       5.0       5.0       5.0       5.0       5.0  \n",
       "5            2.0       3.0       4.0       4.0       5.0       5.0       5.0  \n",
       "7            2.0       3.0       5.0       5.0       5.0       5.0       5.0  \n",
       "...          ...       ...       ...       ...       ...       ...       ...  \n",
       "56298        2.0       5.0       5.0       5.0       3.0       4.0       5.0  \n",
       "56301        2.0       5.0       5.0       5.0       5.0       4.0       5.0  \n",
       "56304        1.0       3.0       4.0       3.0       4.0       4.0       4.0  \n",
       "56305        2.0       4.0       5.0       5.0       4.0       5.0       4.0  \n",
       "56310        2.0       3.0       5.0       5.0       4.0       4.0       3.0  \n",
       "\n",
       "[24575 rows x 64 columns]"
      ],
      "text/html": "<div>\n<style scoped>\n    .dataframe tbody tr th:only-of-type {\n        vertical-align: middle;\n    }\n\n    .dataframe tbody tr th {\n        vertical-align: top;\n    }\n\n    .dataframe thead th {\n        text-align: right;\n    }\n</style>\n<table border=\"1\" class=\"dataframe\">\n  <thead>\n    <tr style=\"text-align: right;\">\n      <th></th>\n      <th>AGE2</th>\n      <th>IRMARIT</th>\n      <th>SERVICE</th>\n      <th>HEALTH</th>\n      <th>MOVSINPYR2</th>\n      <th>SEXATRACT</th>\n      <th>SEXIDENT</th>\n      <th>DIFFTHINK</th>\n      <th>DIFFWALK</th>\n      <th>DIFFDRESS</th>\n      <th>...</th>\n      <th>PNRANYLIF</th>\n      <th>TRQANYLIF</th>\n      <th>STMANYLIF</th>\n      <th>SEDANYLIF</th>\n      <th>DSTNRV30</th>\n      <th>DSTHOP30</th>\n      <th>DSTRST30</th>\n      <th>DSTCHR30</th>\n      <th>DSTEFF30</th>\n      <th>DSTNGD30</th>\n    </tr>\n  </thead>\n  <tbody>\n    <tr>\n      <th>1</th>\n      <td>12</td>\n      <td>1</td>\n      <td>2.0</td>\n      <td>3.0</td>\n      <td>0.0</td>\n      <td>1.0</td>\n      <td>1.0</td>\n      <td>2.0</td>\n      <td>2.0</td>\n      <td>2.0</td>\n      <td>...</td>\n      <td>1.0</td>\n      <td>2.0</td>\n      <td>1.0</td>\n      <td>2.0</td>\n      <td>4.0</td>\n      <td>5.0</td>\n      <td>5.0</td>\n      <td>5.0</td>\n      <td>5.0</td>\n      <td>5.0</td>\n    </tr>\n    <tr>\n      <th>2</th>\n      <td>8</td>\n      <td>4</td>\n      <td>2.0</td>\n      <td>3.0</td>\n      <td>0.0</td>\n      <td>3.0</td>\n      <td>3.0</td>\n      <td>2.0</td>\n      <td>2.0</td>\n      <td>2.0</td>\n      <td>...</td>\n      <td>1.0</td>\n      <td>2.0</td>\n      <td>1.0</td>\n      <td>2.0</td>\n      <td>2.0</td>\n      <td>3.0</td>\n      <td>3.0</td>\n      <td>3.0</td>\n      <td>1.0</td>\n      <td>4.0</td>\n    </tr>\n    <tr>\n      <th>4</th>\n      <td>15</td>\n      <td>1</td>\n      <td>2.0</td>\n      <td>3.0</td>\n      <td>0.0</td>\n      <td>6.0</td>\n      <td>1.0</td>\n      <td>2.0</td>\n      <td>2.0</td>\n      <td>2.0</td>\n      <td>...</td>\n      <td>2.0</td>\n      <td>2.0</td>\n      <td>2.0</td>\n      <td>2.0</td>\n      <td>5.0</td>\n      <td>5.0</td>\n      <td>5.0</td>\n      <td>5.0</td>\n      <td>5.0</td>\n      <td>5.0</td>\n    </tr>\n    <tr>\n      <th>5</th>\n      <td>12</td>\n      <td>4</td>\n      <td>2.0</td>\n      <td>2.0</td>\n      <td>3.0</td>\n      <td>1.0</td>\n      <td>1.0</td>\n      <td>2.0</td>\n      <td>2.0</td>\n      <td>2.0</td>\n      <td>...</td>\n      <td>1.0</td>\n      <td>2.0</td>\n      <td>2.0</td>\n      <td>2.0</td>\n      <td>3.0</td>\n      <td>4.0</td>\n      <td>4.0</td>\n      <td>5.0</td>\n      <td>5.0</td>\n      <td>5.0</td>\n    </tr>\n    <tr>\n      <th>7</th>\n      <td>15</td>\n      <td>4</td>\n      <td>2.0</td>\n      <td>3.0</td>\n      <td>0.0</td>\n      <td>2.0</td>\n      <td>1.0</td>\n      <td>2.0</td>\n      <td>2.0</td>\n      <td>2.0</td>\n      <td>...</td>\n      <td>1.0</td>\n      <td>2.0</td>\n      <td>2.0</td>\n      <td>2.0</td>\n      <td>3.0</td>\n      <td>5.0</td>\n      <td>5.0</td>\n      <td>5.0</td>\n      <td>5.0</td>\n      <td>5.0</td>\n    </tr>\n    <tr>\n      <th>...</th>\n      <td>...</td>\n      <td>...</td>\n      <td>...</td>\n      <td>...</td>\n      <td>...</td>\n      <td>...</td>\n      <td>...</td>\n      <td>...</td>\n      <td>...</td>\n      <td>...</td>\n      <td>...</td>\n      <td>...</td>\n      <td>...</td>\n      <td>...</td>\n      <td>...</td>\n      <td>...</td>\n      <td>...</td>\n      <td>...</td>\n      <td>...</td>\n      <td>...</td>\n      <td>...</td>\n    </tr>\n    <tr>\n      <th>56298</th>\n      <td>15</td>\n      <td>1</td>\n      <td>2.0</td>\n      <td>3.0</td>\n      <td>0.0</td>\n      <td>1.0</td>\n      <td>1.0</td>\n      <td>2.0</td>\n      <td>2.0</td>\n      <td>2.0</td>\n      <td>...</td>\n      <td>1.0</td>\n      <td>1.0</td>\n      <td>2.0</td>\n      <td>2.0</td>\n      <td>5.0</td>\n      <td>5.0</td>\n      <td>5.0</td>\n      <td>3.0</td>\n      <td>4.0</td>\n      <td>5.0</td>\n    </tr>\n    <tr>\n      <th>56301</th>\n      <td>16</td>\n      <td>1</td>\n      <td>1.0</td>\n      <td>2.0</td>\n      <td>0.0</td>\n      <td>1.0</td>\n      <td>1.0</td>\n      <td>2.0</td>\n      <td>2.0</td>\n      <td>2.0</td>\n      <td>...</td>\n      <td>1.0</td>\n      <td>1.0</td>\n      <td>2.0</td>\n      <td>2.0</td>\n      <td>5.0</td>\n      <td>5.0</td>\n      <td>5.0</td>\n      <td>5.0</td>\n      <td>4.0</td>\n      <td>5.0</td>\n    </tr>\n    <tr>\n      <th>56304</th>\n      <td>14</td>\n      <td>4</td>\n      <td>2.0</td>\n      <td>3.0</td>\n      <td>0.0</td>\n      <td>1.0</td>\n      <td>1.0</td>\n      <td>2.0</td>\n      <td>2.0</td>\n      <td>2.0</td>\n      <td>...</td>\n      <td>1.0</td>\n      <td>2.0</td>\n      <td>1.0</td>\n      <td>1.0</td>\n      <td>3.0</td>\n      <td>4.0</td>\n      <td>3.0</td>\n      <td>4.0</td>\n      <td>4.0</td>\n      <td>4.0</td>\n    </tr>\n    <tr>\n      <th>56305</th>\n      <td>15</td>\n      <td>4</td>\n      <td>2.0</td>\n      <td>3.0</td>\n      <td>0.0</td>\n      <td>1.0</td>\n      <td>1.0</td>\n      <td>2.0</td>\n      <td>2.0</td>\n      <td>2.0</td>\n      <td>...</td>\n      <td>1.0</td>\n      <td>1.0</td>\n      <td>2.0</td>\n      <td>2.0</td>\n      <td>4.0</td>\n      <td>5.0</td>\n      <td>5.0</td>\n      <td>4.0</td>\n      <td>5.0</td>\n      <td>4.0</td>\n    </tr>\n    <tr>\n      <th>56310</th>\n      <td>8</td>\n      <td>4</td>\n      <td>2.0</td>\n      <td>1.0</td>\n      <td>1.0</td>\n      <td>1.0</td>\n      <td>1.0</td>\n      <td>2.0</td>\n      <td>2.0</td>\n      <td>2.0</td>\n      <td>...</td>\n      <td>1.0</td>\n      <td>2.0</td>\n      <td>2.0</td>\n      <td>2.0</td>\n      <td>3.0</td>\n      <td>5.0</td>\n      <td>5.0</td>\n      <td>4.0</td>\n      <td>4.0</td>\n      <td>3.0</td>\n    </tr>\n  </tbody>\n</table>\n<p>24575 rows × 64 columns</p>\n</div>"
     },
     "metadata": {},
     "execution_count": 206
    }
   ],
   "source": [
    "# Some responses have different numbers but will mean the same in the m achine learning stage so I'm replacing them to be the same number\n",
    "data2_df_cp.loc[:, 'SEXATRACT'] = data2_df_cp.loc[:, 'SEXATRACT'].replace(94, 6)\n",
    "data2_df_cp.loc[:, 'SEXATRACT'] = data2_df_cp.loc[:, 'SEXATRACT'].replace([97, 99], 98)\n",
    "data2_df_cp.loc[:, 'SEXIDENT'] = data2_df_cp.loc[:, 'SEXIDENT'].replace([97, 99], 98)\n",
    "data2_df_cp.loc[:, ['CIGDLYMO', 'CIG100LF','PNRANYLIF', 'TRQANYLIF', 'STMANYLIF', 'SEDANYLIF']] = data2_df_cp.loc[:, ['CIGDLYMO', 'CIG100LF', 'PNRANYLIF', 'TRQANYLIF', 'STMANYLIF', 'SEDANYLIF']].replace(5, 1)\n",
    "data2_df_cp.loc[:, 'ALCREC'] = data2_df_cp.loc[:, 'ALCREC'].replace(11, 1)\n",
    "data2_df_cp.loc[:, 'ALCREC'] = data2_df_cp.loc[:, 'ALCREC'].replace(8, 2)\n",
    "data2_df_cp.loc[:, 'ALCUS30D'] = data2_df_cp.loc[:, 'ALCUS30D'].replace(975, 4)\n",
    "\n",
    "data2_df_cp.loc[:, ['CRKEVER', 'LSD', 'PCP', 'PEYOTE', 'MESC', 'PSILCY', 'ECSTMOLLY', 'KETMINESK', 'DMTAMTFXY', 'SALVIADIV', 'HALLUCOTH']] = data2_df_cp.loc[:, ['CRKEVER', 'LSD', 'PCP', 'PEYOTE', 'MESC', 'PSILCY', 'ECSTMOLLY', 'KETMINESK', 'DMTAMTFXY', 'SALVIADIV', 'HALLUCOTH']].replace(91, 2)\n",
    "\n",
    "data2_df_cp.loc[:, ['CIG100LF', 'LSD', 'PCP', 'PEYOTE', 'MESC', 'PSILCY', 'ECSTMOLLY', 'KETMINESK', 'DMTAMTFXY', 'SALVIADIV', 'HALLUCOTH']] = data2_df_cp.loc[:, ['CIG100LF', 'LSD', 'PCP', 'PEYOTE', 'MESC', 'PSILCY', 'ECSTMOLLY', 'KETMINESK', 'DMTAMTFXY', 'SALVIADIV', 'HALLUCOTH']].replace(3, 1)\n",
    "\n",
    "data2_df_cp.loc[:, ['AMYLNIT', 'CLEFLU', 'GAS', 'GLUE', 'ETHER', 'SOLVENT', 'LGAS', 'NITOXID', 'FELTMARKR', 'SPPAINT', 'AIRDUSTER', 'OTHAEROS', 'INHALOTH']] = data2_df_cp.loc[:, ['AMYLNIT', 'CLEFLU', 'GAS', 'GLUE', 'ETHER', 'SOLVENT', 'LGAS', 'NITOXID', 'FELTMARKR', 'SPPAINT', 'AIRDUSTER', 'OTHAEROS', 'INHALOTH']].replace(91, 2)\n",
    "\n",
    "data2_df_cp.loc[:, ['AMYLNIT', 'CLEFLU', 'GAS', 'GLUE', 'ETHER', 'SOLVENT', 'LGAS', 'NITOXID', 'FELTMARKR', 'SPPAINT', 'AIRDUSTER', 'OTHAEROS', 'INHALOTH']] = data2_df_cp.loc[:, ['AMYLNIT', 'CLEFLU', 'GAS', 'GLUE', 'ETHER', 'SOLVENT', 'LGAS', 'NITOXID', 'FELTMARKR', 'SPPAINT', 'AIRDUSTER', 'OTHAEROS', 'INHALOTH']].replace(3, 1)\n",
    "\n",
    "data2_df_cp"
   ]
  },
  {
   "cell_type": "code",
   "execution_count": 207,
   "metadata": {},
   "outputs": [],
   "source": [
    "# exporting the data to csv file\n",
    "data2_df_cp.to_csv(\"project3_raw_2018.csv\", index=False)"
   ]
  },
  {
   "source": [
    "# 2017"
   ],
   "cell_type": "markdown",
   "metadata": {}
  },
  {
   "cell_type": "code",
   "execution_count": 208,
   "metadata": {},
   "outputs": [
    {
     "output_type": "execute_result",
     "data": {
      "text/plain": [
       "   QUESTID2 FILEDATE  CIGEVER  CIGOFRSM  CIGWILYR  CIGTRY  CIGYFU  CIGMFU  \\\n",
       "0  55235143  10/9/18        1        99        99      13    9999      99   \n",
       "1  13435143  10/9/18        1        99        99      15    9999      99   \n",
       "2  81345143  10/9/18        1        99        99      14    9999      99   \n",
       "3  53955143  10/9/18        1        99        99      16    9999      99   \n",
       "4  51775143  10/9/18        2        99        99     991    9991      91   \n",
       "\n",
       "   CIGREC  CIG30USE  ...  POVERTY3  TOOLONG  TROUBUND  PDEN10  COUTYP4  \\\n",
       "0       4        93  ...       3.0        2         2       1        1   \n",
       "1       1        18  ...       3.0        1         2       1        1   \n",
       "2       1        10  ...       3.0        2         2       1        1   \n",
       "3       4        93  ...       3.0        2         2       2        2   \n",
       "4      91        91  ...       3.0        1         1       1        1   \n",
       "\n",
       "   MAIIN102  AIIND102      ANALWT_C  VESTR  VEREP  \n",
       "0         2         2  11203.888950  40043      1  \n",
       "1         2         2   9496.462244  40006      2  \n",
       "2         2         2   2943.702802  40030      2  \n",
       "3         2         2   1783.702549  40026      2  \n",
       "4         2         2  31528.749360  40029      1  \n",
       "\n",
       "[5 rows x 2668 columns]"
      ],
      "text/html": "<div>\n<style scoped>\n    .dataframe tbody tr th:only-of-type {\n        vertical-align: middle;\n    }\n\n    .dataframe tbody tr th {\n        vertical-align: top;\n    }\n\n    .dataframe thead th {\n        text-align: right;\n    }\n</style>\n<table border=\"1\" class=\"dataframe\">\n  <thead>\n    <tr style=\"text-align: right;\">\n      <th></th>\n      <th>QUESTID2</th>\n      <th>FILEDATE</th>\n      <th>CIGEVER</th>\n      <th>CIGOFRSM</th>\n      <th>CIGWILYR</th>\n      <th>CIGTRY</th>\n      <th>CIGYFU</th>\n      <th>CIGMFU</th>\n      <th>CIGREC</th>\n      <th>CIG30USE</th>\n      <th>...</th>\n      <th>POVERTY3</th>\n      <th>TOOLONG</th>\n      <th>TROUBUND</th>\n      <th>PDEN10</th>\n      <th>COUTYP4</th>\n      <th>MAIIN102</th>\n      <th>AIIND102</th>\n      <th>ANALWT_C</th>\n      <th>VESTR</th>\n      <th>VEREP</th>\n    </tr>\n  </thead>\n  <tbody>\n    <tr>\n      <th>0</th>\n      <td>55235143</td>\n      <td>10/9/18</td>\n      <td>1</td>\n      <td>99</td>\n      <td>99</td>\n      <td>13</td>\n      <td>9999</td>\n      <td>99</td>\n      <td>4</td>\n      <td>93</td>\n      <td>...</td>\n      <td>3.0</td>\n      <td>2</td>\n      <td>2</td>\n      <td>1</td>\n      <td>1</td>\n      <td>2</td>\n      <td>2</td>\n      <td>11203.888950</td>\n      <td>40043</td>\n      <td>1</td>\n    </tr>\n    <tr>\n      <th>1</th>\n      <td>13435143</td>\n      <td>10/9/18</td>\n      <td>1</td>\n      <td>99</td>\n      <td>99</td>\n      <td>15</td>\n      <td>9999</td>\n      <td>99</td>\n      <td>1</td>\n      <td>18</td>\n      <td>...</td>\n      <td>3.0</td>\n      <td>1</td>\n      <td>2</td>\n      <td>1</td>\n      <td>1</td>\n      <td>2</td>\n      <td>2</td>\n      <td>9496.462244</td>\n      <td>40006</td>\n      <td>2</td>\n    </tr>\n    <tr>\n      <th>2</th>\n      <td>81345143</td>\n      <td>10/9/18</td>\n      <td>1</td>\n      <td>99</td>\n      <td>99</td>\n      <td>14</td>\n      <td>9999</td>\n      <td>99</td>\n      <td>1</td>\n      <td>10</td>\n      <td>...</td>\n      <td>3.0</td>\n      <td>2</td>\n      <td>2</td>\n      <td>1</td>\n      <td>1</td>\n      <td>2</td>\n      <td>2</td>\n      <td>2943.702802</td>\n      <td>40030</td>\n      <td>2</td>\n    </tr>\n    <tr>\n      <th>3</th>\n      <td>53955143</td>\n      <td>10/9/18</td>\n      <td>1</td>\n      <td>99</td>\n      <td>99</td>\n      <td>16</td>\n      <td>9999</td>\n      <td>99</td>\n      <td>4</td>\n      <td>93</td>\n      <td>...</td>\n      <td>3.0</td>\n      <td>2</td>\n      <td>2</td>\n      <td>2</td>\n      <td>2</td>\n      <td>2</td>\n      <td>2</td>\n      <td>1783.702549</td>\n      <td>40026</td>\n      <td>2</td>\n    </tr>\n    <tr>\n      <th>4</th>\n      <td>51775143</td>\n      <td>10/9/18</td>\n      <td>2</td>\n      <td>99</td>\n      <td>99</td>\n      <td>991</td>\n      <td>9991</td>\n      <td>91</td>\n      <td>91</td>\n      <td>91</td>\n      <td>...</td>\n      <td>3.0</td>\n      <td>1</td>\n      <td>1</td>\n      <td>1</td>\n      <td>1</td>\n      <td>2</td>\n      <td>2</td>\n      <td>31528.749360</td>\n      <td>40029</td>\n      <td>1</td>\n    </tr>\n  </tbody>\n</table>\n<p>5 rows × 2668 columns</p>\n</div>"
     },
     "metadata": {},
     "execution_count": 208
    }
   ],
   "source": [
    "# Reading in the data\n",
    "data3_df = pd.read_csv('NSDUH_2017_Tab.csv')\n",
    "data3_df.head()"
   ]
  },
  {
   "cell_type": "code",
   "execution_count": 209,
   "metadata": {},
   "outputs": [
    {
     "output_type": "stream",
     "name": "stdout",
     "text": [
      "<class 'pandas.core.frame.DataFrame'>\nRangeIndex: 56276 entries, 0 to 56275\nColumns: 2668 entries, QUESTID2 to VEREP\ndtypes: float64(404), int64(2262), object(2)\nmemory usage: 1.1+ GB\n"
     ]
    }
   ],
   "source": [
    "data3_df.info()"
   ]
  },
  {
   "cell_type": "code",
   "execution_count": 210,
   "metadata": {},
   "outputs": [
    {
     "output_type": "stream",
     "name": "stdout",
     "text": [
      "<class 'pandas.core.frame.DataFrame'>\nRangeIndex: 56276 entries, 0 to 56275\nData columns (total 64 columns):\n #   Column        Non-Null Count  Dtype\n---  ------        --------------  -----\n 0   AGE2          56276 non-null  int64\n 1   IRMARIT       56276 non-null  int64\n 2   SERVICE       56276 non-null  int64\n 3   HEALTH        56276 non-null  int64\n 4   MOVSINPYR2    56276 non-null  int64\n 5   SEXATRACT     56276 non-null  int64\n 6   SEXIDENT      56276 non-null  int64\n 7   DIFFTHINK     56276 non-null  int64\n 8   DIFFWALK      56276 non-null  int64\n 9   DIFFDRESS     56276 non-null  int64\n 10  DIFFERAND     56276 non-null  int64\n 11  IREDUHIGHST2  56276 non-null  int64\n 12  WRKSTATWK2    56276 non-null  int64\n 13  IRWRKSTAT     56276 non-null  int64\n 14  WRKNUMJOB2    56276 non-null  int64\n 15  IRPINC3       56276 non-null  int64\n 16  CIGEVER       56276 non-null  int64\n 17  CIGTRY        56276 non-null  int64\n 18  CIGDLYMO      56276 non-null  int64\n 19  CIG100LF      56276 non-null  int64\n 20  CG30EST       56276 non-null  int64\n 21  ALCEVER       56276 non-null  int64\n 22  ALCREC        56276 non-null  int64\n 23  ALCYRTOT      56276 non-null  int64\n 24  ALCDAYS       56276 non-null  int64\n 25  ALCUS30D      56276 non-null  int64\n 26  MJEVER        56276 non-null  int64\n 27  COCEVER       56276 non-null  int64\n 28  CRKEVER       56276 non-null  int64\n 29  HEREVER       56276 non-null  int64\n 30  LSD           56276 non-null  int64\n 31  PCP           56276 non-null  int64\n 32  PEYOTE        56276 non-null  int64\n 33  MESC          56276 non-null  int64\n 34  PSILCY        56276 non-null  int64\n 35  ECSTMOLLY     56276 non-null  int64\n 36  KETMINESK     56276 non-null  int64\n 37  DMTAMTFXY     56276 non-null  int64\n 38  SALVIADIV     56276 non-null  int64\n 39  HALLUCOTH     56276 non-null  int64\n 40  AMYLNIT       56276 non-null  int64\n 41  CLEFLU        56276 non-null  int64\n 42  GAS           56276 non-null  int64\n 43  GLUE          56276 non-null  int64\n 44  ETHER         56276 non-null  int64\n 45  SOLVENT       56276 non-null  int64\n 46  LGAS          56276 non-null  int64\n 47  NITOXID       56276 non-null  int64\n 48  FELTMARKR     56276 non-null  int64\n 49  SPPAINT       56276 non-null  int64\n 50  AIRDUSTER     56276 non-null  int64\n 51  OTHAEROS      56276 non-null  int64\n 52  INHALOTH      56276 non-null  int64\n 53  METHAMEVR     56276 non-null  int64\n 54  PNRANYLIF     56276 non-null  int64\n 55  TRQANYLIF     56276 non-null  int64\n 56  STMANYLIF     56276 non-null  int64\n 57  SEDANYLIF     56276 non-null  int64\n 58  DSTNRV30      56276 non-null  int64\n 59  DSTHOP30      56276 non-null  int64\n 60  DSTRST30      56276 non-null  int64\n 61  DSTCHR30      56276 non-null  int64\n 62  DSTEFF30      56276 non-null  int64\n 63  DSTNGD30      56276 non-null  int64\ndtypes: int64(64)\nmemory usage: 27.5 MB\n"
     ]
    }
   ],
   "source": [
    "# Extracting the colums required for the project\n",
    "data3_df = data3_df[['AGE2', 'IRMARIT', 'SERVICE', 'HEALTH', 'MOVSINPYR2', 'SEXATRACT', 'SEXIDENT', 'DIFFTHINK', 'DIFFWALK','DIFFDRESS', 'DIFFERAND', 'IREDUHIGHST2', 'WRKSTATWK2', 'IRWRKSTAT', 'WRKNUMJOB2', 'IRPINC3', 'CIGEVER', 'CIGTRY', 'CIGDLYMO', 'CIG100LF', 'CG30EST', 'ALCEVER', 'ALCREC', 'ALCYRTOT', 'ALCDAYS', 'ALCUS30D', 'MJEVER', 'COCEVER', 'CRKEVER', 'HEREVER', 'LSD', 'PCP', 'PEYOTE', 'MESC', 'PSILCY', 'ECSTMOLLY', 'KETMINESK', 'DMTAMTFXY', 'SALVIADIV', 'HALLUCOTH', 'AMYLNIT', 'CLEFLU', 'GAS', 'GLUE', 'ETHER', 'SOLVENT', 'LGAS', 'NITOXID', 'FELTMARKR', 'SPPAINT', 'AIRDUSTER', 'OTHAEROS', 'INHALOTH', 'METHAMEVR', 'PNRANYLIF', 'TRQANYLIF', 'STMANYLIF', 'SEDANYLIF', 'DSTNRV30', 'DSTHOP30', 'DSTRST30', 'DSTCHR30', 'DSTEFF30', 'DSTNGD30']]\n",
    "data3_df.info()"
   ]
  },
  {
   "cell_type": "code",
   "execution_count": 211,
   "metadata": {},
   "outputs": [
    {
     "output_type": "execute_result",
     "data": {
      "text/plain": [
       "       AGE2  IRMARIT  SERVICE  HEALTH  MOVSINPYR2  SEXATRACT  SEXIDENT  \\\n",
       "0        17        1        2       1           0          1         1   \n",
       "1        15        4        2       1           0          1         1   \n",
       "2        15        1        2       3           0          1         1   \n",
       "3        15        1        2       2           0          1         1   \n",
       "4        17        2        2       2           0          1         1   \n",
       "...     ...      ...      ...     ...         ...        ...       ...   \n",
       "56270     7        4        2       1           2          2         1   \n",
       "56271    16        4        2       1           0          1         1   \n",
       "56272    13        3        2       1           2          1         1   \n",
       "56274    15        1        2       1           0          1         1   \n",
       "56275    17        2        2       1           0          1         1   \n",
       "\n",
       "       DIFFTHINK  DIFFWALK  DIFFDRESS  ...  PNRANYLIF  TRQANYLIF  STMANYLIF  \\\n",
       "0              2         2          2  ...          2          2          2   \n",
       "1              2         2          2  ...          1          2          2   \n",
       "2              2         2          2  ...          1          2          2   \n",
       "3              2         2          2  ...          1          2          2   \n",
       "4              2         1          2  ...          2          2          2   \n",
       "...          ...       ...        ...  ...        ...        ...        ...   \n",
       "56270          2         2          2  ...          2          2          2   \n",
       "56271          2         2          2  ...          2          2          2   \n",
       "56272          2         2          2  ...          2          2          2   \n",
       "56274          2         2          2  ...          1          2          2   \n",
       "56275          2         2          2  ...          2          2          2   \n",
       "\n",
       "       SEDANYLIF  DSTNRV30  DSTHOP30  DSTRST30  DSTCHR30  DSTEFF30  DSTNGD30  \n",
       "0              2         4         5         4         5         4         5  \n",
       "1              5         5         5         5         5         5         5  \n",
       "2              2         3         5         2         5         5         5  \n",
       "3              2         5         5         3         5         3         5  \n",
       "4              2         4         4         5         4         5         5  \n",
       "...          ...       ...       ...       ...       ...       ...       ...  \n",
       "56270          2         4         4         5         5         4         4  \n",
       "56271          2         4         5         5         5         5         5  \n",
       "56272          2         4         3         3         3        94         2  \n",
       "56274          2         4         5         4         5         4         5  \n",
       "56275          2         5         5         5         4         5         5  \n",
       "\n",
       "[42554 rows x 64 columns]"
      ],
      "text/html": "<div>\n<style scoped>\n    .dataframe tbody tr th:only-of-type {\n        vertical-align: middle;\n    }\n\n    .dataframe tbody tr th {\n        vertical-align: top;\n    }\n\n    .dataframe thead th {\n        text-align: right;\n    }\n</style>\n<table border=\"1\" class=\"dataframe\">\n  <thead>\n    <tr style=\"text-align: right;\">\n      <th></th>\n      <th>AGE2</th>\n      <th>IRMARIT</th>\n      <th>SERVICE</th>\n      <th>HEALTH</th>\n      <th>MOVSINPYR2</th>\n      <th>SEXATRACT</th>\n      <th>SEXIDENT</th>\n      <th>DIFFTHINK</th>\n      <th>DIFFWALK</th>\n      <th>DIFFDRESS</th>\n      <th>...</th>\n      <th>PNRANYLIF</th>\n      <th>TRQANYLIF</th>\n      <th>STMANYLIF</th>\n      <th>SEDANYLIF</th>\n      <th>DSTNRV30</th>\n      <th>DSTHOP30</th>\n      <th>DSTRST30</th>\n      <th>DSTCHR30</th>\n      <th>DSTEFF30</th>\n      <th>DSTNGD30</th>\n    </tr>\n  </thead>\n  <tbody>\n    <tr>\n      <th>0</th>\n      <td>17</td>\n      <td>1</td>\n      <td>2</td>\n      <td>1</td>\n      <td>0</td>\n      <td>1</td>\n      <td>1</td>\n      <td>2</td>\n      <td>2</td>\n      <td>2</td>\n      <td>...</td>\n      <td>2</td>\n      <td>2</td>\n      <td>2</td>\n      <td>2</td>\n      <td>4</td>\n      <td>5</td>\n      <td>4</td>\n      <td>5</td>\n      <td>4</td>\n      <td>5</td>\n    </tr>\n    <tr>\n      <th>1</th>\n      <td>15</td>\n      <td>4</td>\n      <td>2</td>\n      <td>1</td>\n      <td>0</td>\n      <td>1</td>\n      <td>1</td>\n      <td>2</td>\n      <td>2</td>\n      <td>2</td>\n      <td>...</td>\n      <td>1</td>\n      <td>2</td>\n      <td>2</td>\n      <td>5</td>\n      <td>5</td>\n      <td>5</td>\n      <td>5</td>\n      <td>5</td>\n      <td>5</td>\n      <td>5</td>\n    </tr>\n    <tr>\n      <th>2</th>\n      <td>15</td>\n      <td>1</td>\n      <td>2</td>\n      <td>3</td>\n      <td>0</td>\n      <td>1</td>\n      <td>1</td>\n      <td>2</td>\n      <td>2</td>\n      <td>2</td>\n      <td>...</td>\n      <td>1</td>\n      <td>2</td>\n      <td>2</td>\n      <td>2</td>\n      <td>3</td>\n      <td>5</td>\n      <td>2</td>\n      <td>5</td>\n      <td>5</td>\n      <td>5</td>\n    </tr>\n    <tr>\n      <th>3</th>\n      <td>15</td>\n      <td>1</td>\n      <td>2</td>\n      <td>2</td>\n      <td>0</td>\n      <td>1</td>\n      <td>1</td>\n      <td>2</td>\n      <td>2</td>\n      <td>2</td>\n      <td>...</td>\n      <td>1</td>\n      <td>2</td>\n      <td>2</td>\n      <td>2</td>\n      <td>5</td>\n      <td>5</td>\n      <td>3</td>\n      <td>5</td>\n      <td>3</td>\n      <td>5</td>\n    </tr>\n    <tr>\n      <th>4</th>\n      <td>17</td>\n      <td>2</td>\n      <td>2</td>\n      <td>2</td>\n      <td>0</td>\n      <td>1</td>\n      <td>1</td>\n      <td>2</td>\n      <td>1</td>\n      <td>2</td>\n      <td>...</td>\n      <td>2</td>\n      <td>2</td>\n      <td>2</td>\n      <td>2</td>\n      <td>4</td>\n      <td>4</td>\n      <td>5</td>\n      <td>4</td>\n      <td>5</td>\n      <td>5</td>\n    </tr>\n    <tr>\n      <th>...</th>\n      <td>...</td>\n      <td>...</td>\n      <td>...</td>\n      <td>...</td>\n      <td>...</td>\n      <td>...</td>\n      <td>...</td>\n      <td>...</td>\n      <td>...</td>\n      <td>...</td>\n      <td>...</td>\n      <td>...</td>\n      <td>...</td>\n      <td>...</td>\n      <td>...</td>\n      <td>...</td>\n      <td>...</td>\n      <td>...</td>\n      <td>...</td>\n      <td>...</td>\n      <td>...</td>\n    </tr>\n    <tr>\n      <th>56270</th>\n      <td>7</td>\n      <td>4</td>\n      <td>2</td>\n      <td>1</td>\n      <td>2</td>\n      <td>2</td>\n      <td>1</td>\n      <td>2</td>\n      <td>2</td>\n      <td>2</td>\n      <td>...</td>\n      <td>2</td>\n      <td>2</td>\n      <td>2</td>\n      <td>2</td>\n      <td>4</td>\n      <td>4</td>\n      <td>5</td>\n      <td>5</td>\n      <td>4</td>\n      <td>4</td>\n    </tr>\n    <tr>\n      <th>56271</th>\n      <td>16</td>\n      <td>4</td>\n      <td>2</td>\n      <td>1</td>\n      <td>0</td>\n      <td>1</td>\n      <td>1</td>\n      <td>2</td>\n      <td>2</td>\n      <td>2</td>\n      <td>...</td>\n      <td>2</td>\n      <td>2</td>\n      <td>2</td>\n      <td>2</td>\n      <td>4</td>\n      <td>5</td>\n      <td>5</td>\n      <td>5</td>\n      <td>5</td>\n      <td>5</td>\n    </tr>\n    <tr>\n      <th>56272</th>\n      <td>13</td>\n      <td>3</td>\n      <td>2</td>\n      <td>1</td>\n      <td>2</td>\n      <td>1</td>\n      <td>1</td>\n      <td>2</td>\n      <td>2</td>\n      <td>2</td>\n      <td>...</td>\n      <td>2</td>\n      <td>2</td>\n      <td>2</td>\n      <td>2</td>\n      <td>4</td>\n      <td>3</td>\n      <td>3</td>\n      <td>3</td>\n      <td>94</td>\n      <td>2</td>\n    </tr>\n    <tr>\n      <th>56274</th>\n      <td>15</td>\n      <td>1</td>\n      <td>2</td>\n      <td>1</td>\n      <td>0</td>\n      <td>1</td>\n      <td>1</td>\n      <td>2</td>\n      <td>2</td>\n      <td>2</td>\n      <td>...</td>\n      <td>1</td>\n      <td>2</td>\n      <td>2</td>\n      <td>2</td>\n      <td>4</td>\n      <td>5</td>\n      <td>4</td>\n      <td>5</td>\n      <td>4</td>\n      <td>5</td>\n    </tr>\n    <tr>\n      <th>56275</th>\n      <td>17</td>\n      <td>2</td>\n      <td>2</td>\n      <td>1</td>\n      <td>0</td>\n      <td>1</td>\n      <td>1</td>\n      <td>2</td>\n      <td>2</td>\n      <td>2</td>\n      <td>...</td>\n      <td>2</td>\n      <td>2</td>\n      <td>2</td>\n      <td>2</td>\n      <td>5</td>\n      <td>5</td>\n      <td>5</td>\n      <td>4</td>\n      <td>5</td>\n      <td>5</td>\n    </tr>\n  </tbody>\n</table>\n<p>42554 rows × 64 columns</p>\n</div>"
     },
     "metadata": {},
     "execution_count": 211
    }
   ],
   "source": [
    "# extracting over 18-years-of-age responses\n",
    "data3_df = data3_df[data3_df['AGE2'] > 6]\n",
    "data3_df"
   ]
  },
  {
   "cell_type": "code",
   "execution_count": 212,
   "metadata": {},
   "outputs": [],
   "source": [
    "# copying the dataframe for more data cleaning\n",
    "data3_df_cp = data3_df.copy()"
   ]
  },
  {
   "cell_type": "code",
   "execution_count": 213,
   "metadata": {},
   "outputs": [
    {
     "output_type": "execute_result",
     "data": {
      "text/plain": [
       "       AGE2  IRMARIT  SERVICE  HEALTH  MOVSINPYR2  SEXATRACT  SEXIDENT  \\\n",
       "0        17        1      2.0       1         0.0        1.0       1.0   \n",
       "1        15        4      2.0       1         0.0        1.0       1.0   \n",
       "2        15        1      2.0       3         0.0        1.0       1.0   \n",
       "3        15        1      2.0       2         0.0        1.0       1.0   \n",
       "4        17        2      2.0       2         0.0        1.0       1.0   \n",
       "...     ...      ...      ...     ...         ...        ...       ...   \n",
       "56270     7        4      2.0       1         2.0        2.0       1.0   \n",
       "56271    16        4      2.0       1         0.0        1.0       1.0   \n",
       "56272    13        3      2.0       1         2.0        1.0       1.0   \n",
       "56274    15        1      2.0       1         0.0        1.0       1.0   \n",
       "56275    17        2      2.0       1         0.0        1.0       1.0   \n",
       "\n",
       "       DIFFTHINK  DIFFWALK  DIFFDRESS  ...  PNRANYLIF  TRQANYLIF  STMANYLIF  \\\n",
       "0            2.0       2.0        2.0  ...          2          2          2   \n",
       "1            2.0       2.0        2.0  ...          1          2          2   \n",
       "2            2.0       2.0        2.0  ...          1          2          2   \n",
       "3            2.0       2.0        2.0  ...          1          2          2   \n",
       "4            2.0       1.0        2.0  ...          2          2          2   \n",
       "...          ...       ...        ...  ...        ...        ...        ...   \n",
       "56270        2.0       2.0        2.0  ...          2          2          2   \n",
       "56271        2.0       2.0        2.0  ...          2          2          2   \n",
       "56272        2.0       2.0        2.0  ...          2          2          2   \n",
       "56274        2.0       2.0        2.0  ...          1          2          2   \n",
       "56275        2.0       2.0        2.0  ...          2          2          2   \n",
       "\n",
       "       SEDANYLIF  DSTNRV30  DSTHOP30  DSTRST30  DSTCHR30  DSTEFF30  DSTNGD30  \n",
       "0              2       4.0       5.0       4.0       5.0       4.0       5.0  \n",
       "1              5       5.0       5.0       5.0       5.0       5.0       5.0  \n",
       "2              2       3.0       5.0       2.0       5.0       5.0       5.0  \n",
       "3              2       5.0       5.0       3.0       5.0       3.0       5.0  \n",
       "4              2       4.0       4.0       5.0       4.0       5.0       5.0  \n",
       "...          ...       ...       ...       ...       ...       ...       ...  \n",
       "56270          2       4.0       4.0       5.0       5.0       4.0       4.0  \n",
       "56271          2       4.0       5.0       5.0       5.0       5.0       5.0  \n",
       "56272          2       4.0       3.0       3.0       3.0      94.0       2.0  \n",
       "56274          2       4.0       5.0       4.0       5.0       4.0       5.0  \n",
       "56275          2       5.0       5.0       5.0       4.0       5.0       5.0  \n",
       "\n",
       "[41761 rows x 64 columns]"
      ],
      "text/html": "<div>\n<style scoped>\n    .dataframe tbody tr th:only-of-type {\n        vertical-align: middle;\n    }\n\n    .dataframe tbody tr th {\n        vertical-align: top;\n    }\n\n    .dataframe thead th {\n        text-align: right;\n    }\n</style>\n<table border=\"1\" class=\"dataframe\">\n  <thead>\n    <tr style=\"text-align: right;\">\n      <th></th>\n      <th>AGE2</th>\n      <th>IRMARIT</th>\n      <th>SERVICE</th>\n      <th>HEALTH</th>\n      <th>MOVSINPYR2</th>\n      <th>SEXATRACT</th>\n      <th>SEXIDENT</th>\n      <th>DIFFTHINK</th>\n      <th>DIFFWALK</th>\n      <th>DIFFDRESS</th>\n      <th>...</th>\n      <th>PNRANYLIF</th>\n      <th>TRQANYLIF</th>\n      <th>STMANYLIF</th>\n      <th>SEDANYLIF</th>\n      <th>DSTNRV30</th>\n      <th>DSTHOP30</th>\n      <th>DSTRST30</th>\n      <th>DSTCHR30</th>\n      <th>DSTEFF30</th>\n      <th>DSTNGD30</th>\n    </tr>\n  </thead>\n  <tbody>\n    <tr>\n      <th>0</th>\n      <td>17</td>\n      <td>1</td>\n      <td>2.0</td>\n      <td>1</td>\n      <td>0.0</td>\n      <td>1.0</td>\n      <td>1.0</td>\n      <td>2.0</td>\n      <td>2.0</td>\n      <td>2.0</td>\n      <td>...</td>\n      <td>2</td>\n      <td>2</td>\n      <td>2</td>\n      <td>2</td>\n      <td>4.0</td>\n      <td>5.0</td>\n      <td>4.0</td>\n      <td>5.0</td>\n      <td>4.0</td>\n      <td>5.0</td>\n    </tr>\n    <tr>\n      <th>1</th>\n      <td>15</td>\n      <td>4</td>\n      <td>2.0</td>\n      <td>1</td>\n      <td>0.0</td>\n      <td>1.0</td>\n      <td>1.0</td>\n      <td>2.0</td>\n      <td>2.0</td>\n      <td>2.0</td>\n      <td>...</td>\n      <td>1</td>\n      <td>2</td>\n      <td>2</td>\n      <td>5</td>\n      <td>5.0</td>\n      <td>5.0</td>\n      <td>5.0</td>\n      <td>5.0</td>\n      <td>5.0</td>\n      <td>5.0</td>\n    </tr>\n    <tr>\n      <th>2</th>\n      <td>15</td>\n      <td>1</td>\n      <td>2.0</td>\n      <td>3</td>\n      <td>0.0</td>\n      <td>1.0</td>\n      <td>1.0</td>\n      <td>2.0</td>\n      <td>2.0</td>\n      <td>2.0</td>\n      <td>...</td>\n      <td>1</td>\n      <td>2</td>\n      <td>2</td>\n      <td>2</td>\n      <td>3.0</td>\n      <td>5.0</td>\n      <td>2.0</td>\n      <td>5.0</td>\n      <td>5.0</td>\n      <td>5.0</td>\n    </tr>\n    <tr>\n      <th>3</th>\n      <td>15</td>\n      <td>1</td>\n      <td>2.0</td>\n      <td>2</td>\n      <td>0.0</td>\n      <td>1.0</td>\n      <td>1.0</td>\n      <td>2.0</td>\n      <td>2.0</td>\n      <td>2.0</td>\n      <td>...</td>\n      <td>1</td>\n      <td>2</td>\n      <td>2</td>\n      <td>2</td>\n      <td>5.0</td>\n      <td>5.0</td>\n      <td>3.0</td>\n      <td>5.0</td>\n      <td>3.0</td>\n      <td>5.0</td>\n    </tr>\n    <tr>\n      <th>4</th>\n      <td>17</td>\n      <td>2</td>\n      <td>2.0</td>\n      <td>2</td>\n      <td>0.0</td>\n      <td>1.0</td>\n      <td>1.0</td>\n      <td>2.0</td>\n      <td>1.0</td>\n      <td>2.0</td>\n      <td>...</td>\n      <td>2</td>\n      <td>2</td>\n      <td>2</td>\n      <td>2</td>\n      <td>4.0</td>\n      <td>4.0</td>\n      <td>5.0</td>\n      <td>4.0</td>\n      <td>5.0</td>\n      <td>5.0</td>\n    </tr>\n    <tr>\n      <th>...</th>\n      <td>...</td>\n      <td>...</td>\n      <td>...</td>\n      <td>...</td>\n      <td>...</td>\n      <td>...</td>\n      <td>...</td>\n      <td>...</td>\n      <td>...</td>\n      <td>...</td>\n      <td>...</td>\n      <td>...</td>\n      <td>...</td>\n      <td>...</td>\n      <td>...</td>\n      <td>...</td>\n      <td>...</td>\n      <td>...</td>\n      <td>...</td>\n      <td>...</td>\n      <td>...</td>\n    </tr>\n    <tr>\n      <th>56270</th>\n      <td>7</td>\n      <td>4</td>\n      <td>2.0</td>\n      <td>1</td>\n      <td>2.0</td>\n      <td>2.0</td>\n      <td>1.0</td>\n      <td>2.0</td>\n      <td>2.0</td>\n      <td>2.0</td>\n      <td>...</td>\n      <td>2</td>\n      <td>2</td>\n      <td>2</td>\n      <td>2</td>\n      <td>4.0</td>\n      <td>4.0</td>\n      <td>5.0</td>\n      <td>5.0</td>\n      <td>4.0</td>\n      <td>4.0</td>\n    </tr>\n    <tr>\n      <th>56271</th>\n      <td>16</td>\n      <td>4</td>\n      <td>2.0</td>\n      <td>1</td>\n      <td>0.0</td>\n      <td>1.0</td>\n      <td>1.0</td>\n      <td>2.0</td>\n      <td>2.0</td>\n      <td>2.0</td>\n      <td>...</td>\n      <td>2</td>\n      <td>2</td>\n      <td>2</td>\n      <td>2</td>\n      <td>4.0</td>\n      <td>5.0</td>\n      <td>5.0</td>\n      <td>5.0</td>\n      <td>5.0</td>\n      <td>5.0</td>\n    </tr>\n    <tr>\n      <th>56272</th>\n      <td>13</td>\n      <td>3</td>\n      <td>2.0</td>\n      <td>1</td>\n      <td>2.0</td>\n      <td>1.0</td>\n      <td>1.0</td>\n      <td>2.0</td>\n      <td>2.0</td>\n      <td>2.0</td>\n      <td>...</td>\n      <td>2</td>\n      <td>2</td>\n      <td>2</td>\n      <td>2</td>\n      <td>4.0</td>\n      <td>3.0</td>\n      <td>3.0</td>\n      <td>3.0</td>\n      <td>94.0</td>\n      <td>2.0</td>\n    </tr>\n    <tr>\n      <th>56274</th>\n      <td>15</td>\n      <td>1</td>\n      <td>2.0</td>\n      <td>1</td>\n      <td>0.0</td>\n      <td>1.0</td>\n      <td>1.0</td>\n      <td>2.0</td>\n      <td>2.0</td>\n      <td>2.0</td>\n      <td>...</td>\n      <td>1</td>\n      <td>2</td>\n      <td>2</td>\n      <td>2</td>\n      <td>4.0</td>\n      <td>5.0</td>\n      <td>4.0</td>\n      <td>5.0</td>\n      <td>4.0</td>\n      <td>5.0</td>\n    </tr>\n    <tr>\n      <th>56275</th>\n      <td>17</td>\n      <td>2</td>\n      <td>2.0</td>\n      <td>1</td>\n      <td>0.0</td>\n      <td>1.0</td>\n      <td>1.0</td>\n      <td>2.0</td>\n      <td>2.0</td>\n      <td>2.0</td>\n      <td>...</td>\n      <td>2</td>\n      <td>2</td>\n      <td>2</td>\n      <td>2</td>\n      <td>5.0</td>\n      <td>5.0</td>\n      <td>5.0</td>\n      <td>4.0</td>\n      <td>5.0</td>\n      <td>5.0</td>\n    </tr>\n  </tbody>\n</table>\n<p>41761 rows × 64 columns</p>\n</div>"
     },
     "metadata": {},
     "execution_count": 213
    }
   ],
   "source": [
    "# removing the 85 & 985 (bad data) response from all appropriate columns\n",
    "data3_df_cp.loc[:, ['ALCYRTOT', 'ALCUS30D']] = data3_df_cp.loc[:, ['ALCYRTOT', 'ALCUS30D']].replace(85, 9999)\n",
    "data3_df_cp = data3_df_cp.replace([85, 985], np.nan)\n",
    "data3_df_cp = data3_df_cp.dropna()\n",
    "data3_df_cp.loc[:, ['ALCYRTOT', 'ALCUS30D']] = data3_df_cp.loc[:, ['ALCYRTOT', 'ALCUS30D']].replace(9999, 85)\n",
    "data3_df_cp"
   ]
  },
  {
   "cell_type": "code",
   "execution_count": 214,
   "metadata": {},
   "outputs": [],
   "source": [
    "# replacing the responses not useable for the project, like 'don't know' or 'refused to respond' with NaN for easy removal of rows\n",
    "data3_df_cp.loc[:, 'SERVICE'] = data3_df_cp.loc[:, 'SERVICE'].replace(99, np.nan)\n",
    "data3_df_cp.loc[:, 'HEALTH'] = data3_df_cp.loc[:, 'HEALTH'].replace(97, np.nan)\n",
    "data3_df_cp.loc[:, 'MOVSINPYR2'] = data3_df_cp.loc[:, 'MOVSINPYR2'].replace([994, 997, 998], np.nan)\n",
    "data3_df_cp.loc[:, 'DIFFTHINK'] = data3_df_cp.loc[:, 'DIFFTHINK'].replace([94, 97, 98], np.nan)\n",
    "data3_df_cp.loc[:, 'DIFFWALK'] = data3_df_cp.loc[:, 'DIFFWALK'].replace([94, 97, 98], np.nan)\n",
    "data3_df_cp.loc[:, 'DIFFDRESS'] = data3_df_cp.loc[:, 'DIFFDRESS'].replace([94, 97, 98], np.nan)\n",
    "data3_df_cp.loc[:, 'DIFFERAND'] = data3_df_cp.loc[:, 'DIFFERAND'].replace([94, 97, 98, 99], np.nan)\n",
    "data3_df_cp.loc[:, 'IRMARIT'] = data3_df_cp.loc[:, 'IRMARIT'].replace(99, np.nan)\n",
    "data3_df_cp.loc[:, 'WRKSTATWK2'] = data3_df_cp.loc[:, 'WRKSTATWK2'].replace([99, 98], np.nan)\n",
    "data3_df_cp.loc[:, 'WRKNUMJOB2'] = data3_df_cp.loc[:, 'WRKNUMJOB2'].replace([94, 97, 98, 99], np.nan)\n",
    "data3_df_cp.loc[:, 'IRWRKSTAT'] = data3_df_cp.loc[:, 'IRWRKSTAT'].replace(99, np.nan)\n",
    "\n",
    "data3_df_cp.loc[:, 'CIGTRY'] = data3_df_cp.loc[:, 'CIGTRY'].replace([994, 997], np.nan)\n",
    "data3_df_cp.loc[:, 'CIGDLYMO'] = data3_df_cp.loc[:, 'CIGDLYMO'].replace([94, 97, 98], np.nan)\n",
    "data3_df_cp.loc[:, 'CIG100LF'] = data3_df_cp.loc[:, 'CIG100LF'].replace([94, 97, 98], np.nan)\n",
    "data3_df_cp.loc[:, 'CG30EST'] = data3_df_cp.loc[:, 'CG30EST'].replace([94, 97, 98, 99], np.nan)\n",
    "\n",
    "data3_df_cp.loc[:, 'ALCEVER'] = data3_df_cp.loc[:, 'ALCEVER'].replace([94, 97], np.nan)\n",
    "data3_df_cp.loc[:, 'ALCREC'] = data3_df_cp.loc[:, 'ALCREC'].replace([97, 98], np.nan)\n",
    "data3_df_cp.loc[:, 'ALCYRTOT'] = data3_df_cp.loc[:, 'ALCYRTOT'].replace([994, 997, 998], np.nan)\n",
    "data3_df_cp.loc[:, 'ALCDAYS'] = data3_df_cp.loc[:, 'ALCDAYS'].replace([94, 97, 98], np.nan)\n",
    "data3_df_cp.loc[:, 'ALCUS30D'] = data3_df_cp.loc[:, 'ALCUS30D'].replace([994, 997, 998], np.nan)\n",
    "\n",
    "data3_df_cp.loc[:, 'MOVSINPYR2'] = data3_df_cp.loc[:, 'MOVSINPYR2'].replace([994, 997, 998], np.nan)\n",
    "data3_df_cp.loc[:, 'MOVSINPYR2'] = data3_df_cp.loc[:, 'MOVSINPYR2'].replace([994, 997, 998], np.nan)\n",
    "\n",
    "data3_df_cp.loc[:, 'MJEVER'] = data3_df_cp.loc[:, 'MJEVER'].replace([94, 97], np.nan)\n",
    "data3_df_cp.loc[:, 'COCEVER'] = data3_df_cp.loc[:, 'COCEVER'].replace([94, 97], np.nan)\n",
    "data3_df_cp.loc[:, 'CRKEVER'] = data3_df_cp.loc[:, 'CRKEVER'].replace([94, 97, 98], np.nan)\n",
    "data3_df_cp.loc[:, 'HEREVER'] = data3_df_cp.loc[:, 'HEREVER'].replace([94, 97], np.nan)\n",
    "\n",
    "data3_df_cp.loc[:, ['LSD', 'PCP', 'PEYOTE', 'MESC', 'PSILCY', 'ECSTMOLLY', 'KETMINESK', 'DMTAMTFXY', 'SALVIADIV', 'HALLUCOTH']] = data3_df_cp.loc[:, ['LSD', 'PCP', 'PEYOTE', 'MESC', 'PSILCY', 'ECSTMOLLY', 'KETMINESK', 'DMTAMTFXY', 'SALVIADIV', 'HALLUCOTH']].replace([94, 97], np.nan)\n",
    "\n",
    "data3_df_cp.loc[:, ['AMYLNIT', 'CLEFLU', 'GAS', 'GLUE', 'ETHER', 'SOLVENT', 'LGAS', 'NITOXID', 'AIRDUSTER', 'OTHAEROS', 'INHALOTH']] = data3_df_cp.loc[:, ['AMYLNIT', 'CLEFLU', 'GAS', 'GLUE', 'ETHER', 'SOLVENT', 'LGAS', 'NITOXID', 'AIRDUSTER', 'OTHAEROS', 'INHALOTH']].replace([94, 97], np.nan)\n",
    "\n",
    "data3_df_cp.loc[:, 'METHAMEVR'] = data3_df_cp.loc[:, 'METHAMEVR'].replace([94, 97], np.nan)\n",
    "\n",
    "data3_df_cp.loc[:, ['PNRANYLIF', 'TRQANYLIF', 'STMANYLIF', 'SEDANYLIF']] = data3_df_cp.loc[:, ['PNRANYLIF', 'TRQANYLIF', 'STMANYLIF', 'SEDANYLIF']].replace([94, 97, 98], np.nan)\n",
    "\n",
    "data3_df_cp.loc[:, ['DSTNRV30', 'DSTHOP30', 'DSTRST30', 'DSTCHR30', 'DSTEFF30', 'DSTNGD30']] = data3_df_cp.loc[:, ['DSTNRV30', 'DSTHOP30', 'DSTRST30', 'DSTCHR30', 'DSTEFF30', 'DSTNGD30']].replace([94, 97, 98, 99], np.nan)"
   ]
  },
  {
   "cell_type": "code",
   "execution_count": 215,
   "metadata": {},
   "outputs": [
    {
     "output_type": "execute_result",
     "data": {
      "text/plain": [
       "       AGE2  IRMARIT  SERVICE  HEALTH  MOVSINPYR2  SEXATRACT  SEXIDENT  \\\n",
       "0        17        1      2.0     1.0         0.0        1.0       1.0   \n",
       "3        15        1      2.0     2.0         0.0        1.0       1.0   \n",
       "6         8        4      2.0     2.0         0.0        1.0       1.0   \n",
       "10       13        4      2.0     3.0         0.0        1.0       1.0   \n",
       "11        8        4      2.0     1.0         0.0        1.0       1.0   \n",
       "...     ...      ...      ...     ...         ...        ...       ...   \n",
       "56263     8        4      2.0     1.0         3.0        4.0       3.0   \n",
       "56267    15        1      2.0     2.0         0.0        1.0       1.0   \n",
       "56271    16        4      2.0     1.0         0.0        1.0       1.0   \n",
       "56274    15        1      2.0     1.0         0.0        1.0       1.0   \n",
       "56275    17        2      2.0     1.0         0.0        1.0       1.0   \n",
       "\n",
       "       DIFFTHINK  DIFFWALK  DIFFDRESS  ...  PNRANYLIF  TRQANYLIF  STMANYLIF  \\\n",
       "0            2.0       2.0        2.0  ...        2.0        2.0        2.0   \n",
       "3            2.0       2.0        2.0  ...        1.0        2.0        2.0   \n",
       "6            2.0       2.0        2.0  ...        2.0        2.0        2.0   \n",
       "10           2.0       2.0        2.0  ...        2.0        2.0        2.0   \n",
       "11           2.0       2.0        2.0  ...        2.0        2.0        2.0   \n",
       "...          ...       ...        ...  ...        ...        ...        ...   \n",
       "56263        2.0       2.0        2.0  ...        2.0        2.0        2.0   \n",
       "56267        2.0       2.0        2.0  ...        1.0        1.0        2.0   \n",
       "56271        2.0       2.0        2.0  ...        2.0        2.0        2.0   \n",
       "56274        2.0       2.0        2.0  ...        1.0        2.0        2.0   \n",
       "56275        2.0       2.0        2.0  ...        2.0        2.0        2.0   \n",
       "\n",
       "       SEDANYLIF  DSTNRV30  DSTHOP30  DSTRST30  DSTCHR30  DSTEFF30  DSTNGD30  \n",
       "0            2.0       4.0       5.0       4.0       5.0       4.0       5.0  \n",
       "3            2.0       5.0       5.0       3.0       5.0       3.0       5.0  \n",
       "6            2.0       3.0       5.0       5.0       2.0       5.0       5.0  \n",
       "10           2.0       3.0       2.0       5.0       4.0       3.0       4.0  \n",
       "11           2.0       3.0       5.0       3.0       5.0       4.0       5.0  \n",
       "...          ...       ...       ...       ...       ...       ...       ...  \n",
       "56263        2.0       4.0       5.0       3.0       5.0       5.0       5.0  \n",
       "56267        2.0       4.0       5.0       3.0       5.0       4.0       5.0  \n",
       "56271        2.0       4.0       5.0       5.0       5.0       5.0       5.0  \n",
       "56274        2.0       4.0       5.0       4.0       5.0       4.0       5.0  \n",
       "56275        2.0       5.0       5.0       5.0       4.0       5.0       5.0  \n",
       "\n",
       "[23961 rows x 64 columns]"
      ],
      "text/html": "<div>\n<style scoped>\n    .dataframe tbody tr th:only-of-type {\n        vertical-align: middle;\n    }\n\n    .dataframe tbody tr th {\n        vertical-align: top;\n    }\n\n    .dataframe thead th {\n        text-align: right;\n    }\n</style>\n<table border=\"1\" class=\"dataframe\">\n  <thead>\n    <tr style=\"text-align: right;\">\n      <th></th>\n      <th>AGE2</th>\n      <th>IRMARIT</th>\n      <th>SERVICE</th>\n      <th>HEALTH</th>\n      <th>MOVSINPYR2</th>\n      <th>SEXATRACT</th>\n      <th>SEXIDENT</th>\n      <th>DIFFTHINK</th>\n      <th>DIFFWALK</th>\n      <th>DIFFDRESS</th>\n      <th>...</th>\n      <th>PNRANYLIF</th>\n      <th>TRQANYLIF</th>\n      <th>STMANYLIF</th>\n      <th>SEDANYLIF</th>\n      <th>DSTNRV30</th>\n      <th>DSTHOP30</th>\n      <th>DSTRST30</th>\n      <th>DSTCHR30</th>\n      <th>DSTEFF30</th>\n      <th>DSTNGD30</th>\n    </tr>\n  </thead>\n  <tbody>\n    <tr>\n      <th>0</th>\n      <td>17</td>\n      <td>1</td>\n      <td>2.0</td>\n      <td>1.0</td>\n      <td>0.0</td>\n      <td>1.0</td>\n      <td>1.0</td>\n      <td>2.0</td>\n      <td>2.0</td>\n      <td>2.0</td>\n      <td>...</td>\n      <td>2.0</td>\n      <td>2.0</td>\n      <td>2.0</td>\n      <td>2.0</td>\n      <td>4.0</td>\n      <td>5.0</td>\n      <td>4.0</td>\n      <td>5.0</td>\n      <td>4.0</td>\n      <td>5.0</td>\n    </tr>\n    <tr>\n      <th>3</th>\n      <td>15</td>\n      <td>1</td>\n      <td>2.0</td>\n      <td>2.0</td>\n      <td>0.0</td>\n      <td>1.0</td>\n      <td>1.0</td>\n      <td>2.0</td>\n      <td>2.0</td>\n      <td>2.0</td>\n      <td>...</td>\n      <td>1.0</td>\n      <td>2.0</td>\n      <td>2.0</td>\n      <td>2.0</td>\n      <td>5.0</td>\n      <td>5.0</td>\n      <td>3.0</td>\n      <td>5.0</td>\n      <td>3.0</td>\n      <td>5.0</td>\n    </tr>\n    <tr>\n      <th>6</th>\n      <td>8</td>\n      <td>4</td>\n      <td>2.0</td>\n      <td>2.0</td>\n      <td>0.0</td>\n      <td>1.0</td>\n      <td>1.0</td>\n      <td>2.0</td>\n      <td>2.0</td>\n      <td>2.0</td>\n      <td>...</td>\n      <td>2.0</td>\n      <td>2.0</td>\n      <td>2.0</td>\n      <td>2.0</td>\n      <td>3.0</td>\n      <td>5.0</td>\n      <td>5.0</td>\n      <td>2.0</td>\n      <td>5.0</td>\n      <td>5.0</td>\n    </tr>\n    <tr>\n      <th>10</th>\n      <td>13</td>\n      <td>4</td>\n      <td>2.0</td>\n      <td>3.0</td>\n      <td>0.0</td>\n      <td>1.0</td>\n      <td>1.0</td>\n      <td>2.0</td>\n      <td>2.0</td>\n      <td>2.0</td>\n      <td>...</td>\n      <td>2.0</td>\n      <td>2.0</td>\n      <td>2.0</td>\n      <td>2.0</td>\n      <td>3.0</td>\n      <td>2.0</td>\n      <td>5.0</td>\n      <td>4.0</td>\n      <td>3.0</td>\n      <td>4.0</td>\n    </tr>\n    <tr>\n      <th>11</th>\n      <td>8</td>\n      <td>4</td>\n      <td>2.0</td>\n      <td>1.0</td>\n      <td>0.0</td>\n      <td>1.0</td>\n      <td>1.0</td>\n      <td>2.0</td>\n      <td>2.0</td>\n      <td>2.0</td>\n      <td>...</td>\n      <td>2.0</td>\n      <td>2.0</td>\n      <td>2.0</td>\n      <td>2.0</td>\n      <td>3.0</td>\n      <td>5.0</td>\n      <td>3.0</td>\n      <td>5.0</td>\n      <td>4.0</td>\n      <td>5.0</td>\n    </tr>\n    <tr>\n      <th>...</th>\n      <td>...</td>\n      <td>...</td>\n      <td>...</td>\n      <td>...</td>\n      <td>...</td>\n      <td>...</td>\n      <td>...</td>\n      <td>...</td>\n      <td>...</td>\n      <td>...</td>\n      <td>...</td>\n      <td>...</td>\n      <td>...</td>\n      <td>...</td>\n      <td>...</td>\n      <td>...</td>\n      <td>...</td>\n      <td>...</td>\n      <td>...</td>\n      <td>...</td>\n      <td>...</td>\n    </tr>\n    <tr>\n      <th>56263</th>\n      <td>8</td>\n      <td>4</td>\n      <td>2.0</td>\n      <td>1.0</td>\n      <td>3.0</td>\n      <td>4.0</td>\n      <td>3.0</td>\n      <td>2.0</td>\n      <td>2.0</td>\n      <td>2.0</td>\n      <td>...</td>\n      <td>2.0</td>\n      <td>2.0</td>\n      <td>2.0</td>\n      <td>2.0</td>\n      <td>4.0</td>\n      <td>5.0</td>\n      <td>3.0</td>\n      <td>5.0</td>\n      <td>5.0</td>\n      <td>5.0</td>\n    </tr>\n    <tr>\n      <th>56267</th>\n      <td>15</td>\n      <td>1</td>\n      <td>2.0</td>\n      <td>2.0</td>\n      <td>0.0</td>\n      <td>1.0</td>\n      <td>1.0</td>\n      <td>2.0</td>\n      <td>2.0</td>\n      <td>2.0</td>\n      <td>...</td>\n      <td>1.0</td>\n      <td>1.0</td>\n      <td>2.0</td>\n      <td>2.0</td>\n      <td>4.0</td>\n      <td>5.0</td>\n      <td>3.0</td>\n      <td>5.0</td>\n      <td>4.0</td>\n      <td>5.0</td>\n    </tr>\n    <tr>\n      <th>56271</th>\n      <td>16</td>\n      <td>4</td>\n      <td>2.0</td>\n      <td>1.0</td>\n      <td>0.0</td>\n      <td>1.0</td>\n      <td>1.0</td>\n      <td>2.0</td>\n      <td>2.0</td>\n      <td>2.0</td>\n      <td>...</td>\n      <td>2.0</td>\n      <td>2.0</td>\n      <td>2.0</td>\n      <td>2.0</td>\n      <td>4.0</td>\n      <td>5.0</td>\n      <td>5.0</td>\n      <td>5.0</td>\n      <td>5.0</td>\n      <td>5.0</td>\n    </tr>\n    <tr>\n      <th>56274</th>\n      <td>15</td>\n      <td>1</td>\n      <td>2.0</td>\n      <td>1.0</td>\n      <td>0.0</td>\n      <td>1.0</td>\n      <td>1.0</td>\n      <td>2.0</td>\n      <td>2.0</td>\n      <td>2.0</td>\n      <td>...</td>\n      <td>1.0</td>\n      <td>2.0</td>\n      <td>2.0</td>\n      <td>2.0</td>\n      <td>4.0</td>\n      <td>5.0</td>\n      <td>4.0</td>\n      <td>5.0</td>\n      <td>4.0</td>\n      <td>5.0</td>\n    </tr>\n    <tr>\n      <th>56275</th>\n      <td>17</td>\n      <td>2</td>\n      <td>2.0</td>\n      <td>1.0</td>\n      <td>0.0</td>\n      <td>1.0</td>\n      <td>1.0</td>\n      <td>2.0</td>\n      <td>2.0</td>\n      <td>2.0</td>\n      <td>...</td>\n      <td>2.0</td>\n      <td>2.0</td>\n      <td>2.0</td>\n      <td>2.0</td>\n      <td>5.0</td>\n      <td>5.0</td>\n      <td>5.0</td>\n      <td>4.0</td>\n      <td>5.0</td>\n      <td>5.0</td>\n    </tr>\n  </tbody>\n</table>\n<p>23961 rows × 64 columns</p>\n</div>"
     },
     "metadata": {},
     "execution_count": 215
    }
   ],
   "source": [
    "data3_df_cp = data3_df_cp.dropna()\n",
    "data3_df_cp"
   ]
  },
  {
   "cell_type": "code",
   "execution_count": 216,
   "metadata": {},
   "outputs": [
    {
     "output_type": "stream",
     "name": "stdout",
     "text": [
      "<class 'pandas.core.frame.DataFrame'>\nInt64Index: 23961 entries, 0 to 56275\nData columns (total 64 columns):\n #   Column        Non-Null Count  Dtype  \n---  ------        --------------  -----  \n 0   AGE2          23961 non-null  int64  \n 1   IRMARIT       23961 non-null  int64  \n 2   SERVICE       23961 non-null  float64\n 3   HEALTH        23961 non-null  float64\n 4   MOVSINPYR2    23961 non-null  float64\n 5   SEXATRACT     23961 non-null  float64\n 6   SEXIDENT      23961 non-null  float64\n 7   DIFFTHINK     23961 non-null  float64\n 8   DIFFWALK      23961 non-null  float64\n 9   DIFFDRESS     23961 non-null  float64\n 10  DIFFERAND     23961 non-null  float64\n 11  IREDUHIGHST2  23961 non-null  int64  \n 12  WRKSTATWK2    23961 non-null  float64\n 13  IRWRKSTAT     23961 non-null  int64  \n 14  WRKNUMJOB2    23961 non-null  float64\n 15  IRPINC3       23961 non-null  int64  \n 16  CIGEVER       23961 non-null  int64  \n 17  CIGTRY        23961 non-null  float64\n 18  CIGDLYMO      23961 non-null  float64\n 19  CIG100LF      23961 non-null  float64\n 20  CG30EST       23961 non-null  float64\n 21  ALCEVER       23961 non-null  float64\n 22  ALCREC        23961 non-null  float64\n 23  ALCYRTOT      23961 non-null  float64\n 24  ALCDAYS       23961 non-null  float64\n 25  ALCUS30D      23961 non-null  float64\n 26  MJEVER        23961 non-null  float64\n 27  COCEVER       23961 non-null  float64\n 28  CRKEVER       23961 non-null  float64\n 29  HEREVER       23961 non-null  float64\n 30  LSD           23961 non-null  float64\n 31  PCP           23961 non-null  float64\n 32  PEYOTE        23961 non-null  float64\n 33  MESC          23961 non-null  float64\n 34  PSILCY        23961 non-null  float64\n 35  ECSTMOLLY     23961 non-null  float64\n 36  KETMINESK     23961 non-null  float64\n 37  DMTAMTFXY     23961 non-null  float64\n 38  SALVIADIV     23961 non-null  float64\n 39  HALLUCOTH     23961 non-null  float64\n 40  AMYLNIT       23961 non-null  float64\n 41  CLEFLU        23961 non-null  float64\n 42  GAS           23961 non-null  float64\n 43  GLUE          23961 non-null  float64\n 44  ETHER         23961 non-null  float64\n 45  SOLVENT       23961 non-null  float64\n 46  LGAS          23961 non-null  float64\n 47  NITOXID       23961 non-null  float64\n 48  FELTMARKR     23961 non-null  float64\n 49  SPPAINT       23961 non-null  float64\n 50  AIRDUSTER     23961 non-null  float64\n 51  OTHAEROS      23961 non-null  float64\n 52  INHALOTH      23961 non-null  float64\n 53  METHAMEVR     23961 non-null  float64\n 54  PNRANYLIF     23961 non-null  float64\n 55  TRQANYLIF     23961 non-null  float64\n 56  STMANYLIF     23961 non-null  float64\n 57  SEDANYLIF     23961 non-null  float64\n 58  DSTNRV30      23961 non-null  float64\n 59  DSTHOP30      23961 non-null  float64\n 60  DSTRST30      23961 non-null  float64\n 61  DSTCHR30      23961 non-null  float64\n 62  DSTEFF30      23961 non-null  float64\n 63  DSTNGD30      23961 non-null  float64\ndtypes: float64(58), int64(6)\nmemory usage: 11.9 MB\n"
     ]
    }
   ],
   "source": [
    "data3_df_cp.info()"
   ]
  },
  {
   "cell_type": "code",
   "execution_count": 217,
   "metadata": {},
   "outputs": [
    {
     "output_type": "execute_result",
     "data": {
      "text/plain": [
       "       AGE2  IRMARIT  SERVICE  HEALTH  MOVSINPYR2  SEXATRACT  SEXIDENT  \\\n",
       "0        17        1      2.0     1.0         0.0        1.0       1.0   \n",
       "3        15        1      2.0     2.0         0.0        1.0       1.0   \n",
       "6         8        4      2.0     2.0         0.0        1.0       1.0   \n",
       "10       13        4      2.0     3.0         0.0        1.0       1.0   \n",
       "11        8        4      2.0     1.0         0.0        1.0       1.0   \n",
       "...     ...      ...      ...     ...         ...        ...       ...   \n",
       "56263     8        4      2.0     1.0         3.0        4.0       3.0   \n",
       "56267    15        1      2.0     2.0         0.0        1.0       1.0   \n",
       "56271    16        4      2.0     1.0         0.0        1.0       1.0   \n",
       "56274    15        1      2.0     1.0         0.0        1.0       1.0   \n",
       "56275    17        2      2.0     1.0         0.0        1.0       1.0   \n",
       "\n",
       "       DIFFTHINK  DIFFWALK  DIFFDRESS  ...  PNRANYLIF  TRQANYLIF  STMANYLIF  \\\n",
       "0            2.0       2.0        2.0  ...        2.0        2.0        2.0   \n",
       "3            2.0       2.0        2.0  ...        1.0        2.0        2.0   \n",
       "6            2.0       2.0        2.0  ...        2.0        2.0        2.0   \n",
       "10           2.0       2.0        2.0  ...        2.0        2.0        2.0   \n",
       "11           2.0       2.0        2.0  ...        2.0        2.0        2.0   \n",
       "...          ...       ...        ...  ...        ...        ...        ...   \n",
       "56263        2.0       2.0        2.0  ...        2.0        2.0        2.0   \n",
       "56267        2.0       2.0        2.0  ...        1.0        1.0        2.0   \n",
       "56271        2.0       2.0        2.0  ...        2.0        2.0        2.0   \n",
       "56274        2.0       2.0        2.0  ...        1.0        2.0        2.0   \n",
       "56275        2.0       2.0        2.0  ...        2.0        2.0        2.0   \n",
       "\n",
       "       SEDANYLIF  DSTNRV30  DSTHOP30  DSTRST30  DSTCHR30  DSTEFF30  DSTNGD30  \n",
       "0            2.0       4.0       5.0       4.0       5.0       4.0       5.0  \n",
       "3            2.0       5.0       5.0       3.0       5.0       3.0       5.0  \n",
       "6            2.0       3.0       5.0       5.0       2.0       5.0       5.0  \n",
       "10           2.0       3.0       2.0       5.0       4.0       3.0       4.0  \n",
       "11           2.0       3.0       5.0       3.0       5.0       4.0       5.0  \n",
       "...          ...       ...       ...       ...       ...       ...       ...  \n",
       "56263        2.0       4.0       5.0       3.0       5.0       5.0       5.0  \n",
       "56267        2.0       4.0       5.0       3.0       5.0       4.0       5.0  \n",
       "56271        2.0       4.0       5.0       5.0       5.0       5.0       5.0  \n",
       "56274        2.0       4.0       5.0       4.0       5.0       4.0       5.0  \n",
       "56275        2.0       5.0       5.0       5.0       4.0       5.0       5.0  \n",
       "\n",
       "[23961 rows x 64 columns]"
      ],
      "text/html": "<div>\n<style scoped>\n    .dataframe tbody tr th:only-of-type {\n        vertical-align: middle;\n    }\n\n    .dataframe tbody tr th {\n        vertical-align: top;\n    }\n\n    .dataframe thead th {\n        text-align: right;\n    }\n</style>\n<table border=\"1\" class=\"dataframe\">\n  <thead>\n    <tr style=\"text-align: right;\">\n      <th></th>\n      <th>AGE2</th>\n      <th>IRMARIT</th>\n      <th>SERVICE</th>\n      <th>HEALTH</th>\n      <th>MOVSINPYR2</th>\n      <th>SEXATRACT</th>\n      <th>SEXIDENT</th>\n      <th>DIFFTHINK</th>\n      <th>DIFFWALK</th>\n      <th>DIFFDRESS</th>\n      <th>...</th>\n      <th>PNRANYLIF</th>\n      <th>TRQANYLIF</th>\n      <th>STMANYLIF</th>\n      <th>SEDANYLIF</th>\n      <th>DSTNRV30</th>\n      <th>DSTHOP30</th>\n      <th>DSTRST30</th>\n      <th>DSTCHR30</th>\n      <th>DSTEFF30</th>\n      <th>DSTNGD30</th>\n    </tr>\n  </thead>\n  <tbody>\n    <tr>\n      <th>0</th>\n      <td>17</td>\n      <td>1</td>\n      <td>2.0</td>\n      <td>1.0</td>\n      <td>0.0</td>\n      <td>1.0</td>\n      <td>1.0</td>\n      <td>2.0</td>\n      <td>2.0</td>\n      <td>2.0</td>\n      <td>...</td>\n      <td>2.0</td>\n      <td>2.0</td>\n      <td>2.0</td>\n      <td>2.0</td>\n      <td>4.0</td>\n      <td>5.0</td>\n      <td>4.0</td>\n      <td>5.0</td>\n      <td>4.0</td>\n      <td>5.0</td>\n    </tr>\n    <tr>\n      <th>3</th>\n      <td>15</td>\n      <td>1</td>\n      <td>2.0</td>\n      <td>2.0</td>\n      <td>0.0</td>\n      <td>1.0</td>\n      <td>1.0</td>\n      <td>2.0</td>\n      <td>2.0</td>\n      <td>2.0</td>\n      <td>...</td>\n      <td>1.0</td>\n      <td>2.0</td>\n      <td>2.0</td>\n      <td>2.0</td>\n      <td>5.0</td>\n      <td>5.0</td>\n      <td>3.0</td>\n      <td>5.0</td>\n      <td>3.0</td>\n      <td>5.0</td>\n    </tr>\n    <tr>\n      <th>6</th>\n      <td>8</td>\n      <td>4</td>\n      <td>2.0</td>\n      <td>2.0</td>\n      <td>0.0</td>\n      <td>1.0</td>\n      <td>1.0</td>\n      <td>2.0</td>\n      <td>2.0</td>\n      <td>2.0</td>\n      <td>...</td>\n      <td>2.0</td>\n      <td>2.0</td>\n      <td>2.0</td>\n      <td>2.0</td>\n      <td>3.0</td>\n      <td>5.0</td>\n      <td>5.0</td>\n      <td>2.0</td>\n      <td>5.0</td>\n      <td>5.0</td>\n    </tr>\n    <tr>\n      <th>10</th>\n      <td>13</td>\n      <td>4</td>\n      <td>2.0</td>\n      <td>3.0</td>\n      <td>0.0</td>\n      <td>1.0</td>\n      <td>1.0</td>\n      <td>2.0</td>\n      <td>2.0</td>\n      <td>2.0</td>\n      <td>...</td>\n      <td>2.0</td>\n      <td>2.0</td>\n      <td>2.0</td>\n      <td>2.0</td>\n      <td>3.0</td>\n      <td>2.0</td>\n      <td>5.0</td>\n      <td>4.0</td>\n      <td>3.0</td>\n      <td>4.0</td>\n    </tr>\n    <tr>\n      <th>11</th>\n      <td>8</td>\n      <td>4</td>\n      <td>2.0</td>\n      <td>1.0</td>\n      <td>0.0</td>\n      <td>1.0</td>\n      <td>1.0</td>\n      <td>2.0</td>\n      <td>2.0</td>\n      <td>2.0</td>\n      <td>...</td>\n      <td>2.0</td>\n      <td>2.0</td>\n      <td>2.0</td>\n      <td>2.0</td>\n      <td>3.0</td>\n      <td>5.0</td>\n      <td>3.0</td>\n      <td>5.0</td>\n      <td>4.0</td>\n      <td>5.0</td>\n    </tr>\n    <tr>\n      <th>...</th>\n      <td>...</td>\n      <td>...</td>\n      <td>...</td>\n      <td>...</td>\n      <td>...</td>\n      <td>...</td>\n      <td>...</td>\n      <td>...</td>\n      <td>...</td>\n      <td>...</td>\n      <td>...</td>\n      <td>...</td>\n      <td>...</td>\n      <td>...</td>\n      <td>...</td>\n      <td>...</td>\n      <td>...</td>\n      <td>...</td>\n      <td>...</td>\n      <td>...</td>\n      <td>...</td>\n    </tr>\n    <tr>\n      <th>56263</th>\n      <td>8</td>\n      <td>4</td>\n      <td>2.0</td>\n      <td>1.0</td>\n      <td>3.0</td>\n      <td>4.0</td>\n      <td>3.0</td>\n      <td>2.0</td>\n      <td>2.0</td>\n      <td>2.0</td>\n      <td>...</td>\n      <td>2.0</td>\n      <td>2.0</td>\n      <td>2.0</td>\n      <td>2.0</td>\n      <td>4.0</td>\n      <td>5.0</td>\n      <td>3.0</td>\n      <td>5.0</td>\n      <td>5.0</td>\n      <td>5.0</td>\n    </tr>\n    <tr>\n      <th>56267</th>\n      <td>15</td>\n      <td>1</td>\n      <td>2.0</td>\n      <td>2.0</td>\n      <td>0.0</td>\n      <td>1.0</td>\n      <td>1.0</td>\n      <td>2.0</td>\n      <td>2.0</td>\n      <td>2.0</td>\n      <td>...</td>\n      <td>1.0</td>\n      <td>1.0</td>\n      <td>2.0</td>\n      <td>2.0</td>\n      <td>4.0</td>\n      <td>5.0</td>\n      <td>3.0</td>\n      <td>5.0</td>\n      <td>4.0</td>\n      <td>5.0</td>\n    </tr>\n    <tr>\n      <th>56271</th>\n      <td>16</td>\n      <td>4</td>\n      <td>2.0</td>\n      <td>1.0</td>\n      <td>0.0</td>\n      <td>1.0</td>\n      <td>1.0</td>\n      <td>2.0</td>\n      <td>2.0</td>\n      <td>2.0</td>\n      <td>...</td>\n      <td>2.0</td>\n      <td>2.0</td>\n      <td>2.0</td>\n      <td>2.0</td>\n      <td>4.0</td>\n      <td>5.0</td>\n      <td>5.0</td>\n      <td>5.0</td>\n      <td>5.0</td>\n      <td>5.0</td>\n    </tr>\n    <tr>\n      <th>56274</th>\n      <td>15</td>\n      <td>1</td>\n      <td>2.0</td>\n      <td>1.0</td>\n      <td>0.0</td>\n      <td>1.0</td>\n      <td>1.0</td>\n      <td>2.0</td>\n      <td>2.0</td>\n      <td>2.0</td>\n      <td>...</td>\n      <td>1.0</td>\n      <td>2.0</td>\n      <td>2.0</td>\n      <td>2.0</td>\n      <td>4.0</td>\n      <td>5.0</td>\n      <td>4.0</td>\n      <td>5.0</td>\n      <td>4.0</td>\n      <td>5.0</td>\n    </tr>\n    <tr>\n      <th>56275</th>\n      <td>17</td>\n      <td>2</td>\n      <td>2.0</td>\n      <td>1.0</td>\n      <td>0.0</td>\n      <td>1.0</td>\n      <td>1.0</td>\n      <td>2.0</td>\n      <td>2.0</td>\n      <td>2.0</td>\n      <td>...</td>\n      <td>2.0</td>\n      <td>2.0</td>\n      <td>2.0</td>\n      <td>2.0</td>\n      <td>5.0</td>\n      <td>5.0</td>\n      <td>5.0</td>\n      <td>4.0</td>\n      <td>5.0</td>\n      <td>5.0</td>\n    </tr>\n  </tbody>\n</table>\n<p>23961 rows × 64 columns</p>\n</div>"
     },
     "metadata": {},
     "execution_count": 217
    }
   ],
   "source": [
    "# Some responses have different numbers but will mean the same in the m achine learning stage so I'm replacing them to be the same number\n",
    "data3_df_cp.loc[:, 'SEXATRACT'] = data3_df_cp.loc[:, 'SEXATRACT'].replace(94, 6)\n",
    "data3_df_cp.loc[:, 'SEXATRACT'] = data3_df_cp.loc[:, 'SEXATRACT'].replace([97, 99], 98)\n",
    "data3_df_cp.loc[:, 'SEXIDENT'] = data3_df_cp.loc[:, 'SEXIDENT'].replace([97, 99], 98)\n",
    "data3_df_cp.loc[:, ['CIGDLYMO', 'CIG100LF','PNRANYLIF', 'TRQANYLIF', 'STMANYLIF', 'SEDANYLIF']] = data3_df_cp.loc[:, ['CIGDLYMO', 'CIG100LF', 'PNRANYLIF', 'TRQANYLIF', 'STMANYLIF', 'SEDANYLIF']].replace(5, 1)\n",
    "data3_df_cp.loc[:, 'ALCREC'] = data3_df_cp.loc[:, 'ALCREC'].replace(11, 1)\n",
    "data3_df_cp.loc[:, 'ALCREC'] = data3_df_cp.loc[:, 'ALCREC'].replace(8, 2)\n",
    "data3_df_cp.loc[:, 'ALCUS30D'] = data3_df_cp.loc[:, 'ALCUS30D'].replace(975, 4)\n",
    "\n",
    "data3_df_cp.loc[:, ['CRKEVER', 'LSD', 'PCP', 'PEYOTE', 'MESC', 'PSILCY', 'ECSTMOLLY', 'KETMINESK', 'DMTAMTFXY', 'SALVIADIV', 'HALLUCOTH']] = data3_df_cp.loc[:, ['CRKEVER', 'LSD', 'PCP', 'PEYOTE', 'MESC', 'PSILCY', 'ECSTMOLLY', 'KETMINESK', 'DMTAMTFXY', 'SALVIADIV', 'HALLUCOTH']].replace(91, 2)\n",
    "\n",
    "data3_df_cp.loc[:, ['CIG100LF', 'LSD', 'PCP', 'PEYOTE', 'MESC', 'PSILCY', 'ECSTMOLLY', 'KETMINESK', 'DMTAMTFXY', 'SALVIADIV', 'HALLUCOTH']] = data3_df_cp.loc[:, ['CIG100LF', 'LSD', 'PCP', 'PEYOTE', 'MESC', 'PSILCY', 'ECSTMOLLY', 'KETMINESK', 'DMTAMTFXY', 'SALVIADIV', 'HALLUCOTH']].replace(3, 1)\n",
    "\n",
    "data3_df_cp.loc[:, ['AMYLNIT', 'CLEFLU', 'GAS', 'GLUE', 'ETHER', 'SOLVENT', 'LGAS', 'NITOXID', 'FELTMARKR', 'SPPAINT', 'AIRDUSTER', 'OTHAEROS', 'INHALOTH']] = data3_df_cp.loc[:, ['AMYLNIT', 'CLEFLU', 'GAS', 'GLUE', 'ETHER', 'SOLVENT', 'LGAS', 'NITOXID', 'FELTMARKR', 'SPPAINT', 'AIRDUSTER', 'OTHAEROS', 'INHALOTH']].replace(91, 2)\n",
    "\n",
    "data3_df_cp.loc[:, ['AMYLNIT', 'CLEFLU', 'GAS', 'GLUE', 'ETHER', 'SOLVENT', 'LGAS', 'NITOXID', 'FELTMARKR', 'SPPAINT', 'AIRDUSTER', 'OTHAEROS', 'INHALOTH']] = data3_df_cp.loc[:, ['AMYLNIT', 'CLEFLU', 'GAS', 'GLUE', 'ETHER', 'SOLVENT', 'LGAS', 'NITOXID', 'FELTMARKR', 'SPPAINT', 'AIRDUSTER', 'OTHAEROS', 'INHALOTH']].replace(3, 1)\n",
    "\n",
    "data3_df_cp"
   ]
  },
  {
   "cell_type": "code",
   "execution_count": 218,
   "metadata": {},
   "outputs": [],
   "source": [
    "# exporting the data to csv file\n",
    "data3_df_cp.to_csv(\"project3_raw_2017.csv\", index=False)"
   ]
  },
  {
   "source": [
    "# 2016"
   ],
   "cell_type": "markdown",
   "metadata": {}
  },
  {
   "cell_type": "code",
   "execution_count": 219,
   "metadata": {},
   "outputs": [
    {
     "output_type": "execute_result",
     "data": {
      "text/plain": [
       "   QUESTID2    FILEDATE  CIGEVER  CIGOFRSM  CIGWILYR  CIGTRY  CIGYFU  CIGMFU  \\\n",
       "0  11635143  02/28/2018        1        99        99      16    9999      99   \n",
       "1  36845143  02/28/2018        1        99        99      15    9999      99   \n",
       "2  35755143  02/28/2018        1        99        99      26    9999      99   \n",
       "3  94475143  02/28/2018        2         4         4     991    9991      91   \n",
       "4  92675143  02/28/2018        1        99        99       5    9999      99   \n",
       "\n",
       "   CIGREC  CIG30USE  ...  POVERTY3  TOOLONG  TROUBUND  PDEN10  COUTYP4  \\\n",
       "0       4        93  ...       3.0        2         2       3        3   \n",
       "1       1         7  ...       3.0        1         2       2        2   \n",
       "2       1         7  ...       2.0        2         2       1        1   \n",
       "3      91        91  ...       3.0        2         2       1        1   \n",
       "4       4        93  ...       3.0        2         2       1        1   \n",
       "\n",
       "   MAIIN102  AIIND102      ANALWT_C  VESTR  VEREP  \n",
       "0         2         2    819.434247  40037      2  \n",
       "1         2         2    280.624351  40013      2  \n",
       "2         2         2  10133.833580  40036      2  \n",
       "3         2         2   2284.717175  40028      1  \n",
       "4         2         2  24815.892370  40009      2  \n",
       "\n",
       "[5 rows x 2668 columns]"
      ],
      "text/html": "<div>\n<style scoped>\n    .dataframe tbody tr th:only-of-type {\n        vertical-align: middle;\n    }\n\n    .dataframe tbody tr th {\n        vertical-align: top;\n    }\n\n    .dataframe thead th {\n        text-align: right;\n    }\n</style>\n<table border=\"1\" class=\"dataframe\">\n  <thead>\n    <tr style=\"text-align: right;\">\n      <th></th>\n      <th>QUESTID2</th>\n      <th>FILEDATE</th>\n      <th>CIGEVER</th>\n      <th>CIGOFRSM</th>\n      <th>CIGWILYR</th>\n      <th>CIGTRY</th>\n      <th>CIGYFU</th>\n      <th>CIGMFU</th>\n      <th>CIGREC</th>\n      <th>CIG30USE</th>\n      <th>...</th>\n      <th>POVERTY3</th>\n      <th>TOOLONG</th>\n      <th>TROUBUND</th>\n      <th>PDEN10</th>\n      <th>COUTYP4</th>\n      <th>MAIIN102</th>\n      <th>AIIND102</th>\n      <th>ANALWT_C</th>\n      <th>VESTR</th>\n      <th>VEREP</th>\n    </tr>\n  </thead>\n  <tbody>\n    <tr>\n      <th>0</th>\n      <td>11635143</td>\n      <td>02/28/2018</td>\n      <td>1</td>\n      <td>99</td>\n      <td>99</td>\n      <td>16</td>\n      <td>9999</td>\n      <td>99</td>\n      <td>4</td>\n      <td>93</td>\n      <td>...</td>\n      <td>3.0</td>\n      <td>2</td>\n      <td>2</td>\n      <td>3</td>\n      <td>3</td>\n      <td>2</td>\n      <td>2</td>\n      <td>819.434247</td>\n      <td>40037</td>\n      <td>2</td>\n    </tr>\n    <tr>\n      <th>1</th>\n      <td>36845143</td>\n      <td>02/28/2018</td>\n      <td>1</td>\n      <td>99</td>\n      <td>99</td>\n      <td>15</td>\n      <td>9999</td>\n      <td>99</td>\n      <td>1</td>\n      <td>7</td>\n      <td>...</td>\n      <td>3.0</td>\n      <td>1</td>\n      <td>2</td>\n      <td>2</td>\n      <td>2</td>\n      <td>2</td>\n      <td>2</td>\n      <td>280.624351</td>\n      <td>40013</td>\n      <td>2</td>\n    </tr>\n    <tr>\n      <th>2</th>\n      <td>35755143</td>\n      <td>02/28/2018</td>\n      <td>1</td>\n      <td>99</td>\n      <td>99</td>\n      <td>26</td>\n      <td>9999</td>\n      <td>99</td>\n      <td>1</td>\n      <td>7</td>\n      <td>...</td>\n      <td>2.0</td>\n      <td>2</td>\n      <td>2</td>\n      <td>1</td>\n      <td>1</td>\n      <td>2</td>\n      <td>2</td>\n      <td>10133.833580</td>\n      <td>40036</td>\n      <td>2</td>\n    </tr>\n    <tr>\n      <th>3</th>\n      <td>94475143</td>\n      <td>02/28/2018</td>\n      <td>2</td>\n      <td>4</td>\n      <td>4</td>\n      <td>991</td>\n      <td>9991</td>\n      <td>91</td>\n      <td>91</td>\n      <td>91</td>\n      <td>...</td>\n      <td>3.0</td>\n      <td>2</td>\n      <td>2</td>\n      <td>1</td>\n      <td>1</td>\n      <td>2</td>\n      <td>2</td>\n      <td>2284.717175</td>\n      <td>40028</td>\n      <td>1</td>\n    </tr>\n    <tr>\n      <th>4</th>\n      <td>92675143</td>\n      <td>02/28/2018</td>\n      <td>1</td>\n      <td>99</td>\n      <td>99</td>\n      <td>5</td>\n      <td>9999</td>\n      <td>99</td>\n      <td>4</td>\n      <td>93</td>\n      <td>...</td>\n      <td>3.0</td>\n      <td>2</td>\n      <td>2</td>\n      <td>1</td>\n      <td>1</td>\n      <td>2</td>\n      <td>2</td>\n      <td>24815.892370</td>\n      <td>40009</td>\n      <td>2</td>\n    </tr>\n  </tbody>\n</table>\n<p>5 rows × 2668 columns</p>\n</div>"
     },
     "metadata": {},
     "execution_count": 219
    }
   ],
   "source": [
    "# Reading in the data\n",
    "data4_df = pd.read_csv('NSDUH_2016_Tab.csv')\n",
    "data4_df.head()"
   ]
  },
  {
   "cell_type": "code",
   "execution_count": 220,
   "metadata": {},
   "outputs": [
    {
     "output_type": "stream",
     "name": "stdout",
     "text": [
      "<class 'pandas.core.frame.DataFrame'>\nRangeIndex: 56897 entries, 0 to 56896\nColumns: 2668 entries, QUESTID2 to VEREP\ndtypes: float64(407), int64(2259), object(2)\nmemory usage: 1.1+ GB\n"
     ]
    }
   ],
   "source": [
    "data4_df.info()"
   ]
  },
  {
   "cell_type": "code",
   "execution_count": 221,
   "metadata": {},
   "outputs": [
    {
     "output_type": "stream",
     "name": "stdout",
     "text": [
      "<class 'pandas.core.frame.DataFrame'>\nRangeIndex: 56897 entries, 0 to 56896\nData columns (total 64 columns):\n #   Column        Non-Null Count  Dtype\n---  ------        --------------  -----\n 0   AGE2          56897 non-null  int64\n 1   IRMARIT       56897 non-null  int64\n 2   SERVICE       56897 non-null  int64\n 3   HEALTH        56897 non-null  int64\n 4   MOVSINPYR2    56897 non-null  int64\n 5   SEXATRACT     56897 non-null  int64\n 6   SEXIDENT      56897 non-null  int64\n 7   DIFFTHINK     56897 non-null  int64\n 8   DIFFWALK      56897 non-null  int64\n 9   DIFFDRESS     56897 non-null  int64\n 10  DIFFERAND     56897 non-null  int64\n 11  IREDUHIGHST2  56897 non-null  int64\n 12  WRKSTATWK2    56897 non-null  int64\n 13  IRWRKSTAT     56897 non-null  int64\n 14  WRKNUMJOB2    56897 non-null  int64\n 15  IRPINC3       56897 non-null  int64\n 16  CIGEVER       56897 non-null  int64\n 17  CIGTRY        56897 non-null  int64\n 18  CIGDLYMO      56897 non-null  int64\n 19  CIG100LF      56897 non-null  int64\n 20  CG30EST       56897 non-null  int64\n 21  ALCEVER       56897 non-null  int64\n 22  ALCREC        56897 non-null  int64\n 23  ALCYRTOT      56897 non-null  int64\n 24  ALCDAYS       56897 non-null  int64\n 25  ALCUS30D      56897 non-null  int64\n 26  MJEVER        56897 non-null  int64\n 27  COCEVER       56897 non-null  int64\n 28  CRKEVER       56897 non-null  int64\n 29  HEREVER       56897 non-null  int64\n 30  LSD           56897 non-null  int64\n 31  PCP           56897 non-null  int64\n 32  PEYOTE        56897 non-null  int64\n 33  MESC          56897 non-null  int64\n 34  PSILCY        56897 non-null  int64\n 35  ECSTMOLLY     56897 non-null  int64\n 36  KETMINESK     56897 non-null  int64\n 37  DMTAMTFXY     56897 non-null  int64\n 38  SALVIADIV     56897 non-null  int64\n 39  HALLUCOTH     56897 non-null  int64\n 40  AMYLNIT       56897 non-null  int64\n 41  CLEFLU        56897 non-null  int64\n 42  GAS           56897 non-null  int64\n 43  GLUE          56897 non-null  int64\n 44  ETHER         56897 non-null  int64\n 45  SOLVENT       56897 non-null  int64\n 46  LGAS          56897 non-null  int64\n 47  NITOXID       56897 non-null  int64\n 48  FELTMARKR     56897 non-null  int64\n 49  SPPAINT       56897 non-null  int64\n 50  AIRDUSTER     56897 non-null  int64\n 51  OTHAEROS      56897 non-null  int64\n 52  INHALOTH      56897 non-null  int64\n 53  METHAMEVR     56897 non-null  int64\n 54  PNRANYLIF     56897 non-null  int64\n 55  TRQANYLIF     56897 non-null  int64\n 56  STMANYLIF     56897 non-null  int64\n 57  SEDANYLIF     56897 non-null  int64\n 58  DSTNRV30      56897 non-null  int64\n 59  DSTHOP30      56897 non-null  int64\n 60  DSTRST30      56897 non-null  int64\n 61  DSTCHR30      56897 non-null  int64\n 62  DSTEFF30      56897 non-null  int64\n 63  DSTNGD30      56897 non-null  int64\ndtypes: int64(64)\nmemory usage: 27.8 MB\n"
     ]
    }
   ],
   "source": [
    "# Extracting the colums required for the project\n",
    "data4_df = data4_df[['AGE2', 'IRMARIT', 'SERVICE', 'HEALTH', 'MOVSINPYR2', 'SEXATRACT', 'SEXIDENT', 'DIFFTHINK', 'DIFFWALK','DIFFDRESS', 'DIFFERAND', 'IREDUHIGHST2', 'WRKSTATWK2', 'IRWRKSTAT', 'WRKNUMJOB2', 'IRPINC3', 'CIGEVER', 'CIGTRY', 'CIGDLYMO', 'CIG100LF', 'CG30EST', 'ALCEVER', 'ALCREC', 'ALCYRTOT', 'ALCDAYS', 'ALCUS30D', 'MJEVER', 'COCEVER', 'CRKEVER', 'HEREVER', 'LSD', 'PCP', 'PEYOTE', 'MESC', 'PSILCY', 'ECSTMOLLY', 'KETMINESK', 'DMTAMTFXY', 'SALVIADIV', 'HALLUCOTH', 'AMYLNIT', 'CLEFLU', 'GAS', 'GLUE', 'ETHER', 'SOLVENT', 'LGAS', 'NITOXID', 'FELTMARKR', 'SPPAINT', 'AIRDUSTER', 'OTHAEROS', 'INHALOTH', 'METHAMEVR', 'PNRANYLIF', 'TRQANYLIF', 'STMANYLIF', 'SEDANYLIF', 'DSTNRV30', 'DSTHOP30', 'DSTRST30', 'DSTCHR30', 'DSTEFF30', 'DSTNGD30']]\n",
    "data4_df.info()"
   ]
  },
  {
   "cell_type": "code",
   "execution_count": 222,
   "metadata": {},
   "outputs": [
    {
     "output_type": "execute_result",
     "data": {
      "text/plain": [
       "       AGE2  IRMARIT  SERVICE  HEALTH  MOVSINPYR2  SEXATRACT  SEXIDENT  \\\n",
       "0        14        1        2       1           0          1         1   \n",
       "1        11        4        2       3           3          3         3   \n",
       "2        15        1        2       1           0          1         1   \n",
       "4        17        1        2       2           0          1         1   \n",
       "5        13        1        2       2           1          6         1   \n",
       "...     ...      ...      ...     ...         ...        ...       ...   \n",
       "56890    15        1        2       1           0          1         1   \n",
       "56891    16        1        2       4           0          1        97   \n",
       "56893    11        4        2       2           0          1         1   \n",
       "56894    15        1        2       2           0          1         1   \n",
       "56895    16        3        2       2           0          2         1   \n",
       "\n",
       "       DIFFTHINK  DIFFWALK  DIFFDRESS  ...  PNRANYLIF  TRQANYLIF  STMANYLIF  \\\n",
       "0              2         2          2  ...          1          2          2   \n",
       "1              2         2          2  ...          5          5          5   \n",
       "2              2         2          2  ...          2          2          2   \n",
       "4              2         2          2  ...          1          1          2   \n",
       "5              2         2          2  ...          2          2          2   \n",
       "...          ...       ...        ...  ...        ...        ...        ...   \n",
       "56890          2         2          2  ...          1          2          2   \n",
       "56891          2         2          2  ...          2          2          2   \n",
       "56893          2         2          2  ...          5          5          2   \n",
       "56894          2         2          2  ...          1          1          2   \n",
       "56895          2         2          2  ...          5          5          2   \n",
       "\n",
       "       SEDANYLIF  DSTNRV30  DSTHOP30  DSTRST30  DSTCHR30  DSTEFF30  DSTNGD30  \n",
       "0              2         4         5         3         5         4         5  \n",
       "1              5         2         2         3         2         1         2  \n",
       "2              2         5         5         5         5         5         5  \n",
       "4              2         5         4         5         5         4         4  \n",
       "5              2         5         5         5         5         4         5  \n",
       "...          ...       ...       ...       ...       ...       ...       ...  \n",
       "56890          2         4         5         5         5         5         5  \n",
       "56891          2         5         5         5         5         5         5  \n",
       "56893          2         5         5         4         5         4         5  \n",
       "56894          2         5         5         5         5         5         4  \n",
       "56895          2         3         5         3         5         4         5  \n",
       "\n",
       "[42625 rows x 64 columns]"
      ],
      "text/html": "<div>\n<style scoped>\n    .dataframe tbody tr th:only-of-type {\n        vertical-align: middle;\n    }\n\n    .dataframe tbody tr th {\n        vertical-align: top;\n    }\n\n    .dataframe thead th {\n        text-align: right;\n    }\n</style>\n<table border=\"1\" class=\"dataframe\">\n  <thead>\n    <tr style=\"text-align: right;\">\n      <th></th>\n      <th>AGE2</th>\n      <th>IRMARIT</th>\n      <th>SERVICE</th>\n      <th>HEALTH</th>\n      <th>MOVSINPYR2</th>\n      <th>SEXATRACT</th>\n      <th>SEXIDENT</th>\n      <th>DIFFTHINK</th>\n      <th>DIFFWALK</th>\n      <th>DIFFDRESS</th>\n      <th>...</th>\n      <th>PNRANYLIF</th>\n      <th>TRQANYLIF</th>\n      <th>STMANYLIF</th>\n      <th>SEDANYLIF</th>\n      <th>DSTNRV30</th>\n      <th>DSTHOP30</th>\n      <th>DSTRST30</th>\n      <th>DSTCHR30</th>\n      <th>DSTEFF30</th>\n      <th>DSTNGD30</th>\n    </tr>\n  </thead>\n  <tbody>\n    <tr>\n      <th>0</th>\n      <td>14</td>\n      <td>1</td>\n      <td>2</td>\n      <td>1</td>\n      <td>0</td>\n      <td>1</td>\n      <td>1</td>\n      <td>2</td>\n      <td>2</td>\n      <td>2</td>\n      <td>...</td>\n      <td>1</td>\n      <td>2</td>\n      <td>2</td>\n      <td>2</td>\n      <td>4</td>\n      <td>5</td>\n      <td>3</td>\n      <td>5</td>\n      <td>4</td>\n      <td>5</td>\n    </tr>\n    <tr>\n      <th>1</th>\n      <td>11</td>\n      <td>4</td>\n      <td>2</td>\n      <td>3</td>\n      <td>3</td>\n      <td>3</td>\n      <td>3</td>\n      <td>2</td>\n      <td>2</td>\n      <td>2</td>\n      <td>...</td>\n      <td>5</td>\n      <td>5</td>\n      <td>5</td>\n      <td>5</td>\n      <td>2</td>\n      <td>2</td>\n      <td>3</td>\n      <td>2</td>\n      <td>1</td>\n      <td>2</td>\n    </tr>\n    <tr>\n      <th>2</th>\n      <td>15</td>\n      <td>1</td>\n      <td>2</td>\n      <td>1</td>\n      <td>0</td>\n      <td>1</td>\n      <td>1</td>\n      <td>2</td>\n      <td>2</td>\n      <td>2</td>\n      <td>...</td>\n      <td>2</td>\n      <td>2</td>\n      <td>2</td>\n      <td>2</td>\n      <td>5</td>\n      <td>5</td>\n      <td>5</td>\n      <td>5</td>\n      <td>5</td>\n      <td>5</td>\n    </tr>\n    <tr>\n      <th>4</th>\n      <td>17</td>\n      <td>1</td>\n      <td>2</td>\n      <td>2</td>\n      <td>0</td>\n      <td>1</td>\n      <td>1</td>\n      <td>2</td>\n      <td>2</td>\n      <td>2</td>\n      <td>...</td>\n      <td>1</td>\n      <td>1</td>\n      <td>2</td>\n      <td>2</td>\n      <td>5</td>\n      <td>4</td>\n      <td>5</td>\n      <td>5</td>\n      <td>4</td>\n      <td>4</td>\n    </tr>\n    <tr>\n      <th>5</th>\n      <td>13</td>\n      <td>1</td>\n      <td>2</td>\n      <td>2</td>\n      <td>1</td>\n      <td>6</td>\n      <td>1</td>\n      <td>2</td>\n      <td>2</td>\n      <td>2</td>\n      <td>...</td>\n      <td>2</td>\n      <td>2</td>\n      <td>2</td>\n      <td>2</td>\n      <td>5</td>\n      <td>5</td>\n      <td>5</td>\n      <td>5</td>\n      <td>4</td>\n      <td>5</td>\n    </tr>\n    <tr>\n      <th>...</th>\n      <td>...</td>\n      <td>...</td>\n      <td>...</td>\n      <td>...</td>\n      <td>...</td>\n      <td>...</td>\n      <td>...</td>\n      <td>...</td>\n      <td>...</td>\n      <td>...</td>\n      <td>...</td>\n      <td>...</td>\n      <td>...</td>\n      <td>...</td>\n      <td>...</td>\n      <td>...</td>\n      <td>...</td>\n      <td>...</td>\n      <td>...</td>\n      <td>...</td>\n      <td>...</td>\n    </tr>\n    <tr>\n      <th>56890</th>\n      <td>15</td>\n      <td>1</td>\n      <td>2</td>\n      <td>1</td>\n      <td>0</td>\n      <td>1</td>\n      <td>1</td>\n      <td>2</td>\n      <td>2</td>\n      <td>2</td>\n      <td>...</td>\n      <td>1</td>\n      <td>2</td>\n      <td>2</td>\n      <td>2</td>\n      <td>4</td>\n      <td>5</td>\n      <td>5</td>\n      <td>5</td>\n      <td>5</td>\n      <td>5</td>\n    </tr>\n    <tr>\n      <th>56891</th>\n      <td>16</td>\n      <td>1</td>\n      <td>2</td>\n      <td>4</td>\n      <td>0</td>\n      <td>1</td>\n      <td>97</td>\n      <td>2</td>\n      <td>2</td>\n      <td>2</td>\n      <td>...</td>\n      <td>2</td>\n      <td>2</td>\n      <td>2</td>\n      <td>2</td>\n      <td>5</td>\n      <td>5</td>\n      <td>5</td>\n      <td>5</td>\n      <td>5</td>\n      <td>5</td>\n    </tr>\n    <tr>\n      <th>56893</th>\n      <td>11</td>\n      <td>4</td>\n      <td>2</td>\n      <td>2</td>\n      <td>0</td>\n      <td>1</td>\n      <td>1</td>\n      <td>2</td>\n      <td>2</td>\n      <td>2</td>\n      <td>...</td>\n      <td>5</td>\n      <td>5</td>\n      <td>2</td>\n      <td>2</td>\n      <td>5</td>\n      <td>5</td>\n      <td>4</td>\n      <td>5</td>\n      <td>4</td>\n      <td>5</td>\n    </tr>\n    <tr>\n      <th>56894</th>\n      <td>15</td>\n      <td>1</td>\n      <td>2</td>\n      <td>2</td>\n      <td>0</td>\n      <td>1</td>\n      <td>1</td>\n      <td>2</td>\n      <td>2</td>\n      <td>2</td>\n      <td>...</td>\n      <td>1</td>\n      <td>1</td>\n      <td>2</td>\n      <td>2</td>\n      <td>5</td>\n      <td>5</td>\n      <td>5</td>\n      <td>5</td>\n      <td>5</td>\n      <td>4</td>\n    </tr>\n    <tr>\n      <th>56895</th>\n      <td>16</td>\n      <td>3</td>\n      <td>2</td>\n      <td>2</td>\n      <td>0</td>\n      <td>2</td>\n      <td>1</td>\n      <td>2</td>\n      <td>2</td>\n      <td>2</td>\n      <td>...</td>\n      <td>5</td>\n      <td>5</td>\n      <td>2</td>\n      <td>2</td>\n      <td>3</td>\n      <td>5</td>\n      <td>3</td>\n      <td>5</td>\n      <td>4</td>\n      <td>5</td>\n    </tr>\n  </tbody>\n</table>\n<p>42625 rows × 64 columns</p>\n</div>"
     },
     "metadata": {},
     "execution_count": 222
    }
   ],
   "source": [
    "# extracting over 18-years-of-age responses\n",
    "data4_df = data4_df[data4_df['AGE2'] > 6]\n",
    "data4_df"
   ]
  },
  {
   "cell_type": "code",
   "execution_count": 223,
   "metadata": {},
   "outputs": [],
   "source": [
    "# copying the dataframe for more data cleaning\n",
    "data4_df_cp = data4_df.copy()"
   ]
  },
  {
   "cell_type": "code",
   "execution_count": 224,
   "metadata": {},
   "outputs": [
    {
     "output_type": "execute_result",
     "data": {
      "text/plain": [
       "       AGE2  IRMARIT  SERVICE  HEALTH  MOVSINPYR2  SEXATRACT  SEXIDENT  \\\n",
       "0        14        1      2.0       1         0.0          1         1   \n",
       "1        11        4      2.0       3         3.0          3         3   \n",
       "2        15        1      2.0       1         0.0          1         1   \n",
       "4        17        1      2.0       2         0.0          1         1   \n",
       "5        13        1      2.0       2         1.0          6         1   \n",
       "...     ...      ...      ...     ...         ...        ...       ...   \n",
       "56890    15        1      2.0       1         0.0          1         1   \n",
       "56891    16        1      2.0       4         0.0          1        97   \n",
       "56893    11        4      2.0       2         0.0          1         1   \n",
       "56894    15        1      2.0       2         0.0          1         1   \n",
       "56895    16        3      2.0       2         0.0          2         1   \n",
       "\n",
       "       DIFFTHINK  DIFFWALK  DIFFDRESS  ...  PNRANYLIF  TRQANYLIF  STMANYLIF  \\\n",
       "0              2         2          2  ...          1          2          2   \n",
       "1              2         2          2  ...          5          5          5   \n",
       "2              2         2          2  ...          2          2          2   \n",
       "4              2         2          2  ...          1          1          2   \n",
       "5              2         2          2  ...          2          2          2   \n",
       "...          ...       ...        ...  ...        ...        ...        ...   \n",
       "56890          2         2          2  ...          1          2          2   \n",
       "56891          2         2          2  ...          2          2          2   \n",
       "56893          2         2          2  ...          5          5          2   \n",
       "56894          2         2          2  ...          1          1          2   \n",
       "56895          2         2          2  ...          5          5          2   \n",
       "\n",
       "       SEDANYLIF  DSTNRV30  DSTHOP30  DSTRST30  DSTCHR30  DSTEFF30  DSTNGD30  \n",
       "0              2       4.0       5.0       3.0       5.0       4.0       5.0  \n",
       "1              5       2.0       2.0       3.0       2.0       1.0       2.0  \n",
       "2              2       5.0       5.0       5.0       5.0       5.0       5.0  \n",
       "4              2       5.0       4.0       5.0       5.0       4.0       4.0  \n",
       "5              2       5.0       5.0       5.0       5.0       4.0       5.0  \n",
       "...          ...       ...       ...       ...       ...       ...       ...  \n",
       "56890          2       4.0       5.0       5.0       5.0       5.0       5.0  \n",
       "56891          2       5.0       5.0       5.0       5.0       5.0       5.0  \n",
       "56893          2       5.0       5.0       4.0       5.0       4.0       5.0  \n",
       "56894          2       5.0       5.0       5.0       5.0       5.0       4.0  \n",
       "56895          2       3.0       5.0       3.0       5.0       4.0       5.0  \n",
       "\n",
       "[41844 rows x 64 columns]"
      ],
      "text/html": "<div>\n<style scoped>\n    .dataframe tbody tr th:only-of-type {\n        vertical-align: middle;\n    }\n\n    .dataframe tbody tr th {\n        vertical-align: top;\n    }\n\n    .dataframe thead th {\n        text-align: right;\n    }\n</style>\n<table border=\"1\" class=\"dataframe\">\n  <thead>\n    <tr style=\"text-align: right;\">\n      <th></th>\n      <th>AGE2</th>\n      <th>IRMARIT</th>\n      <th>SERVICE</th>\n      <th>HEALTH</th>\n      <th>MOVSINPYR2</th>\n      <th>SEXATRACT</th>\n      <th>SEXIDENT</th>\n      <th>DIFFTHINK</th>\n      <th>DIFFWALK</th>\n      <th>DIFFDRESS</th>\n      <th>...</th>\n      <th>PNRANYLIF</th>\n      <th>TRQANYLIF</th>\n      <th>STMANYLIF</th>\n      <th>SEDANYLIF</th>\n      <th>DSTNRV30</th>\n      <th>DSTHOP30</th>\n      <th>DSTRST30</th>\n      <th>DSTCHR30</th>\n      <th>DSTEFF30</th>\n      <th>DSTNGD30</th>\n    </tr>\n  </thead>\n  <tbody>\n    <tr>\n      <th>0</th>\n      <td>14</td>\n      <td>1</td>\n      <td>2.0</td>\n      <td>1</td>\n      <td>0.0</td>\n      <td>1</td>\n      <td>1</td>\n      <td>2</td>\n      <td>2</td>\n      <td>2</td>\n      <td>...</td>\n      <td>1</td>\n      <td>2</td>\n      <td>2</td>\n      <td>2</td>\n      <td>4.0</td>\n      <td>5.0</td>\n      <td>3.0</td>\n      <td>5.0</td>\n      <td>4.0</td>\n      <td>5.0</td>\n    </tr>\n    <tr>\n      <th>1</th>\n      <td>11</td>\n      <td>4</td>\n      <td>2.0</td>\n      <td>3</td>\n      <td>3.0</td>\n      <td>3</td>\n      <td>3</td>\n      <td>2</td>\n      <td>2</td>\n      <td>2</td>\n      <td>...</td>\n      <td>5</td>\n      <td>5</td>\n      <td>5</td>\n      <td>5</td>\n      <td>2.0</td>\n      <td>2.0</td>\n      <td>3.0</td>\n      <td>2.0</td>\n      <td>1.0</td>\n      <td>2.0</td>\n    </tr>\n    <tr>\n      <th>2</th>\n      <td>15</td>\n      <td>1</td>\n      <td>2.0</td>\n      <td>1</td>\n      <td>0.0</td>\n      <td>1</td>\n      <td>1</td>\n      <td>2</td>\n      <td>2</td>\n      <td>2</td>\n      <td>...</td>\n      <td>2</td>\n      <td>2</td>\n      <td>2</td>\n      <td>2</td>\n      <td>5.0</td>\n      <td>5.0</td>\n      <td>5.0</td>\n      <td>5.0</td>\n      <td>5.0</td>\n      <td>5.0</td>\n    </tr>\n    <tr>\n      <th>4</th>\n      <td>17</td>\n      <td>1</td>\n      <td>2.0</td>\n      <td>2</td>\n      <td>0.0</td>\n      <td>1</td>\n      <td>1</td>\n      <td>2</td>\n      <td>2</td>\n      <td>2</td>\n      <td>...</td>\n      <td>1</td>\n      <td>1</td>\n      <td>2</td>\n      <td>2</td>\n      <td>5.0</td>\n      <td>4.0</td>\n      <td>5.0</td>\n      <td>5.0</td>\n      <td>4.0</td>\n      <td>4.0</td>\n    </tr>\n    <tr>\n      <th>5</th>\n      <td>13</td>\n      <td>1</td>\n      <td>2.0</td>\n      <td>2</td>\n      <td>1.0</td>\n      <td>6</td>\n      <td>1</td>\n      <td>2</td>\n      <td>2</td>\n      <td>2</td>\n      <td>...</td>\n      <td>2</td>\n      <td>2</td>\n      <td>2</td>\n      <td>2</td>\n      <td>5.0</td>\n      <td>5.0</td>\n      <td>5.0</td>\n      <td>5.0</td>\n      <td>4.0</td>\n      <td>5.0</td>\n    </tr>\n    <tr>\n      <th>...</th>\n      <td>...</td>\n      <td>...</td>\n      <td>...</td>\n      <td>...</td>\n      <td>...</td>\n      <td>...</td>\n      <td>...</td>\n      <td>...</td>\n      <td>...</td>\n      <td>...</td>\n      <td>...</td>\n      <td>...</td>\n      <td>...</td>\n      <td>...</td>\n      <td>...</td>\n      <td>...</td>\n      <td>...</td>\n      <td>...</td>\n      <td>...</td>\n      <td>...</td>\n      <td>...</td>\n    </tr>\n    <tr>\n      <th>56890</th>\n      <td>15</td>\n      <td>1</td>\n      <td>2.0</td>\n      <td>1</td>\n      <td>0.0</td>\n      <td>1</td>\n      <td>1</td>\n      <td>2</td>\n      <td>2</td>\n      <td>2</td>\n      <td>...</td>\n      <td>1</td>\n      <td>2</td>\n      <td>2</td>\n      <td>2</td>\n      <td>4.0</td>\n      <td>5.0</td>\n      <td>5.0</td>\n      <td>5.0</td>\n      <td>5.0</td>\n      <td>5.0</td>\n    </tr>\n    <tr>\n      <th>56891</th>\n      <td>16</td>\n      <td>1</td>\n      <td>2.0</td>\n      <td>4</td>\n      <td>0.0</td>\n      <td>1</td>\n      <td>97</td>\n      <td>2</td>\n      <td>2</td>\n      <td>2</td>\n      <td>...</td>\n      <td>2</td>\n      <td>2</td>\n      <td>2</td>\n      <td>2</td>\n      <td>5.0</td>\n      <td>5.0</td>\n      <td>5.0</td>\n      <td>5.0</td>\n      <td>5.0</td>\n      <td>5.0</td>\n    </tr>\n    <tr>\n      <th>56893</th>\n      <td>11</td>\n      <td>4</td>\n      <td>2.0</td>\n      <td>2</td>\n      <td>0.0</td>\n      <td>1</td>\n      <td>1</td>\n      <td>2</td>\n      <td>2</td>\n      <td>2</td>\n      <td>...</td>\n      <td>5</td>\n      <td>5</td>\n      <td>2</td>\n      <td>2</td>\n      <td>5.0</td>\n      <td>5.0</td>\n      <td>4.0</td>\n      <td>5.0</td>\n      <td>4.0</td>\n      <td>5.0</td>\n    </tr>\n    <tr>\n      <th>56894</th>\n      <td>15</td>\n      <td>1</td>\n      <td>2.0</td>\n      <td>2</td>\n      <td>0.0</td>\n      <td>1</td>\n      <td>1</td>\n      <td>2</td>\n      <td>2</td>\n      <td>2</td>\n      <td>...</td>\n      <td>1</td>\n      <td>1</td>\n      <td>2</td>\n      <td>2</td>\n      <td>5.0</td>\n      <td>5.0</td>\n      <td>5.0</td>\n      <td>5.0</td>\n      <td>5.0</td>\n      <td>4.0</td>\n    </tr>\n    <tr>\n      <th>56895</th>\n      <td>16</td>\n      <td>3</td>\n      <td>2.0</td>\n      <td>2</td>\n      <td>0.0</td>\n      <td>2</td>\n      <td>1</td>\n      <td>2</td>\n      <td>2</td>\n      <td>2</td>\n      <td>...</td>\n      <td>5</td>\n      <td>5</td>\n      <td>2</td>\n      <td>2</td>\n      <td>3.0</td>\n      <td>5.0</td>\n      <td>3.0</td>\n      <td>5.0</td>\n      <td>4.0</td>\n      <td>5.0</td>\n    </tr>\n  </tbody>\n</table>\n<p>41844 rows × 64 columns</p>\n</div>"
     },
     "metadata": {},
     "execution_count": 224
    }
   ],
   "source": [
    "# removing the 85 & 985 (bad data) response from all appropriate columns\n",
    "data4_df_cp.loc[:, ['ALCYRTOT', 'ALCUS30D']] = data4_df_cp.loc[:, ['ALCYRTOT', 'ALCUS30D']].replace(85, 9999)\n",
    "data4_df_cp = data4_df_cp.replace([85, 985], np.nan)\n",
    "data4_df_cp = data4_df_cp.dropna()\n",
    "data4_df_cp.loc[:, ['ALCYRTOT', 'ALCUS30D']] = data4_df_cp.loc[:, ['ALCYRTOT', 'ALCUS30D']].replace(9999, 85)\n",
    "data4_df_cp"
   ]
  },
  {
   "cell_type": "code",
   "execution_count": 225,
   "metadata": {},
   "outputs": [],
   "source": [
    "# replacing the responses not useable for the project, like 'don't know' or 'refused to respond' with NaN for easy removal of rows\n",
    "data4_df_cp.loc[:, 'SERVICE'] = data4_df_cp.loc[:, 'SERVICE'].replace([94, 97], np.nan)\n",
    "data4_df_cp.loc[:, 'HEALTH'] = data4_df_cp.loc[:, 'HEALTH'].replace(97, np.nan)\n",
    "data4_df_cp.loc[:, 'MOVSINPYR2'] = data4_df_cp.loc[:, 'MOVSINPYR2'].replace([994, 997, 998], np.nan)\n",
    "data4_df_cp.loc[:, 'DIFFTHINK'] = data4_df_cp.loc[:, 'DIFFTHINK'].replace([94, 97, 98], np.nan)\n",
    "data4_df_cp.loc[:, 'DIFFWALK'] = data4_df_cp.loc[:, 'DIFFWALK'].replace([94, 97, 98], np.nan)\n",
    "data4_df_cp.loc[:, 'DIFFDRESS'] = data4_df_cp.loc[:, 'DIFFDRESS'].replace([94, 97, 98], np.nan)\n",
    "data4_df_cp.loc[:, 'DIFFERAND'] = data4_df_cp.loc[:, 'DIFFERAND'].replace([94, 97, 98, 99], np.nan)\n",
    "data4_df_cp.loc[:, 'IRMARIT'] = data4_df_cp.loc[:, 'IRMARIT'].replace(99, np.nan)\n",
    "data4_df_cp.loc[:, 'WRKSTATWK2'] = data4_df_cp.loc[:, 'WRKSTATWK2'].replace([99, 98], np.nan)\n",
    "data4_df_cp.loc[:, 'WRKNUMJOB2'] = data4_df_cp.loc[:, 'WRKNUMJOB2'].replace([94, 97, 98, 99], np.nan)\n",
    "data4_df_cp.loc[:, 'IRWRKSTAT'] = data4_df_cp.loc[:, 'IRWRKSTAT'].replace(99, np.nan)\n",
    "\n",
    "data4_df_cp.loc[:, 'CIGTRY'] = data4_df_cp.loc[:, 'CIGTRY'].replace([994, 997], np.nan)\n",
    "data4_df_cp.loc[:, 'CIGDLYMO'] = data4_df_cp.loc[:, 'CIGDLYMO'].replace([94, 97, 98], np.nan)\n",
    "data4_df_cp.loc[:, 'CIG100LF'] = data4_df_cp.loc[:, 'CIG100LF'].replace([94, 97, 98], np.nan)\n",
    "data4_df_cp.loc[:, 'CG30EST'] = data4_df_cp.loc[:, 'CG30EST'].replace([94, 97, 98, 99], np.nan)\n",
    "\n",
    "data4_df_cp.loc[:, 'ALCEVER'] = data4_df_cp.loc[:, 'ALCEVER'].replace([98, 97], np.nan)\n",
    "data4_df_cp.loc[:, 'ALCREC'] = data4_df_cp.loc[:, 'ALCREC'].replace([97, 98], np.nan)\n",
    "data4_df_cp.loc[:, 'ALCYRTOT'] = data4_df_cp.loc[:, 'ALCYRTOT'].replace([994, 997, 998], np.nan)\n",
    "data4_df_cp.loc[:, 'ALCDAYS'] = data4_df_cp.loc[:, 'ALCDAYS'].replace([94, 97, 98], np.nan)\n",
    "data4_df_cp.loc[:, 'ALCUS30D'] = data4_df_cp.loc[:, 'ALCUS30D'].replace([994, 997, 998], np.nan)\n",
    "\n",
    "data4_df_cp.loc[:, 'MOVSINPYR2'] = data4_df_cp.loc[:, 'MOVSINPYR2'].replace([994, 997, 998], np.nan)\n",
    "data4_df_cp.loc[:, 'MOVSINPYR2'] = data4_df_cp.loc[:, 'MOVSINPYR2'].replace([994, 997, 998], np.nan)\n",
    "\n",
    "data4_df_cp.loc[:, 'MJEVER'] = data4_df_cp.loc[:, 'MJEVER'].replace([94, 97], np.nan)\n",
    "data4_df_cp.loc[:, 'COCEVER'] = data4_df_cp.loc[:, 'COCEVER'].replace([94, 97], np.nan)\n",
    "data4_df_cp.loc[:, 'CRKEVER'] = data4_df_cp.loc[:, 'CRKEVER'].replace([94, 97, 98], np.nan)\n",
    "data4_df_cp.loc[:, 'HEREVER'] = data4_df_cp.loc[:, 'HEREVER'].replace([94, 97], np.nan)\n",
    "\n",
    "data4_df_cp.loc[:, ['LSD', 'PCP', 'PEYOTE', 'MESC', 'PSILCY', 'ECSTMOLLY', 'KETMINESK', 'DMTAMTFXY', 'SALVIADIV', 'HALLUCOTH']] = data4_df_cp.loc[:, ['LSD', 'PCP', 'PEYOTE', 'MESC', 'PSILCY', 'ECSTMOLLY', 'KETMINESK', 'DMTAMTFXY', 'SALVIADIV', 'HALLUCOTH']].replace([94, 97], np.nan)\n",
    "\n",
    "data4_df_cp.loc[:, ['AMYLNIT', 'CLEFLU', 'GAS', 'GLUE', 'ETHER', 'SOLVENT', 'LGAS', 'NITOXID', 'AIRDUSTER', 'OTHAEROS', 'INHALOTH']] = data4_df_cp.loc[:, ['AMYLNIT', 'CLEFLU', 'GAS', 'GLUE', 'ETHER', 'SOLVENT', 'LGAS', 'NITOXID', 'AIRDUSTER', 'OTHAEROS', 'INHALOTH']].replace([94, 97], np.nan)\n",
    "\n",
    "data4_df_cp.loc[:, 'METHAMEVR'] = data4_df_cp.loc[:, 'METHAMEVR'].replace([94, 97], np.nan)\n",
    "\n",
    "data4_df_cp.loc[:, ['PNRANYLIF', 'TRQANYLIF', 'STMANYLIF', 'SEDANYLIF']] = data4_df_cp.loc[:, ['PNRANYLIF', 'TRQANYLIF', 'STMANYLIF', 'SEDANYLIF']].replace([94, 97, 98], np.nan)\n",
    "\n",
    "data4_df_cp.loc[:, ['DSTNRV30', 'DSTHOP30', 'DSTRST30', 'DSTCHR30', 'DSTEFF30', 'DSTNGD30']] = data4_df_cp.loc[:, ['DSTNRV30', 'DSTHOP30', 'DSTRST30', 'DSTCHR30', 'DSTEFF30', 'DSTNGD30']].replace([94, 97, 98, 99], np.nan)"
   ]
  },
  {
   "cell_type": "code",
   "execution_count": 226,
   "metadata": {},
   "outputs": [
    {
     "output_type": "execute_result",
     "data": {
      "text/plain": [
       "       AGE2  IRMARIT  SERVICE  HEALTH  MOVSINPYR2  SEXATRACT  SEXIDENT  \\\n",
       "4        17        1      2.0     2.0         0.0          1         1   \n",
       "7        15        1      2.0     2.0         0.0          1         1   \n",
       "9         7        4      2.0     1.0         1.0          1         1   \n",
       "13       15        1      2.0     2.0         0.0          1         1   \n",
       "15       13        1      2.0     2.0         0.0          1         1   \n",
       "...     ...      ...      ...     ...         ...        ...       ...   \n",
       "56886    15        1      2.0     2.0         0.0          1         1   \n",
       "56889    13        4      2.0     5.0         0.0          1         1   \n",
       "56890    15        1      2.0     1.0         0.0          1         1   \n",
       "56894    15        1      2.0     2.0         0.0          1         1   \n",
       "56895    16        3      2.0     2.0         0.0          2         1   \n",
       "\n",
       "       DIFFTHINK  DIFFWALK  DIFFDRESS  ...  PNRANYLIF  TRQANYLIF  STMANYLIF  \\\n",
       "4            2.0       2.0        2.0  ...        1.0        1.0        2.0   \n",
       "7            2.0       2.0        2.0  ...        1.0        2.0        2.0   \n",
       "9            2.0       2.0        2.0  ...        2.0        2.0        2.0   \n",
       "13           1.0       2.0        2.0  ...        2.0        2.0        2.0   \n",
       "15           2.0       2.0        2.0  ...        1.0        2.0        2.0   \n",
       "...          ...       ...        ...  ...        ...        ...        ...   \n",
       "56886        2.0       2.0        2.0  ...        1.0        2.0        2.0   \n",
       "56889        1.0       1.0        2.0  ...        5.0        5.0        2.0   \n",
       "56890        2.0       2.0        2.0  ...        1.0        2.0        2.0   \n",
       "56894        2.0       2.0        2.0  ...        1.0        1.0        2.0   \n",
       "56895        2.0       2.0        2.0  ...        5.0        5.0        2.0   \n",
       "\n",
       "       SEDANYLIF  DSTNRV30  DSTHOP30  DSTRST30  DSTCHR30  DSTEFF30  DSTNGD30  \n",
       "4            2.0       5.0       4.0       5.0       5.0       4.0       4.0  \n",
       "7            2.0       5.0       5.0       5.0       5.0       4.0       5.0  \n",
       "9            2.0       5.0       5.0       5.0       5.0       4.0       5.0  \n",
       "13           2.0       1.0       4.0       2.0       3.0       2.0       4.0  \n",
       "15           2.0       4.0       5.0       5.0       5.0       4.0       5.0  \n",
       "...          ...       ...       ...       ...       ...       ...       ...  \n",
       "56886        2.0       5.0       5.0       5.0       5.0       5.0       5.0  \n",
       "56889        2.0       2.0       2.0       1.0       2.0       1.0       2.0  \n",
       "56890        2.0       4.0       5.0       5.0       5.0       5.0       5.0  \n",
       "56894        2.0       5.0       5.0       5.0       5.0       5.0       4.0  \n",
       "56895        2.0       3.0       5.0       3.0       5.0       4.0       5.0  \n",
       "\n",
       "[23613 rows x 64 columns]"
      ],
      "text/html": "<div>\n<style scoped>\n    .dataframe tbody tr th:only-of-type {\n        vertical-align: middle;\n    }\n\n    .dataframe tbody tr th {\n        vertical-align: top;\n    }\n\n    .dataframe thead th {\n        text-align: right;\n    }\n</style>\n<table border=\"1\" class=\"dataframe\">\n  <thead>\n    <tr style=\"text-align: right;\">\n      <th></th>\n      <th>AGE2</th>\n      <th>IRMARIT</th>\n      <th>SERVICE</th>\n      <th>HEALTH</th>\n      <th>MOVSINPYR2</th>\n      <th>SEXATRACT</th>\n      <th>SEXIDENT</th>\n      <th>DIFFTHINK</th>\n      <th>DIFFWALK</th>\n      <th>DIFFDRESS</th>\n      <th>...</th>\n      <th>PNRANYLIF</th>\n      <th>TRQANYLIF</th>\n      <th>STMANYLIF</th>\n      <th>SEDANYLIF</th>\n      <th>DSTNRV30</th>\n      <th>DSTHOP30</th>\n      <th>DSTRST30</th>\n      <th>DSTCHR30</th>\n      <th>DSTEFF30</th>\n      <th>DSTNGD30</th>\n    </tr>\n  </thead>\n  <tbody>\n    <tr>\n      <th>4</th>\n      <td>17</td>\n      <td>1</td>\n      <td>2.0</td>\n      <td>2.0</td>\n      <td>0.0</td>\n      <td>1</td>\n      <td>1</td>\n      <td>2.0</td>\n      <td>2.0</td>\n      <td>2.0</td>\n      <td>...</td>\n      <td>1.0</td>\n      <td>1.0</td>\n      <td>2.0</td>\n      <td>2.0</td>\n      <td>5.0</td>\n      <td>4.0</td>\n      <td>5.0</td>\n      <td>5.0</td>\n      <td>4.0</td>\n      <td>4.0</td>\n    </tr>\n    <tr>\n      <th>7</th>\n      <td>15</td>\n      <td>1</td>\n      <td>2.0</td>\n      <td>2.0</td>\n      <td>0.0</td>\n      <td>1</td>\n      <td>1</td>\n      <td>2.0</td>\n      <td>2.0</td>\n      <td>2.0</td>\n      <td>...</td>\n      <td>1.0</td>\n      <td>2.0</td>\n      <td>2.0</td>\n      <td>2.0</td>\n      <td>5.0</td>\n      <td>5.0</td>\n      <td>5.0</td>\n      <td>5.0</td>\n      <td>4.0</td>\n      <td>5.0</td>\n    </tr>\n    <tr>\n      <th>9</th>\n      <td>7</td>\n      <td>4</td>\n      <td>2.0</td>\n      <td>1.0</td>\n      <td>1.0</td>\n      <td>1</td>\n      <td>1</td>\n      <td>2.0</td>\n      <td>2.0</td>\n      <td>2.0</td>\n      <td>...</td>\n      <td>2.0</td>\n      <td>2.0</td>\n      <td>2.0</td>\n      <td>2.0</td>\n      <td>5.0</td>\n      <td>5.0</td>\n      <td>5.0</td>\n      <td>5.0</td>\n      <td>4.0</td>\n      <td>5.0</td>\n    </tr>\n    <tr>\n      <th>13</th>\n      <td>15</td>\n      <td>1</td>\n      <td>2.0</td>\n      <td>2.0</td>\n      <td>0.0</td>\n      <td>1</td>\n      <td>1</td>\n      <td>1.0</td>\n      <td>2.0</td>\n      <td>2.0</td>\n      <td>...</td>\n      <td>2.0</td>\n      <td>2.0</td>\n      <td>2.0</td>\n      <td>2.0</td>\n      <td>1.0</td>\n      <td>4.0</td>\n      <td>2.0</td>\n      <td>3.0</td>\n      <td>2.0</td>\n      <td>4.0</td>\n    </tr>\n    <tr>\n      <th>15</th>\n      <td>13</td>\n      <td>1</td>\n      <td>2.0</td>\n      <td>2.0</td>\n      <td>0.0</td>\n      <td>1</td>\n      <td>1</td>\n      <td>2.0</td>\n      <td>2.0</td>\n      <td>2.0</td>\n      <td>...</td>\n      <td>1.0</td>\n      <td>2.0</td>\n      <td>2.0</td>\n      <td>2.0</td>\n      <td>4.0</td>\n      <td>5.0</td>\n      <td>5.0</td>\n      <td>5.0</td>\n      <td>4.0</td>\n      <td>5.0</td>\n    </tr>\n    <tr>\n      <th>...</th>\n      <td>...</td>\n      <td>...</td>\n      <td>...</td>\n      <td>...</td>\n      <td>...</td>\n      <td>...</td>\n      <td>...</td>\n      <td>...</td>\n      <td>...</td>\n      <td>...</td>\n      <td>...</td>\n      <td>...</td>\n      <td>...</td>\n      <td>...</td>\n      <td>...</td>\n      <td>...</td>\n      <td>...</td>\n      <td>...</td>\n      <td>...</td>\n      <td>...</td>\n      <td>...</td>\n    </tr>\n    <tr>\n      <th>56886</th>\n      <td>15</td>\n      <td>1</td>\n      <td>2.0</td>\n      <td>2.0</td>\n      <td>0.0</td>\n      <td>1</td>\n      <td>1</td>\n      <td>2.0</td>\n      <td>2.0</td>\n      <td>2.0</td>\n      <td>...</td>\n      <td>1.0</td>\n      <td>2.0</td>\n      <td>2.0</td>\n      <td>2.0</td>\n      <td>5.0</td>\n      <td>5.0</td>\n      <td>5.0</td>\n      <td>5.0</td>\n      <td>5.0</td>\n      <td>5.0</td>\n    </tr>\n    <tr>\n      <th>56889</th>\n      <td>13</td>\n      <td>4</td>\n      <td>2.0</td>\n      <td>5.0</td>\n      <td>0.0</td>\n      <td>1</td>\n      <td>1</td>\n      <td>1.0</td>\n      <td>1.0</td>\n      <td>2.0</td>\n      <td>...</td>\n      <td>5.0</td>\n      <td>5.0</td>\n      <td>2.0</td>\n      <td>2.0</td>\n      <td>2.0</td>\n      <td>2.0</td>\n      <td>1.0</td>\n      <td>2.0</td>\n      <td>1.0</td>\n      <td>2.0</td>\n    </tr>\n    <tr>\n      <th>56890</th>\n      <td>15</td>\n      <td>1</td>\n      <td>2.0</td>\n      <td>1.0</td>\n      <td>0.0</td>\n      <td>1</td>\n      <td>1</td>\n      <td>2.0</td>\n      <td>2.0</td>\n      <td>2.0</td>\n      <td>...</td>\n      <td>1.0</td>\n      <td>2.0</td>\n      <td>2.0</td>\n      <td>2.0</td>\n      <td>4.0</td>\n      <td>5.0</td>\n      <td>5.0</td>\n      <td>5.0</td>\n      <td>5.0</td>\n      <td>5.0</td>\n    </tr>\n    <tr>\n      <th>56894</th>\n      <td>15</td>\n      <td>1</td>\n      <td>2.0</td>\n      <td>2.0</td>\n      <td>0.0</td>\n      <td>1</td>\n      <td>1</td>\n      <td>2.0</td>\n      <td>2.0</td>\n      <td>2.0</td>\n      <td>...</td>\n      <td>1.0</td>\n      <td>1.0</td>\n      <td>2.0</td>\n      <td>2.0</td>\n      <td>5.0</td>\n      <td>5.0</td>\n      <td>5.0</td>\n      <td>5.0</td>\n      <td>5.0</td>\n      <td>4.0</td>\n    </tr>\n    <tr>\n      <th>56895</th>\n      <td>16</td>\n      <td>3</td>\n      <td>2.0</td>\n      <td>2.0</td>\n      <td>0.0</td>\n      <td>2</td>\n      <td>1</td>\n      <td>2.0</td>\n      <td>2.0</td>\n      <td>2.0</td>\n      <td>...</td>\n      <td>5.0</td>\n      <td>5.0</td>\n      <td>2.0</td>\n      <td>2.0</td>\n      <td>3.0</td>\n      <td>5.0</td>\n      <td>3.0</td>\n      <td>5.0</td>\n      <td>4.0</td>\n      <td>5.0</td>\n    </tr>\n  </tbody>\n</table>\n<p>23613 rows × 64 columns</p>\n</div>"
     },
     "metadata": {},
     "execution_count": 226
    }
   ],
   "source": [
    "data4_df_cp = data4_df_cp.dropna()\n",
    "data4_df_cp"
   ]
  },
  {
   "cell_type": "code",
   "execution_count": 227,
   "metadata": {},
   "outputs": [
    {
     "output_type": "stream",
     "name": "stdout",
     "text": [
      "<class 'pandas.core.frame.DataFrame'>\nInt64Index: 23613 entries, 4 to 56895\nData columns (total 64 columns):\n #   Column        Non-Null Count  Dtype  \n---  ------        --------------  -----  \n 0   AGE2          23613 non-null  int64  \n 1   IRMARIT       23613 non-null  int64  \n 2   SERVICE       23613 non-null  float64\n 3   HEALTH        23613 non-null  float64\n 4   MOVSINPYR2    23613 non-null  float64\n 5   SEXATRACT     23613 non-null  int64  \n 6   SEXIDENT      23613 non-null  int64  \n 7   DIFFTHINK     23613 non-null  float64\n 8   DIFFWALK      23613 non-null  float64\n 9   DIFFDRESS     23613 non-null  float64\n 10  DIFFERAND     23613 non-null  float64\n 11  IREDUHIGHST2  23613 non-null  int64  \n 12  WRKSTATWK2    23613 non-null  float64\n 13  IRWRKSTAT     23613 non-null  int64  \n 14  WRKNUMJOB2    23613 non-null  float64\n 15  IRPINC3       23613 non-null  int64  \n 16  CIGEVER       23613 non-null  int64  \n 17  CIGTRY        23613 non-null  float64\n 18  CIGDLYMO      23613 non-null  float64\n 19  CIG100LF      23613 non-null  float64\n 20  CG30EST       23613 non-null  float64\n 21  ALCEVER       23613 non-null  float64\n 22  ALCREC        23613 non-null  float64\n 23  ALCYRTOT      23613 non-null  float64\n 24  ALCDAYS       23613 non-null  float64\n 25  ALCUS30D      23613 non-null  float64\n 26  MJEVER        23613 non-null  float64\n 27  COCEVER       23613 non-null  float64\n 28  CRKEVER       23613 non-null  float64\n 29  HEREVER       23613 non-null  float64\n 30  LSD           23613 non-null  float64\n 31  PCP           23613 non-null  float64\n 32  PEYOTE        23613 non-null  float64\n 33  MESC          23613 non-null  float64\n 34  PSILCY        23613 non-null  float64\n 35  ECSTMOLLY     23613 non-null  float64\n 36  KETMINESK     23613 non-null  float64\n 37  DMTAMTFXY     23613 non-null  float64\n 38  SALVIADIV     23613 non-null  float64\n 39  HALLUCOTH     23613 non-null  float64\n 40  AMYLNIT       23613 non-null  float64\n 41  CLEFLU        23613 non-null  float64\n 42  GAS           23613 non-null  float64\n 43  GLUE          23613 non-null  float64\n 44  ETHER         23613 non-null  float64\n 45  SOLVENT       23613 non-null  float64\n 46  LGAS          23613 non-null  float64\n 47  NITOXID       23613 non-null  float64\n 48  FELTMARKR     23613 non-null  float64\n 49  SPPAINT       23613 non-null  float64\n 50  AIRDUSTER     23613 non-null  float64\n 51  OTHAEROS      23613 non-null  float64\n 52  INHALOTH      23613 non-null  float64\n 53  METHAMEVR     23613 non-null  float64\n 54  PNRANYLIF     23613 non-null  float64\n 55  TRQANYLIF     23613 non-null  float64\n 56  STMANYLIF     23613 non-null  float64\n 57  SEDANYLIF     23613 non-null  float64\n 58  DSTNRV30      23613 non-null  float64\n 59  DSTHOP30      23613 non-null  float64\n 60  DSTRST30      23613 non-null  float64\n 61  DSTCHR30      23613 non-null  float64\n 62  DSTEFF30      23613 non-null  float64\n 63  DSTNGD30      23613 non-null  float64\ndtypes: float64(56), int64(8)\nmemory usage: 11.7 MB\n"
     ]
    }
   ],
   "source": [
    "data4_df_cp.info()"
   ]
  },
  {
   "cell_type": "code",
   "execution_count": 229,
   "metadata": {},
   "outputs": [
    {
     "output_type": "execute_result",
     "data": {
      "text/plain": [
       "       AGE2  IRMARIT  SERVICE  HEALTH  MOVSINPYR2  SEXATRACT  SEXIDENT  \\\n",
       "4        17        1      2.0     2.0         0.0          1         1   \n",
       "7        15        1      2.0     2.0         0.0          1         1   \n",
       "9         7        4      2.0     1.0         1.0          1         1   \n",
       "13       15        1      2.0     2.0         0.0          1         1   \n",
       "15       13        1      2.0     2.0         0.0          1         1   \n",
       "...     ...      ...      ...     ...         ...        ...       ...   \n",
       "56886    15        1      2.0     2.0         0.0          1         1   \n",
       "56889    13        4      2.0     5.0         0.0          1         1   \n",
       "56890    15        1      2.0     1.0         0.0          1         1   \n",
       "56894    15        1      2.0     2.0         0.0          1         1   \n",
       "56895    16        3      2.0     2.0         0.0          2         1   \n",
       "\n",
       "       DIFFTHINK  DIFFWALK  DIFFDRESS  ...  PNRANYLIF  TRQANYLIF  STMANYLIF  \\\n",
       "4            2.0       2.0        2.0  ...        1.0        1.0        2.0   \n",
       "7            2.0       2.0        2.0  ...        1.0        2.0        2.0   \n",
       "9            2.0       2.0        2.0  ...        2.0        2.0        2.0   \n",
       "13           1.0       2.0        2.0  ...        2.0        2.0        2.0   \n",
       "15           2.0       2.0        2.0  ...        1.0        2.0        2.0   \n",
       "...          ...       ...        ...  ...        ...        ...        ...   \n",
       "56886        2.0       2.0        2.0  ...        1.0        2.0        2.0   \n",
       "56889        1.0       1.0        2.0  ...        1.0        1.0        2.0   \n",
       "56890        2.0       2.0        2.0  ...        1.0        2.0        2.0   \n",
       "56894        2.0       2.0        2.0  ...        1.0        1.0        2.0   \n",
       "56895        2.0       2.0        2.0  ...        1.0        1.0        2.0   \n",
       "\n",
       "       SEDANYLIF  DSTNRV30  DSTHOP30  DSTRST30  DSTCHR30  DSTEFF30  DSTNGD30  \n",
       "4            2.0       5.0       4.0       5.0       5.0       4.0       4.0  \n",
       "7            2.0       5.0       5.0       5.0       5.0       4.0       5.0  \n",
       "9            2.0       5.0       5.0       5.0       5.0       4.0       5.0  \n",
       "13           2.0       1.0       4.0       2.0       3.0       2.0       4.0  \n",
       "15           2.0       4.0       5.0       5.0       5.0       4.0       5.0  \n",
       "...          ...       ...       ...       ...       ...       ...       ...  \n",
       "56886        2.0       5.0       5.0       5.0       5.0       5.0       5.0  \n",
       "56889        2.0       2.0       2.0       1.0       2.0       1.0       2.0  \n",
       "56890        2.0       4.0       5.0       5.0       5.0       5.0       5.0  \n",
       "56894        2.0       5.0       5.0       5.0       5.0       5.0       4.0  \n",
       "56895        2.0       3.0       5.0       3.0       5.0       4.0       5.0  \n",
       "\n",
       "[23613 rows x 64 columns]"
      ],
      "text/html": "<div>\n<style scoped>\n    .dataframe tbody tr th:only-of-type {\n        vertical-align: middle;\n    }\n\n    .dataframe tbody tr th {\n        vertical-align: top;\n    }\n\n    .dataframe thead th {\n        text-align: right;\n    }\n</style>\n<table border=\"1\" class=\"dataframe\">\n  <thead>\n    <tr style=\"text-align: right;\">\n      <th></th>\n      <th>AGE2</th>\n      <th>IRMARIT</th>\n      <th>SERVICE</th>\n      <th>HEALTH</th>\n      <th>MOVSINPYR2</th>\n      <th>SEXATRACT</th>\n      <th>SEXIDENT</th>\n      <th>DIFFTHINK</th>\n      <th>DIFFWALK</th>\n      <th>DIFFDRESS</th>\n      <th>...</th>\n      <th>PNRANYLIF</th>\n      <th>TRQANYLIF</th>\n      <th>STMANYLIF</th>\n      <th>SEDANYLIF</th>\n      <th>DSTNRV30</th>\n      <th>DSTHOP30</th>\n      <th>DSTRST30</th>\n      <th>DSTCHR30</th>\n      <th>DSTEFF30</th>\n      <th>DSTNGD30</th>\n    </tr>\n  </thead>\n  <tbody>\n    <tr>\n      <th>4</th>\n      <td>17</td>\n      <td>1</td>\n      <td>2.0</td>\n      <td>2.0</td>\n      <td>0.0</td>\n      <td>1</td>\n      <td>1</td>\n      <td>2.0</td>\n      <td>2.0</td>\n      <td>2.0</td>\n      <td>...</td>\n      <td>1.0</td>\n      <td>1.0</td>\n      <td>2.0</td>\n      <td>2.0</td>\n      <td>5.0</td>\n      <td>4.0</td>\n      <td>5.0</td>\n      <td>5.0</td>\n      <td>4.0</td>\n      <td>4.0</td>\n    </tr>\n    <tr>\n      <th>7</th>\n      <td>15</td>\n      <td>1</td>\n      <td>2.0</td>\n      <td>2.0</td>\n      <td>0.0</td>\n      <td>1</td>\n      <td>1</td>\n      <td>2.0</td>\n      <td>2.0</td>\n      <td>2.0</td>\n      <td>...</td>\n      <td>1.0</td>\n      <td>2.0</td>\n      <td>2.0</td>\n      <td>2.0</td>\n      <td>5.0</td>\n      <td>5.0</td>\n      <td>5.0</td>\n      <td>5.0</td>\n      <td>4.0</td>\n      <td>5.0</td>\n    </tr>\n    <tr>\n      <th>9</th>\n      <td>7</td>\n      <td>4</td>\n      <td>2.0</td>\n      <td>1.0</td>\n      <td>1.0</td>\n      <td>1</td>\n      <td>1</td>\n      <td>2.0</td>\n      <td>2.0</td>\n      <td>2.0</td>\n      <td>...</td>\n      <td>2.0</td>\n      <td>2.0</td>\n      <td>2.0</td>\n      <td>2.0</td>\n      <td>5.0</td>\n      <td>5.0</td>\n      <td>5.0</td>\n      <td>5.0</td>\n      <td>4.0</td>\n      <td>5.0</td>\n    </tr>\n    <tr>\n      <th>13</th>\n      <td>15</td>\n      <td>1</td>\n      <td>2.0</td>\n      <td>2.0</td>\n      <td>0.0</td>\n      <td>1</td>\n      <td>1</td>\n      <td>1.0</td>\n      <td>2.0</td>\n      <td>2.0</td>\n      <td>...</td>\n      <td>2.0</td>\n      <td>2.0</td>\n      <td>2.0</td>\n      <td>2.0</td>\n      <td>1.0</td>\n      <td>4.0</td>\n      <td>2.0</td>\n      <td>3.0</td>\n      <td>2.0</td>\n      <td>4.0</td>\n    </tr>\n    <tr>\n      <th>15</th>\n      <td>13</td>\n      <td>1</td>\n      <td>2.0</td>\n      <td>2.0</td>\n      <td>0.0</td>\n      <td>1</td>\n      <td>1</td>\n      <td>2.0</td>\n      <td>2.0</td>\n      <td>2.0</td>\n      <td>...</td>\n      <td>1.0</td>\n      <td>2.0</td>\n      <td>2.0</td>\n      <td>2.0</td>\n      <td>4.0</td>\n      <td>5.0</td>\n      <td>5.0</td>\n      <td>5.0</td>\n      <td>4.0</td>\n      <td>5.0</td>\n    </tr>\n    <tr>\n      <th>...</th>\n      <td>...</td>\n      <td>...</td>\n      <td>...</td>\n      <td>...</td>\n      <td>...</td>\n      <td>...</td>\n      <td>...</td>\n      <td>...</td>\n      <td>...</td>\n      <td>...</td>\n      <td>...</td>\n      <td>...</td>\n      <td>...</td>\n      <td>...</td>\n      <td>...</td>\n      <td>...</td>\n      <td>...</td>\n      <td>...</td>\n      <td>...</td>\n      <td>...</td>\n      <td>...</td>\n    </tr>\n    <tr>\n      <th>56886</th>\n      <td>15</td>\n      <td>1</td>\n      <td>2.0</td>\n      <td>2.0</td>\n      <td>0.0</td>\n      <td>1</td>\n      <td>1</td>\n      <td>2.0</td>\n      <td>2.0</td>\n      <td>2.0</td>\n      <td>...</td>\n      <td>1.0</td>\n      <td>2.0</td>\n      <td>2.0</td>\n      <td>2.0</td>\n      <td>5.0</td>\n      <td>5.0</td>\n      <td>5.0</td>\n      <td>5.0</td>\n      <td>5.0</td>\n      <td>5.0</td>\n    </tr>\n    <tr>\n      <th>56889</th>\n      <td>13</td>\n      <td>4</td>\n      <td>2.0</td>\n      <td>5.0</td>\n      <td>0.0</td>\n      <td>1</td>\n      <td>1</td>\n      <td>1.0</td>\n      <td>1.0</td>\n      <td>2.0</td>\n      <td>...</td>\n      <td>1.0</td>\n      <td>1.0</td>\n      <td>2.0</td>\n      <td>2.0</td>\n      <td>2.0</td>\n      <td>2.0</td>\n      <td>1.0</td>\n      <td>2.0</td>\n      <td>1.0</td>\n      <td>2.0</td>\n    </tr>\n    <tr>\n      <th>56890</th>\n      <td>15</td>\n      <td>1</td>\n      <td>2.0</td>\n      <td>1.0</td>\n      <td>0.0</td>\n      <td>1</td>\n      <td>1</td>\n      <td>2.0</td>\n      <td>2.0</td>\n      <td>2.0</td>\n      <td>...</td>\n      <td>1.0</td>\n      <td>2.0</td>\n      <td>2.0</td>\n      <td>2.0</td>\n      <td>4.0</td>\n      <td>5.0</td>\n      <td>5.0</td>\n      <td>5.0</td>\n      <td>5.0</td>\n      <td>5.0</td>\n    </tr>\n    <tr>\n      <th>56894</th>\n      <td>15</td>\n      <td>1</td>\n      <td>2.0</td>\n      <td>2.0</td>\n      <td>0.0</td>\n      <td>1</td>\n      <td>1</td>\n      <td>2.0</td>\n      <td>2.0</td>\n      <td>2.0</td>\n      <td>...</td>\n      <td>1.0</td>\n      <td>1.0</td>\n      <td>2.0</td>\n      <td>2.0</td>\n      <td>5.0</td>\n      <td>5.0</td>\n      <td>5.0</td>\n      <td>5.0</td>\n      <td>5.0</td>\n      <td>4.0</td>\n    </tr>\n    <tr>\n      <th>56895</th>\n      <td>16</td>\n      <td>3</td>\n      <td>2.0</td>\n      <td>2.0</td>\n      <td>0.0</td>\n      <td>2</td>\n      <td>1</td>\n      <td>2.0</td>\n      <td>2.0</td>\n      <td>2.0</td>\n      <td>...</td>\n      <td>1.0</td>\n      <td>1.0</td>\n      <td>2.0</td>\n      <td>2.0</td>\n      <td>3.0</td>\n      <td>5.0</td>\n      <td>3.0</td>\n      <td>5.0</td>\n      <td>4.0</td>\n      <td>5.0</td>\n    </tr>\n  </tbody>\n</table>\n<p>23613 rows × 64 columns</p>\n</div>"
     },
     "metadata": {},
     "execution_count": 229
    }
   ],
   "source": [
    "# Some responses have different numbers but will mean the same in the m achine learning stage so I'm replacing them to be the same number\n",
    "data4_df_cp.loc[:, 'SEXATRACT'] = data4_df_cp.loc[:, 'SEXATRACT'].replace(94, 6)\n",
    "data4_df_cp.loc[:, 'SEXATRACT'] = data4_df_cp.loc[:, 'SEXATRACT'].replace([97, 99], 98)\n",
    "data4_df_cp.loc[:, 'SEXIDENT'] = data4_df_cp.loc[:, 'SEXIDENT'].replace([97, 99], 98)\n",
    "data4_df_cp.loc[:, ['CIGDLYMO', 'CIG100LF','PNRANYLIF', 'TRQANYLIF', 'STMANYLIF', 'SEDANYLIF']] = data4_df_cp.loc[:, ['CIGDLYMO', 'CIG100LF', 'PNRANYLIF', 'TRQANYLIF', 'STMANYLIF', 'SEDANYLIF']].replace(5, 1)\n",
    "data4_df_cp.loc[:, 'ALCREC'] = data4_df_cp.loc[:, 'ALCREC'].replace(11, 1)\n",
    "data4_df_cp.loc[:, 'ALCREC'] = data4_df_cp.loc[:, 'ALCREC'].replace(8, 2)\n",
    "data4_df_cp.loc[:, 'ALCUS30D'] = data4_df_cp.loc[:, 'ALCUS30D'].replace(975, 4)\n",
    "data4_df_cp.loc[:, 'SERVICE'] = data4_df_cp.loc[:, 'SERVICE'].replace(89, 99)\n",
    "data4_df_cp.loc[:, 'SEXATRACT'] = data4_df_cp.loc[:, 'SEXATRACT'].replace(89, 99)\n",
    "data4_df_cp.loc[:, 'SEXIDENT'] = data4_df_cp.loc[:, 'SEXIDENT'].replace(89, 99)\n",
    "\n",
    "data4_df_cp.loc[:, ['CRKEVER', 'LSD', 'PCP', 'PEYOTE', 'MESC', 'PSILCY', 'ECSTMOLLY', 'KETMINESK', 'DMTAMTFXY', 'SALVIADIV', 'HALLUCOTH']] = data4_df_cp.loc[:, ['CRKEVER', 'LSD', 'PCP', 'PEYOTE', 'MESC', 'PSILCY', 'ECSTMOLLY', 'KETMINESK', 'DMTAMTFXY', 'SALVIADIV', 'HALLUCOTH']].replace(91, 2)\n",
    "\n",
    "data4_df_cp.loc[:, ['CIG100LF', 'LSD', 'PCP', 'PEYOTE', 'MESC', 'PSILCY', 'ECSTMOLLY', 'KETMINESK', 'DMTAMTFXY', 'SALVIADIV', 'HALLUCOTH']] = data4_df_cp.loc[:, ['CIG100LF', 'LSD', 'PCP', 'PEYOTE', 'MESC', 'PSILCY', 'ECSTMOLLY', 'KETMINESK', 'DMTAMTFXY', 'SALVIADIV', 'HALLUCOTH']].replace(3, 1)\n",
    "\n",
    "data4_df_cp.loc[:, ['AMYLNIT', 'CLEFLU', 'GAS', 'GLUE', 'ETHER', 'SOLVENT', 'LGAS', 'NITOXID', 'FELTMARKR', 'SPPAINT', 'AIRDUSTER', 'OTHAEROS', 'INHALOTH']] = data4_df_cp.loc[:, ['AMYLNIT', 'CLEFLU', 'GAS', 'GLUE', 'ETHER', 'SOLVENT', 'LGAS', 'NITOXID', 'FELTMARKR', 'SPPAINT', 'AIRDUSTER', 'OTHAEROS', 'INHALOTH']].replace(91, 2)\n",
    "\n",
    "data4_df_cp.loc[:, ['AMYLNIT', 'CLEFLU', 'GAS', 'GLUE', 'ETHER', 'SOLVENT', 'LGAS', 'NITOXID', 'FELTMARKR', 'SPPAINT', 'AIRDUSTER', 'OTHAEROS', 'INHALOTH']] = data4_df_cp.loc[:, ['AMYLNIT', 'CLEFLU', 'GAS', 'GLUE', 'ETHER', 'SOLVENT', 'LGAS', 'NITOXID', 'FELTMARKR', 'SPPAINT', 'AIRDUSTER', 'OTHAEROS', 'INHALOTH']].replace(3, 1)\n",
    "\n",
    "data4_df_cp"
   ]
  },
  {
   "cell_type": "code",
   "execution_count": 230,
   "metadata": {},
   "outputs": [],
   "source": [
    "# exporting the data to csv file\n",
    "data4_df_cp.to_csv(\"project3_raw_2016.csv\", index=False)"
   ]
  },
  {
   "source": [
    "# 2015"
   ],
   "cell_type": "markdown",
   "metadata": {}
  },
  {
   "cell_type": "code",
   "execution_count": 231,
   "metadata": {},
   "outputs": [
    {
     "output_type": "execute_result",
     "data": {
      "text/plain": [
       "   QUESTID2    FILEDATE  CIGEVER  CIGOFRSM  CIGWILYR  CIGTRY  CIGYFU  CIGMFU  \\\n",
       "0  25095143  02/15/2018        1        99        99      16    2014       1   \n",
       "1  13005143  02/15/2018        1        99        99      15    9999      99   \n",
       "2  67415143  02/15/2018        2        99        99     991    9991      91   \n",
       "3  70925143  02/15/2018        2         3         4     991    9991      91   \n",
       "4  75235143  02/15/2018        1        99        99      17    9999      99   \n",
       "\n",
       "   CIGREC  CIG30USE  ...  POVERTY3  TOOLONG  TROUBUND  PDEN10  COUTYP4  \\\n",
       "0       2        93  ...       1.0        2         2       3        3   \n",
       "1       3        93  ...       2.0        1         2       2        2   \n",
       "2      91        91  ...       1.0        2         2       2        3   \n",
       "3      91        91  ...       3.0        2         2       2        2   \n",
       "4       1        22  ...       1.0        2         2       3        3   \n",
       "\n",
       "   MAIIN102  AIIND102     ANALWT_C  VESTR  VEREP  \n",
       "0         2         2  1088.413235  40028      1  \n",
       "1         2         2  4423.360328  40025      1  \n",
       "2         2         2   328.111801  40004      2  \n",
       "3         2         2   235.290450  40027      1  \n",
       "4         2         2  2280.878615  40011      1  \n",
       "\n",
       "[5 rows x 2679 columns]"
      ],
      "text/html": "<div>\n<style scoped>\n    .dataframe tbody tr th:only-of-type {\n        vertical-align: middle;\n    }\n\n    .dataframe tbody tr th {\n        vertical-align: top;\n    }\n\n    .dataframe thead th {\n        text-align: right;\n    }\n</style>\n<table border=\"1\" class=\"dataframe\">\n  <thead>\n    <tr style=\"text-align: right;\">\n      <th></th>\n      <th>QUESTID2</th>\n      <th>FILEDATE</th>\n      <th>CIGEVER</th>\n      <th>CIGOFRSM</th>\n      <th>CIGWILYR</th>\n      <th>CIGTRY</th>\n      <th>CIGYFU</th>\n      <th>CIGMFU</th>\n      <th>CIGREC</th>\n      <th>CIG30USE</th>\n      <th>...</th>\n      <th>POVERTY3</th>\n      <th>TOOLONG</th>\n      <th>TROUBUND</th>\n      <th>PDEN10</th>\n      <th>COUTYP4</th>\n      <th>MAIIN102</th>\n      <th>AIIND102</th>\n      <th>ANALWT_C</th>\n      <th>VESTR</th>\n      <th>VEREP</th>\n    </tr>\n  </thead>\n  <tbody>\n    <tr>\n      <th>0</th>\n      <td>25095143</td>\n      <td>02/15/2018</td>\n      <td>1</td>\n      <td>99</td>\n      <td>99</td>\n      <td>16</td>\n      <td>2014</td>\n      <td>1</td>\n      <td>2</td>\n      <td>93</td>\n      <td>...</td>\n      <td>1.0</td>\n      <td>2</td>\n      <td>2</td>\n      <td>3</td>\n      <td>3</td>\n      <td>2</td>\n      <td>2</td>\n      <td>1088.413235</td>\n      <td>40028</td>\n      <td>1</td>\n    </tr>\n    <tr>\n      <th>1</th>\n      <td>13005143</td>\n      <td>02/15/2018</td>\n      <td>1</td>\n      <td>99</td>\n      <td>99</td>\n      <td>15</td>\n      <td>9999</td>\n      <td>99</td>\n      <td>3</td>\n      <td>93</td>\n      <td>...</td>\n      <td>2.0</td>\n      <td>1</td>\n      <td>2</td>\n      <td>2</td>\n      <td>2</td>\n      <td>2</td>\n      <td>2</td>\n      <td>4423.360328</td>\n      <td>40025</td>\n      <td>1</td>\n    </tr>\n    <tr>\n      <th>2</th>\n      <td>67415143</td>\n      <td>02/15/2018</td>\n      <td>2</td>\n      <td>99</td>\n      <td>99</td>\n      <td>991</td>\n      <td>9991</td>\n      <td>91</td>\n      <td>91</td>\n      <td>91</td>\n      <td>...</td>\n      <td>1.0</td>\n      <td>2</td>\n      <td>2</td>\n      <td>2</td>\n      <td>3</td>\n      <td>2</td>\n      <td>2</td>\n      <td>328.111801</td>\n      <td>40004</td>\n      <td>2</td>\n    </tr>\n    <tr>\n      <th>3</th>\n      <td>70925143</td>\n      <td>02/15/2018</td>\n      <td>2</td>\n      <td>3</td>\n      <td>4</td>\n      <td>991</td>\n      <td>9991</td>\n      <td>91</td>\n      <td>91</td>\n      <td>91</td>\n      <td>...</td>\n      <td>3.0</td>\n      <td>2</td>\n      <td>2</td>\n      <td>2</td>\n      <td>2</td>\n      <td>2</td>\n      <td>2</td>\n      <td>235.290450</td>\n      <td>40027</td>\n      <td>1</td>\n    </tr>\n    <tr>\n      <th>4</th>\n      <td>75235143</td>\n      <td>02/15/2018</td>\n      <td>1</td>\n      <td>99</td>\n      <td>99</td>\n      <td>17</td>\n      <td>9999</td>\n      <td>99</td>\n      <td>1</td>\n      <td>22</td>\n      <td>...</td>\n      <td>1.0</td>\n      <td>2</td>\n      <td>2</td>\n      <td>3</td>\n      <td>3</td>\n      <td>2</td>\n      <td>2</td>\n      <td>2280.878615</td>\n      <td>40011</td>\n      <td>1</td>\n    </tr>\n  </tbody>\n</table>\n<p>5 rows × 2679 columns</p>\n</div>"
     },
     "metadata": {},
     "execution_count": 231
    }
   ],
   "source": [
    "# Reading in the data\n",
    "data5_df = pd.read_csv('NSDUH_2015_Tab.csv')\n",
    "data5_df.head()"
   ]
  },
  {
   "cell_type": "code",
   "execution_count": 232,
   "metadata": {},
   "outputs": [
    {
     "output_type": "stream",
     "name": "stdout",
     "text": [
      "<class 'pandas.core.frame.DataFrame'>\nRangeIndex: 57146 entries, 0 to 57145\nColumns: 2679 entries, QUESTID2 to VEREP\ndtypes: float64(406), int64(2271), object(2)\nmemory usage: 1.1+ GB\n"
     ]
    }
   ],
   "source": [
    "data5_df.info()"
   ]
  },
  {
   "cell_type": "code",
   "execution_count": 234,
   "metadata": {},
   "outputs": [
    {
     "output_type": "stream",
     "name": "stdout",
     "text": [
      "<class 'pandas.core.frame.DataFrame'>\nRangeIndex: 57146 entries, 0 to 57145\nData columns (total 64 columns):\n #   Column        Non-Null Count  Dtype\n---  ------        --------------  -----\n 0   AGE2          57146 non-null  int64\n 1   IRMARITSTAT   57146 non-null  int64\n 2   SERVICE       57146 non-null  int64\n 3   HEALTH        57146 non-null  int64\n 4   MOVSINPYR2    57146 non-null  int64\n 5   SEXATRACT     57146 non-null  int64\n 6   SEXIDENT      57146 non-null  int64\n 7   DIFFTHINK     57146 non-null  int64\n 8   DIFFWALK      57146 non-null  int64\n 9   DIFFDRESS     57146 non-null  int64\n 10  DIFFERAND     57146 non-null  int64\n 11  IREDUHIGHST2  57146 non-null  int64\n 12  WRKSTATWK2    57146 non-null  int64\n 13  IRWRKSTAT     57146 non-null  int64\n 14  WRKNUMJOB2    57146 non-null  int64\n 15  IRPINC3       57146 non-null  int64\n 16  CIGEVER       57146 non-null  int64\n 17  CIGTRY        57146 non-null  int64\n 18  CIGDLYMO      57146 non-null  int64\n 19  CIG100LF      57146 non-null  int64\n 20  CG30EST       57146 non-null  int64\n 21  ALCEVER       57146 non-null  int64\n 22  ALCREC        57146 non-null  int64\n 23  ALCYRTOT      57146 non-null  int64\n 24  ALCDAYS       57146 non-null  int64\n 25  ALCUS30D      57146 non-null  int64\n 26  MJEVER        57146 non-null  int64\n 27  COCEVER       57146 non-null  int64\n 28  CRKEVER       57146 non-null  int64\n 29  HEREVER       57146 non-null  int64\n 30  LSD           57146 non-null  int64\n 31  PCP           57146 non-null  int64\n 32  PEYOTE        57146 non-null  int64\n 33  MESC          57146 non-null  int64\n 34  PSILCY        57146 non-null  int64\n 35  ECSTMOLLY     57146 non-null  int64\n 36  KETMINESK     57146 non-null  int64\n 37  DMTAMTFXY     57146 non-null  int64\n 38  SALVIADIV     57146 non-null  int64\n 39  HALLUCOTH     57146 non-null  int64\n 40  AMYLNIT       57146 non-null  int64\n 41  CLEFLU        57146 non-null  int64\n 42  GAS           57146 non-null  int64\n 43  GLUE          57146 non-null  int64\n 44  ETHER         57146 non-null  int64\n 45  SOLVENT       57146 non-null  int64\n 46  LGAS          57146 non-null  int64\n 47  NITOXID       57146 non-null  int64\n 48  FELTMARKR     57146 non-null  int64\n 49  SPPAINT       57146 non-null  int64\n 50  AIRDUSTER     57146 non-null  int64\n 51  OTHAEROS      57146 non-null  int64\n 52  INHALOTH      57146 non-null  int64\n 53  METHAMEVR     57146 non-null  int64\n 54  PNRANYLIF     57146 non-null  int64\n 55  TRQANYLIF     57146 non-null  int64\n 56  STMANYLIF     57146 non-null  int64\n 57  SEDANYLIF     57146 non-null  int64\n 58  DSTNRV30      57146 non-null  int64\n 59  DSTHOP30      57146 non-null  int64\n 60  DSTRST30      57146 non-null  int64\n 61  DSTCHR30      57146 non-null  int64\n 62  DSTEFF30      57146 non-null  int64\n 63  DSTNGD30      57146 non-null  int64\ndtypes: int64(64)\nmemory usage: 27.9 MB\n"
     ]
    }
   ],
   "source": [
    "# Extracting the colums required for the project\n",
    "data5_df = data5_df[['AGE2', 'IRMARITSTAT', 'SERVICE', 'HEALTH', 'MOVSINPYR2', 'SEXATRACT', 'SEXIDENT', 'DIFFTHINK', 'DIFFWALK','DIFFDRESS', 'DIFFERAND', 'IREDUHIGHST2', 'WRKSTATWK2', 'IRWRKSTAT', 'WRKNUMJOB2', 'IRPINC3', 'CIGEVER', 'CIGTRY', 'CIGDLYMO', 'CIG100LF', 'CG30EST', 'ALCEVER', 'ALCREC', 'ALCYRTOT', 'ALCDAYS', 'ALCUS30D', 'MJEVER', 'COCEVER', 'CRKEVER', 'HEREVER', 'LSD', 'PCP', 'PEYOTE', 'MESC', 'PSILCY', 'ECSTMOLLY', 'KETMINESK', 'DMTAMTFXY', 'SALVIADIV', 'HALLUCOTH', 'AMYLNIT', 'CLEFLU', 'GAS', 'GLUE', 'ETHER', 'SOLVENT', 'LGAS', 'NITOXID', 'FELTMARKR', 'SPPAINT', 'AIRDUSTER', 'OTHAEROS', 'INHALOTH', 'METHAMEVR', 'PNRANYLIF', 'TRQANYLIF', 'STMANYLIF', 'SEDANYLIF', 'DSTNRV30', 'DSTHOP30', 'DSTRST30', 'DSTCHR30', 'DSTEFF30', 'DSTNGD30']]\n",
    "data5_df.info()"
   ]
  },
  {
   "cell_type": "code",
   "execution_count": 235,
   "metadata": {},
   "outputs": [
    {
     "output_type": "stream",
     "name": "stdout",
     "text": [
      "<class 'pandas.core.frame.DataFrame'>\nRangeIndex: 57146 entries, 0 to 57145\nData columns (total 64 columns):\n #   Column        Non-Null Count  Dtype\n---  ------        --------------  -----\n 0   AGE2          57146 non-null  int64\n 1   IRMARIT       57146 non-null  int64\n 2   SERVICE       57146 non-null  int64\n 3   HEALTH        57146 non-null  int64\n 4   MOVSINPYR2    57146 non-null  int64\n 5   SEXATRACT     57146 non-null  int64\n 6   SEXIDENT      57146 non-null  int64\n 7   DIFFTHINK     57146 non-null  int64\n 8   DIFFWALK      57146 non-null  int64\n 9   DIFFDRESS     57146 non-null  int64\n 10  DIFFERAND     57146 non-null  int64\n 11  IREDUHIGHST2  57146 non-null  int64\n 12  WRKSTATWK2    57146 non-null  int64\n 13  IRWRKSTAT     57146 non-null  int64\n 14  WRKNUMJOB2    57146 non-null  int64\n 15  IRPINC3       57146 non-null  int64\n 16  CIGEVER       57146 non-null  int64\n 17  CIGTRY        57146 non-null  int64\n 18  CIGDLYMO      57146 non-null  int64\n 19  CIG100LF      57146 non-null  int64\n 20  CG30EST       57146 non-null  int64\n 21  ALCEVER       57146 non-null  int64\n 22  ALCREC        57146 non-null  int64\n 23  ALCYRTOT      57146 non-null  int64\n 24  ALCDAYS       57146 non-null  int64\n 25  ALCUS30D      57146 non-null  int64\n 26  MJEVER        57146 non-null  int64\n 27  COCEVER       57146 non-null  int64\n 28  CRKEVER       57146 non-null  int64\n 29  HEREVER       57146 non-null  int64\n 30  LSD           57146 non-null  int64\n 31  PCP           57146 non-null  int64\n 32  PEYOTE        57146 non-null  int64\n 33  MESC          57146 non-null  int64\n 34  PSILCY        57146 non-null  int64\n 35  ECSTMOLLY     57146 non-null  int64\n 36  KETMINESK     57146 non-null  int64\n 37  DMTAMTFXY     57146 non-null  int64\n 38  SALVIADIV     57146 non-null  int64\n 39  HALLUCOTH     57146 non-null  int64\n 40  AMYLNIT       57146 non-null  int64\n 41  CLEFLU        57146 non-null  int64\n 42  GAS           57146 non-null  int64\n 43  GLUE          57146 non-null  int64\n 44  ETHER         57146 non-null  int64\n 45  SOLVENT       57146 non-null  int64\n 46  LGAS          57146 non-null  int64\n 47  NITOXID       57146 non-null  int64\n 48  FELTMARKR     57146 non-null  int64\n 49  SPPAINT       57146 non-null  int64\n 50  AIRDUSTER     57146 non-null  int64\n 51  OTHAEROS      57146 non-null  int64\n 52  INHALOTH      57146 non-null  int64\n 53  METHAMEVR     57146 non-null  int64\n 54  PNRANYLIF     57146 non-null  int64\n 55  TRQANYLIF     57146 non-null  int64\n 56  STMANYLIF     57146 non-null  int64\n 57  SEDANYLIF     57146 non-null  int64\n 58  DSTNRV30      57146 non-null  int64\n 59  DSTHOP30      57146 non-null  int64\n 60  DSTRST30      57146 non-null  int64\n 61  DSTCHR30      57146 non-null  int64\n 62  DSTEFF30      57146 non-null  int64\n 63  DSTNGD30      57146 non-null  int64\ndtypes: int64(64)\nmemory usage: 27.9 MB\n"
     ]
    }
   ],
   "source": [
    "data5_df = data5_df.rename(columns={'IRMARITSTAT': 'IRMARIT'})\n",
    "data5_df.info()"
   ]
  },
  {
   "cell_type": "code",
   "execution_count": 236,
   "metadata": {},
   "outputs": [
    {
     "output_type": "execute_result",
     "data": {
      "text/plain": [
       "       AGE2  IRMARIT  SERVICE  HEALTH  MOVSINPYR2  SEXATRACT  SEXIDENT  \\\n",
       "1        15        3        2       1           0          1         1   \n",
       "2        14        4        2       2           0          1         1   \n",
       "4        11        1        2       3           1          1         1   \n",
       "5        12        4        2       3           0          1         1   \n",
       "6        12        1        2       2           0          1         1   \n",
       "...     ...      ...      ...     ...         ...        ...       ...   \n",
       "57138    10        4        2       4           3          2         1   \n",
       "57139    15        3        2       1           1          1         1   \n",
       "57141    16        4        2       2           0          5         2   \n",
       "57142    12        4        2       3           1          1         1   \n",
       "57143    11        4        2       2           0          1         1   \n",
       "\n",
       "       DIFFTHINK  DIFFWALK  DIFFDRESS  ...  PNRANYLIF  TRQANYLIF  STMANYLIF  \\\n",
       "1              2         2          2  ...          2          2          2   \n",
       "2              2         1          2  ...          5          5          2   \n",
       "4              1         2          2  ...          5          2          2   \n",
       "5              2         2          2  ...          2          2          2   \n",
       "6              2         2          2  ...          2          2          2   \n",
       "...          ...       ...        ...  ...        ...        ...        ...   \n",
       "57138          1         2          2  ...          5          5          5   \n",
       "57139          2         2          2  ...          5          1          2   \n",
       "57141          2         2          2  ...          5          2          2   \n",
       "57142          2         2          2  ...          2          2          2   \n",
       "57143          2         2          2  ...          1          2          2   \n",
       "\n",
       "       SEDANYLIF  DSTNRV30  DSTHOP30  DSTRST30  DSTCHR30  DSTEFF30  DSTNGD30  \n",
       "1              2         5         5         5         5        97         5  \n",
       "2              5         3         4         4         5         5         5  \n",
       "4              2         4         2         3         4         3         3  \n",
       "5              2         3         4         4         4         3         4  \n",
       "6              2         5         5         5         5         5         5  \n",
       "...          ...       ...       ...       ...       ...       ...       ...  \n",
       "57138          1         3         3         2         2         2         4  \n",
       "57139          2         5         5         3         3         5         3  \n",
       "57141          1         4         5         5         5         4         5  \n",
       "57142          2         5         4         5         5         5         5  \n",
       "57143          2         4         5         3         5         3         5  \n",
       "\n",
       "[43561 rows x 64 columns]"
      ],
      "text/html": "<div>\n<style scoped>\n    .dataframe tbody tr th:only-of-type {\n        vertical-align: middle;\n    }\n\n    .dataframe tbody tr th {\n        vertical-align: top;\n    }\n\n    .dataframe thead th {\n        text-align: right;\n    }\n</style>\n<table border=\"1\" class=\"dataframe\">\n  <thead>\n    <tr style=\"text-align: right;\">\n      <th></th>\n      <th>AGE2</th>\n      <th>IRMARIT</th>\n      <th>SERVICE</th>\n      <th>HEALTH</th>\n      <th>MOVSINPYR2</th>\n      <th>SEXATRACT</th>\n      <th>SEXIDENT</th>\n      <th>DIFFTHINK</th>\n      <th>DIFFWALK</th>\n      <th>DIFFDRESS</th>\n      <th>...</th>\n      <th>PNRANYLIF</th>\n      <th>TRQANYLIF</th>\n      <th>STMANYLIF</th>\n      <th>SEDANYLIF</th>\n      <th>DSTNRV30</th>\n      <th>DSTHOP30</th>\n      <th>DSTRST30</th>\n      <th>DSTCHR30</th>\n      <th>DSTEFF30</th>\n      <th>DSTNGD30</th>\n    </tr>\n  </thead>\n  <tbody>\n    <tr>\n      <th>1</th>\n      <td>15</td>\n      <td>3</td>\n      <td>2</td>\n      <td>1</td>\n      <td>0</td>\n      <td>1</td>\n      <td>1</td>\n      <td>2</td>\n      <td>2</td>\n      <td>2</td>\n      <td>...</td>\n      <td>2</td>\n      <td>2</td>\n      <td>2</td>\n      <td>2</td>\n      <td>5</td>\n      <td>5</td>\n      <td>5</td>\n      <td>5</td>\n      <td>97</td>\n      <td>5</td>\n    </tr>\n    <tr>\n      <th>2</th>\n      <td>14</td>\n      <td>4</td>\n      <td>2</td>\n      <td>2</td>\n      <td>0</td>\n      <td>1</td>\n      <td>1</td>\n      <td>2</td>\n      <td>1</td>\n      <td>2</td>\n      <td>...</td>\n      <td>5</td>\n      <td>5</td>\n      <td>2</td>\n      <td>5</td>\n      <td>3</td>\n      <td>4</td>\n      <td>4</td>\n      <td>5</td>\n      <td>5</td>\n      <td>5</td>\n    </tr>\n    <tr>\n      <th>4</th>\n      <td>11</td>\n      <td>1</td>\n      <td>2</td>\n      <td>3</td>\n      <td>1</td>\n      <td>1</td>\n      <td>1</td>\n      <td>1</td>\n      <td>2</td>\n      <td>2</td>\n      <td>...</td>\n      <td>5</td>\n      <td>2</td>\n      <td>2</td>\n      <td>2</td>\n      <td>4</td>\n      <td>2</td>\n      <td>3</td>\n      <td>4</td>\n      <td>3</td>\n      <td>3</td>\n    </tr>\n    <tr>\n      <th>5</th>\n      <td>12</td>\n      <td>4</td>\n      <td>2</td>\n      <td>3</td>\n      <td>0</td>\n      <td>1</td>\n      <td>1</td>\n      <td>2</td>\n      <td>2</td>\n      <td>2</td>\n      <td>...</td>\n      <td>2</td>\n      <td>2</td>\n      <td>2</td>\n      <td>2</td>\n      <td>3</td>\n      <td>4</td>\n      <td>4</td>\n      <td>4</td>\n      <td>3</td>\n      <td>4</td>\n    </tr>\n    <tr>\n      <th>6</th>\n      <td>12</td>\n      <td>1</td>\n      <td>2</td>\n      <td>2</td>\n      <td>0</td>\n      <td>1</td>\n      <td>1</td>\n      <td>2</td>\n      <td>2</td>\n      <td>2</td>\n      <td>...</td>\n      <td>2</td>\n      <td>2</td>\n      <td>2</td>\n      <td>2</td>\n      <td>5</td>\n      <td>5</td>\n      <td>5</td>\n      <td>5</td>\n      <td>5</td>\n      <td>5</td>\n    </tr>\n    <tr>\n      <th>...</th>\n      <td>...</td>\n      <td>...</td>\n      <td>...</td>\n      <td>...</td>\n      <td>...</td>\n      <td>...</td>\n      <td>...</td>\n      <td>...</td>\n      <td>...</td>\n      <td>...</td>\n      <td>...</td>\n      <td>...</td>\n      <td>...</td>\n      <td>...</td>\n      <td>...</td>\n      <td>...</td>\n      <td>...</td>\n      <td>...</td>\n      <td>...</td>\n      <td>...</td>\n      <td>...</td>\n    </tr>\n    <tr>\n      <th>57138</th>\n      <td>10</td>\n      <td>4</td>\n      <td>2</td>\n      <td>4</td>\n      <td>3</td>\n      <td>2</td>\n      <td>1</td>\n      <td>1</td>\n      <td>2</td>\n      <td>2</td>\n      <td>...</td>\n      <td>5</td>\n      <td>5</td>\n      <td>5</td>\n      <td>1</td>\n      <td>3</td>\n      <td>3</td>\n      <td>2</td>\n      <td>2</td>\n      <td>2</td>\n      <td>4</td>\n    </tr>\n    <tr>\n      <th>57139</th>\n      <td>15</td>\n      <td>3</td>\n      <td>2</td>\n      <td>1</td>\n      <td>1</td>\n      <td>1</td>\n      <td>1</td>\n      <td>2</td>\n      <td>2</td>\n      <td>2</td>\n      <td>...</td>\n      <td>5</td>\n      <td>1</td>\n      <td>2</td>\n      <td>2</td>\n      <td>5</td>\n      <td>5</td>\n      <td>3</td>\n      <td>3</td>\n      <td>5</td>\n      <td>3</td>\n    </tr>\n    <tr>\n      <th>57141</th>\n      <td>16</td>\n      <td>4</td>\n      <td>2</td>\n      <td>2</td>\n      <td>0</td>\n      <td>5</td>\n      <td>2</td>\n      <td>2</td>\n      <td>2</td>\n      <td>2</td>\n      <td>...</td>\n      <td>5</td>\n      <td>2</td>\n      <td>2</td>\n      <td>1</td>\n      <td>4</td>\n      <td>5</td>\n      <td>5</td>\n      <td>5</td>\n      <td>4</td>\n      <td>5</td>\n    </tr>\n    <tr>\n      <th>57142</th>\n      <td>12</td>\n      <td>4</td>\n      <td>2</td>\n      <td>3</td>\n      <td>1</td>\n      <td>1</td>\n      <td>1</td>\n      <td>2</td>\n      <td>2</td>\n      <td>2</td>\n      <td>...</td>\n      <td>2</td>\n      <td>2</td>\n      <td>2</td>\n      <td>2</td>\n      <td>5</td>\n      <td>4</td>\n      <td>5</td>\n      <td>5</td>\n      <td>5</td>\n      <td>5</td>\n    </tr>\n    <tr>\n      <th>57143</th>\n      <td>11</td>\n      <td>4</td>\n      <td>2</td>\n      <td>2</td>\n      <td>0</td>\n      <td>1</td>\n      <td>1</td>\n      <td>2</td>\n      <td>2</td>\n      <td>2</td>\n      <td>...</td>\n      <td>1</td>\n      <td>2</td>\n      <td>2</td>\n      <td>2</td>\n      <td>4</td>\n      <td>5</td>\n      <td>3</td>\n      <td>5</td>\n      <td>3</td>\n      <td>5</td>\n    </tr>\n  </tbody>\n</table>\n<p>43561 rows × 64 columns</p>\n</div>"
     },
     "metadata": {},
     "execution_count": 236
    }
   ],
   "source": [
    "# extracting over 18-years-of-age responses\n",
    "data5_df = data5_df[data5_df['AGE2'] > 6]\n",
    "data5_df"
   ]
  },
  {
   "cell_type": "code",
   "execution_count": 237,
   "metadata": {},
   "outputs": [],
   "source": [
    "# copying the dataframe for more data cleaning\n",
    "data5_df_cp = data5_df.copy()"
   ]
  },
  {
   "cell_type": "code",
   "execution_count": 238,
   "metadata": {},
   "outputs": [
    {
     "output_type": "execute_result",
     "data": {
      "text/plain": [
       "       AGE2  IRMARIT  SERVICE  HEALTH  MOVSINPYR2  SEXATRACT  SEXIDENT  \\\n",
       "1        15        3      2.0       1           0          1         1   \n",
       "2        14        4      2.0       2           0          1         1   \n",
       "4        11        1      2.0       3           1          1         1   \n",
       "5        12        4      2.0       3           0          1         1   \n",
       "6        12        1      2.0       2           0          1         1   \n",
       "...     ...      ...      ...     ...         ...        ...       ...   \n",
       "57138    10        4      2.0       4           3          2         1   \n",
       "57139    15        3      2.0       1           1          1         1   \n",
       "57141    16        4      2.0       2           0          5         2   \n",
       "57142    12        4      2.0       3           1          1         1   \n",
       "57143    11        4      2.0       2           0          1         1   \n",
       "\n",
       "       DIFFTHINK  DIFFWALK  DIFFDRESS  ...  PNRANYLIF  TRQANYLIF  STMANYLIF  \\\n",
       "1              2         2          2  ...          2          2          2   \n",
       "2              2         1          2  ...          5          5          2   \n",
       "4              1         2          2  ...          5          2          2   \n",
       "5              2         2          2  ...          2          2          2   \n",
       "6              2         2          2  ...          2          2          2   \n",
       "...          ...       ...        ...  ...        ...        ...        ...   \n",
       "57138          1         2          2  ...          5          5          5   \n",
       "57139          2         2          2  ...          5          1          2   \n",
       "57141          2         2          2  ...          5          2          2   \n",
       "57142          2         2          2  ...          2          2          2   \n",
       "57143          2         2          2  ...          1          2          2   \n",
       "\n",
       "       SEDANYLIF  DSTNRV30  DSTHOP30  DSTRST30  DSTCHR30  DSTEFF30  DSTNGD30  \n",
       "1              2       5.0       5.0       5.0       5.0      97.0       5.0  \n",
       "2              5       3.0       4.0       4.0       5.0       5.0       5.0  \n",
       "4              2       4.0       2.0       3.0       4.0       3.0       3.0  \n",
       "5              2       3.0       4.0       4.0       4.0       3.0       4.0  \n",
       "6              2       5.0       5.0       5.0       5.0       5.0       5.0  \n",
       "...          ...       ...       ...       ...       ...       ...       ...  \n",
       "57138          1       3.0       3.0       2.0       2.0       2.0       4.0  \n",
       "57139          2       5.0       5.0       3.0       3.0       5.0       3.0  \n",
       "57141          1       4.0       5.0       5.0       5.0       4.0       5.0  \n",
       "57142          2       5.0       4.0       5.0       5.0       5.0       5.0  \n",
       "57143          2       4.0       5.0       3.0       5.0       3.0       5.0  \n",
       "\n",
       "[42752 rows x 64 columns]"
      ],
      "text/html": "<div>\n<style scoped>\n    .dataframe tbody tr th:only-of-type {\n        vertical-align: middle;\n    }\n\n    .dataframe tbody tr th {\n        vertical-align: top;\n    }\n\n    .dataframe thead th {\n        text-align: right;\n    }\n</style>\n<table border=\"1\" class=\"dataframe\">\n  <thead>\n    <tr style=\"text-align: right;\">\n      <th></th>\n      <th>AGE2</th>\n      <th>IRMARIT</th>\n      <th>SERVICE</th>\n      <th>HEALTH</th>\n      <th>MOVSINPYR2</th>\n      <th>SEXATRACT</th>\n      <th>SEXIDENT</th>\n      <th>DIFFTHINK</th>\n      <th>DIFFWALK</th>\n      <th>DIFFDRESS</th>\n      <th>...</th>\n      <th>PNRANYLIF</th>\n      <th>TRQANYLIF</th>\n      <th>STMANYLIF</th>\n      <th>SEDANYLIF</th>\n      <th>DSTNRV30</th>\n      <th>DSTHOP30</th>\n      <th>DSTRST30</th>\n      <th>DSTCHR30</th>\n      <th>DSTEFF30</th>\n      <th>DSTNGD30</th>\n    </tr>\n  </thead>\n  <tbody>\n    <tr>\n      <th>1</th>\n      <td>15</td>\n      <td>3</td>\n      <td>2.0</td>\n      <td>1</td>\n      <td>0</td>\n      <td>1</td>\n      <td>1</td>\n      <td>2</td>\n      <td>2</td>\n      <td>2</td>\n      <td>...</td>\n      <td>2</td>\n      <td>2</td>\n      <td>2</td>\n      <td>2</td>\n      <td>5.0</td>\n      <td>5.0</td>\n      <td>5.0</td>\n      <td>5.0</td>\n      <td>97.0</td>\n      <td>5.0</td>\n    </tr>\n    <tr>\n      <th>2</th>\n      <td>14</td>\n      <td>4</td>\n      <td>2.0</td>\n      <td>2</td>\n      <td>0</td>\n      <td>1</td>\n      <td>1</td>\n      <td>2</td>\n      <td>1</td>\n      <td>2</td>\n      <td>...</td>\n      <td>5</td>\n      <td>5</td>\n      <td>2</td>\n      <td>5</td>\n      <td>3.0</td>\n      <td>4.0</td>\n      <td>4.0</td>\n      <td>5.0</td>\n      <td>5.0</td>\n      <td>5.0</td>\n    </tr>\n    <tr>\n      <th>4</th>\n      <td>11</td>\n      <td>1</td>\n      <td>2.0</td>\n      <td>3</td>\n      <td>1</td>\n      <td>1</td>\n      <td>1</td>\n      <td>1</td>\n      <td>2</td>\n      <td>2</td>\n      <td>...</td>\n      <td>5</td>\n      <td>2</td>\n      <td>2</td>\n      <td>2</td>\n      <td>4.0</td>\n      <td>2.0</td>\n      <td>3.0</td>\n      <td>4.0</td>\n      <td>3.0</td>\n      <td>3.0</td>\n    </tr>\n    <tr>\n      <th>5</th>\n      <td>12</td>\n      <td>4</td>\n      <td>2.0</td>\n      <td>3</td>\n      <td>0</td>\n      <td>1</td>\n      <td>1</td>\n      <td>2</td>\n      <td>2</td>\n      <td>2</td>\n      <td>...</td>\n      <td>2</td>\n      <td>2</td>\n      <td>2</td>\n      <td>2</td>\n      <td>3.0</td>\n      <td>4.0</td>\n      <td>4.0</td>\n      <td>4.0</td>\n      <td>3.0</td>\n      <td>4.0</td>\n    </tr>\n    <tr>\n      <th>6</th>\n      <td>12</td>\n      <td>1</td>\n      <td>2.0</td>\n      <td>2</td>\n      <td>0</td>\n      <td>1</td>\n      <td>1</td>\n      <td>2</td>\n      <td>2</td>\n      <td>2</td>\n      <td>...</td>\n      <td>2</td>\n      <td>2</td>\n      <td>2</td>\n      <td>2</td>\n      <td>5.0</td>\n      <td>5.0</td>\n      <td>5.0</td>\n      <td>5.0</td>\n      <td>5.0</td>\n      <td>5.0</td>\n    </tr>\n    <tr>\n      <th>...</th>\n      <td>...</td>\n      <td>...</td>\n      <td>...</td>\n      <td>...</td>\n      <td>...</td>\n      <td>...</td>\n      <td>...</td>\n      <td>...</td>\n      <td>...</td>\n      <td>...</td>\n      <td>...</td>\n      <td>...</td>\n      <td>...</td>\n      <td>...</td>\n      <td>...</td>\n      <td>...</td>\n      <td>...</td>\n      <td>...</td>\n      <td>...</td>\n      <td>...</td>\n      <td>...</td>\n    </tr>\n    <tr>\n      <th>57138</th>\n      <td>10</td>\n      <td>4</td>\n      <td>2.0</td>\n      <td>4</td>\n      <td>3</td>\n      <td>2</td>\n      <td>1</td>\n      <td>1</td>\n      <td>2</td>\n      <td>2</td>\n      <td>...</td>\n      <td>5</td>\n      <td>5</td>\n      <td>5</td>\n      <td>1</td>\n      <td>3.0</td>\n      <td>3.0</td>\n      <td>2.0</td>\n      <td>2.0</td>\n      <td>2.0</td>\n      <td>4.0</td>\n    </tr>\n    <tr>\n      <th>57139</th>\n      <td>15</td>\n      <td>3</td>\n      <td>2.0</td>\n      <td>1</td>\n      <td>1</td>\n      <td>1</td>\n      <td>1</td>\n      <td>2</td>\n      <td>2</td>\n      <td>2</td>\n      <td>...</td>\n      <td>5</td>\n      <td>1</td>\n      <td>2</td>\n      <td>2</td>\n      <td>5.0</td>\n      <td>5.0</td>\n      <td>3.0</td>\n      <td>3.0</td>\n      <td>5.0</td>\n      <td>3.0</td>\n    </tr>\n    <tr>\n      <th>57141</th>\n      <td>16</td>\n      <td>4</td>\n      <td>2.0</td>\n      <td>2</td>\n      <td>0</td>\n      <td>5</td>\n      <td>2</td>\n      <td>2</td>\n      <td>2</td>\n      <td>2</td>\n      <td>...</td>\n      <td>5</td>\n      <td>2</td>\n      <td>2</td>\n      <td>1</td>\n      <td>4.0</td>\n      <td>5.0</td>\n      <td>5.0</td>\n      <td>5.0</td>\n      <td>4.0</td>\n      <td>5.0</td>\n    </tr>\n    <tr>\n      <th>57142</th>\n      <td>12</td>\n      <td>4</td>\n      <td>2.0</td>\n      <td>3</td>\n      <td>1</td>\n      <td>1</td>\n      <td>1</td>\n      <td>2</td>\n      <td>2</td>\n      <td>2</td>\n      <td>...</td>\n      <td>2</td>\n      <td>2</td>\n      <td>2</td>\n      <td>2</td>\n      <td>5.0</td>\n      <td>4.0</td>\n      <td>5.0</td>\n      <td>5.0</td>\n      <td>5.0</td>\n      <td>5.0</td>\n    </tr>\n    <tr>\n      <th>57143</th>\n      <td>11</td>\n      <td>4</td>\n      <td>2.0</td>\n      <td>2</td>\n      <td>0</td>\n      <td>1</td>\n      <td>1</td>\n      <td>2</td>\n      <td>2</td>\n      <td>2</td>\n      <td>...</td>\n      <td>1</td>\n      <td>2</td>\n      <td>2</td>\n      <td>2</td>\n      <td>4.0</td>\n      <td>5.0</td>\n      <td>3.0</td>\n      <td>5.0</td>\n      <td>3.0</td>\n      <td>5.0</td>\n    </tr>\n  </tbody>\n</table>\n<p>42752 rows × 64 columns</p>\n</div>"
     },
     "metadata": {},
     "execution_count": 238
    }
   ],
   "source": [
    "# removing the 85 & 985 (bad data) response from all appropriate columns\n",
    "data5_df_cp.loc[:, ['ALCYRTOT', 'ALCUS30D']] = data5_df_cp.loc[:, ['ALCYRTOT', 'ALCUS30D']].replace(85, 9999)\n",
    "data5_df_cp = data5_df_cp.replace([85, 985], np.nan)\n",
    "data5_df_cp = data5_df_cp.dropna()\n",
    "data5_df_cp.loc[:, ['ALCYRTOT', 'ALCUS30D']] = data5_df_cp.loc[:, ['ALCYRTOT', 'ALCUS30D']].replace(9999, 85)\n",
    "data5_df_cp"
   ]
  },
  {
   "cell_type": "code",
   "execution_count": 239,
   "metadata": {},
   "outputs": [],
   "source": [
    "# replacing the responses not useable for the project, like 'don't know' or 'refused to respond' with NaN for easy removal of rows\n",
    "data5_df_cp.loc[:, 'SERVICE'] = data5_df_cp.loc[:, 'SERVICE'].replace([94, 97], np.nan)\n",
    "data5_df_cp.loc[:, 'HEALTH'] = data5_df_cp.loc[:, 'HEALTH'].replace(97, np.nan)\n",
    "data5_df_cp.loc[:, 'MOVSINPYR2'] = data5_df_cp.loc[:, 'MOVSINPYR2'].replace([994, 997, 998], np.nan)\n",
    "data5_df_cp.loc[:, 'DIFFTHINK'] = data5_df_cp.loc[:, 'DIFFTHINK'].replace([94, 97, 98], np.nan)\n",
    "data5_df_cp.loc[:, 'DIFFWALK'] = data5_df_cp.loc[:, 'DIFFWALK'].replace([94, 97, 98], np.nan)\n",
    "data5_df_cp.loc[:, 'DIFFDRESS'] = data5_df_cp.loc[:, 'DIFFDRESS'].replace([94, 97, 98], np.nan)\n",
    "data5_df_cp.loc[:, 'DIFFERAND'] = data5_df_cp.loc[:, 'DIFFERAND'].replace([94, 97, 98, 99], np.nan)\n",
    "data5_df_cp.loc[:, 'IRMARIT'] = data5_df_cp.loc[:, 'IRMARIT'].replace(99, np.nan)\n",
    "data5_df_cp.loc[:, 'WRKSTATWK2'] = data5_df_cp.loc[:, 'WRKSTATWK2'].replace([99, 98], np.nan)\n",
    "data5_df_cp.loc[:, 'WRKNUMJOB2'] = data5_df_cp.loc[:, 'WRKNUMJOB2'].replace([94, 97, 98, 99], np.nan)\n",
    "data5_df_cp.loc[:, 'IRWRKSTAT'] = data5_df_cp.loc[:, 'IRWRKSTAT'].replace(99, np.nan)\n",
    "\n",
    "data5_df_cp.loc[:, 'CIGTRY'] = data5_df_cp.loc[:, 'CIGTRY'].replace([994, 997], np.nan)\n",
    "data5_df_cp.loc[:, 'CIGDLYMO'] = data5_df_cp.loc[:, 'CIGDLYMO'].replace([94, 97, 98], np.nan)\n",
    "data5_df_cp.loc[:, 'CIG100LF'] = data5_df_cp.loc[:, 'CIG100LF'].replace([94, 97, 98], np.nan)\n",
    "data5_df_cp.loc[:, 'CG30EST'] = data5_df_cp.loc[:, 'CG30EST'].replace([94, 97, 98, 99], np.nan)\n",
    "\n",
    "data5_df_cp.loc[:, 'ALCEVER'] = data5_df_cp.loc[:, 'ALCEVER'].replace([98, 97], np.nan)\n",
    "data5_df_cp.loc[:, 'ALCREC'] = data5_df_cp.loc[:, 'ALCREC'].replace([97, 98], np.nan)\n",
    "data5_df_cp.loc[:, 'ALCYRTOT'] = data5_df_cp.loc[:, 'ALCYRTOT'].replace([994, 997, 998], np.nan)\n",
    "data5_df_cp.loc[:, 'ALCDAYS'] = data5_df_cp.loc[:, 'ALCDAYS'].replace([94, 97, 98], np.nan)\n",
    "data5_df_cp.loc[:, 'ALCUS30D'] = data5_df_cp.loc[:, 'ALCUS30D'].replace([994, 997, 998], np.nan)\n",
    "\n",
    "data5_df_cp.loc[:, 'MOVSINPYR2'] = data5_df_cp.loc[:, 'MOVSINPYR2'].replace([994, 997, 998], np.nan)\n",
    "data5_df_cp.loc[:, 'MOVSINPYR2'] = data5_df_cp.loc[:, 'MOVSINPYR2'].replace([994, 997, 998], np.nan)\n",
    "\n",
    "data5_df_cp.loc[:, 'MJEVER'] = data5_df_cp.loc[:, 'MJEVER'].replace([94, 97], np.nan)\n",
    "data5_df_cp.loc[:, 'COCEVER'] = data5_df_cp.loc[:, 'COCEVER'].replace([94, 97], np.nan)\n",
    "data5_df_cp.loc[:, 'CRKEVER'] = data5_df_cp.loc[:, 'CRKEVER'].replace([94, 97, 98], np.nan)\n",
    "data5_df_cp.loc[:, 'HEREVER'] = data5_df_cp.loc[:, 'HEREVER'].replace([94, 97], np.nan)\n",
    "\n",
    "data5_df_cp.loc[:, 'LSD'] = data5_df_cp.loc[:, 'LSD'].replace([94, 97], np.nan)\n",
    "data5_df_cp.loc[:, 'PCP'] = data5_df_cp.loc[:, 'PCP'].replace([94, 97], np.nan)\n",
    "data5_df_cp.loc[:, 'PEYOTE'] = data5_df_cp.loc[:, 'PEYOTE'].replace([94, 97], np.nan)\n",
    "data5_df_cp.loc[:, 'MESC'] = data5_df_cp.loc[:, 'MESC'].replace([94, 97], np.nan)\n",
    "data5_df_cp.loc[:, 'ECSTMOLLY'] = data5_df_cp.loc[:, 'ECSTMOLLY'].replace([94, 97], np.nan)\n",
    "data5_df_cp.loc[:, 'PSILCY'] = data5_df_cp.loc[:, 'PSILCY'].replace([94, 97], np.nan)\n",
    "\n",
    "data5_df_cp.loc[:, ['KETMINESK', 'DMTAMTFXY', 'SALVIADIV', 'HALLUCOTH']] = data5_df_cp.loc[:, ['KETMINESK', 'DMTAMTFXY', 'SALVIADIV', 'HALLUCOTH']].replace([94, 97], np.nan)\n",
    "\n",
    "data5_df_cp.loc[:, ['AMYLNIT', 'CLEFLU', 'GAS', 'GLUE', 'ETHER', 'SOLVENT', 'LGAS', 'NITOXID', 'AIRDUSTER', 'OTHAEROS', 'INHALOTH']] = data5_df_cp.loc[:, ['AMYLNIT', 'CLEFLU', 'GAS', 'GLUE', 'ETHER', 'SOLVENT', 'LGAS', 'NITOXID', 'AIRDUSTER', 'OTHAEROS', 'INHALOTH']].replace([94, 97], np.nan)\n",
    "\n",
    "data5_df_cp.loc[:, 'METHAMEVR'] = data5_df_cp.loc[:, 'METHAMEVR'].replace([94, 97], np.nan)\n",
    "\n",
    "data5_df_cp.loc[:, ['PNRANYLIF', 'TRQANYLIF', 'STMANYLIF', 'SEDANYLIF']] = data5_df_cp.loc[:, ['PNRANYLIF', 'TRQANYLIF', 'STMANYLIF', 'SEDANYLIF']].replace([94, 97, 98], np.nan)\n",
    "\n",
    "data5_df_cp.loc[:, ['DSTNRV30', 'DSTHOP30', 'DSTRST30', 'DSTCHR30', 'DSTEFF30', 'DSTNGD30']] = data5_df_cp.loc[:, ['DSTNRV30', 'DSTHOP30', 'DSTRST30', 'DSTCHR30', 'DSTEFF30', 'DSTNGD30']].replace([94, 97, 98, 99], np.nan)"
   ]
  },
  {
   "cell_type": "code",
   "execution_count": 240,
   "metadata": {},
   "outputs": [
    {
     "output_type": "execute_result",
     "data": {
      "text/plain": [
       "       AGE2  IRMARIT  SERVICE  HEALTH  MOVSINPYR2  SEXATRACT  SEXIDENT  \\\n",
       "6        12        1      2.0     2.0         0.0          1         1   \n",
       "12       13        1      2.0     1.0         0.0          2         1   \n",
       "14       14        1      2.0     2.0         0.0          1         1   \n",
       "19        7        4      2.0     1.0         0.0          1         1   \n",
       "21       14        1      2.0     3.0         0.0          1         1   \n",
       "...     ...      ...      ...     ...         ...        ...       ...   \n",
       "57131    15        1      2.0     2.0         0.0          1         1   \n",
       "57138    10        4      2.0     4.0         3.0          2         1   \n",
       "57141    16        4      2.0     2.0         0.0          5         2   \n",
       "57142    12        4      2.0     3.0         1.0          1         1   \n",
       "57143    11        4      2.0     2.0         0.0          1         1   \n",
       "\n",
       "       DIFFTHINK  DIFFWALK  DIFFDRESS  ...  PNRANYLIF  TRQANYLIF  STMANYLIF  \\\n",
       "6            2.0       2.0        2.0  ...        2.0        2.0        2.0   \n",
       "12           2.0       2.0        2.0  ...        5.0        2.0        1.0   \n",
       "14           2.0       2.0        2.0  ...        2.0        2.0        5.0   \n",
       "19           2.0       2.0        2.0  ...        2.0        2.0        2.0   \n",
       "21           1.0       2.0        2.0  ...        5.0        5.0        1.0   \n",
       "...          ...       ...        ...  ...        ...        ...        ...   \n",
       "57131        2.0       2.0        2.0  ...        5.0        2.0        5.0   \n",
       "57138        1.0       2.0        2.0  ...        5.0        5.0        5.0   \n",
       "57141        2.0       2.0        2.0  ...        5.0        2.0        2.0   \n",
       "57142        2.0       2.0        2.0  ...        2.0        2.0        2.0   \n",
       "57143        2.0       2.0        2.0  ...        1.0        2.0        2.0   \n",
       "\n",
       "       SEDANYLIF  DSTNRV30  DSTHOP30  DSTRST30  DSTCHR30  DSTEFF30  DSTNGD30  \n",
       "6            2.0       5.0       5.0       5.0       5.0       5.0       5.0  \n",
       "12           2.0       5.0       5.0       5.0       5.0       5.0       4.0  \n",
       "14           2.0       5.0       5.0       5.0       5.0       5.0       5.0  \n",
       "19           2.0       5.0       5.0       5.0       5.0       5.0       5.0  \n",
       "21           1.0       3.0       3.0       3.0       4.0       3.0       3.0  \n",
       "...          ...       ...       ...       ...       ...       ...       ...  \n",
       "57131        2.0       4.0       5.0       5.0       5.0       5.0       5.0  \n",
       "57138        1.0       3.0       3.0       2.0       2.0       2.0       4.0  \n",
       "57141        1.0       4.0       5.0       5.0       5.0       4.0       5.0  \n",
       "57142        2.0       5.0       4.0       5.0       5.0       5.0       5.0  \n",
       "57143        2.0       4.0       5.0       3.0       5.0       3.0       5.0  \n",
       "\n",
       "[23810 rows x 64 columns]"
      ],
      "text/html": "<div>\n<style scoped>\n    .dataframe tbody tr th:only-of-type {\n        vertical-align: middle;\n    }\n\n    .dataframe tbody tr th {\n        vertical-align: top;\n    }\n\n    .dataframe thead th {\n        text-align: right;\n    }\n</style>\n<table border=\"1\" class=\"dataframe\">\n  <thead>\n    <tr style=\"text-align: right;\">\n      <th></th>\n      <th>AGE2</th>\n      <th>IRMARIT</th>\n      <th>SERVICE</th>\n      <th>HEALTH</th>\n      <th>MOVSINPYR2</th>\n      <th>SEXATRACT</th>\n      <th>SEXIDENT</th>\n      <th>DIFFTHINK</th>\n      <th>DIFFWALK</th>\n      <th>DIFFDRESS</th>\n      <th>...</th>\n      <th>PNRANYLIF</th>\n      <th>TRQANYLIF</th>\n      <th>STMANYLIF</th>\n      <th>SEDANYLIF</th>\n      <th>DSTNRV30</th>\n      <th>DSTHOP30</th>\n      <th>DSTRST30</th>\n      <th>DSTCHR30</th>\n      <th>DSTEFF30</th>\n      <th>DSTNGD30</th>\n    </tr>\n  </thead>\n  <tbody>\n    <tr>\n      <th>6</th>\n      <td>12</td>\n      <td>1</td>\n      <td>2.0</td>\n      <td>2.0</td>\n      <td>0.0</td>\n      <td>1</td>\n      <td>1</td>\n      <td>2.0</td>\n      <td>2.0</td>\n      <td>2.0</td>\n      <td>...</td>\n      <td>2.0</td>\n      <td>2.0</td>\n      <td>2.0</td>\n      <td>2.0</td>\n      <td>5.0</td>\n      <td>5.0</td>\n      <td>5.0</td>\n      <td>5.0</td>\n      <td>5.0</td>\n      <td>5.0</td>\n    </tr>\n    <tr>\n      <th>12</th>\n      <td>13</td>\n      <td>1</td>\n      <td>2.0</td>\n      <td>1.0</td>\n      <td>0.0</td>\n      <td>2</td>\n      <td>1</td>\n      <td>2.0</td>\n      <td>2.0</td>\n      <td>2.0</td>\n      <td>...</td>\n      <td>5.0</td>\n      <td>2.0</td>\n      <td>1.0</td>\n      <td>2.0</td>\n      <td>5.0</td>\n      <td>5.0</td>\n      <td>5.0</td>\n      <td>5.0</td>\n      <td>5.0</td>\n      <td>4.0</td>\n    </tr>\n    <tr>\n      <th>14</th>\n      <td>14</td>\n      <td>1</td>\n      <td>2.0</td>\n      <td>2.0</td>\n      <td>0.0</td>\n      <td>1</td>\n      <td>1</td>\n      <td>2.0</td>\n      <td>2.0</td>\n      <td>2.0</td>\n      <td>...</td>\n      <td>2.0</td>\n      <td>2.0</td>\n      <td>5.0</td>\n      <td>2.0</td>\n      <td>5.0</td>\n      <td>5.0</td>\n      <td>5.0</td>\n      <td>5.0</td>\n      <td>5.0</td>\n      <td>5.0</td>\n    </tr>\n    <tr>\n      <th>19</th>\n      <td>7</td>\n      <td>4</td>\n      <td>2.0</td>\n      <td>1.0</td>\n      <td>0.0</td>\n      <td>1</td>\n      <td>1</td>\n      <td>2.0</td>\n      <td>2.0</td>\n      <td>2.0</td>\n      <td>...</td>\n      <td>2.0</td>\n      <td>2.0</td>\n      <td>2.0</td>\n      <td>2.0</td>\n      <td>5.0</td>\n      <td>5.0</td>\n      <td>5.0</td>\n      <td>5.0</td>\n      <td>5.0</td>\n      <td>5.0</td>\n    </tr>\n    <tr>\n      <th>21</th>\n      <td>14</td>\n      <td>1</td>\n      <td>2.0</td>\n      <td>3.0</td>\n      <td>0.0</td>\n      <td>1</td>\n      <td>1</td>\n      <td>1.0</td>\n      <td>2.0</td>\n      <td>2.0</td>\n      <td>...</td>\n      <td>5.0</td>\n      <td>5.0</td>\n      <td>1.0</td>\n      <td>1.0</td>\n      <td>3.0</td>\n      <td>3.0</td>\n      <td>3.0</td>\n      <td>4.0</td>\n      <td>3.0</td>\n      <td>3.0</td>\n    </tr>\n    <tr>\n      <th>...</th>\n      <td>...</td>\n      <td>...</td>\n      <td>...</td>\n      <td>...</td>\n      <td>...</td>\n      <td>...</td>\n      <td>...</td>\n      <td>...</td>\n      <td>...</td>\n      <td>...</td>\n      <td>...</td>\n      <td>...</td>\n      <td>...</td>\n      <td>...</td>\n      <td>...</td>\n      <td>...</td>\n      <td>...</td>\n      <td>...</td>\n      <td>...</td>\n      <td>...</td>\n      <td>...</td>\n    </tr>\n    <tr>\n      <th>57131</th>\n      <td>15</td>\n      <td>1</td>\n      <td>2.0</td>\n      <td>2.0</td>\n      <td>0.0</td>\n      <td>1</td>\n      <td>1</td>\n      <td>2.0</td>\n      <td>2.0</td>\n      <td>2.0</td>\n      <td>...</td>\n      <td>5.0</td>\n      <td>2.0</td>\n      <td>5.0</td>\n      <td>2.0</td>\n      <td>4.0</td>\n      <td>5.0</td>\n      <td>5.0</td>\n      <td>5.0</td>\n      <td>5.0</td>\n      <td>5.0</td>\n    </tr>\n    <tr>\n      <th>57138</th>\n      <td>10</td>\n      <td>4</td>\n      <td>2.0</td>\n      <td>4.0</td>\n      <td>3.0</td>\n      <td>2</td>\n      <td>1</td>\n      <td>1.0</td>\n      <td>2.0</td>\n      <td>2.0</td>\n      <td>...</td>\n      <td>5.0</td>\n      <td>5.0</td>\n      <td>5.0</td>\n      <td>1.0</td>\n      <td>3.0</td>\n      <td>3.0</td>\n      <td>2.0</td>\n      <td>2.0</td>\n      <td>2.0</td>\n      <td>4.0</td>\n    </tr>\n    <tr>\n      <th>57141</th>\n      <td>16</td>\n      <td>4</td>\n      <td>2.0</td>\n      <td>2.0</td>\n      <td>0.0</td>\n      <td>5</td>\n      <td>2</td>\n      <td>2.0</td>\n      <td>2.0</td>\n      <td>2.0</td>\n      <td>...</td>\n      <td>5.0</td>\n      <td>2.0</td>\n      <td>2.0</td>\n      <td>1.0</td>\n      <td>4.0</td>\n      <td>5.0</td>\n      <td>5.0</td>\n      <td>5.0</td>\n      <td>4.0</td>\n      <td>5.0</td>\n    </tr>\n    <tr>\n      <th>57142</th>\n      <td>12</td>\n      <td>4</td>\n      <td>2.0</td>\n      <td>3.0</td>\n      <td>1.0</td>\n      <td>1</td>\n      <td>1</td>\n      <td>2.0</td>\n      <td>2.0</td>\n      <td>2.0</td>\n      <td>...</td>\n      <td>2.0</td>\n      <td>2.0</td>\n      <td>2.0</td>\n      <td>2.0</td>\n      <td>5.0</td>\n      <td>4.0</td>\n      <td>5.0</td>\n      <td>5.0</td>\n      <td>5.0</td>\n      <td>5.0</td>\n    </tr>\n    <tr>\n      <th>57143</th>\n      <td>11</td>\n      <td>4</td>\n      <td>2.0</td>\n      <td>2.0</td>\n      <td>0.0</td>\n      <td>1</td>\n      <td>1</td>\n      <td>2.0</td>\n      <td>2.0</td>\n      <td>2.0</td>\n      <td>...</td>\n      <td>1.0</td>\n      <td>2.0</td>\n      <td>2.0</td>\n      <td>2.0</td>\n      <td>4.0</td>\n      <td>5.0</td>\n      <td>3.0</td>\n      <td>5.0</td>\n      <td>3.0</td>\n      <td>5.0</td>\n    </tr>\n  </tbody>\n</table>\n<p>23810 rows × 64 columns</p>\n</div>"
     },
     "metadata": {},
     "execution_count": 240
    }
   ],
   "source": [
    "data5_df_cp = data5_df_cp.dropna()\n",
    "data5_df_cp"
   ]
  },
  {
   "cell_type": "code",
   "execution_count": 241,
   "metadata": {},
   "outputs": [
    {
     "output_type": "stream",
     "name": "stdout",
     "text": [
      "<class 'pandas.core.frame.DataFrame'>\nInt64Index: 23810 entries, 6 to 57143\nData columns (total 64 columns):\n #   Column        Non-Null Count  Dtype  \n---  ------        --------------  -----  \n 0   AGE2          23810 non-null  int64  \n 1   IRMARIT       23810 non-null  int64  \n 2   SERVICE       23810 non-null  float64\n 3   HEALTH        23810 non-null  float64\n 4   MOVSINPYR2    23810 non-null  float64\n 5   SEXATRACT     23810 non-null  int64  \n 6   SEXIDENT      23810 non-null  int64  \n 7   DIFFTHINK     23810 non-null  float64\n 8   DIFFWALK      23810 non-null  float64\n 9   DIFFDRESS     23810 non-null  float64\n 10  DIFFERAND     23810 non-null  float64\n 11  IREDUHIGHST2  23810 non-null  int64  \n 12  WRKSTATWK2    23810 non-null  float64\n 13  IRWRKSTAT     23810 non-null  int64  \n 14  WRKNUMJOB2    23810 non-null  float64\n 15  IRPINC3       23810 non-null  int64  \n 16  CIGEVER       23810 non-null  int64  \n 17  CIGTRY        23810 non-null  float64\n 18  CIGDLYMO      23810 non-null  float64\n 19  CIG100LF      23810 non-null  float64\n 20  CG30EST       23810 non-null  float64\n 21  ALCEVER       23810 non-null  float64\n 22  ALCREC        23810 non-null  float64\n 23  ALCYRTOT      23810 non-null  float64\n 24  ALCDAYS       23810 non-null  float64\n 25  ALCUS30D      23810 non-null  float64\n 26  MJEVER        23810 non-null  float64\n 27  COCEVER       23810 non-null  float64\n 28  CRKEVER       23810 non-null  float64\n 29  HEREVER       23810 non-null  float64\n 30  LSD           23810 non-null  float64\n 31  PCP           23810 non-null  float64\n 32  PEYOTE        23810 non-null  float64\n 33  MESC          23810 non-null  float64\n 34  PSILCY        23810 non-null  float64\n 35  ECSTMOLLY     23810 non-null  float64\n 36  KETMINESK     23810 non-null  float64\n 37  DMTAMTFXY     23810 non-null  float64\n 38  SALVIADIV     23810 non-null  float64\n 39  HALLUCOTH     23810 non-null  float64\n 40  AMYLNIT       23810 non-null  float64\n 41  CLEFLU        23810 non-null  float64\n 42  GAS           23810 non-null  float64\n 43  GLUE          23810 non-null  float64\n 44  ETHER         23810 non-null  float64\n 45  SOLVENT       23810 non-null  float64\n 46  LGAS          23810 non-null  float64\n 47  NITOXID       23810 non-null  float64\n 48  FELTMARKR     23810 non-null  float64\n 49  SPPAINT       23810 non-null  float64\n 50  AIRDUSTER     23810 non-null  float64\n 51  OTHAEROS      23810 non-null  float64\n 52  INHALOTH      23810 non-null  float64\n 53  METHAMEVR     23810 non-null  float64\n 54  PNRANYLIF     23810 non-null  float64\n 55  TRQANYLIF     23810 non-null  float64\n 56  STMANYLIF     23810 non-null  float64\n 57  SEDANYLIF     23810 non-null  float64\n 58  DSTNRV30      23810 non-null  float64\n 59  DSTHOP30      23810 non-null  float64\n 60  DSTRST30      23810 non-null  float64\n 61  DSTCHR30      23810 non-null  float64\n 62  DSTEFF30      23810 non-null  float64\n 63  DSTNGD30      23810 non-null  float64\ndtypes: float64(56), int64(8)\nmemory usage: 11.8 MB\n"
     ]
    }
   ],
   "source": [
    "data5_df_cp.info()"
   ]
  },
  {
   "cell_type": "code",
   "execution_count": 242,
   "metadata": {},
   "outputs": [
    {
     "output_type": "execute_result",
     "data": {
      "text/plain": [
       "       AGE2  IRMARIT  SERVICE  HEALTH  MOVSINPYR2  SEXATRACT  SEXIDENT  \\\n",
       "6        12        1      2.0     2.0         0.0          1         1   \n",
       "12       13        1      2.0     1.0         0.0          2         1   \n",
       "14       14        1      2.0     2.0         0.0          1         1   \n",
       "19        7        4      2.0     1.0         0.0          1         1   \n",
       "21       14        1      2.0     3.0         0.0          1         1   \n",
       "...     ...      ...      ...     ...         ...        ...       ...   \n",
       "57131    15        1      2.0     2.0         0.0          1         1   \n",
       "57138    10        4      2.0     4.0         3.0          2         1   \n",
       "57141    16        4      2.0     2.0         0.0          5         2   \n",
       "57142    12        4      2.0     3.0         1.0          1         1   \n",
       "57143    11        4      2.0     2.0         0.0          1         1   \n",
       "\n",
       "       DIFFTHINK  DIFFWALK  DIFFDRESS  ...  PNRANYLIF  TRQANYLIF  STMANYLIF  \\\n",
       "6            2.0       2.0        2.0  ...        2.0        2.0        2.0   \n",
       "12           2.0       2.0        2.0  ...        1.0        2.0        1.0   \n",
       "14           2.0       2.0        2.0  ...        2.0        2.0        1.0   \n",
       "19           2.0       2.0        2.0  ...        2.0        2.0        2.0   \n",
       "21           1.0       2.0        2.0  ...        1.0        1.0        1.0   \n",
       "...          ...       ...        ...  ...        ...        ...        ...   \n",
       "57131        2.0       2.0        2.0  ...        1.0        2.0        1.0   \n",
       "57138        1.0       2.0        2.0  ...        1.0        1.0        1.0   \n",
       "57141        2.0       2.0        2.0  ...        1.0        2.0        2.0   \n",
       "57142        2.0       2.0        2.0  ...        2.0        2.0        2.0   \n",
       "57143        2.0       2.0        2.0  ...        1.0        2.0        2.0   \n",
       "\n",
       "       SEDANYLIF  DSTNRV30  DSTHOP30  DSTRST30  DSTCHR30  DSTEFF30  DSTNGD30  \n",
       "6            2.0       5.0       5.0       5.0       5.0       5.0       5.0  \n",
       "12           2.0       5.0       5.0       5.0       5.0       5.0       4.0  \n",
       "14           2.0       5.0       5.0       5.0       5.0       5.0       5.0  \n",
       "19           2.0       5.0       5.0       5.0       5.0       5.0       5.0  \n",
       "21           1.0       3.0       3.0       3.0       4.0       3.0       3.0  \n",
       "...          ...       ...       ...       ...       ...       ...       ...  \n",
       "57131        2.0       4.0       5.0       5.0       5.0       5.0       5.0  \n",
       "57138        1.0       3.0       3.0       2.0       2.0       2.0       4.0  \n",
       "57141        1.0       4.0       5.0       5.0       5.0       4.0       5.0  \n",
       "57142        2.0       5.0       4.0       5.0       5.0       5.0       5.0  \n",
       "57143        2.0       4.0       5.0       3.0       5.0       3.0       5.0  \n",
       "\n",
       "[23810 rows x 64 columns]"
      ],
      "text/html": "<div>\n<style scoped>\n    .dataframe tbody tr th:only-of-type {\n        vertical-align: middle;\n    }\n\n    .dataframe tbody tr th {\n        vertical-align: top;\n    }\n\n    .dataframe thead th {\n        text-align: right;\n    }\n</style>\n<table border=\"1\" class=\"dataframe\">\n  <thead>\n    <tr style=\"text-align: right;\">\n      <th></th>\n      <th>AGE2</th>\n      <th>IRMARIT</th>\n      <th>SERVICE</th>\n      <th>HEALTH</th>\n      <th>MOVSINPYR2</th>\n      <th>SEXATRACT</th>\n      <th>SEXIDENT</th>\n      <th>DIFFTHINK</th>\n      <th>DIFFWALK</th>\n      <th>DIFFDRESS</th>\n      <th>...</th>\n      <th>PNRANYLIF</th>\n      <th>TRQANYLIF</th>\n      <th>STMANYLIF</th>\n      <th>SEDANYLIF</th>\n      <th>DSTNRV30</th>\n      <th>DSTHOP30</th>\n      <th>DSTRST30</th>\n      <th>DSTCHR30</th>\n      <th>DSTEFF30</th>\n      <th>DSTNGD30</th>\n    </tr>\n  </thead>\n  <tbody>\n    <tr>\n      <th>6</th>\n      <td>12</td>\n      <td>1</td>\n      <td>2.0</td>\n      <td>2.0</td>\n      <td>0.0</td>\n      <td>1</td>\n      <td>1</td>\n      <td>2.0</td>\n      <td>2.0</td>\n      <td>2.0</td>\n      <td>...</td>\n      <td>2.0</td>\n      <td>2.0</td>\n      <td>2.0</td>\n      <td>2.0</td>\n      <td>5.0</td>\n      <td>5.0</td>\n      <td>5.0</td>\n      <td>5.0</td>\n      <td>5.0</td>\n      <td>5.0</td>\n    </tr>\n    <tr>\n      <th>12</th>\n      <td>13</td>\n      <td>1</td>\n      <td>2.0</td>\n      <td>1.0</td>\n      <td>0.0</td>\n      <td>2</td>\n      <td>1</td>\n      <td>2.0</td>\n      <td>2.0</td>\n      <td>2.0</td>\n      <td>...</td>\n      <td>1.0</td>\n      <td>2.0</td>\n      <td>1.0</td>\n      <td>2.0</td>\n      <td>5.0</td>\n      <td>5.0</td>\n      <td>5.0</td>\n      <td>5.0</td>\n      <td>5.0</td>\n      <td>4.0</td>\n    </tr>\n    <tr>\n      <th>14</th>\n      <td>14</td>\n      <td>1</td>\n      <td>2.0</td>\n      <td>2.0</td>\n      <td>0.0</td>\n      <td>1</td>\n      <td>1</td>\n      <td>2.0</td>\n      <td>2.0</td>\n      <td>2.0</td>\n      <td>...</td>\n      <td>2.0</td>\n      <td>2.0</td>\n      <td>1.0</td>\n      <td>2.0</td>\n      <td>5.0</td>\n      <td>5.0</td>\n      <td>5.0</td>\n      <td>5.0</td>\n      <td>5.0</td>\n      <td>5.0</td>\n    </tr>\n    <tr>\n      <th>19</th>\n      <td>7</td>\n      <td>4</td>\n      <td>2.0</td>\n      <td>1.0</td>\n      <td>0.0</td>\n      <td>1</td>\n      <td>1</td>\n      <td>2.0</td>\n      <td>2.0</td>\n      <td>2.0</td>\n      <td>...</td>\n      <td>2.0</td>\n      <td>2.0</td>\n      <td>2.0</td>\n      <td>2.0</td>\n      <td>5.0</td>\n      <td>5.0</td>\n      <td>5.0</td>\n      <td>5.0</td>\n      <td>5.0</td>\n      <td>5.0</td>\n    </tr>\n    <tr>\n      <th>21</th>\n      <td>14</td>\n      <td>1</td>\n      <td>2.0</td>\n      <td>3.0</td>\n      <td>0.0</td>\n      <td>1</td>\n      <td>1</td>\n      <td>1.0</td>\n      <td>2.0</td>\n      <td>2.0</td>\n      <td>...</td>\n      <td>1.0</td>\n      <td>1.0</td>\n      <td>1.0</td>\n      <td>1.0</td>\n      <td>3.0</td>\n      <td>3.0</td>\n      <td>3.0</td>\n      <td>4.0</td>\n      <td>3.0</td>\n      <td>3.0</td>\n    </tr>\n    <tr>\n      <th>...</th>\n      <td>...</td>\n      <td>...</td>\n      <td>...</td>\n      <td>...</td>\n      <td>...</td>\n      <td>...</td>\n      <td>...</td>\n      <td>...</td>\n      <td>...</td>\n      <td>...</td>\n      <td>...</td>\n      <td>...</td>\n      <td>...</td>\n      <td>...</td>\n      <td>...</td>\n      <td>...</td>\n      <td>...</td>\n      <td>...</td>\n      <td>...</td>\n      <td>...</td>\n      <td>...</td>\n    </tr>\n    <tr>\n      <th>57131</th>\n      <td>15</td>\n      <td>1</td>\n      <td>2.0</td>\n      <td>2.0</td>\n      <td>0.0</td>\n      <td>1</td>\n      <td>1</td>\n      <td>2.0</td>\n      <td>2.0</td>\n      <td>2.0</td>\n      <td>...</td>\n      <td>1.0</td>\n      <td>2.0</td>\n      <td>1.0</td>\n      <td>2.0</td>\n      <td>4.0</td>\n      <td>5.0</td>\n      <td>5.0</td>\n      <td>5.0</td>\n      <td>5.0</td>\n      <td>5.0</td>\n    </tr>\n    <tr>\n      <th>57138</th>\n      <td>10</td>\n      <td>4</td>\n      <td>2.0</td>\n      <td>4.0</td>\n      <td>3.0</td>\n      <td>2</td>\n      <td>1</td>\n      <td>1.0</td>\n      <td>2.0</td>\n      <td>2.0</td>\n      <td>...</td>\n      <td>1.0</td>\n      <td>1.0</td>\n      <td>1.0</td>\n      <td>1.0</td>\n      <td>3.0</td>\n      <td>3.0</td>\n      <td>2.0</td>\n      <td>2.0</td>\n      <td>2.0</td>\n      <td>4.0</td>\n    </tr>\n    <tr>\n      <th>57141</th>\n      <td>16</td>\n      <td>4</td>\n      <td>2.0</td>\n      <td>2.0</td>\n      <td>0.0</td>\n      <td>5</td>\n      <td>2</td>\n      <td>2.0</td>\n      <td>2.0</td>\n      <td>2.0</td>\n      <td>...</td>\n      <td>1.0</td>\n      <td>2.0</td>\n      <td>2.0</td>\n      <td>1.0</td>\n      <td>4.0</td>\n      <td>5.0</td>\n      <td>5.0</td>\n      <td>5.0</td>\n      <td>4.0</td>\n      <td>5.0</td>\n    </tr>\n    <tr>\n      <th>57142</th>\n      <td>12</td>\n      <td>4</td>\n      <td>2.0</td>\n      <td>3.0</td>\n      <td>1.0</td>\n      <td>1</td>\n      <td>1</td>\n      <td>2.0</td>\n      <td>2.0</td>\n      <td>2.0</td>\n      <td>...</td>\n      <td>2.0</td>\n      <td>2.0</td>\n      <td>2.0</td>\n      <td>2.0</td>\n      <td>5.0</td>\n      <td>4.0</td>\n      <td>5.0</td>\n      <td>5.0</td>\n      <td>5.0</td>\n      <td>5.0</td>\n    </tr>\n    <tr>\n      <th>57143</th>\n      <td>11</td>\n      <td>4</td>\n      <td>2.0</td>\n      <td>2.0</td>\n      <td>0.0</td>\n      <td>1</td>\n      <td>1</td>\n      <td>2.0</td>\n      <td>2.0</td>\n      <td>2.0</td>\n      <td>...</td>\n      <td>1.0</td>\n      <td>2.0</td>\n      <td>2.0</td>\n      <td>2.0</td>\n      <td>4.0</td>\n      <td>5.0</td>\n      <td>3.0</td>\n      <td>5.0</td>\n      <td>3.0</td>\n      <td>5.0</td>\n    </tr>\n  </tbody>\n</table>\n<p>23810 rows × 64 columns</p>\n</div>"
     },
     "metadata": {},
     "execution_count": 242
    }
   ],
   "source": [
    "# Some responses have different numbers but will mean the same in the m achine learning stage so I'm replacing them to be the same number\n",
    "data5_df_cp.loc[:, 'SEXATRACT'] = data5_df_cp.loc[:, 'SEXATRACT'].replace(94, 6)\n",
    "data5_df_cp.loc[:, 'SEXATRACT'] = data5_df_cp.loc[:, 'SEXATRACT'].replace([97, 99], 98)\n",
    "data5_df_cp.loc[:, 'SEXIDENT'] = data5_df_cp.loc[:, 'SEXIDENT'].replace([97, 99], 98)\n",
    "data5_df_cp.loc[:, ['CIGDLYMO', 'CIG100LF','PNRANYLIF', 'TRQANYLIF', 'STMANYLIF', 'SEDANYLIF']] = data5_df_cp.loc[:, ['CIGDLYMO', 'CIG100LF', 'PNRANYLIF', 'TRQANYLIF', 'STMANYLIF', 'SEDANYLIF']].replace(5, 1)\n",
    "data5_df_cp.loc[:, 'ALCREC'] = data5_df_cp.loc[:, 'ALCREC'].replace(11, 1)\n",
    "data5_df_cp.loc[:, 'ALCREC'] = data5_df_cp.loc[:, 'ALCREC'].replace(8, 2)\n",
    "data5_df_cp.loc[:, 'ALCUS30D'] = data5_df_cp.loc[:, 'ALCUS30D'].replace(975, 4)\n",
    "data4_df_cp.loc[:, 'SERVICE'] = data4_df_cp.loc[:, 'SERVICE'].replace(89, 99)\n",
    "data4_df_cp.loc[:, 'SEXATRACT'] = data4_df_cp.loc[:, 'SEXATRACT'].replace(89, 99)\n",
    "data4_df_cp.loc[:, 'SEXIDENT'] = data4_df_cp.loc[:, 'SEXIDENT'].replace(89, 99)\n",
    "\n",
    "data5_df_cp.loc[:, ['CRKEVER', 'LSD', 'PCP', 'PEYOTE', 'MESC', 'PSILCY', 'ECSTMOLLY', 'KETMINESK', 'DMTAMTFXY', 'SALVIADIV', 'HALLUCOTH']] = data5_df_cp.loc[:, ['CRKEVER', 'LSD', 'PCP', 'PEYOTE', 'MESC', 'PSILCY', 'ECSTMOLLY', 'KETMINESK', 'DMTAMTFXY', 'SALVIADIV', 'HALLUCOTH']].replace(91, 2)\n",
    "\n",
    "data5_df_cp.loc[:, ['CIG100LF', 'LSD', 'PCP', 'PEYOTE', 'MESC', 'PSILCY', 'ECSTMOLLY', 'KETMINESK', 'DMTAMTFXY', 'SALVIADIV', 'HALLUCOTH']] = data5_df_cp.loc[:, ['CIG100LF', 'LSD', 'PCP', 'PEYOTE', 'MESC', 'PSILCY', 'ECSTMOLLY', 'KETMINESK', 'DMTAMTFXY', 'SALVIADIV', 'HALLUCOTH']].replace(3, 1)\n",
    "\n",
    "data5_df_cp.loc[:, ['AMYLNIT', 'CLEFLU', 'GAS', 'GLUE', 'ETHER', 'SOLVENT', 'LGAS', 'NITOXID', 'FELTMARKR', 'SPPAINT', 'AIRDUSTER', 'OTHAEROS', 'INHALOTH']] = data5_df_cp.loc[:, ['AMYLNIT', 'CLEFLU', 'GAS', 'GLUE', 'ETHER', 'SOLVENT', 'LGAS', 'NITOXID', 'FELTMARKR', 'SPPAINT', 'AIRDUSTER', 'OTHAEROS', 'INHALOTH']].replace(91, 2)\n",
    "\n",
    "data5_df_cp.loc[:, ['AMYLNIT', 'CLEFLU', 'GAS', 'GLUE', 'ETHER', 'SOLVENT', 'LGAS', 'NITOXID', 'FELTMARKR', 'SPPAINT', 'AIRDUSTER', 'OTHAEROS', 'INHALOTH']] = data5_df_cp.loc[:, ['AMYLNIT', 'CLEFLU', 'GAS', 'GLUE', 'ETHER', 'SOLVENT', 'LGAS', 'NITOXID', 'FELTMARKR', 'SPPAINT', 'AIRDUSTER', 'OTHAEROS', 'INHALOTH']].replace(3, 1)\n",
    "\n",
    "data5_df_cp"
   ]
  },
  {
   "cell_type": "code",
   "execution_count": 243,
   "metadata": {},
   "outputs": [],
   "source": [
    "# exporting the data to csv file\n",
    "data5_df_cp.to_csv(\"project3_raw_2015.csv\", index=False)"
   ]
  },
  {
   "source": [
    "# Appending the dataframes"
   ],
   "cell_type": "markdown",
   "metadata": {}
  },
  {
   "cell_type": "code",
   "execution_count": 248,
   "metadata": {},
   "outputs": [],
   "source": [
    "data_complete_df = pd.concat([data1_df_cp, data2_df_cp, data3_df_cp, data4_df_cp, data5_df_cp])"
   ]
  },
  {
   "cell_type": "code",
   "execution_count": 249,
   "metadata": {},
   "outputs": [
    {
     "output_type": "stream",
     "name": "stdout",
     "text": [
      "<class 'pandas.core.frame.DataFrame'>\nInt64Index: 120543 entries, 0 to 57143\nData columns (total 64 columns):\n #   Column        Non-Null Count   Dtype  \n---  ------        --------------   -----  \n 0   AGE2          120543 non-null  int64  \n 1   IRMARIT       120543 non-null  int64  \n 2   SERVICE       120543 non-null  float64\n 3   HEALTH        120543 non-null  float64\n 4   MOVSINPYR2    120543 non-null  float64\n 5   SEXATRACT     120543 non-null  float64\n 6   SEXIDENT      120543 non-null  float64\n 7   DIFFTHINK     120543 non-null  float64\n 8   DIFFWALK      120543 non-null  float64\n 9   DIFFDRESS     120543 non-null  float64\n 10  DIFFERAND     120543 non-null  float64\n 11  IREDUHIGHST2  120543 non-null  int64  \n 12  WRKSTATWK2    120543 non-null  float64\n 13  IRWRKSTAT     120543 non-null  int64  \n 14  WRKNUMJOB2    120543 non-null  float64\n 15  IRPINC3       120543 non-null  int64  \n 16  CIGEVER       120543 non-null  int64  \n 17  CIGTRY        120543 non-null  float64\n 18  CIGDLYMO      120543 non-null  float64\n 19  CIG100LF      120543 non-null  float64\n 20  CG30EST       120543 non-null  float64\n 21  ALCEVER       120543 non-null  float64\n 22  ALCREC        120543 non-null  float64\n 23  ALCYRTOT      120543 non-null  float64\n 24  ALCDAYS       120543 non-null  float64\n 25  ALCUS30D      120543 non-null  float64\n 26  MJEVER        120543 non-null  float64\n 27  COCEVER       120543 non-null  float64\n 28  CRKEVER       120543 non-null  float64\n 29  HEREVER       120543 non-null  float64\n 30  LSD           120543 non-null  float64\n 31  PCP           120543 non-null  float64\n 32  PEYOTE        120543 non-null  float64\n 33  MESC          120543 non-null  float64\n 34  PSILCY        120543 non-null  float64\n 35  ECSTMOLLY     120543 non-null  float64\n 36  KETMINESK     120543 non-null  float64\n 37  DMTAMTFXY     120543 non-null  float64\n 38  SALVIADIV     120543 non-null  float64\n 39  HALLUCOTH     120543 non-null  float64\n 40  AMYLNIT       120543 non-null  float64\n 41  CLEFLU        120543 non-null  float64\n 42  GAS           120543 non-null  float64\n 43  GLUE          120543 non-null  float64\n 44  ETHER         120543 non-null  float64\n 45  SOLVENT       120543 non-null  float64\n 46  LGAS          120543 non-null  float64\n 47  NITOXID       120543 non-null  float64\n 48  FELTMARKR     120543 non-null  float64\n 49  SPPAINT       120543 non-null  float64\n 50  AIRDUSTER     120543 non-null  float64\n 51  OTHAEROS      120543 non-null  float64\n 52  INHALOTH      120543 non-null  float64\n 53  METHAMEVR     120543 non-null  float64\n 54  PNRANYLIF     120543 non-null  float64\n 55  TRQANYLIF     120543 non-null  float64\n 56  STMANYLIF     120543 non-null  float64\n 57  SEDANYLIF     120543 non-null  float64\n 58  DSTNRV30      120543 non-null  float64\n 59  DSTHOP30      120543 non-null  float64\n 60  DSTRST30      120543 non-null  float64\n 61  DSTCHR30      120543 non-null  float64\n 62  DSTEFF30      120543 non-null  float64\n 63  DSTNGD30      120543 non-null  float64\ndtypes: float64(58), int64(6)\nmemory usage: 59.8 MB\n"
     ]
    }
   ],
   "source": [
    "data_complete_df.info()"
   ]
  },
  {
   "cell_type": "code",
   "execution_count": 250,
   "metadata": {},
   "outputs": [],
   "source": [
    "data_complete_df.to_csv(\"project3_raw_complete.csv\", index=False)"
   ]
  }
 ]
}