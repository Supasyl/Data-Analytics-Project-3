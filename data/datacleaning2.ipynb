{
 "metadata": {
  "language_info": {
   "codemirror_mode": {
    "name": "ipython",
    "version": 3
   },
   "file_extension": ".py",
   "mimetype": "text/x-python",
   "name": "python",
   "nbconvert_exporter": "python",
   "pygments_lexer": "ipython3",
   "version": "3.8.3-final"
  },
  "orig_nbformat": 2,
  "kernelspec": {
   "name": "python3",
   "display_name": "Python 3",
   "language": "python"
  }
 },
 "nbformat": 4,
 "nbformat_minor": 2,
 "cells": [
  {
   "cell_type": "code",
   "execution_count": 1,
   "metadata": {},
   "outputs": [],
   "source": [
    "# importing the libraries\n",
    "import pandas as pd\n",
    "import numpy as np"
   ]
  },
  {
   "cell_type": "code",
   "execution_count": 2,
   "metadata": {},
   "outputs": [
    {
     "output_type": "execute_result",
     "data": {
      "text/plain": [
       "   AGE2  IRMARIT  SERVICE  HEALTH  MOVSINPYR2  SEXATRACT  SEXIDENT  DIFFTHINK  \\\n",
       "0    15        1      2.0     2.0         0.0        1.0       1.0        2.0   \n",
       "1    17        1      2.0     2.0         0.0        1.0       1.0        2.0   \n",
       "2    14        4      2.0     2.0         0.0        1.0       1.0        2.0   \n",
       "3     8        4      2.0     2.0         1.0        1.0       1.0        2.0   \n",
       "4    14        1      2.0     2.0         0.0        1.0       1.0        2.0   \n",
       "\n",
       "   DIFFWALK  DIFFDRESS  ...  PNRANYLIF  TRQANYLIF  STMANYLIF  SEDANYLIF  \\\n",
       "0       2.0        2.0  ...        1.0        2.0        2.0        2.0   \n",
       "1       2.0        2.0  ...        1.0        2.0        2.0        2.0   \n",
       "2       2.0        2.0  ...        1.0        2.0        2.0        2.0   \n",
       "3       2.0        2.0  ...        2.0        1.0        1.0        2.0   \n",
       "4       2.0        2.0  ...        1.0        2.0        2.0        2.0   \n",
       "\n",
       "   DSTNRV30  DSTHOP30  DSTRST30  DSTCHR30  DSTEFF30  DSTNGD30  \n",
       "0       2.0       3.0       3.0       3.0       2.0       4.0  \n",
       "1       5.0       5.0       5.0       5.0       5.0       5.0  \n",
       "2       4.0       5.0       5.0       5.0       5.0       5.0  \n",
       "3       4.0       5.0       5.0       5.0       5.0       5.0  \n",
       "4       4.0       5.0       5.0       4.0       4.0       5.0  \n",
       "\n",
       "[5 rows x 64 columns]"
      ],
      "text/html": "<div>\n<style scoped>\n    .dataframe tbody tr th:only-of-type {\n        vertical-align: middle;\n    }\n\n    .dataframe tbody tr th {\n        vertical-align: top;\n    }\n\n    .dataframe thead th {\n        text-align: right;\n    }\n</style>\n<table border=\"1\" class=\"dataframe\">\n  <thead>\n    <tr style=\"text-align: right;\">\n      <th></th>\n      <th>AGE2</th>\n      <th>IRMARIT</th>\n      <th>SERVICE</th>\n      <th>HEALTH</th>\n      <th>MOVSINPYR2</th>\n      <th>SEXATRACT</th>\n      <th>SEXIDENT</th>\n      <th>DIFFTHINK</th>\n      <th>DIFFWALK</th>\n      <th>DIFFDRESS</th>\n      <th>...</th>\n      <th>PNRANYLIF</th>\n      <th>TRQANYLIF</th>\n      <th>STMANYLIF</th>\n      <th>SEDANYLIF</th>\n      <th>DSTNRV30</th>\n      <th>DSTHOP30</th>\n      <th>DSTRST30</th>\n      <th>DSTCHR30</th>\n      <th>DSTEFF30</th>\n      <th>DSTNGD30</th>\n    </tr>\n  </thead>\n  <tbody>\n    <tr>\n      <th>0</th>\n      <td>15</td>\n      <td>1</td>\n      <td>2.0</td>\n      <td>2.0</td>\n      <td>0.0</td>\n      <td>1.0</td>\n      <td>1.0</td>\n      <td>2.0</td>\n      <td>2.0</td>\n      <td>2.0</td>\n      <td>...</td>\n      <td>1.0</td>\n      <td>2.0</td>\n      <td>2.0</td>\n      <td>2.0</td>\n      <td>2.0</td>\n      <td>3.0</td>\n      <td>3.0</td>\n      <td>3.0</td>\n      <td>2.0</td>\n      <td>4.0</td>\n    </tr>\n    <tr>\n      <th>1</th>\n      <td>17</td>\n      <td>1</td>\n      <td>2.0</td>\n      <td>2.0</td>\n      <td>0.0</td>\n      <td>1.0</td>\n      <td>1.0</td>\n      <td>2.0</td>\n      <td>2.0</td>\n      <td>2.0</td>\n      <td>...</td>\n      <td>1.0</td>\n      <td>2.0</td>\n      <td>2.0</td>\n      <td>2.0</td>\n      <td>5.0</td>\n      <td>5.0</td>\n      <td>5.0</td>\n      <td>5.0</td>\n      <td>5.0</td>\n      <td>5.0</td>\n    </tr>\n    <tr>\n      <th>2</th>\n      <td>14</td>\n      <td>4</td>\n      <td>2.0</td>\n      <td>2.0</td>\n      <td>0.0</td>\n      <td>1.0</td>\n      <td>1.0</td>\n      <td>2.0</td>\n      <td>2.0</td>\n      <td>2.0</td>\n      <td>...</td>\n      <td>1.0</td>\n      <td>2.0</td>\n      <td>2.0</td>\n      <td>2.0</td>\n      <td>4.0</td>\n      <td>5.0</td>\n      <td>5.0</td>\n      <td>5.0</td>\n      <td>5.0</td>\n      <td>5.0</td>\n    </tr>\n    <tr>\n      <th>3</th>\n      <td>8</td>\n      <td>4</td>\n      <td>2.0</td>\n      <td>2.0</td>\n      <td>1.0</td>\n      <td>1.0</td>\n      <td>1.0</td>\n      <td>2.0</td>\n      <td>2.0</td>\n      <td>2.0</td>\n      <td>...</td>\n      <td>2.0</td>\n      <td>1.0</td>\n      <td>1.0</td>\n      <td>2.0</td>\n      <td>4.0</td>\n      <td>5.0</td>\n      <td>5.0</td>\n      <td>5.0</td>\n      <td>5.0</td>\n      <td>5.0</td>\n    </tr>\n    <tr>\n      <th>4</th>\n      <td>14</td>\n      <td>1</td>\n      <td>2.0</td>\n      <td>2.0</td>\n      <td>0.0</td>\n      <td>1.0</td>\n      <td>1.0</td>\n      <td>2.0</td>\n      <td>2.0</td>\n      <td>2.0</td>\n      <td>...</td>\n      <td>1.0</td>\n      <td>2.0</td>\n      <td>2.0</td>\n      <td>2.0</td>\n      <td>4.0</td>\n      <td>5.0</td>\n      <td>5.0</td>\n      <td>4.0</td>\n      <td>4.0</td>\n      <td>5.0</td>\n    </tr>\n  </tbody>\n</table>\n<p>5 rows × 64 columns</p>\n</div>"
     },
     "metadata": {},
     "execution_count": 2
    }
   ],
   "source": [
    "# Reading in the data\n",
    "data_df = pd.read_csv('processed_csv/project3_raw_complete.csv')\n",
    "data_df.head()"
   ]
  },
  {
   "cell_type": "code",
   "execution_count": 3,
   "metadata": {},
   "outputs": [
    {
     "output_type": "execute_result",
     "data": {
      "text/plain": [
       "array([2., 1.])"
      ]
     },
     "metadata": {},
     "execution_count": 3
    }
   ],
   "source": [
    "data_df['LSD'].unique()"
   ]
  },
  {
   "cell_type": "code",
   "execution_count": 4,
   "metadata": {},
   "outputs": [],
   "source": [
    "def is_hallucinogens(LSD, PCP, PEYOTE, MESC, PSILCY, ECSTMOLLY, KETMINESK, DMTAMTFXY, SALVIADIV, HALLUCOTH):\n",
    "    res = None\n",
    "    if (LSD==1) | (PCP==1) | (PEYOTE==1) | (MESC==1) | (PSILCY==1) | (ECSTMOLLY==1) | (KETMINESK==1) |              (DMTAMTFXY==1) | (SALVIADIV==1) | (HALLUCOTH==1):\n",
    "        res = 1\n",
    "    else:\n",
    "        res = 0\n",
    "    return res"
   ]
  },
  {
   "cell_type": "code",
   "execution_count": 5,
   "metadata": {},
   "outputs": [],
   "source": [
    "def is_inhalant(AMYLNIT, CLEFLU, GAS, GLUE, ETHER, SOLVENT, LGAS, NITOXID, FELTMARKR, SPPAINT, AIRDUSTER,       OTHAEROS, INHALOTH):\n",
    "    res = None\n",
    "    if (AMYLNIT==1) | (CLEFLU==1) | (GAS==1) | (GLUE==1) | (ETHER==1) | (SOLVENT==1) | (LGAS==1) |                  (NITOXID==1) | (FELTMARKR==1) | (SPPAINT==1) | (AIRDUSTER==1) | (OTHAEROS==1) | (INHALOTH==1):\n",
    "        res = 1\n",
    "    else:\n",
    "        res = 0\n",
    "    return res"
   ]
  },
  {
   "cell_type": "code",
   "execution_count": 13,
   "metadata": {},
   "outputs": [],
   "source": [
    "def is_not_mental(DSTNRV30, DSTHOP30, DSTRST30, DSTCHR30, DSTEFF30, DSTNGD30):\n",
    "    res = None\n",
    "    if (DSTNRV30 + DSTHOP30 + DSTRST30 + DSTCHR30 + DSTEFF30 + DSTNGD30) <= 18:\n",
    "        res = 1\n",
    "    else:\n",
    "        res = 0\n",
    "    return res"
   ]
  },
  {
   "cell_type": "code",
   "execution_count": 7,
   "metadata": {},
   "outputs": [],
   "source": [
    "data_df['halluciogens'] = data_df[['LSD', 'PCP', 'PEYOTE', 'MESC', 'PSILCY', 'ECSTMOLLY', 'KETMINESK', 'DMTAMTFXY', 'SALVIADIV', 'HALLUCOTH']].apply(lambda row: is_hallucinogens(row.LSD, row.PCP, row.PEYOTE, row.MESC, row.PSILCY, row.ECSTMOLLY, row.KETMINESK, row.DMTAMTFXY, row.SALVIADIV, row.HALLUCOTH), axis=1)"
   ]
  },
  {
   "cell_type": "code",
   "execution_count": 8,
   "metadata": {},
   "outputs": [],
   "source": [
    "data_df['inhalants'] = data_df[['AMYLNIT', 'CLEFLU', 'GAS', 'GLUE', 'ETHER', 'SOLVENT', 'LGAS', 'NITOXID', 'FELTMARKR', 'SPPAINT', 'AIRDUSTER', 'OTHAEROS', 'INHALOTH']].apply(lambda row: is_inhalant(row.AMYLNIT, row.CLEFLU, row.GAS, row.GLUE, row.ETHER, row.SOLVENT, row.LGAS, row.NITOXID, row.FELTMARKR, row.SPPAINT, row.AIRDUSTER, row.OTHAEROS, row.INHALOTH), axis=1)"
   ]
  },
  {
   "cell_type": "code",
   "execution_count": 15,
   "metadata": {},
   "outputs": [],
   "source": [
    "data_df['not_mental'] = data_df[['DSTNRV30', 'DSTHOP30', 'DSTRST30', 'DSTCHR30', 'DSTEFF30', 'DSTNGD30']].apply(lambda row: is_not_mental(row.DSTNRV30, row.DSTHOP30, row.DSTRST30, row.DSTCHR30, row.DSTEFF30, row.DSTNGD30), axis=1)"
   ]
  },
  {
   "cell_type": "code",
   "execution_count": 16,
   "metadata": {},
   "outputs": [
    {
     "output_type": "execute_result",
     "data": {
      "text/plain": [
       "        AGE2  IRMARIT  SERVICE  HEALTH  MOVSINPYR2  SEXATRACT  SEXIDENT  \\\n",
       "0         15        1      2.0     2.0         0.0        1.0       1.0   \n",
       "1         17        1      2.0     2.0         0.0        1.0       1.0   \n",
       "2         14        4      2.0     2.0         0.0        1.0       1.0   \n",
       "3          8        4      2.0     2.0         1.0        1.0       1.0   \n",
       "4         14        1      2.0     2.0         0.0        1.0       1.0   \n",
       "...      ...      ...      ...     ...         ...        ...       ...   \n",
       "120538    15        1      2.0     2.0         0.0        1.0       1.0   \n",
       "120539    10        4      2.0     4.0         3.0        2.0       1.0   \n",
       "120540    16        4      2.0     2.0         0.0        5.0       2.0   \n",
       "120541    12        4      2.0     3.0         1.0        1.0       1.0   \n",
       "120542    11        4      2.0     2.0         0.0        1.0       1.0   \n",
       "\n",
       "        DIFFTHINK  DIFFWALK  DIFFDRESS  ...  SEDANYLIF  DSTNRV30  DSTHOP30  \\\n",
       "0             2.0       2.0        2.0  ...        2.0       2.0       3.0   \n",
       "1             2.0       2.0        2.0  ...        2.0       5.0       5.0   \n",
       "2             2.0       2.0        2.0  ...        2.0       4.0       5.0   \n",
       "3             2.0       2.0        2.0  ...        2.0       4.0       5.0   \n",
       "4             2.0       2.0        2.0  ...        2.0       4.0       5.0   \n",
       "...           ...       ...        ...  ...        ...       ...       ...   \n",
       "120538        2.0       2.0        2.0  ...        2.0       4.0       5.0   \n",
       "120539        1.0       2.0        2.0  ...        1.0       3.0       3.0   \n",
       "120540        2.0       2.0        2.0  ...        1.0       4.0       5.0   \n",
       "120541        2.0       2.0        2.0  ...        2.0       5.0       4.0   \n",
       "120542        2.0       2.0        2.0  ...        2.0       4.0       5.0   \n",
       "\n",
       "        DSTRST30  DSTCHR30  DSTEFF30  DSTNGD30  halluciogens  inhalants  \\\n",
       "0            3.0       3.0       2.0       4.0             0          1   \n",
       "1            5.0       5.0       5.0       5.0             0          0   \n",
       "2            5.0       5.0       5.0       5.0             0          0   \n",
       "3            5.0       5.0       5.0       5.0             0          0   \n",
       "4            5.0       4.0       4.0       5.0             0          0   \n",
       "...          ...       ...       ...       ...           ...        ...   \n",
       "120538       5.0       5.0       5.0       5.0             1          0   \n",
       "120539       2.0       2.0       2.0       4.0             1          0   \n",
       "120540       5.0       5.0       4.0       5.0             0          1   \n",
       "120541       5.0       5.0       5.0       5.0             1          0   \n",
       "120542       3.0       5.0       3.0       5.0             0          0   \n",
       "\n",
       "        not_mental  \n",
       "0                1  \n",
       "1                0  \n",
       "2                0  \n",
       "3                0  \n",
       "4                0  \n",
       "...            ...  \n",
       "120538           0  \n",
       "120539           1  \n",
       "120540           0  \n",
       "120541           0  \n",
       "120542           0  \n",
       "\n",
       "[120543 rows x 67 columns]"
      ],
      "text/html": "<div>\n<style scoped>\n    .dataframe tbody tr th:only-of-type {\n        vertical-align: middle;\n    }\n\n    .dataframe tbody tr th {\n        vertical-align: top;\n    }\n\n    .dataframe thead th {\n        text-align: right;\n    }\n</style>\n<table border=\"1\" class=\"dataframe\">\n  <thead>\n    <tr style=\"text-align: right;\">\n      <th></th>\n      <th>AGE2</th>\n      <th>IRMARIT</th>\n      <th>SERVICE</th>\n      <th>HEALTH</th>\n      <th>MOVSINPYR2</th>\n      <th>SEXATRACT</th>\n      <th>SEXIDENT</th>\n      <th>DIFFTHINK</th>\n      <th>DIFFWALK</th>\n      <th>DIFFDRESS</th>\n      <th>...</th>\n      <th>SEDANYLIF</th>\n      <th>DSTNRV30</th>\n      <th>DSTHOP30</th>\n      <th>DSTRST30</th>\n      <th>DSTCHR30</th>\n      <th>DSTEFF30</th>\n      <th>DSTNGD30</th>\n      <th>halluciogens</th>\n      <th>inhalants</th>\n      <th>not_mental</th>\n    </tr>\n  </thead>\n  <tbody>\n    <tr>\n      <th>0</th>\n      <td>15</td>\n      <td>1</td>\n      <td>2.0</td>\n      <td>2.0</td>\n      <td>0.0</td>\n      <td>1.0</td>\n      <td>1.0</td>\n      <td>2.0</td>\n      <td>2.0</td>\n      <td>2.0</td>\n      <td>...</td>\n      <td>2.0</td>\n      <td>2.0</td>\n      <td>3.0</td>\n      <td>3.0</td>\n      <td>3.0</td>\n      <td>2.0</td>\n      <td>4.0</td>\n      <td>0</td>\n      <td>1</td>\n      <td>1</td>\n    </tr>\n    <tr>\n      <th>1</th>\n      <td>17</td>\n      <td>1</td>\n      <td>2.0</td>\n      <td>2.0</td>\n      <td>0.0</td>\n      <td>1.0</td>\n      <td>1.0</td>\n      <td>2.0</td>\n      <td>2.0</td>\n      <td>2.0</td>\n      <td>...</td>\n      <td>2.0</td>\n      <td>5.0</td>\n      <td>5.0</td>\n      <td>5.0</td>\n      <td>5.0</td>\n      <td>5.0</td>\n      <td>5.0</td>\n      <td>0</td>\n      <td>0</td>\n      <td>0</td>\n    </tr>\n    <tr>\n      <th>2</th>\n      <td>14</td>\n      <td>4</td>\n      <td>2.0</td>\n      <td>2.0</td>\n      <td>0.0</td>\n      <td>1.0</td>\n      <td>1.0</td>\n      <td>2.0</td>\n      <td>2.0</td>\n      <td>2.0</td>\n      <td>...</td>\n      <td>2.0</td>\n      <td>4.0</td>\n      <td>5.0</td>\n      <td>5.0</td>\n      <td>5.0</td>\n      <td>5.0</td>\n      <td>5.0</td>\n      <td>0</td>\n      <td>0</td>\n      <td>0</td>\n    </tr>\n    <tr>\n      <th>3</th>\n      <td>8</td>\n      <td>4</td>\n      <td>2.0</td>\n      <td>2.0</td>\n      <td>1.0</td>\n      <td>1.0</td>\n      <td>1.0</td>\n      <td>2.0</td>\n      <td>2.0</td>\n      <td>2.0</td>\n      <td>...</td>\n      <td>2.0</td>\n      <td>4.0</td>\n      <td>5.0</td>\n      <td>5.0</td>\n      <td>5.0</td>\n      <td>5.0</td>\n      <td>5.0</td>\n      <td>0</td>\n      <td>0</td>\n      <td>0</td>\n    </tr>\n    <tr>\n      <th>4</th>\n      <td>14</td>\n      <td>1</td>\n      <td>2.0</td>\n      <td>2.0</td>\n      <td>0.0</td>\n      <td>1.0</td>\n      <td>1.0</td>\n      <td>2.0</td>\n      <td>2.0</td>\n      <td>2.0</td>\n      <td>...</td>\n      <td>2.0</td>\n      <td>4.0</td>\n      <td>5.0</td>\n      <td>5.0</td>\n      <td>4.0</td>\n      <td>4.0</td>\n      <td>5.0</td>\n      <td>0</td>\n      <td>0</td>\n      <td>0</td>\n    </tr>\n    <tr>\n      <th>...</th>\n      <td>...</td>\n      <td>...</td>\n      <td>...</td>\n      <td>...</td>\n      <td>...</td>\n      <td>...</td>\n      <td>...</td>\n      <td>...</td>\n      <td>...</td>\n      <td>...</td>\n      <td>...</td>\n      <td>...</td>\n      <td>...</td>\n      <td>...</td>\n      <td>...</td>\n      <td>...</td>\n      <td>...</td>\n      <td>...</td>\n      <td>...</td>\n      <td>...</td>\n      <td>...</td>\n    </tr>\n    <tr>\n      <th>120538</th>\n      <td>15</td>\n      <td>1</td>\n      <td>2.0</td>\n      <td>2.0</td>\n      <td>0.0</td>\n      <td>1.0</td>\n      <td>1.0</td>\n      <td>2.0</td>\n      <td>2.0</td>\n      <td>2.0</td>\n      <td>...</td>\n      <td>2.0</td>\n      <td>4.0</td>\n      <td>5.0</td>\n      <td>5.0</td>\n      <td>5.0</td>\n      <td>5.0</td>\n      <td>5.0</td>\n      <td>1</td>\n      <td>0</td>\n      <td>0</td>\n    </tr>\n    <tr>\n      <th>120539</th>\n      <td>10</td>\n      <td>4</td>\n      <td>2.0</td>\n      <td>4.0</td>\n      <td>3.0</td>\n      <td>2.0</td>\n      <td>1.0</td>\n      <td>1.0</td>\n      <td>2.0</td>\n      <td>2.0</td>\n      <td>...</td>\n      <td>1.0</td>\n      <td>3.0</td>\n      <td>3.0</td>\n      <td>2.0</td>\n      <td>2.0</td>\n      <td>2.0</td>\n      <td>4.0</td>\n      <td>1</td>\n      <td>0</td>\n      <td>1</td>\n    </tr>\n    <tr>\n      <th>120540</th>\n      <td>16</td>\n      <td>4</td>\n      <td>2.0</td>\n      <td>2.0</td>\n      <td>0.0</td>\n      <td>5.0</td>\n      <td>2.0</td>\n      <td>2.0</td>\n      <td>2.0</td>\n      <td>2.0</td>\n      <td>...</td>\n      <td>1.0</td>\n      <td>4.0</td>\n      <td>5.0</td>\n      <td>5.0</td>\n      <td>5.0</td>\n      <td>4.0</td>\n      <td>5.0</td>\n      <td>0</td>\n      <td>1</td>\n      <td>0</td>\n    </tr>\n    <tr>\n      <th>120541</th>\n      <td>12</td>\n      <td>4</td>\n      <td>2.0</td>\n      <td>3.0</td>\n      <td>1.0</td>\n      <td>1.0</td>\n      <td>1.0</td>\n      <td>2.0</td>\n      <td>2.0</td>\n      <td>2.0</td>\n      <td>...</td>\n      <td>2.0</td>\n      <td>5.0</td>\n      <td>4.0</td>\n      <td>5.0</td>\n      <td>5.0</td>\n      <td>5.0</td>\n      <td>5.0</td>\n      <td>1</td>\n      <td>0</td>\n      <td>0</td>\n    </tr>\n    <tr>\n      <th>120542</th>\n      <td>11</td>\n      <td>4</td>\n      <td>2.0</td>\n      <td>2.0</td>\n      <td>0.0</td>\n      <td>1.0</td>\n      <td>1.0</td>\n      <td>2.0</td>\n      <td>2.0</td>\n      <td>2.0</td>\n      <td>...</td>\n      <td>2.0</td>\n      <td>4.0</td>\n      <td>5.0</td>\n      <td>3.0</td>\n      <td>5.0</td>\n      <td>3.0</td>\n      <td>5.0</td>\n      <td>0</td>\n      <td>0</td>\n      <td>0</td>\n    </tr>\n  </tbody>\n</table>\n<p>120543 rows × 67 columns</p>\n</div>"
     },
     "metadata": {},
     "execution_count": 16
    }
   ],
   "source": [
    "data_df"
   ]
  },
  {
   "cell_type": "code",
   "execution_count": 17,
   "metadata": {},
   "outputs": [],
   "source": [
    "# exporting the data to csv file\n",
    "data_df.to_csv(\"processed_csv/project3_raw_complete_adjusted.csv\", index=False)"
   ]
  }
 ]
}