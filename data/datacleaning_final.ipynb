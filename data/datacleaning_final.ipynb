{
 "metadata": {
  "language_info": {
   "codemirror_mode": {
    "name": "ipython",
    "version": 3
   },
   "file_extension": ".py",
   "mimetype": "text/x-python",
   "name": "python",
   "nbconvert_exporter": "python",
   "pygments_lexer": "ipython3",
   "version": "3.7.9"
  },
  "orig_nbformat": 2,
  "kernelspec": {
   "name": "python3",
   "display_name": "Python 3.7.9 64-bit ('homework': conda)",
   "metadata": {
    "interpreter": {
     "hash": "bda7821ce18a0b2c0f737a4544fda4e96b70694268c6080765f14fcf13080e2c"
    }
   }
  }
 },
 "nbformat": 4,
 "nbformat_minor": 2,
 "cells": [
  {
   "cell_type": "code",
   "execution_count": 1,
   "metadata": {},
   "outputs": [],
   "source": [
    "# import libraries\n",
    "import pandas as pd"
   ]
  },
  {
   "cell_type": "code",
   "execution_count": 2,
   "metadata": {},
   "outputs": [
    {
     "output_type": "execute_result",
     "data": {
      "text/plain": [
       "        AGE2  IRMARIT  SERVICE  HEALTH  MOVSINPYR2  SEXATRACT  SEXIDENT  \\\n",
       "0         15        1      2.0     2.0         0.0        1.0       1.0   \n",
       "1         17        1      2.0     2.0         0.0        1.0       1.0   \n",
       "2         14        4      2.0     2.0         0.0        1.0       1.0   \n",
       "3          8        4      2.0     2.0         1.0        1.0       1.0   \n",
       "4         14        1      2.0     2.0         0.0        1.0       1.0   \n",
       "...      ...      ...      ...     ...         ...        ...       ...   \n",
       "120538    15        1      2.0     2.0         0.0        1.0       1.0   \n",
       "120539    10        4      2.0     4.0         3.0        2.0       1.0   \n",
       "120540    16        4      2.0     2.0         0.0        5.0       2.0   \n",
       "120541    12        4      2.0     3.0         1.0        1.0       1.0   \n",
       "120542    11        4      2.0     2.0         0.0        1.0       1.0   \n",
       "\n",
       "        DIFFTHINK  DIFFWALK  DIFFDRESS  ...  SEDANYLIF  DSTNRV30  DSTHOP30  \\\n",
       "0             2.0       2.0        2.0  ...        2.0       2.0       3.0   \n",
       "1             2.0       2.0        2.0  ...        2.0       5.0       5.0   \n",
       "2             2.0       2.0        2.0  ...        2.0       4.0       5.0   \n",
       "3             2.0       2.0        2.0  ...        2.0       4.0       5.0   \n",
       "4             2.0       2.0        2.0  ...        2.0       4.0       5.0   \n",
       "...           ...       ...        ...  ...        ...       ...       ...   \n",
       "120538        2.0       2.0        2.0  ...        2.0       4.0       5.0   \n",
       "120539        1.0       2.0        2.0  ...        1.0       3.0       3.0   \n",
       "120540        2.0       2.0        2.0  ...        1.0       4.0       5.0   \n",
       "120541        2.0       2.0        2.0  ...        2.0       5.0       4.0   \n",
       "120542        2.0       2.0        2.0  ...        2.0       4.0       5.0   \n",
       "\n",
       "        DSTRST30  DSTCHR30  DSTEFF30  DSTNGD30  halluciogens  inhalants  \\\n",
       "0            3.0       3.0       2.0       4.0             0          1   \n",
       "1            5.0       5.0       5.0       5.0             0          0   \n",
       "2            5.0       5.0       5.0       5.0             0          0   \n",
       "3            5.0       5.0       5.0       5.0             0          0   \n",
       "4            5.0       4.0       4.0       5.0             0          0   \n",
       "...          ...       ...       ...       ...           ...        ...   \n",
       "120538       5.0       5.0       5.0       5.0             1          0   \n",
       "120539       2.0       2.0       2.0       4.0             1          0   \n",
       "120540       5.0       5.0       4.0       5.0             0          1   \n",
       "120541       5.0       5.0       5.0       5.0             1          0   \n",
       "120542       3.0       5.0       3.0       5.0             0          0   \n",
       "\n",
       "        not_mental  \n",
       "0                1  \n",
       "1                0  \n",
       "2                0  \n",
       "3                0  \n",
       "4                0  \n",
       "...            ...  \n",
       "120538           0  \n",
       "120539           1  \n",
       "120540           0  \n",
       "120541           0  \n",
       "120542           0  \n",
       "\n",
       "[120543 rows x 67 columns]"
      ],
      "text/html": "<div>\n<style scoped>\n    .dataframe tbody tr th:only-of-type {\n        vertical-align: middle;\n    }\n\n    .dataframe tbody tr th {\n        vertical-align: top;\n    }\n\n    .dataframe thead th {\n        text-align: right;\n    }\n</style>\n<table border=\"1\" class=\"dataframe\">\n  <thead>\n    <tr style=\"text-align: right;\">\n      <th></th>\n      <th>AGE2</th>\n      <th>IRMARIT</th>\n      <th>SERVICE</th>\n      <th>HEALTH</th>\n      <th>MOVSINPYR2</th>\n      <th>SEXATRACT</th>\n      <th>SEXIDENT</th>\n      <th>DIFFTHINK</th>\n      <th>DIFFWALK</th>\n      <th>DIFFDRESS</th>\n      <th>...</th>\n      <th>SEDANYLIF</th>\n      <th>DSTNRV30</th>\n      <th>DSTHOP30</th>\n      <th>DSTRST30</th>\n      <th>DSTCHR30</th>\n      <th>DSTEFF30</th>\n      <th>DSTNGD30</th>\n      <th>halluciogens</th>\n      <th>inhalants</th>\n      <th>not_mental</th>\n    </tr>\n  </thead>\n  <tbody>\n    <tr>\n      <th>0</th>\n      <td>15</td>\n      <td>1</td>\n      <td>2.0</td>\n      <td>2.0</td>\n      <td>0.0</td>\n      <td>1.0</td>\n      <td>1.0</td>\n      <td>2.0</td>\n      <td>2.0</td>\n      <td>2.0</td>\n      <td>...</td>\n      <td>2.0</td>\n      <td>2.0</td>\n      <td>3.0</td>\n      <td>3.0</td>\n      <td>3.0</td>\n      <td>2.0</td>\n      <td>4.0</td>\n      <td>0</td>\n      <td>1</td>\n      <td>1</td>\n    </tr>\n    <tr>\n      <th>1</th>\n      <td>17</td>\n      <td>1</td>\n      <td>2.0</td>\n      <td>2.0</td>\n      <td>0.0</td>\n      <td>1.0</td>\n      <td>1.0</td>\n      <td>2.0</td>\n      <td>2.0</td>\n      <td>2.0</td>\n      <td>...</td>\n      <td>2.0</td>\n      <td>5.0</td>\n      <td>5.0</td>\n      <td>5.0</td>\n      <td>5.0</td>\n      <td>5.0</td>\n      <td>5.0</td>\n      <td>0</td>\n      <td>0</td>\n      <td>0</td>\n    </tr>\n    <tr>\n      <th>2</th>\n      <td>14</td>\n      <td>4</td>\n      <td>2.0</td>\n      <td>2.0</td>\n      <td>0.0</td>\n      <td>1.0</td>\n      <td>1.0</td>\n      <td>2.0</td>\n      <td>2.0</td>\n      <td>2.0</td>\n      <td>...</td>\n      <td>2.0</td>\n      <td>4.0</td>\n      <td>5.0</td>\n      <td>5.0</td>\n      <td>5.0</td>\n      <td>5.0</td>\n      <td>5.0</td>\n      <td>0</td>\n      <td>0</td>\n      <td>0</td>\n    </tr>\n    <tr>\n      <th>3</th>\n      <td>8</td>\n      <td>4</td>\n      <td>2.0</td>\n      <td>2.0</td>\n      <td>1.0</td>\n      <td>1.0</td>\n      <td>1.0</td>\n      <td>2.0</td>\n      <td>2.0</td>\n      <td>2.0</td>\n      <td>...</td>\n      <td>2.0</td>\n      <td>4.0</td>\n      <td>5.0</td>\n      <td>5.0</td>\n      <td>5.0</td>\n      <td>5.0</td>\n      <td>5.0</td>\n      <td>0</td>\n      <td>0</td>\n      <td>0</td>\n    </tr>\n    <tr>\n      <th>4</th>\n      <td>14</td>\n      <td>1</td>\n      <td>2.0</td>\n      <td>2.0</td>\n      <td>0.0</td>\n      <td>1.0</td>\n      <td>1.0</td>\n      <td>2.0</td>\n      <td>2.0</td>\n      <td>2.0</td>\n      <td>...</td>\n      <td>2.0</td>\n      <td>4.0</td>\n      <td>5.0</td>\n      <td>5.0</td>\n      <td>4.0</td>\n      <td>4.0</td>\n      <td>5.0</td>\n      <td>0</td>\n      <td>0</td>\n      <td>0</td>\n    </tr>\n    <tr>\n      <th>...</th>\n      <td>...</td>\n      <td>...</td>\n      <td>...</td>\n      <td>...</td>\n      <td>...</td>\n      <td>...</td>\n      <td>...</td>\n      <td>...</td>\n      <td>...</td>\n      <td>...</td>\n      <td>...</td>\n      <td>...</td>\n      <td>...</td>\n      <td>...</td>\n      <td>...</td>\n      <td>...</td>\n      <td>...</td>\n      <td>...</td>\n      <td>...</td>\n      <td>...</td>\n      <td>...</td>\n    </tr>\n    <tr>\n      <th>120538</th>\n      <td>15</td>\n      <td>1</td>\n      <td>2.0</td>\n      <td>2.0</td>\n      <td>0.0</td>\n      <td>1.0</td>\n      <td>1.0</td>\n      <td>2.0</td>\n      <td>2.0</td>\n      <td>2.0</td>\n      <td>...</td>\n      <td>2.0</td>\n      <td>4.0</td>\n      <td>5.0</td>\n      <td>5.0</td>\n      <td>5.0</td>\n      <td>5.0</td>\n      <td>5.0</td>\n      <td>1</td>\n      <td>0</td>\n      <td>0</td>\n    </tr>\n    <tr>\n      <th>120539</th>\n      <td>10</td>\n      <td>4</td>\n      <td>2.0</td>\n      <td>4.0</td>\n      <td>3.0</td>\n      <td>2.0</td>\n      <td>1.0</td>\n      <td>1.0</td>\n      <td>2.0</td>\n      <td>2.0</td>\n      <td>...</td>\n      <td>1.0</td>\n      <td>3.0</td>\n      <td>3.0</td>\n      <td>2.0</td>\n      <td>2.0</td>\n      <td>2.0</td>\n      <td>4.0</td>\n      <td>1</td>\n      <td>0</td>\n      <td>1</td>\n    </tr>\n    <tr>\n      <th>120540</th>\n      <td>16</td>\n      <td>4</td>\n      <td>2.0</td>\n      <td>2.0</td>\n      <td>0.0</td>\n      <td>5.0</td>\n      <td>2.0</td>\n      <td>2.0</td>\n      <td>2.0</td>\n      <td>2.0</td>\n      <td>...</td>\n      <td>1.0</td>\n      <td>4.0</td>\n      <td>5.0</td>\n      <td>5.0</td>\n      <td>5.0</td>\n      <td>4.0</td>\n      <td>5.0</td>\n      <td>0</td>\n      <td>1</td>\n      <td>0</td>\n    </tr>\n    <tr>\n      <th>120541</th>\n      <td>12</td>\n      <td>4</td>\n      <td>2.0</td>\n      <td>3.0</td>\n      <td>1.0</td>\n      <td>1.0</td>\n      <td>1.0</td>\n      <td>2.0</td>\n      <td>2.0</td>\n      <td>2.0</td>\n      <td>...</td>\n      <td>2.0</td>\n      <td>5.0</td>\n      <td>4.0</td>\n      <td>5.0</td>\n      <td>5.0</td>\n      <td>5.0</td>\n      <td>5.0</td>\n      <td>1</td>\n      <td>0</td>\n      <td>0</td>\n    </tr>\n    <tr>\n      <th>120542</th>\n      <td>11</td>\n      <td>4</td>\n      <td>2.0</td>\n      <td>2.0</td>\n      <td>0.0</td>\n      <td>1.0</td>\n      <td>1.0</td>\n      <td>2.0</td>\n      <td>2.0</td>\n      <td>2.0</td>\n      <td>...</td>\n      <td>2.0</td>\n      <td>4.0</td>\n      <td>5.0</td>\n      <td>3.0</td>\n      <td>5.0</td>\n      <td>3.0</td>\n      <td>5.0</td>\n      <td>0</td>\n      <td>0</td>\n      <td>0</td>\n    </tr>\n  </tbody>\n</table>\n<p>120543 rows × 67 columns</p>\n</div>"
     },
     "metadata": {},
     "execution_count": 2
    }
   ],
   "source": [
    "# read in the data\n",
    "data_df = pd.read_csv('../data/processed_csv/project3_raw_complete_adjusted.csv')\n",
    "data_df"
   ]
  },
  {
   "cell_type": "code",
   "execution_count": 3,
   "metadata": {},
   "outputs": [
    {
     "output_type": "execute_result",
     "data": {
      "text/plain": [
       "        AGE2  IRMARIT  HEALTH  MOVSINPYR2  SEXATRACT  SEXIDENT  DIFFTHINK  \\\n",
       "0         15        1     2.0         0.0        1.0       1.0        2.0   \n",
       "1         17        1     2.0         0.0        1.0       1.0        2.0   \n",
       "2         14        4     2.0         0.0        1.0       1.0        2.0   \n",
       "3          8        4     2.0         1.0        1.0       1.0        2.0   \n",
       "4         14        1     2.0         0.0        1.0       1.0        2.0   \n",
       "...      ...      ...     ...         ...        ...       ...        ...   \n",
       "120538    15        1     2.0         0.0        1.0       1.0        2.0   \n",
       "120539    10        4     4.0         3.0        2.0       1.0        1.0   \n",
       "120540    16        4     2.0         0.0        5.0       2.0        2.0   \n",
       "120541    12        4     3.0         1.0        1.0       1.0        2.0   \n",
       "120542    11        4     2.0         0.0        1.0       1.0        2.0   \n",
       "\n",
       "        IREDUHIGHST2  WRKSTATWK2  IRWRKSTAT  ...  MJEVER  HEREVER  METHAMEVR  \\\n",
       "0                 11         1.0          1  ...     1.0      2.0        2.0   \n",
       "1                 11         1.0          1  ...     2.0      2.0        2.0   \n",
       "2                 11         1.0          1  ...     1.0      2.0        2.0   \n",
       "3                  9         4.0          3  ...     1.0      2.0        2.0   \n",
       "4                 11         1.0          1  ...     2.0      2.0        2.0   \n",
       "...              ...         ...        ...  ...     ...      ...        ...   \n",
       "120538             9         3.0          1  ...     2.0      2.0        2.0   \n",
       "120539             9         1.0          1  ...     1.0      2.0        2.0   \n",
       "120540            11         1.0          1  ...     2.0      2.0        2.0   \n",
       "120541             8         3.0          1  ...     1.0      2.0        2.0   \n",
       "120542             9         2.0          2  ...     2.0      2.0        2.0   \n",
       "\n",
       "        PNRANYLIF  TRQANYLIF  STMANYLIF  SEDANYLIF  halluciogens  inhalants  \\\n",
       "0             1.0        2.0        2.0        2.0             0          1   \n",
       "1             1.0        2.0        2.0        2.0             0          0   \n",
       "2             1.0        2.0        2.0        2.0             0          0   \n",
       "3             2.0        1.0        1.0        2.0             0          0   \n",
       "4             1.0        2.0        2.0        2.0             0          0   \n",
       "...           ...        ...        ...        ...           ...        ...   \n",
       "120538        1.0        2.0        1.0        2.0             1          0   \n",
       "120539        1.0        1.0        1.0        1.0             1          0   \n",
       "120540        1.0        2.0        2.0        1.0             0          1   \n",
       "120541        2.0        2.0        2.0        2.0             1          0   \n",
       "120542        1.0        2.0        2.0        2.0             0          0   \n",
       "\n",
       "        not_mental  \n",
       "0                1  \n",
       "1                0  \n",
       "2                0  \n",
       "3                0  \n",
       "4                0  \n",
       "...            ...  \n",
       "120538           0  \n",
       "120539           1  \n",
       "120540           0  \n",
       "120541           0  \n",
       "120542           0  \n",
       "\n",
       "[120543 rows x 29 columns]"
      ],
      "text/html": "<div>\n<style scoped>\n    .dataframe tbody tr th:only-of-type {\n        vertical-align: middle;\n    }\n\n    .dataframe tbody tr th {\n        vertical-align: top;\n    }\n\n    .dataframe thead th {\n        text-align: right;\n    }\n</style>\n<table border=\"1\" class=\"dataframe\">\n  <thead>\n    <tr style=\"text-align: right;\">\n      <th></th>\n      <th>AGE2</th>\n      <th>IRMARIT</th>\n      <th>HEALTH</th>\n      <th>MOVSINPYR2</th>\n      <th>SEXATRACT</th>\n      <th>SEXIDENT</th>\n      <th>DIFFTHINK</th>\n      <th>IREDUHIGHST2</th>\n      <th>WRKSTATWK2</th>\n      <th>IRWRKSTAT</th>\n      <th>...</th>\n      <th>MJEVER</th>\n      <th>HEREVER</th>\n      <th>METHAMEVR</th>\n      <th>PNRANYLIF</th>\n      <th>TRQANYLIF</th>\n      <th>STMANYLIF</th>\n      <th>SEDANYLIF</th>\n      <th>halluciogens</th>\n      <th>inhalants</th>\n      <th>not_mental</th>\n    </tr>\n  </thead>\n  <tbody>\n    <tr>\n      <th>0</th>\n      <td>15</td>\n      <td>1</td>\n      <td>2.0</td>\n      <td>0.0</td>\n      <td>1.0</td>\n      <td>1.0</td>\n      <td>2.0</td>\n      <td>11</td>\n      <td>1.0</td>\n      <td>1</td>\n      <td>...</td>\n      <td>1.0</td>\n      <td>2.0</td>\n      <td>2.0</td>\n      <td>1.0</td>\n      <td>2.0</td>\n      <td>2.0</td>\n      <td>2.0</td>\n      <td>0</td>\n      <td>1</td>\n      <td>1</td>\n    </tr>\n    <tr>\n      <th>1</th>\n      <td>17</td>\n      <td>1</td>\n      <td>2.0</td>\n      <td>0.0</td>\n      <td>1.0</td>\n      <td>1.0</td>\n      <td>2.0</td>\n      <td>11</td>\n      <td>1.0</td>\n      <td>1</td>\n      <td>...</td>\n      <td>2.0</td>\n      <td>2.0</td>\n      <td>2.0</td>\n      <td>1.0</td>\n      <td>2.0</td>\n      <td>2.0</td>\n      <td>2.0</td>\n      <td>0</td>\n      <td>0</td>\n      <td>0</td>\n    </tr>\n    <tr>\n      <th>2</th>\n      <td>14</td>\n      <td>4</td>\n      <td>2.0</td>\n      <td>0.0</td>\n      <td>1.0</td>\n      <td>1.0</td>\n      <td>2.0</td>\n      <td>11</td>\n      <td>1.0</td>\n      <td>1</td>\n      <td>...</td>\n      <td>1.0</td>\n      <td>2.0</td>\n      <td>2.0</td>\n      <td>1.0</td>\n      <td>2.0</td>\n      <td>2.0</td>\n      <td>2.0</td>\n      <td>0</td>\n      <td>0</td>\n      <td>0</td>\n    </tr>\n    <tr>\n      <th>3</th>\n      <td>8</td>\n      <td>4</td>\n      <td>2.0</td>\n      <td>1.0</td>\n      <td>1.0</td>\n      <td>1.0</td>\n      <td>2.0</td>\n      <td>9</td>\n      <td>4.0</td>\n      <td>3</td>\n      <td>...</td>\n      <td>1.0</td>\n      <td>2.0</td>\n      <td>2.0</td>\n      <td>2.0</td>\n      <td>1.0</td>\n      <td>1.0</td>\n      <td>2.0</td>\n      <td>0</td>\n      <td>0</td>\n      <td>0</td>\n    </tr>\n    <tr>\n      <th>4</th>\n      <td>14</td>\n      <td>1</td>\n      <td>2.0</td>\n      <td>0.0</td>\n      <td>1.0</td>\n      <td>1.0</td>\n      <td>2.0</td>\n      <td>11</td>\n      <td>1.0</td>\n      <td>1</td>\n      <td>...</td>\n      <td>2.0</td>\n      <td>2.0</td>\n      <td>2.0</td>\n      <td>1.0</td>\n      <td>2.0</td>\n      <td>2.0</td>\n      <td>2.0</td>\n      <td>0</td>\n      <td>0</td>\n      <td>0</td>\n    </tr>\n    <tr>\n      <th>...</th>\n      <td>...</td>\n      <td>...</td>\n      <td>...</td>\n      <td>...</td>\n      <td>...</td>\n      <td>...</td>\n      <td>...</td>\n      <td>...</td>\n      <td>...</td>\n      <td>...</td>\n      <td>...</td>\n      <td>...</td>\n      <td>...</td>\n      <td>...</td>\n      <td>...</td>\n      <td>...</td>\n      <td>...</td>\n      <td>...</td>\n      <td>...</td>\n      <td>...</td>\n      <td>...</td>\n    </tr>\n    <tr>\n      <th>120538</th>\n      <td>15</td>\n      <td>1</td>\n      <td>2.0</td>\n      <td>0.0</td>\n      <td>1.0</td>\n      <td>1.0</td>\n      <td>2.0</td>\n      <td>9</td>\n      <td>3.0</td>\n      <td>1</td>\n      <td>...</td>\n      <td>2.0</td>\n      <td>2.0</td>\n      <td>2.0</td>\n      <td>1.0</td>\n      <td>2.0</td>\n      <td>1.0</td>\n      <td>2.0</td>\n      <td>1</td>\n      <td>0</td>\n      <td>0</td>\n    </tr>\n    <tr>\n      <th>120539</th>\n      <td>10</td>\n      <td>4</td>\n      <td>4.0</td>\n      <td>3.0</td>\n      <td>2.0</td>\n      <td>1.0</td>\n      <td>1.0</td>\n      <td>9</td>\n      <td>1.0</td>\n      <td>1</td>\n      <td>...</td>\n      <td>1.0</td>\n      <td>2.0</td>\n      <td>2.0</td>\n      <td>1.0</td>\n      <td>1.0</td>\n      <td>1.0</td>\n      <td>1.0</td>\n      <td>1</td>\n      <td>0</td>\n      <td>1</td>\n    </tr>\n    <tr>\n      <th>120540</th>\n      <td>16</td>\n      <td>4</td>\n      <td>2.0</td>\n      <td>0.0</td>\n      <td>5.0</td>\n      <td>2.0</td>\n      <td>2.0</td>\n      <td>11</td>\n      <td>1.0</td>\n      <td>1</td>\n      <td>...</td>\n      <td>2.0</td>\n      <td>2.0</td>\n      <td>2.0</td>\n      <td>1.0</td>\n      <td>2.0</td>\n      <td>2.0</td>\n      <td>1.0</td>\n      <td>0</td>\n      <td>1</td>\n      <td>0</td>\n    </tr>\n    <tr>\n      <th>120541</th>\n      <td>12</td>\n      <td>4</td>\n      <td>3.0</td>\n      <td>1.0</td>\n      <td>1.0</td>\n      <td>1.0</td>\n      <td>2.0</td>\n      <td>8</td>\n      <td>3.0</td>\n      <td>1</td>\n      <td>...</td>\n      <td>1.0</td>\n      <td>2.0</td>\n      <td>2.0</td>\n      <td>2.0</td>\n      <td>2.0</td>\n      <td>2.0</td>\n      <td>2.0</td>\n      <td>1</td>\n      <td>0</td>\n      <td>0</td>\n    </tr>\n    <tr>\n      <th>120542</th>\n      <td>11</td>\n      <td>4</td>\n      <td>2.0</td>\n      <td>0.0</td>\n      <td>1.0</td>\n      <td>1.0</td>\n      <td>2.0</td>\n      <td>9</td>\n      <td>2.0</td>\n      <td>2</td>\n      <td>...</td>\n      <td>2.0</td>\n      <td>2.0</td>\n      <td>2.0</td>\n      <td>1.0</td>\n      <td>2.0</td>\n      <td>2.0</td>\n      <td>2.0</td>\n      <td>0</td>\n      <td>0</td>\n      <td>0</td>\n    </tr>\n  </tbody>\n</table>\n<p>120543 rows × 29 columns</p>\n</div>"
     },
     "metadata": {},
     "execution_count": 3
    }
   ],
   "source": [
    "data_final_df = data_df[['AGE2',\n",
    " 'IRMARIT',\n",
    " 'HEALTH',\n",
    " 'MOVSINPYR2',\n",
    " 'SEXATRACT',\n",
    " 'SEXIDENT',\n",
    " 'DIFFTHINK',\n",
    " 'IREDUHIGHST2',\n",
    " 'WRKSTATWK2',\n",
    " 'IRWRKSTAT',\n",
    " 'WRKNUMJOB2',\n",
    " 'IRPINC3',\n",
    " 'CIG100LF',\n",
    " 'ALCUS30D',\n",
    " 'CIGTRY',\n",
    " 'CG30EST',\n",
    " 'ALCDAYS',\n",
    " 'COCEVER',\n",
    " 'CRKEVER',\n",
    " 'MJEVER',\n",
    " 'HEREVER',\n",
    " 'METHAMEVR',\n",
    " 'PNRANYLIF',\n",
    " 'TRQANYLIF',\n",
    " 'STMANYLIF',\n",
    " 'SEDANYLIF', \n",
    " 'halluciogens', \n",
    " 'inhalants',\n",
    " 'not_mental']]\n",
    "data_final_df"
   ]
  },
  {
   "cell_type": "code",
   "execution_count": 4,
   "metadata": {},
   "outputs": [],
   "source": [
    "# exporting the data to csv file\n",
    "data_final_df.to_csv(\"processed_csv/project3_raw_final.csv\", index=False)"
   ]
  }
 ]
}