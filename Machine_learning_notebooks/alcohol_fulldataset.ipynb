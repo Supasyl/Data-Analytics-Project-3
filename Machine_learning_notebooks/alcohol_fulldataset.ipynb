{
 "cells": [
  {
   "cell_type": "code",
   "execution_count": 2,
   "metadata": {},
   "outputs": [],
   "source": [
    "# import libraries\n",
    "import pandas as pd"
   ]
  },
  {
   "cell_type": "code",
   "execution_count": 3,
   "metadata": {
    "scrolled": true
   },
   "outputs": [
    {
     "output_type": "execute_result",
     "data": {
      "text/plain": [
       "        AGE2  IRMARIT  SERVICE  HEALTH  MOVSINPYR2  SEXATRACT  SEXIDENT  \\\n",
       "0         15        1      2.0     2.0         0.0        1.0       1.0   \n",
       "1         17        1      2.0     2.0         0.0        1.0       1.0   \n",
       "2         14        4      2.0     2.0         0.0        1.0       1.0   \n",
       "3          8        4      2.0     2.0         1.0        1.0       1.0   \n",
       "4         14        1      2.0     2.0         0.0        1.0       1.0   \n",
       "...      ...      ...      ...     ...         ...        ...       ...   \n",
       "120538    15        1      2.0     2.0         0.0        1.0       1.0   \n",
       "120539    10        4      2.0     4.0         3.0        2.0       1.0   \n",
       "120540    16        4      2.0     2.0         0.0        5.0       2.0   \n",
       "120541    12        4      2.0     3.0         1.0        1.0       1.0   \n",
       "120542    11        4      2.0     2.0         0.0        1.0       1.0   \n",
       "\n",
       "        DIFFTHINK  DIFFWALK  DIFFDRESS  ...  PNRANYLIF  TRQANYLIF  STMANYLIF  \\\n",
       "0             2.0       2.0        2.0  ...        1.0        2.0        2.0   \n",
       "1             2.0       2.0        2.0  ...        1.0        2.0        2.0   \n",
       "2             2.0       2.0        2.0  ...        1.0        2.0        2.0   \n",
       "3             2.0       2.0        2.0  ...        2.0        1.0        1.0   \n",
       "4             2.0       2.0        2.0  ...        1.0        2.0        2.0   \n",
       "...           ...       ...        ...  ...        ...        ...        ...   \n",
       "120538        2.0       2.0        2.0  ...        1.0        2.0        1.0   \n",
       "120539        1.0       2.0        2.0  ...        1.0        1.0        1.0   \n",
       "120540        2.0       2.0        2.0  ...        1.0        2.0        2.0   \n",
       "120541        2.0       2.0        2.0  ...        2.0        2.0        2.0   \n",
       "120542        2.0       2.0        2.0  ...        1.0        2.0        2.0   \n",
       "\n",
       "        SEDANYLIF  DSTNRV30  DSTHOP30  DSTRST30  DSTCHR30  DSTEFF30  DSTNGD30  \n",
       "0             2.0       2.0       3.0       3.0       3.0       2.0       4.0  \n",
       "1             2.0       5.0       5.0       5.0       5.0       5.0       5.0  \n",
       "2             2.0       4.0       5.0       5.0       5.0       5.0       5.0  \n",
       "3             2.0       4.0       5.0       5.0       5.0       5.0       5.0  \n",
       "4             2.0       4.0       5.0       5.0       4.0       4.0       5.0  \n",
       "...           ...       ...       ...       ...       ...       ...       ...  \n",
       "120538        2.0       4.0       5.0       5.0       5.0       5.0       5.0  \n",
       "120539        1.0       3.0       3.0       2.0       2.0       2.0       4.0  \n",
       "120540        1.0       4.0       5.0       5.0       5.0       4.0       5.0  \n",
       "120541        2.0       5.0       4.0       5.0       5.0       5.0       5.0  \n",
       "120542        2.0       4.0       5.0       3.0       5.0       3.0       5.0  \n",
       "\n",
       "[120543 rows x 64 columns]"
      ],
      "text/html": "<div>\n<style scoped>\n    .dataframe tbody tr th:only-of-type {\n        vertical-align: middle;\n    }\n\n    .dataframe tbody tr th {\n        vertical-align: top;\n    }\n\n    .dataframe thead th {\n        text-align: right;\n    }\n</style>\n<table border=\"1\" class=\"dataframe\">\n  <thead>\n    <tr style=\"text-align: right;\">\n      <th></th>\n      <th>AGE2</th>\n      <th>IRMARIT</th>\n      <th>SERVICE</th>\n      <th>HEALTH</th>\n      <th>MOVSINPYR2</th>\n      <th>SEXATRACT</th>\n      <th>SEXIDENT</th>\n      <th>DIFFTHINK</th>\n      <th>DIFFWALK</th>\n      <th>DIFFDRESS</th>\n      <th>...</th>\n      <th>PNRANYLIF</th>\n      <th>TRQANYLIF</th>\n      <th>STMANYLIF</th>\n      <th>SEDANYLIF</th>\n      <th>DSTNRV30</th>\n      <th>DSTHOP30</th>\n      <th>DSTRST30</th>\n      <th>DSTCHR30</th>\n      <th>DSTEFF30</th>\n      <th>DSTNGD30</th>\n    </tr>\n  </thead>\n  <tbody>\n    <tr>\n      <th>0</th>\n      <td>15</td>\n      <td>1</td>\n      <td>2.0</td>\n      <td>2.0</td>\n      <td>0.0</td>\n      <td>1.0</td>\n      <td>1.0</td>\n      <td>2.0</td>\n      <td>2.0</td>\n      <td>2.0</td>\n      <td>...</td>\n      <td>1.0</td>\n      <td>2.0</td>\n      <td>2.0</td>\n      <td>2.0</td>\n      <td>2.0</td>\n      <td>3.0</td>\n      <td>3.0</td>\n      <td>3.0</td>\n      <td>2.0</td>\n      <td>4.0</td>\n    </tr>\n    <tr>\n      <th>1</th>\n      <td>17</td>\n      <td>1</td>\n      <td>2.0</td>\n      <td>2.0</td>\n      <td>0.0</td>\n      <td>1.0</td>\n      <td>1.0</td>\n      <td>2.0</td>\n      <td>2.0</td>\n      <td>2.0</td>\n      <td>...</td>\n      <td>1.0</td>\n      <td>2.0</td>\n      <td>2.0</td>\n      <td>2.0</td>\n      <td>5.0</td>\n      <td>5.0</td>\n      <td>5.0</td>\n      <td>5.0</td>\n      <td>5.0</td>\n      <td>5.0</td>\n    </tr>\n    <tr>\n      <th>2</th>\n      <td>14</td>\n      <td>4</td>\n      <td>2.0</td>\n      <td>2.0</td>\n      <td>0.0</td>\n      <td>1.0</td>\n      <td>1.0</td>\n      <td>2.0</td>\n      <td>2.0</td>\n      <td>2.0</td>\n      <td>...</td>\n      <td>1.0</td>\n      <td>2.0</td>\n      <td>2.0</td>\n      <td>2.0</td>\n      <td>4.0</td>\n      <td>5.0</td>\n      <td>5.0</td>\n      <td>5.0</td>\n      <td>5.0</td>\n      <td>5.0</td>\n    </tr>\n    <tr>\n      <th>3</th>\n      <td>8</td>\n      <td>4</td>\n      <td>2.0</td>\n      <td>2.0</td>\n      <td>1.0</td>\n      <td>1.0</td>\n      <td>1.0</td>\n      <td>2.0</td>\n      <td>2.0</td>\n      <td>2.0</td>\n      <td>...</td>\n      <td>2.0</td>\n      <td>1.0</td>\n      <td>1.0</td>\n      <td>2.0</td>\n      <td>4.0</td>\n      <td>5.0</td>\n      <td>5.0</td>\n      <td>5.0</td>\n      <td>5.0</td>\n      <td>5.0</td>\n    </tr>\n    <tr>\n      <th>4</th>\n      <td>14</td>\n      <td>1</td>\n      <td>2.0</td>\n      <td>2.0</td>\n      <td>0.0</td>\n      <td>1.0</td>\n      <td>1.0</td>\n      <td>2.0</td>\n      <td>2.0</td>\n      <td>2.0</td>\n      <td>...</td>\n      <td>1.0</td>\n      <td>2.0</td>\n      <td>2.0</td>\n      <td>2.0</td>\n      <td>4.0</td>\n      <td>5.0</td>\n      <td>5.0</td>\n      <td>4.0</td>\n      <td>4.0</td>\n      <td>5.0</td>\n    </tr>\n    <tr>\n      <th>...</th>\n      <td>...</td>\n      <td>...</td>\n      <td>...</td>\n      <td>...</td>\n      <td>...</td>\n      <td>...</td>\n      <td>...</td>\n      <td>...</td>\n      <td>...</td>\n      <td>...</td>\n      <td>...</td>\n      <td>...</td>\n      <td>...</td>\n      <td>...</td>\n      <td>...</td>\n      <td>...</td>\n      <td>...</td>\n      <td>...</td>\n      <td>...</td>\n      <td>...</td>\n      <td>...</td>\n    </tr>\n    <tr>\n      <th>120538</th>\n      <td>15</td>\n      <td>1</td>\n      <td>2.0</td>\n      <td>2.0</td>\n      <td>0.0</td>\n      <td>1.0</td>\n      <td>1.0</td>\n      <td>2.0</td>\n      <td>2.0</td>\n      <td>2.0</td>\n      <td>...</td>\n      <td>1.0</td>\n      <td>2.0</td>\n      <td>1.0</td>\n      <td>2.0</td>\n      <td>4.0</td>\n      <td>5.0</td>\n      <td>5.0</td>\n      <td>5.0</td>\n      <td>5.0</td>\n      <td>5.0</td>\n    </tr>\n    <tr>\n      <th>120539</th>\n      <td>10</td>\n      <td>4</td>\n      <td>2.0</td>\n      <td>4.0</td>\n      <td>3.0</td>\n      <td>2.0</td>\n      <td>1.0</td>\n      <td>1.0</td>\n      <td>2.0</td>\n      <td>2.0</td>\n      <td>...</td>\n      <td>1.0</td>\n      <td>1.0</td>\n      <td>1.0</td>\n      <td>1.0</td>\n      <td>3.0</td>\n      <td>3.0</td>\n      <td>2.0</td>\n      <td>2.0</td>\n      <td>2.0</td>\n      <td>4.0</td>\n    </tr>\n    <tr>\n      <th>120540</th>\n      <td>16</td>\n      <td>4</td>\n      <td>2.0</td>\n      <td>2.0</td>\n      <td>0.0</td>\n      <td>5.0</td>\n      <td>2.0</td>\n      <td>2.0</td>\n      <td>2.0</td>\n      <td>2.0</td>\n      <td>...</td>\n      <td>1.0</td>\n      <td>2.0</td>\n      <td>2.0</td>\n      <td>1.0</td>\n      <td>4.0</td>\n      <td>5.0</td>\n      <td>5.0</td>\n      <td>5.0</td>\n      <td>4.0</td>\n      <td>5.0</td>\n    </tr>\n    <tr>\n      <th>120541</th>\n      <td>12</td>\n      <td>4</td>\n      <td>2.0</td>\n      <td>3.0</td>\n      <td>1.0</td>\n      <td>1.0</td>\n      <td>1.0</td>\n      <td>2.0</td>\n      <td>2.0</td>\n      <td>2.0</td>\n      <td>...</td>\n      <td>2.0</td>\n      <td>2.0</td>\n      <td>2.0</td>\n      <td>2.0</td>\n      <td>5.0</td>\n      <td>4.0</td>\n      <td>5.0</td>\n      <td>5.0</td>\n      <td>5.0</td>\n      <td>5.0</td>\n    </tr>\n    <tr>\n      <th>120542</th>\n      <td>11</td>\n      <td>4</td>\n      <td>2.0</td>\n      <td>2.0</td>\n      <td>0.0</td>\n      <td>1.0</td>\n      <td>1.0</td>\n      <td>2.0</td>\n      <td>2.0</td>\n      <td>2.0</td>\n      <td>...</td>\n      <td>1.0</td>\n      <td>2.0</td>\n      <td>2.0</td>\n      <td>2.0</td>\n      <td>4.0</td>\n      <td>5.0</td>\n      <td>3.0</td>\n      <td>5.0</td>\n      <td>3.0</td>\n      <td>5.0</td>\n    </tr>\n  </tbody>\n</table>\n<p>120543 rows × 64 columns</p>\n</div>"
     },
     "metadata": {},
     "execution_count": 3
    }
   ],
   "source": [
    "# read in the data\n",
    "data_df = pd.read_csv('../data/processed_csv/project3_raw_complete.csv')\n",
    "data_df"
   ]
  },
  {
   "cell_type": "code",
   "execution_count": 4,
   "metadata": {},
   "outputs": [
    {
     "output_type": "stream",
     "name": "stdout",
     "text": [
      "(120543, 63) (120543,)\n"
     ]
    }
   ],
   "source": [
    "# Assign X (data) and y (target)\n",
    "X = data_df.drop(columns=['ALCDAYS'])\n",
    "y = data_df['ALCDAYS'].values\n",
    "print(X.shape, y.shape)"
   ]
  },
  {
   "cell_type": "code",
   "execution_count": 5,
   "metadata": {},
   "outputs": [],
   "source": [
    "from sklearn.preprocessing import LabelEncoder\n",
    "# Step 1: Label-encode data set\n",
    "encoded_y = LabelEncoder().fit(y).transform(y)"
   ]
  },
  {
   "cell_type": "code",
   "execution_count": 6,
   "metadata": {},
   "outputs": [],
   "source": [
    "codes_df = pd.DataFrame({\"Original class\": y, \"Encoded label\": encoded_y})"
   ]
  },
  {
   "cell_type": "code",
   "execution_count": 7,
   "metadata": {},
   "outputs": [
    {
     "output_type": "execute_result",
     "data": {
      "text/plain": [
       "      Original class  Encoded label\n",
       "0               20.0             19\n",
       "1               93.0             31\n",
       "2                1.0              0\n",
       "3                6.0              5\n",
       "4               91.0             30\n",
       "9                2.0              1\n",
       "12               3.0              2\n",
       "14               4.0              3\n",
       "17              12.0             11\n",
       "26              16.0             15\n",
       "29               7.0              6\n",
       "30               8.0              7\n",
       "35              30.0             29\n",
       "43               5.0              4\n",
       "50               9.0              8\n",
       "54              17.0             16\n",
       "75              13.0             12\n",
       "90              15.0             14\n",
       "117             10.0              9\n",
       "120             18.0             17\n",
       "158             28.0             27\n",
       "182             29.0             28\n",
       "184             19.0             18\n",
       "194             23.0             22\n",
       "237             14.0             13\n",
       "293             22.0             21\n",
       "388             25.0             24\n",
       "677             21.0             20\n",
       "846             24.0             23\n",
       "984             27.0             26\n",
       "993             11.0             10\n",
       "2144            26.0             25"
      ],
      "text/html": "<div>\n<style scoped>\n    .dataframe tbody tr th:only-of-type {\n        vertical-align: middle;\n    }\n\n    .dataframe tbody tr th {\n        vertical-align: top;\n    }\n\n    .dataframe thead th {\n        text-align: right;\n    }\n</style>\n<table border=\"1\" class=\"dataframe\">\n  <thead>\n    <tr style=\"text-align: right;\">\n      <th></th>\n      <th>Original class</th>\n      <th>Encoded label</th>\n    </tr>\n  </thead>\n  <tbody>\n    <tr>\n      <th>0</th>\n      <td>20.0</td>\n      <td>19</td>\n    </tr>\n    <tr>\n      <th>1</th>\n      <td>93.0</td>\n      <td>31</td>\n    </tr>\n    <tr>\n      <th>2</th>\n      <td>1.0</td>\n      <td>0</td>\n    </tr>\n    <tr>\n      <th>3</th>\n      <td>6.0</td>\n      <td>5</td>\n    </tr>\n    <tr>\n      <th>4</th>\n      <td>91.0</td>\n      <td>30</td>\n    </tr>\n    <tr>\n      <th>9</th>\n      <td>2.0</td>\n      <td>1</td>\n    </tr>\n    <tr>\n      <th>12</th>\n      <td>3.0</td>\n      <td>2</td>\n    </tr>\n    <tr>\n      <th>14</th>\n      <td>4.0</td>\n      <td>3</td>\n    </tr>\n    <tr>\n      <th>17</th>\n      <td>12.0</td>\n      <td>11</td>\n    </tr>\n    <tr>\n      <th>26</th>\n      <td>16.0</td>\n      <td>15</td>\n    </tr>\n    <tr>\n      <th>29</th>\n      <td>7.0</td>\n      <td>6</td>\n    </tr>\n    <tr>\n      <th>30</th>\n      <td>8.0</td>\n      <td>7</td>\n    </tr>\n    <tr>\n      <th>35</th>\n      <td>30.0</td>\n      <td>29</td>\n    </tr>\n    <tr>\n      <th>43</th>\n      <td>5.0</td>\n      <td>4</td>\n    </tr>\n    <tr>\n      <th>50</th>\n      <td>9.0</td>\n      <td>8</td>\n    </tr>\n    <tr>\n      <th>54</th>\n      <td>17.0</td>\n      <td>16</td>\n    </tr>\n    <tr>\n      <th>75</th>\n      <td>13.0</td>\n      <td>12</td>\n    </tr>\n    <tr>\n      <th>90</th>\n      <td>15.0</td>\n      <td>14</td>\n    </tr>\n    <tr>\n      <th>117</th>\n      <td>10.0</td>\n      <td>9</td>\n    </tr>\n    <tr>\n      <th>120</th>\n      <td>18.0</td>\n      <td>17</td>\n    </tr>\n    <tr>\n      <th>158</th>\n      <td>28.0</td>\n      <td>27</td>\n    </tr>\n    <tr>\n      <th>182</th>\n      <td>29.0</td>\n      <td>28</td>\n    </tr>\n    <tr>\n      <th>184</th>\n      <td>19.0</td>\n      <td>18</td>\n    </tr>\n    <tr>\n      <th>194</th>\n      <td>23.0</td>\n      <td>22</td>\n    </tr>\n    <tr>\n      <th>237</th>\n      <td>14.0</td>\n      <td>13</td>\n    </tr>\n    <tr>\n      <th>293</th>\n      <td>22.0</td>\n      <td>21</td>\n    </tr>\n    <tr>\n      <th>388</th>\n      <td>25.0</td>\n      <td>24</td>\n    </tr>\n    <tr>\n      <th>677</th>\n      <td>21.0</td>\n      <td>20</td>\n    </tr>\n    <tr>\n      <th>846</th>\n      <td>24.0</td>\n      <td>23</td>\n    </tr>\n    <tr>\n      <th>984</th>\n      <td>27.0</td>\n      <td>26</td>\n    </tr>\n    <tr>\n      <th>993</th>\n      <td>11.0</td>\n      <td>10</td>\n    </tr>\n    <tr>\n      <th>2144</th>\n      <td>26.0</td>\n      <td>25</td>\n    </tr>\n  </tbody>\n</table>\n</div>"
     },
     "metadata": {},
     "execution_count": 7
    }
   ],
   "source": [
    "# show original clas with encoded labels\n",
    "codes_df.drop_duplicates()\n"
   ]
  },
  {
   "cell_type": "code",
   "execution_count": 8,
   "metadata": {},
   "outputs": [],
   "source": [
    "# Use sklearn's `train_test_split` to split the data into training and testing\n",
    "from sklearn.model_selection import train_test_split\n",
    "\n",
    "# split is random (shuffled) automatically\n",
    "X_train_test, X_val, y_train_test, y_val = train_test_split(X, encoded_y, random_state=42, test_size=0.1)\n",
    "X_train, X_test, y_train, y_test = train_test_split(X_train_test, y_train_test, random_state=42, test_size=0.2)"
   ]
  },
  {
   "cell_type": "markdown",
   "metadata": {},
   "source": [
    "# Logistic Regression"
   ]
  },
  {
   "cell_type": "code",
   "execution_count": 8,
   "metadata": {},
   "outputs": [],
   "source": [
    "# Create a Logistic Regression Model\n",
    "from sklearn.linear_model import LogisticRegression\n",
    "classifier = LogisticRegression(max_iter=100000)"
   ]
  },
  {
   "cell_type": "code",
   "execution_count": 9,
   "metadata": {},
   "outputs": [
    {
     "output_type": "execute_result",
     "data": {
      "text/plain": [
       "LogisticRegression(max_iter=100000)"
      ]
     },
     "metadata": {},
     "execution_count": 9
    }
   ],
   "source": [
    "# Fit (train) or model using the training data\n",
    "classifier.fit(X_train, y_train)"
   ]
  },
  {
   "cell_type": "code",
   "execution_count": 10,
   "metadata": {},
   "outputs": [
    {
     "output_type": "stream",
     "name": "stdout",
     "text": [
      "Training Data Score: 0.5422514114529323\nTesting Data Score: 0.5374688911420408\n"
     ]
    }
   ],
   "source": [
    "# print the R2 score before adjusting parameters\n",
    "print(f\"Training Data Score: {classifier.score(X_train, y_train)}\")\n",
    "print(f\"Testing Data Score: {classifier.score(X_test, y_test)}\")\n",
    "# print(f\"Validation Data Score: {classifier.score(X_val, y_val)}\")"
   ]
  },
  {
   "cell_type": "code",
   "execution_count": 11,
   "metadata": {},
   "outputs": [
    {
     "output_type": "execute_result",
     "data": {
      "text/plain": [
       "    Prediction  Actual\n",
       "0           29      24\n",
       "1           31      31\n",
       "2           31      31\n",
       "3           30      30\n",
       "4            4       9\n",
       "5            9       4\n",
       "6            3       7\n",
       "7           19      25\n",
       "8           30      30\n",
       "9           31      31\n",
       "10           4       0\n",
       "11           1       1\n",
       "12           9       4\n",
       "13           3       9\n",
       "14          19      24"
      ],
      "text/html": "<div>\n<style scoped>\n    .dataframe tbody tr th:only-of-type {\n        vertical-align: middle;\n    }\n\n    .dataframe tbody tr th {\n        vertical-align: top;\n    }\n\n    .dataframe thead th {\n        text-align: right;\n    }\n</style>\n<table border=\"1\" class=\"dataframe\">\n  <thead>\n    <tr style=\"text-align: right;\">\n      <th></th>\n      <th>Prediction</th>\n      <th>Actual</th>\n    </tr>\n  </thead>\n  <tbody>\n    <tr>\n      <th>0</th>\n      <td>29</td>\n      <td>24</td>\n    </tr>\n    <tr>\n      <th>1</th>\n      <td>31</td>\n      <td>31</td>\n    </tr>\n    <tr>\n      <th>2</th>\n      <td>31</td>\n      <td>31</td>\n    </tr>\n    <tr>\n      <th>3</th>\n      <td>30</td>\n      <td>30</td>\n    </tr>\n    <tr>\n      <th>4</th>\n      <td>4</td>\n      <td>9</td>\n    </tr>\n    <tr>\n      <th>5</th>\n      <td>9</td>\n      <td>4</td>\n    </tr>\n    <tr>\n      <th>6</th>\n      <td>3</td>\n      <td>7</td>\n    </tr>\n    <tr>\n      <th>7</th>\n      <td>19</td>\n      <td>25</td>\n    </tr>\n    <tr>\n      <th>8</th>\n      <td>30</td>\n      <td>30</td>\n    </tr>\n    <tr>\n      <th>9</th>\n      <td>31</td>\n      <td>31</td>\n    </tr>\n    <tr>\n      <th>10</th>\n      <td>4</td>\n      <td>0</td>\n    </tr>\n    <tr>\n      <th>11</th>\n      <td>1</td>\n      <td>1</td>\n    </tr>\n    <tr>\n      <th>12</th>\n      <td>9</td>\n      <td>4</td>\n    </tr>\n    <tr>\n      <th>13</th>\n      <td>3</td>\n      <td>9</td>\n    </tr>\n    <tr>\n      <th>14</th>\n      <td>19</td>\n      <td>24</td>\n    </tr>\n  </tbody>\n</table>\n</div>"
     },
     "metadata": {},
     "execution_count": 11
    }
   ],
   "source": [
    "# make a prediction on the validation data before adjusting parameters\n",
    "predictions = classifier.predict(X_val)\n",
    "pd.DataFrame({\"Prediction\": predictions, \"Actual\": y_val}).head(15)"
   ]
  },
  {
   "cell_type": "code",
   "execution_count": 12,
   "metadata": {},
   "outputs": [],
   "source": [
    "# Create the GridSearch estimator along with a parameter object containing the values to adjust\n",
    "from sklearn.model_selection import GridSearchCV\n",
    "param_grid = {'C': [1, 5, 10, 50],\n",
    "              'penalty': ['L1', 'L2', 'none']}\n",
    "grid = GridSearchCV(classifier, param_grid, verbose=True, n_jobs=-2)"
   ]
  },
  {
   "cell_type": "code",
   "execution_count": 13,
   "metadata": {},
   "outputs": [
    {
     "output_type": "stream",
     "name": "stdout",
     "text": [
      "Fitting 5 folds for each of 12 candidates, totalling 60 fits\n"
     ]
    },
    {
     "output_type": "execute_result",
     "data": {
      "text/plain": [
       "GridSearchCV(estimator=LogisticRegression(max_iter=100000), n_jobs=-2,\n",
       "             param_grid={'C': [1, 5, 10, 50], 'penalty': ['L1', 'L2', 'none']},\n",
       "             verbose=True)"
      ]
     },
     "metadata": {},
     "execution_count": 13
    }
   ],
   "source": [
    "# Fit the model using the grid search estimator. \n",
    "grid.fit(X_train, y_train)"
   ]
  },
  {
   "cell_type": "code",
   "execution_count": 14,
   "metadata": {},
   "outputs": [
    {
     "output_type": "stream",
     "name": "stdout",
     "text": [
      "{'C': 1, 'penalty': 'none'}\n"
     ]
    }
   ],
   "source": [
    "# List the best parameters for this dataset\n",
    "print(grid.best_params_)"
   ]
  },
  {
   "cell_type": "code",
   "execution_count": 15,
   "metadata": {},
   "outputs": [
    {
     "output_type": "stream",
     "name": "stdout",
     "text": [
      "0.5391289319045973\n"
     ]
    }
   ],
   "source": [
    "# List the best score\n",
    "print(grid.best_score_)"
   ]
  },
  {
   "cell_type": "code",
   "execution_count": 16,
   "metadata": {},
   "outputs": [
    {
     "output_type": "stream",
     "name": "stdout",
     "text": [
      "Training Data Score: 0.5421361908053923\nTesting Data Score: 0.5376532399299475\n"
     ]
    }
   ],
   "source": [
    "# print the R2 score before adjusting parameters\n",
    "print(f\"Training Data Score: {grid.score(X_train, y_train)}\")\n",
    "print(f\"Testing Data Score: {grid.score(X_test, y_test)}\")\n",
    "# print(f\"Validation Data Score: {grid.score(X_val, y_val)}\")"
   ]
  },
  {
   "cell_type": "code",
   "execution_count": 17,
   "metadata": {},
   "outputs": [
    {
     "output_type": "execute_result",
     "data": {
      "text/plain": [
       "    Prediction  Actual\n",
       "0           29      24\n",
       "1           31      31\n",
       "2           31      31\n",
       "3           30      30\n",
       "4            4       9\n",
       "5            9       4\n",
       "6            3       7\n",
       "7           19      25\n",
       "8           30      30\n",
       "9           31      31\n",
       "10           4       0\n",
       "11           1       1\n",
       "12           9       4\n",
       "13           3       9\n",
       "14          19      24"
      ],
      "text/html": "<div>\n<style scoped>\n    .dataframe tbody tr th:only-of-type {\n        vertical-align: middle;\n    }\n\n    .dataframe tbody tr th {\n        vertical-align: top;\n    }\n\n    .dataframe thead th {\n        text-align: right;\n    }\n</style>\n<table border=\"1\" class=\"dataframe\">\n  <thead>\n    <tr style=\"text-align: right;\">\n      <th></th>\n      <th>Prediction</th>\n      <th>Actual</th>\n    </tr>\n  </thead>\n  <tbody>\n    <tr>\n      <th>0</th>\n      <td>29</td>\n      <td>24</td>\n    </tr>\n    <tr>\n      <th>1</th>\n      <td>31</td>\n      <td>31</td>\n    </tr>\n    <tr>\n      <th>2</th>\n      <td>31</td>\n      <td>31</td>\n    </tr>\n    <tr>\n      <th>3</th>\n      <td>30</td>\n      <td>30</td>\n    </tr>\n    <tr>\n      <th>4</th>\n      <td>4</td>\n      <td>9</td>\n    </tr>\n    <tr>\n      <th>5</th>\n      <td>9</td>\n      <td>4</td>\n    </tr>\n    <tr>\n      <th>6</th>\n      <td>3</td>\n      <td>7</td>\n    </tr>\n    <tr>\n      <th>7</th>\n      <td>19</td>\n      <td>25</td>\n    </tr>\n    <tr>\n      <th>8</th>\n      <td>30</td>\n      <td>30</td>\n    </tr>\n    <tr>\n      <th>9</th>\n      <td>31</td>\n      <td>31</td>\n    </tr>\n    <tr>\n      <th>10</th>\n      <td>4</td>\n      <td>0</td>\n    </tr>\n    <tr>\n      <th>11</th>\n      <td>1</td>\n      <td>1</td>\n    </tr>\n    <tr>\n      <th>12</th>\n      <td>9</td>\n      <td>4</td>\n    </tr>\n    <tr>\n      <th>13</th>\n      <td>3</td>\n      <td>9</td>\n    </tr>\n    <tr>\n      <th>14</th>\n      <td>19</td>\n      <td>24</td>\n    </tr>\n  </tbody>\n</table>\n</div>"
     },
     "metadata": {},
     "execution_count": 17
    }
   ],
   "source": [
    "# make a prediction on the validation data\n",
    "predictions = grid.predict(X_val)\n",
    "pd.DataFrame({\"Prediction\": predictions, \"Actual\": y_val}).head(15)"
   ]
  },
  {
   "cell_type": "code",
   "execution_count": 18,
   "metadata": {},
   "outputs": [
    {
     "output_type": "stream",
     "name": "stdout",
     "text": [
      "Model is saved.\n"
     ]
    }
   ],
   "source": [
    "import joblib\n",
    "# save/ export the model\n",
    "joblib.dump(grid, '../Machine_learning_models/Alcohol_LogRegr_fulldataset.smd')\n",
    "print(\"Model is saved.\")"
   ]
  },
  {
   "cell_type": "code",
   "execution_count": 19,
   "metadata": {},
   "outputs": [],
   "source": [
    "load_model = joblib.load('../Machine_learning_models/Alcohol_LogRegr_fulldataset.smd')"
   ]
  },
  {
   "cell_type": "code",
   "execution_count": 20,
   "metadata": {},
   "outputs": [
    {
     "output_type": "execute_result",
     "data": {
      "text/plain": [
       "array([29, 31, 31, ...,  0, 30,  1])"
      ]
     },
     "metadata": {},
     "execution_count": 20
    }
   ],
   "source": [
    "load_model.predict(X_val)"
   ]
  },
  {
   "source": [
    "# Random Forest"
   ],
   "cell_type": "markdown",
   "metadata": {}
  },
  {
   "cell_type": "code",
   "execution_count": 9,
   "metadata": {},
   "outputs": [
    {
     "output_type": "execute_result",
     "data": {
      "text/plain": [
       "RandomForestClassifier(n_estimators=200)"
      ]
     },
     "metadata": {},
     "execution_count": 9
    }
   ],
   "source": [
    "from sklearn.ensemble import RandomForestClassifier\n",
    "\n",
    "# Create a random forest classifier\n",
    "rf = RandomForestClassifier(n_estimators=200)\n",
    "rf.fit(X_train, y_train)"
   ]
  },
  {
   "cell_type": "code",
   "execution_count": 22,
   "metadata": {},
   "outputs": [
    {
     "output_type": "stream",
     "name": "stdout",
     "text": [
      "Training Data Score: 0.9993547643737758\n",
      "Testing Data Score: 0.5484837312194673\n"
     ]
    }
   ],
   "source": [
    "print(f\"Training Data Score: {rf.score(X_train, y_train)}\")\n",
    "print(f\"Testing Data Score: {rf.score(X_test, y_test)}\")"
   ]
  },
  {
   "cell_type": "code",
   "execution_count": 23,
   "metadata": {},
   "outputs": [
    {
     "output_type": "execute_result",
     "data": {
      "text/plain": [
       "[(0.15879857728638372, 'ALCDAYS'),\n",
       " (0.13780606908304263, 'ALCYRTOT'),\n",
       " (0.12457805733711133, 'ALCREC'),\n",
       " (0.06243460716398499, 'ALCEVER'),\n",
       " (0.03977332892552325, 'AGE2'),\n",
       " (0.03505197624323, 'IRPINC3'),\n",
       " (0.03260251875931563, 'CIGTRY'),\n",
       " (0.026923261917462672, 'HEALTH'),\n",
       " (0.026275068900515994, 'SEDANYLIF'),\n",
       " (0.026233419993586256, 'IREDUHIGHST2'),\n",
       " (0.025065480583687343, 'DSTCHR30'),\n",
       " (0.024920252943593173, 'DSTHOP30'),\n",
       " (0.019682799867352843, 'WRKNUMJOB2'),\n",
       " (0.018878067344574187, 'MOVSINPYR2'),\n",
       " (0.01776889504348554, 'DSTEFF30'),\n",
       " (0.017003012665514513, 'IRMARIT'),\n",
       " (0.01653366838411465, 'DSTNRV30'),\n",
       " (0.016201432640540765, 'DSTRST30'),\n",
       " (0.01582979470883631, 'WRKSTATWK2'),\n",
       " (0.013872300617474123, 'METHAMEVR'),\n",
       " (0.011816985552756475, 'SEXATRACT'),\n",
       " (0.011351728634305976, 'PNRANYLIF'),\n",
       " (0.01133337613313156, 'IRWRKSTAT'),\n",
       " (0.011047282068050805, 'ALCUS30D'),\n",
       " (0.008964826802754735, 'TRQANYLIF'),\n",
       " (0.00859452871837447, 'STMANYLIF'),\n",
       " (0.008306097311010514, 'CIG100LF'),\n",
       " (0.007227523408720312, 'CIGDLYMO'),\n",
       " (0.005552901322839425, 'SEXIDENT'),\n",
       " (0.0054805532162124386, 'SERVICE'),\n",
       " (0.005025271374669536, 'MJEVER'),\n",
       " (0.004644612402624465, 'PSILCY'),\n",
       " (0.004177761026276838, 'MESC'),\n",
       " (0.003945590463652959, 'DIFFTHINK'),\n",
       " (0.003900797930611516, 'HEREVER'),\n",
       " (0.00343523731016099, 'LGAS'),\n",
       " (0.00311522284636512, 'NITOXID'),\n",
       " (0.0022500593720832522, 'INHALOTH'),\n",
       " (0.0020280547985557975, 'DMTAMTFXY'),\n",
       " (0.0020080258985369116, 'CG30EST'),\n",
       " (0.0018533453486473633, 'HALLUCOTH'),\n",
       " (0.0016947069946473985, 'DIFFWALK'),\n",
       " (0.0015975067859162028, 'CIGEVER'),\n",
       " (0.001456389947940749, 'DIFFERAND'),\n",
       " (0.0011435848323473852, 'PEYOTE'),\n",
       " (0.0010995531938103426, 'COCEVER'),\n",
       " (0.0010648877270502536, 'PCP'),\n",
       " (0.001014583707565308, 'SALVIADIV'),\n",
       " (0.0009445264083594283, 'SPPAINT'),\n",
       " (0.0009141508318413817, 'ECSTMOLLY'),\n",
       " (0.000895211981213591, 'LSD'),\n",
       " (0.0008616364718052878, 'CLEFLU'),\n",
       " (0.0007835164081470364, 'GAS'),\n",
       " (0.0007659012807970556, 'KETMINESK'),\n",
       " (0.0005902485837000343, 'CRKEVER'),\n",
       " (0.00047799359878759363, 'AMYLNIT'),\n",
       " (0.0004677519242920998, 'FELTMARKR'),\n",
       " (0.0004587365554716759, 'DIFFDRESS'),\n",
       " (0.000415640139725708, 'AIRDUSTER'),\n",
       " (0.00037976408582446835, 'ETHER'),\n",
       " (0.0002522795752524, 'OTHAEROS'),\n",
       " (0.00022851109929252966, 'SOLVENT'),\n",
       " (0.00020054551654076358, 'GLUE')]"
      ]
     },
     "metadata": {},
     "execution_count": 23
    }
   ],
   "source": [
    "# Random Forests in sklearn will automatically calculate feature importance\n",
    "importances = rf.feature_importances_\n",
    "\n",
    "# We can sort the features by their importance\n",
    "sorted(zip(rf.feature_importances_, data_df.columns), reverse=True)"
   ]
  },
  {
   "cell_type": "code",
   "execution_count": 24,
   "metadata": {},
   "outputs": [
    {
     "output_type": "execute_result",
     "data": {
      "text/plain": [
       "    Prediction  Actual\n",
       "0           29      24\n",
       "1           31      31\n",
       "2           31      31\n",
       "3           30      30\n",
       "4            4       9\n",
       "5            9       4\n",
       "6            3       7\n",
       "7           19      25\n",
       "8           30      30\n",
       "9           31      31\n",
       "10           4       0\n",
       "11           1       1\n",
       "12           9       4\n",
       "13           3       9\n",
       "14          19      24"
      ],
      "text/html": "<div>\n<style scoped>\n    .dataframe tbody tr th:only-of-type {\n        vertical-align: middle;\n    }\n\n    .dataframe tbody tr th {\n        vertical-align: top;\n    }\n\n    .dataframe thead th {\n        text-align: right;\n    }\n</style>\n<table border=\"1\" class=\"dataframe\">\n  <thead>\n    <tr style=\"text-align: right;\">\n      <th></th>\n      <th>Prediction</th>\n      <th>Actual</th>\n    </tr>\n  </thead>\n  <tbody>\n    <tr>\n      <th>0</th>\n      <td>29</td>\n      <td>24</td>\n    </tr>\n    <tr>\n      <th>1</th>\n      <td>31</td>\n      <td>31</td>\n    </tr>\n    <tr>\n      <th>2</th>\n      <td>31</td>\n      <td>31</td>\n    </tr>\n    <tr>\n      <th>3</th>\n      <td>30</td>\n      <td>30</td>\n    </tr>\n    <tr>\n      <th>4</th>\n      <td>4</td>\n      <td>9</td>\n    </tr>\n    <tr>\n      <th>5</th>\n      <td>9</td>\n      <td>4</td>\n    </tr>\n    <tr>\n      <th>6</th>\n      <td>3</td>\n      <td>7</td>\n    </tr>\n    <tr>\n      <th>7</th>\n      <td>19</td>\n      <td>25</td>\n    </tr>\n    <tr>\n      <th>8</th>\n      <td>30</td>\n      <td>30</td>\n    </tr>\n    <tr>\n      <th>9</th>\n      <td>31</td>\n      <td>31</td>\n    </tr>\n    <tr>\n      <th>10</th>\n      <td>4</td>\n      <td>0</td>\n    </tr>\n    <tr>\n      <th>11</th>\n      <td>1</td>\n      <td>1</td>\n    </tr>\n    <tr>\n      <th>12</th>\n      <td>9</td>\n      <td>4</td>\n    </tr>\n    <tr>\n      <th>13</th>\n      <td>3</td>\n      <td>9</td>\n    </tr>\n    <tr>\n      <th>14</th>\n      <td>19</td>\n      <td>24</td>\n    </tr>\n  </tbody>\n</table>\n</div>"
     },
     "metadata": {},
     "execution_count": 24
    }
   ],
   "source": [
    "# make a prediction on the validation data\n",
    "rf_predictions = rf.predict(X_val)\n",
    "pd.DataFrame({\"Prediction\": predictions, \"Actual\": y_val}).head(15)"
   ]
  },
  {
   "cell_type": "code",
   "execution_count": 11,
   "metadata": {},
   "outputs": [],
   "source": [
    "# Create the GridSearch estimator along with a parameter object containing the values to adjust\n",
    "from sklearn.model_selection import GridSearchCV\n",
    "rf = RandomForestClassifier()\n",
    "rf_param_grid = {'n_estimators': [100, 200, 500],\n",
    "                'max_features': [10, 20, 50]}\n",
    "                \n",
    "grid_rf = GridSearchCV(rf, rf_param_grid, verbose=True, n_jobs=-2)"
   ]
  },
  {
   "cell_type": "code",
   "execution_count": 12,
   "metadata": {},
   "outputs": [
    {
     "output_type": "stream",
     "name": "stdout",
     "text": [
      "Fitting 5 folds for each of 9 candidates, totalling 45 fits\n"
     ]
    },
    {
     "output_type": "execute_result",
     "data": {
      "text/plain": [
       "GridSearchCV(estimator=RandomForestClassifier(), n_jobs=-2,\n",
       "             param_grid={'max_features': [10, 20, 50],\n",
       "                         'n_estimators': [100, 200, 500]},\n",
       "             verbose=True)"
      ]
     },
     "metadata": {},
     "execution_count": 12
    }
   ],
   "source": [
    "# Fit the model using the grid search estimator. \n",
    "grid_rf.fit(X_train, y_train)"
   ]
  },
  {
   "cell_type": "code",
   "execution_count": 13,
   "metadata": {},
   "outputs": [
    {
     "output_type": "stream",
     "name": "stdout",
     "text": [
      "{'max_features': 50, 'n_estimators': 500}\n"
     ]
    }
   ],
   "source": [
    "# List the best parameters for this dataset\n",
    "print(grid_rf.best_params_)"
   ]
  },
  {
   "cell_type": "code",
   "execution_count": 14,
   "metadata": {},
   "outputs": [
    {
     "output_type": "stream",
     "name": "stdout",
     "text": [
      "0.5680377923723932\n"
     ]
    }
   ],
   "source": [
    "# List the best score\n",
    "print(grid_rf.best_score_)"
   ]
  },
  {
   "cell_type": "code",
   "execution_count": 15,
   "metadata": {},
   "outputs": [
    {
     "output_type": "stream",
     "name": "stdout",
     "text": [
      "Training Data Score: 0.9993547643737758\n",
      "Testing Data Score: 0.56954558023781\n"
     ]
    }
   ],
   "source": [
    "# print the R2 score before adjusting parameters\n",
    "print(f\"Training Data Score: {grid_rf.score(X_train, y_train)}\")\n",
    "print(f\"Testing Data Score: {grid_rf.score(X_test, y_test)}\")\n",
    "# print(f\"Validation Data Score: {grid.score(X_val, y_val)}\")"
   ]
  },
  {
   "cell_type": "code",
   "execution_count": 32,
   "metadata": {},
   "outputs": [
    {
     "output_type": "execute_result",
     "data": {
      "text/plain": [
       "    Prediction  Actual\n",
       "0            7       7\n",
       "1            7       7\n",
       "2            7       7\n",
       "3            7       7\n",
       "4            6       6\n",
       "5            7       7\n",
       "6            6       6\n",
       "7            6       6\n",
       "8            6       6\n",
       "9            7       7\n",
       "10           7       7\n",
       "11           7       7\n",
       "12           6       6\n",
       "13           7       7\n",
       "14           7       7"
      ],
      "text/html": "<div>\n<style scoped>\n    .dataframe tbody tr th:only-of-type {\n        vertical-align: middle;\n    }\n\n    .dataframe tbody tr th {\n        vertical-align: top;\n    }\n\n    .dataframe thead th {\n        text-align: right;\n    }\n</style>\n<table border=\"1\" class=\"dataframe\">\n  <thead>\n    <tr style=\"text-align: right;\">\n      <th></th>\n      <th>Prediction</th>\n      <th>Actual</th>\n    </tr>\n  </thead>\n  <tbody>\n    <tr>\n      <th>0</th>\n      <td>7</td>\n      <td>7</td>\n    </tr>\n    <tr>\n      <th>1</th>\n      <td>7</td>\n      <td>7</td>\n    </tr>\n    <tr>\n      <th>2</th>\n      <td>7</td>\n      <td>7</td>\n    </tr>\n    <tr>\n      <th>3</th>\n      <td>7</td>\n      <td>7</td>\n    </tr>\n    <tr>\n      <th>4</th>\n      <td>6</td>\n      <td>6</td>\n    </tr>\n    <tr>\n      <th>5</th>\n      <td>7</td>\n      <td>7</td>\n    </tr>\n    <tr>\n      <th>6</th>\n      <td>6</td>\n      <td>6</td>\n    </tr>\n    <tr>\n      <th>7</th>\n      <td>6</td>\n      <td>6</td>\n    </tr>\n    <tr>\n      <th>8</th>\n      <td>6</td>\n      <td>6</td>\n    </tr>\n    <tr>\n      <th>9</th>\n      <td>7</td>\n      <td>7</td>\n    </tr>\n    <tr>\n      <th>10</th>\n      <td>7</td>\n      <td>7</td>\n    </tr>\n    <tr>\n      <th>11</th>\n      <td>7</td>\n      <td>7</td>\n    </tr>\n    <tr>\n      <th>12</th>\n      <td>6</td>\n      <td>6</td>\n    </tr>\n    <tr>\n      <th>13</th>\n      <td>7</td>\n      <td>7</td>\n    </tr>\n    <tr>\n      <th>14</th>\n      <td>7</td>\n      <td>7</td>\n    </tr>\n  </tbody>\n</table>\n</div>"
     },
     "metadata": {},
     "execution_count": 32
    }
   ],
   "source": [
    "# make a prediction on the validation data\n",
    "predictions_rf = grid_rf.predict(X_val)\n",
    "pd.DataFrame({\"Prediction\": predictions_rf, \"Actual\": y_val}).head(15)"
   ]
  },
  {
   "cell_type": "code",
   "execution_count": 33,
   "metadata": {},
   "outputs": [
    {
     "output_type": "stream",
     "name": "stdout",
     "text": [
      "Model is saved.\n"
     ]
    }
   ],
   "source": [
    "# save/ export the model\n",
    "joblib.dump(grid_rf, '../Machine_learning_models/Alcohol_RandomForest_fulldataset.smd')\n",
    "print(\"Model is saved.\")"
   ]
  },
  {
   "cell_type": "code",
   "execution_count": 34,
   "metadata": {},
   "outputs": [],
   "source": [
    "load_model_rf = joblib.load('../Machine_learning_models/Alcohol_RandomForest_fulldataset.smd')"
   ]
  },
  {
   "cell_type": "code",
   "execution_count": 35,
   "metadata": {},
   "outputs": [
    {
     "output_type": "execute_result",
     "data": {
      "text/plain": [
       "array([7, 7, 7, ..., 7, 6, 6])"
      ]
     },
     "metadata": {},
     "execution_count": 35
    }
   ],
   "source": [
    "load_model_rf.predict(X_val)"
   ]
  }
 ],
 "metadata": {
  "hide_input": false,
  "kernelspec": {
   "name": "python3",
   "display_name": "Python 3.7.9 64-bit ('homework': conda)",
   "metadata": {
    "interpreter": {
     "hash": "bda7821ce18a0b2c0f737a4544fda4e96b70694268c6080765f14fcf13080e2c"
    }
   }
  },
  "language_info": {
   "codemirror_mode": {
    "name": "ipython",
    "version": 3
   },
   "file_extension": ".py",
   "mimetype": "text/x-python",
   "name": "python",
   "nbconvert_exporter": "python",
   "pygments_lexer": "ipython3",
   "version": "3.7.9"
  },
  "toc": {
   "base_numbering": 1,
   "nav_menu": {},
   "number_sections": true,
   "sideBar": true,
   "skip_h1_title": false,
   "title_cell": "Table of Contents",
   "title_sidebar": "Contents",
   "toc_cell": false,
   "toc_position": {},
   "toc_section_display": true,
   "toc_window_display": false
  },
  "varInspector": {
   "cols": {
    "lenName": 16,
    "lenType": 16,
    "lenVar": 40
   },
   "kernels_config": {
    "python": {
     "delete_cmd_postfix": "",
     "delete_cmd_prefix": "del ",
     "library": "var_list.py",
     "varRefreshCmd": "print(var_dic_list())"
    },
    "r": {
     "delete_cmd_postfix": ") ",
     "delete_cmd_prefix": "rm(",
     "library": "var_list.r",
     "varRefreshCmd": "cat(var_dic_list()) "
    }
   },
   "types_to_exclude": [
    "module",
    "function",
    "builtin_function_or_method",
    "instance",
    "_Feature"
   ],
   "window_display": false
  }
 },
 "nbformat": 4,
 "nbformat_minor": 4
}