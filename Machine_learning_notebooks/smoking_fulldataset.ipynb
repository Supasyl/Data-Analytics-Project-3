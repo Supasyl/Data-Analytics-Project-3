{
 "cells": [
  {
   "cell_type": "code",
   "execution_count": 1,
   "metadata": {},
   "outputs": [],
   "source": [
    "# import libraries\n",
    "import pandas as pd"
   ]
  },
  {
   "cell_type": "code",
   "execution_count": 2,
   "metadata": {
    "scrolled": true
   },
   "outputs": [
    {
     "output_type": "execute_result",
     "data": {
      "text/plain": [
       "        AGE2  IRMARIT  SERVICE  HEALTH  MOVSINPYR2  SEXATRACT  SEXIDENT  \\\n",
       "0         15        1      2.0     2.0         0.0        1.0       1.0   \n",
       "1         17        1      2.0     2.0         0.0        1.0       1.0   \n",
       "2         14        4      2.0     2.0         0.0        1.0       1.0   \n",
       "3          8        4      2.0     2.0         1.0        1.0       1.0   \n",
       "4         14        1      2.0     2.0         0.0        1.0       1.0   \n",
       "...      ...      ...      ...     ...         ...        ...       ...   \n",
       "120538    15        1      2.0     2.0         0.0        1.0       1.0   \n",
       "120539    10        4      2.0     4.0         3.0        2.0       1.0   \n",
       "120540    16        4      2.0     2.0         0.0        5.0       2.0   \n",
       "120541    12        4      2.0     3.0         1.0        1.0       1.0   \n",
       "120542    11        4      2.0     2.0         0.0        1.0       1.0   \n",
       "\n",
       "        DIFFTHINK  DIFFWALK  DIFFDRESS  ...  PNRANYLIF  TRQANYLIF  STMANYLIF  \\\n",
       "0             2.0       2.0        2.0  ...        1.0        2.0        2.0   \n",
       "1             2.0       2.0        2.0  ...        1.0        2.0        2.0   \n",
       "2             2.0       2.0        2.0  ...        1.0        2.0        2.0   \n",
       "3             2.0       2.0        2.0  ...        2.0        1.0        1.0   \n",
       "4             2.0       2.0        2.0  ...        1.0        2.0        2.0   \n",
       "...           ...       ...        ...  ...        ...        ...        ...   \n",
       "120538        2.0       2.0        2.0  ...        1.0        2.0        1.0   \n",
       "120539        1.0       2.0        2.0  ...        1.0        1.0        1.0   \n",
       "120540        2.0       2.0        2.0  ...        1.0        2.0        2.0   \n",
       "120541        2.0       2.0        2.0  ...        2.0        2.0        2.0   \n",
       "120542        2.0       2.0        2.0  ...        1.0        2.0        2.0   \n",
       "\n",
       "        SEDANYLIF  DSTNRV30  DSTHOP30  DSTRST30  DSTCHR30  DSTEFF30  DSTNGD30  \n",
       "0             2.0       2.0       3.0       3.0       3.0       2.0       4.0  \n",
       "1             2.0       5.0       5.0       5.0       5.0       5.0       5.0  \n",
       "2             2.0       4.0       5.0       5.0       5.0       5.0       5.0  \n",
       "3             2.0       4.0       5.0       5.0       5.0       5.0       5.0  \n",
       "4             2.0       4.0       5.0       5.0       4.0       4.0       5.0  \n",
       "...           ...       ...       ...       ...       ...       ...       ...  \n",
       "120538        2.0       4.0       5.0       5.0       5.0       5.0       5.0  \n",
       "120539        1.0       3.0       3.0       2.0       2.0       2.0       4.0  \n",
       "120540        1.0       4.0       5.0       5.0       5.0       4.0       5.0  \n",
       "120541        2.0       5.0       4.0       5.0       5.0       5.0       5.0  \n",
       "120542        2.0       4.0       5.0       3.0       5.0       3.0       5.0  \n",
       "\n",
       "[120543 rows x 64 columns]"
      ],
      "text/html": "<div>\n<style scoped>\n    .dataframe tbody tr th:only-of-type {\n        vertical-align: middle;\n    }\n\n    .dataframe tbody tr th {\n        vertical-align: top;\n    }\n\n    .dataframe thead th {\n        text-align: right;\n    }\n</style>\n<table border=\"1\" class=\"dataframe\">\n  <thead>\n    <tr style=\"text-align: right;\">\n      <th></th>\n      <th>AGE2</th>\n      <th>IRMARIT</th>\n      <th>SERVICE</th>\n      <th>HEALTH</th>\n      <th>MOVSINPYR2</th>\n      <th>SEXATRACT</th>\n      <th>SEXIDENT</th>\n      <th>DIFFTHINK</th>\n      <th>DIFFWALK</th>\n      <th>DIFFDRESS</th>\n      <th>...</th>\n      <th>PNRANYLIF</th>\n      <th>TRQANYLIF</th>\n      <th>STMANYLIF</th>\n      <th>SEDANYLIF</th>\n      <th>DSTNRV30</th>\n      <th>DSTHOP30</th>\n      <th>DSTRST30</th>\n      <th>DSTCHR30</th>\n      <th>DSTEFF30</th>\n      <th>DSTNGD30</th>\n    </tr>\n  </thead>\n  <tbody>\n    <tr>\n      <th>0</th>\n      <td>15</td>\n      <td>1</td>\n      <td>2.0</td>\n      <td>2.0</td>\n      <td>0.0</td>\n      <td>1.0</td>\n      <td>1.0</td>\n      <td>2.0</td>\n      <td>2.0</td>\n      <td>2.0</td>\n      <td>...</td>\n      <td>1.0</td>\n      <td>2.0</td>\n      <td>2.0</td>\n      <td>2.0</td>\n      <td>2.0</td>\n      <td>3.0</td>\n      <td>3.0</td>\n      <td>3.0</td>\n      <td>2.0</td>\n      <td>4.0</td>\n    </tr>\n    <tr>\n      <th>1</th>\n      <td>17</td>\n      <td>1</td>\n      <td>2.0</td>\n      <td>2.0</td>\n      <td>0.0</td>\n      <td>1.0</td>\n      <td>1.0</td>\n      <td>2.0</td>\n      <td>2.0</td>\n      <td>2.0</td>\n      <td>...</td>\n      <td>1.0</td>\n      <td>2.0</td>\n      <td>2.0</td>\n      <td>2.0</td>\n      <td>5.0</td>\n      <td>5.0</td>\n      <td>5.0</td>\n      <td>5.0</td>\n      <td>5.0</td>\n      <td>5.0</td>\n    </tr>\n    <tr>\n      <th>2</th>\n      <td>14</td>\n      <td>4</td>\n      <td>2.0</td>\n      <td>2.0</td>\n      <td>0.0</td>\n      <td>1.0</td>\n      <td>1.0</td>\n      <td>2.0</td>\n      <td>2.0</td>\n      <td>2.0</td>\n      <td>...</td>\n      <td>1.0</td>\n      <td>2.0</td>\n      <td>2.0</td>\n      <td>2.0</td>\n      <td>4.0</td>\n      <td>5.0</td>\n      <td>5.0</td>\n      <td>5.0</td>\n      <td>5.0</td>\n      <td>5.0</td>\n    </tr>\n    <tr>\n      <th>3</th>\n      <td>8</td>\n      <td>4</td>\n      <td>2.0</td>\n      <td>2.0</td>\n      <td>1.0</td>\n      <td>1.0</td>\n      <td>1.0</td>\n      <td>2.0</td>\n      <td>2.0</td>\n      <td>2.0</td>\n      <td>...</td>\n      <td>2.0</td>\n      <td>1.0</td>\n      <td>1.0</td>\n      <td>2.0</td>\n      <td>4.0</td>\n      <td>5.0</td>\n      <td>5.0</td>\n      <td>5.0</td>\n      <td>5.0</td>\n      <td>5.0</td>\n    </tr>\n    <tr>\n      <th>4</th>\n      <td>14</td>\n      <td>1</td>\n      <td>2.0</td>\n      <td>2.0</td>\n      <td>0.0</td>\n      <td>1.0</td>\n      <td>1.0</td>\n      <td>2.0</td>\n      <td>2.0</td>\n      <td>2.0</td>\n      <td>...</td>\n      <td>1.0</td>\n      <td>2.0</td>\n      <td>2.0</td>\n      <td>2.0</td>\n      <td>4.0</td>\n      <td>5.0</td>\n      <td>5.0</td>\n      <td>4.0</td>\n      <td>4.0</td>\n      <td>5.0</td>\n    </tr>\n    <tr>\n      <th>...</th>\n      <td>...</td>\n      <td>...</td>\n      <td>...</td>\n      <td>...</td>\n      <td>...</td>\n      <td>...</td>\n      <td>...</td>\n      <td>...</td>\n      <td>...</td>\n      <td>...</td>\n      <td>...</td>\n      <td>...</td>\n      <td>...</td>\n      <td>...</td>\n      <td>...</td>\n      <td>...</td>\n      <td>...</td>\n      <td>...</td>\n      <td>...</td>\n      <td>...</td>\n      <td>...</td>\n    </tr>\n    <tr>\n      <th>120538</th>\n      <td>15</td>\n      <td>1</td>\n      <td>2.0</td>\n      <td>2.0</td>\n      <td>0.0</td>\n      <td>1.0</td>\n      <td>1.0</td>\n      <td>2.0</td>\n      <td>2.0</td>\n      <td>2.0</td>\n      <td>...</td>\n      <td>1.0</td>\n      <td>2.0</td>\n      <td>1.0</td>\n      <td>2.0</td>\n      <td>4.0</td>\n      <td>5.0</td>\n      <td>5.0</td>\n      <td>5.0</td>\n      <td>5.0</td>\n      <td>5.0</td>\n    </tr>\n    <tr>\n      <th>120539</th>\n      <td>10</td>\n      <td>4</td>\n      <td>2.0</td>\n      <td>4.0</td>\n      <td>3.0</td>\n      <td>2.0</td>\n      <td>1.0</td>\n      <td>1.0</td>\n      <td>2.0</td>\n      <td>2.0</td>\n      <td>...</td>\n      <td>1.0</td>\n      <td>1.0</td>\n      <td>1.0</td>\n      <td>1.0</td>\n      <td>3.0</td>\n      <td>3.0</td>\n      <td>2.0</td>\n      <td>2.0</td>\n      <td>2.0</td>\n      <td>4.0</td>\n    </tr>\n    <tr>\n      <th>120540</th>\n      <td>16</td>\n      <td>4</td>\n      <td>2.0</td>\n      <td>2.0</td>\n      <td>0.0</td>\n      <td>5.0</td>\n      <td>2.0</td>\n      <td>2.0</td>\n      <td>2.0</td>\n      <td>2.0</td>\n      <td>...</td>\n      <td>1.0</td>\n      <td>2.0</td>\n      <td>2.0</td>\n      <td>1.0</td>\n      <td>4.0</td>\n      <td>5.0</td>\n      <td>5.0</td>\n      <td>5.0</td>\n      <td>4.0</td>\n      <td>5.0</td>\n    </tr>\n    <tr>\n      <th>120541</th>\n      <td>12</td>\n      <td>4</td>\n      <td>2.0</td>\n      <td>3.0</td>\n      <td>1.0</td>\n      <td>1.0</td>\n      <td>1.0</td>\n      <td>2.0</td>\n      <td>2.0</td>\n      <td>2.0</td>\n      <td>...</td>\n      <td>2.0</td>\n      <td>2.0</td>\n      <td>2.0</td>\n      <td>2.0</td>\n      <td>5.0</td>\n      <td>4.0</td>\n      <td>5.0</td>\n      <td>5.0</td>\n      <td>5.0</td>\n      <td>5.0</td>\n    </tr>\n    <tr>\n      <th>120542</th>\n      <td>11</td>\n      <td>4</td>\n      <td>2.0</td>\n      <td>2.0</td>\n      <td>0.0</td>\n      <td>1.0</td>\n      <td>1.0</td>\n      <td>2.0</td>\n      <td>2.0</td>\n      <td>2.0</td>\n      <td>...</td>\n      <td>1.0</td>\n      <td>2.0</td>\n      <td>2.0</td>\n      <td>2.0</td>\n      <td>4.0</td>\n      <td>5.0</td>\n      <td>3.0</td>\n      <td>5.0</td>\n      <td>3.0</td>\n      <td>5.0</td>\n    </tr>\n  </tbody>\n</table>\n<p>120543 rows × 64 columns</p>\n</div>"
     },
     "metadata": {},
     "execution_count": 2
    }
   ],
   "source": [
    "# read in the data\n",
    "data_df = pd.read_csv('../data/processed_csv/project3_raw_complete.csv')\n",
    "data_df"
   ]
  },
  {
   "cell_type": "code",
   "execution_count": 3,
   "metadata": {},
   "outputs": [
    {
     "output_type": "stream",
     "name": "stdout",
     "text": [
      "(120543, 63) (120543,)\n"
     ]
    }
   ],
   "source": [
    "# Assign X (data) and y (target)\n",
    "X = data_df.drop(columns=['CG30EST'])\n",
    "y = data_df['CG30EST'].values\n",
    "print(X.shape, y.shape)"
   ]
  },
  {
   "cell_type": "code",
   "execution_count": 4,
   "metadata": {},
   "outputs": [],
   "source": [
    "from sklearn.preprocessing import LabelEncoder\n",
    "# Step 1: Label-encode data set\n",
    "encoded_y = LabelEncoder().fit(y).transform(y)"
   ]
  },
  {
   "cell_type": "code",
   "execution_count": 5,
   "metadata": {},
   "outputs": [],
   "source": [
    "codes_df = pd.DataFrame({\"Original class\": y, \"Encoded label\": encoded_y})"
   ]
  },
  {
   "cell_type": "code",
   "execution_count": 6,
   "metadata": {},
   "outputs": [
    {
     "output_type": "execute_result",
     "data": {
      "text/plain": [
       "       Original class  Encoded label\n",
       "0                93.0              7\n",
       "1                91.0              6\n",
       "3543              6.0              5\n",
       "4909              2.0              1\n",
       "6987              4.0              3\n",
       "12647             5.0              4\n",
       "21571             1.0              0\n",
       "37475             3.0              2"
      ],
      "text/html": "<div>\n<style scoped>\n    .dataframe tbody tr th:only-of-type {\n        vertical-align: middle;\n    }\n\n    .dataframe tbody tr th {\n        vertical-align: top;\n    }\n\n    .dataframe thead th {\n        text-align: right;\n    }\n</style>\n<table border=\"1\" class=\"dataframe\">\n  <thead>\n    <tr style=\"text-align: right;\">\n      <th></th>\n      <th>Original class</th>\n      <th>Encoded label</th>\n    </tr>\n  </thead>\n  <tbody>\n    <tr>\n      <th>0</th>\n      <td>93.0</td>\n      <td>7</td>\n    </tr>\n    <tr>\n      <th>1</th>\n      <td>91.0</td>\n      <td>6</td>\n    </tr>\n    <tr>\n      <th>3543</th>\n      <td>6.0</td>\n      <td>5</td>\n    </tr>\n    <tr>\n      <th>4909</th>\n      <td>2.0</td>\n      <td>1</td>\n    </tr>\n    <tr>\n      <th>6987</th>\n      <td>4.0</td>\n      <td>3</td>\n    </tr>\n    <tr>\n      <th>12647</th>\n      <td>5.0</td>\n      <td>4</td>\n    </tr>\n    <tr>\n      <th>21571</th>\n      <td>1.0</td>\n      <td>0</td>\n    </tr>\n    <tr>\n      <th>37475</th>\n      <td>3.0</td>\n      <td>2</td>\n    </tr>\n  </tbody>\n</table>\n</div>"
     },
     "metadata": {},
     "execution_count": 6
    }
   ],
   "source": [
    "# show original clas with encoded labels\n",
    "codes_df.drop_duplicates()\n"
   ]
  },
  {
   "cell_type": "code",
   "execution_count": 7,
   "metadata": {},
   "outputs": [],
   "source": [
    "# Use sklearn's `train_test_split` to split the data into training and testing\n",
    "from sklearn.model_selection import train_test_split\n",
    "\n",
    "# split is random (shuffled) automatically\n",
    "X_train_test, X_val, y_train_test, y_val = train_test_split(X, encoded_y, random_state=42, test_size=0.1)\n",
    "X_train, X_test, y_train, y_test = train_test_split(X_train_test, y_train_test, random_state=42, test_size=0.2)"
   ]
  },
  {
   "cell_type": "markdown",
   "metadata": {},
   "source": [
    "# Logistic Regression"
   ]
  },
  {
   "cell_type": "code",
   "execution_count": 8,
   "metadata": {},
   "outputs": [],
   "source": [
    "# Create a Logistic Regression Model\n",
    "from sklearn.linear_model import LogisticRegression\n",
    "classifier = LogisticRegression(max_iter=100000)"
   ]
  },
  {
   "cell_type": "code",
   "execution_count": 9,
   "metadata": {},
   "outputs": [
    {
     "output_type": "execute_result",
     "data": {
      "text/plain": [
       "LogisticRegression(max_iter=100000)"
      ]
     },
     "metadata": {},
     "execution_count": 9
    }
   ],
   "source": [
    "# Fit (train) or model using the training data\n",
    "classifier.fit(X_train, y_train)"
   ]
  },
  {
   "cell_type": "code",
   "execution_count": 10,
   "metadata": {},
   "outputs": [
    {
     "output_type": "stream",
     "name": "stdout",
     "text": [
      "Training Data Score: 0.9993547643737758\nTesting Data Score: 0.9994008664393031\n"
     ]
    }
   ],
   "source": [
    "# print the R2 score before adjusting parameters\n",
    "print(f\"Training Data Score: {classifier.score(X_train, y_train)}\")\n",
    "print(f\"Testing Data Score: {classifier.score(X_test, y_test)}\")\n",
    "# print(f\"Validation Data Score: {classifier.score(X_val, y_val)}\")"
   ]
  },
  {
   "cell_type": "code",
   "execution_count": 11,
   "metadata": {},
   "outputs": [
    {
     "output_type": "execute_result",
     "data": {
      "text/plain": [
       "    Prediction  Actual\n",
       "0            7       7\n",
       "1            7       7\n",
       "2            7       7\n",
       "3            7       7\n",
       "4            6       6\n",
       "5            7       7\n",
       "6            6       6\n",
       "7            6       6\n",
       "8            6       6\n",
       "9            7       7\n",
       "10           7       7\n",
       "11           7       7\n",
       "12           6       6\n",
       "13           7       7\n",
       "14           7       7"
      ],
      "text/html": "<div>\n<style scoped>\n    .dataframe tbody tr th:only-of-type {\n        vertical-align: middle;\n    }\n\n    .dataframe tbody tr th {\n        vertical-align: top;\n    }\n\n    .dataframe thead th {\n        text-align: right;\n    }\n</style>\n<table border=\"1\" class=\"dataframe\">\n  <thead>\n    <tr style=\"text-align: right;\">\n      <th></th>\n      <th>Prediction</th>\n      <th>Actual</th>\n    </tr>\n  </thead>\n  <tbody>\n    <tr>\n      <th>0</th>\n      <td>7</td>\n      <td>7</td>\n    </tr>\n    <tr>\n      <th>1</th>\n      <td>7</td>\n      <td>7</td>\n    </tr>\n    <tr>\n      <th>2</th>\n      <td>7</td>\n      <td>7</td>\n    </tr>\n    <tr>\n      <th>3</th>\n      <td>7</td>\n      <td>7</td>\n    </tr>\n    <tr>\n      <th>4</th>\n      <td>6</td>\n      <td>6</td>\n    </tr>\n    <tr>\n      <th>5</th>\n      <td>7</td>\n      <td>7</td>\n    </tr>\n    <tr>\n      <th>6</th>\n      <td>6</td>\n      <td>6</td>\n    </tr>\n    <tr>\n      <th>7</th>\n      <td>6</td>\n      <td>6</td>\n    </tr>\n    <tr>\n      <th>8</th>\n      <td>6</td>\n      <td>6</td>\n    </tr>\n    <tr>\n      <th>9</th>\n      <td>7</td>\n      <td>7</td>\n    </tr>\n    <tr>\n      <th>10</th>\n      <td>7</td>\n      <td>7</td>\n    </tr>\n    <tr>\n      <th>11</th>\n      <td>7</td>\n      <td>7</td>\n    </tr>\n    <tr>\n      <th>12</th>\n      <td>6</td>\n      <td>6</td>\n    </tr>\n    <tr>\n      <th>13</th>\n      <td>7</td>\n      <td>7</td>\n    </tr>\n    <tr>\n      <th>14</th>\n      <td>7</td>\n      <td>7</td>\n    </tr>\n  </tbody>\n</table>\n</div>"
     },
     "metadata": {},
     "execution_count": 11
    }
   ],
   "source": [
    "# make a prediction on the validation data before adjusting parameters\n",
    "predictions = classifier.predict(X_val)\n",
    "pd.DataFrame({\"Prediction\": predictions, \"Actual\": y_val}).head(15)"
   ]
  },
  {
   "cell_type": "code",
   "execution_count": 12,
   "metadata": {},
   "outputs": [],
   "source": [
    "# Create the GridSearch estimator along with a parameter object containing the values to adjust\n",
    "from sklearn.model_selection import GridSearchCV\n",
    "param_grid = {'C': [1, 5, 10, 50],\n",
    "              'penalty': ['L1', 'L2', 'none']}\n",
    "grid = GridSearchCV(classifier, param_grid, verbose=True, n_jobs=-2)"
   ]
  },
  {
   "cell_type": "code",
   "execution_count": 13,
   "metadata": {},
   "outputs": [
    {
     "output_type": "stream",
     "name": "stdout",
     "text": [
      "Fitting 5 folds for each of 12 candidates, totalling 60 fits\n",
      "[Parallel(n_jobs=-2)]: Using backend LokyBackend with 7 concurrent workers.\n",
      "[Parallel(n_jobs=-2)]: Done  36 tasks      | elapsed: 20.7min\n",
      "[Parallel(n_jobs=-2)]: Done  60 out of  60 | elapsed: 59.2min finished\n"
     ]
    },
    {
     "output_type": "execute_result",
     "data": {
      "text/plain": [
       "GridSearchCV(estimator=LogisticRegression(max_iter=100000), n_jobs=-2,\n",
       "             param_grid={'C': [1, 5, 10, 50], 'penalty': ['L1', 'L2', 'none']},\n",
       "             verbose=True)"
      ]
     },
     "metadata": {},
     "execution_count": 13
    }
   ],
   "source": [
    "# Fit the model using the grid search estimator. \n",
    "grid.fit(X_train, y_train)"
   ]
  },
  {
   "cell_type": "code",
   "execution_count": 14,
   "metadata": {},
   "outputs": [
    {
     "output_type": "stream",
     "name": "stdout",
     "text": [
      "{'C': 1, 'penalty': 'none'}\n"
     ]
    }
   ],
   "source": [
    "# List the best parameters for this dataset\n",
    "print(grid.best_params_)"
   ]
  },
  {
   "cell_type": "code",
   "execution_count": 15,
   "metadata": {},
   "outputs": [
    {
     "output_type": "stream",
     "name": "stdout",
     "text": [
      "0.9990667127549256\n"
     ]
    }
   ],
   "source": [
    "# List the best score\n",
    "print(grid.best_score_)"
   ]
  },
  {
   "cell_type": "code",
   "execution_count": 16,
   "metadata": {},
   "outputs": [
    {
     "output_type": "stream",
     "name": "stdout",
     "text": [
      "Training Data Score: 0.9994008526327918\n",
      "Testing Data Score: 0.9993547792423265\n"
     ]
    }
   ],
   "source": [
    "# print the R2 score before adjusting parameters\n",
    "print(f\"Training Data Score: {grid.score(X_train, y_train)}\")\n",
    "print(f\"Testing Data Score: {grid.score(X_test, y_test)}\")\n",
    "# print(f\"Validation Data Score: {grid.score(X_val, y_val)}\")"
   ]
  },
  {
   "cell_type": "code",
   "execution_count": 17,
   "metadata": {},
   "outputs": [
    {
     "output_type": "execute_result",
     "data": {
      "text/plain": [
       "    Prediction  Actual\n",
       "0            7       7\n",
       "1            7       7\n",
       "2            7       7\n",
       "3            7       7\n",
       "4            6       6\n",
       "5            7       7\n",
       "6            6       6\n",
       "7            6       6\n",
       "8            6       6\n",
       "9            7       7\n",
       "10           7       7\n",
       "11           7       7\n",
       "12           6       6\n",
       "13           7       7\n",
       "14           7       7"
      ],
      "text/html": "<div>\n<style scoped>\n    .dataframe tbody tr th:only-of-type {\n        vertical-align: middle;\n    }\n\n    .dataframe tbody tr th {\n        vertical-align: top;\n    }\n\n    .dataframe thead th {\n        text-align: right;\n    }\n</style>\n<table border=\"1\" class=\"dataframe\">\n  <thead>\n    <tr style=\"text-align: right;\">\n      <th></th>\n      <th>Prediction</th>\n      <th>Actual</th>\n    </tr>\n  </thead>\n  <tbody>\n    <tr>\n      <th>0</th>\n      <td>7</td>\n      <td>7</td>\n    </tr>\n    <tr>\n      <th>1</th>\n      <td>7</td>\n      <td>7</td>\n    </tr>\n    <tr>\n      <th>2</th>\n      <td>7</td>\n      <td>7</td>\n    </tr>\n    <tr>\n      <th>3</th>\n      <td>7</td>\n      <td>7</td>\n    </tr>\n    <tr>\n      <th>4</th>\n      <td>6</td>\n      <td>6</td>\n    </tr>\n    <tr>\n      <th>5</th>\n      <td>7</td>\n      <td>7</td>\n    </tr>\n    <tr>\n      <th>6</th>\n      <td>6</td>\n      <td>6</td>\n    </tr>\n    <tr>\n      <th>7</th>\n      <td>6</td>\n      <td>6</td>\n    </tr>\n    <tr>\n      <th>8</th>\n      <td>6</td>\n      <td>6</td>\n    </tr>\n    <tr>\n      <th>9</th>\n      <td>7</td>\n      <td>7</td>\n    </tr>\n    <tr>\n      <th>10</th>\n      <td>7</td>\n      <td>7</td>\n    </tr>\n    <tr>\n      <th>11</th>\n      <td>7</td>\n      <td>7</td>\n    </tr>\n    <tr>\n      <th>12</th>\n      <td>6</td>\n      <td>6</td>\n    </tr>\n    <tr>\n      <th>13</th>\n      <td>7</td>\n      <td>7</td>\n    </tr>\n    <tr>\n      <th>14</th>\n      <td>7</td>\n      <td>7</td>\n    </tr>\n  </tbody>\n</table>\n</div>"
     },
     "metadata": {},
     "execution_count": 17
    }
   ],
   "source": [
    "# make a prediction on the validation data\n",
    "predictions = grid.predict(X_val)\n",
    "pd.DataFrame({\"Prediction\": predictions, \"Actual\": y_val}).head(15)"
   ]
  },
  {
   "cell_type": "code",
   "execution_count": 18,
   "metadata": {},
   "outputs": [
    {
     "output_type": "stream",
     "name": "stdout",
     "text": [
      "Model is saved.\n"
     ]
    }
   ],
   "source": [
    "import joblib\n",
    "# save/ export the model\n",
    "joblib.dump(grid, '../Machine_learning_models/Smoking_LogRegr_fulldataset.smd')\n",
    "print(\"Model is saved.\")"
   ]
  },
  {
   "cell_type": "code",
   "execution_count": 21,
   "metadata": {},
   "outputs": [],
   "source": [
    "load_model = joblib.load('../Machine_learning_models/Smoking_LogRegr_fulldataset.smd')"
   ]
  },
  {
   "cell_type": "code",
   "execution_count": 22,
   "metadata": {},
   "outputs": [
    {
     "output_type": "execute_result",
     "data": {
      "text/plain": [
       "array([7, 7, 7, ..., 7, 6, 6])"
      ]
     },
     "metadata": {},
     "execution_count": 22
    }
   ],
   "source": [
    "load_model.predict(X_val)"
   ]
  },
  {
   "source": [
    "# Random Forest"
   ],
   "cell_type": "markdown",
   "metadata": {}
  },
  {
   "cell_type": "code",
   "execution_count": 23,
   "metadata": {},
   "outputs": [
    {
     "output_type": "execute_result",
     "data": {
      "text/plain": [
       "RandomForestClassifier(n_estimators=200)"
      ]
     },
     "metadata": {},
     "execution_count": 23
    }
   ],
   "source": [
    "from sklearn.ensemble import RandomForestClassifier\n",
    "\n",
    "# Create a random forest classifier\n",
    "rf = RandomForestClassifier(n_estimators=200)\n",
    "rf.fit(X_train, y_train)"
   ]
  },
  {
   "cell_type": "code",
   "execution_count": 24,
   "metadata": {},
   "outputs": [
    {
     "output_type": "stream",
     "name": "stdout",
     "text": [
      "Training Data Score: 1.0\n",
      "Testing Data Score: 0.9994008664393031\n"
     ]
    }
   ],
   "source": [
    "print(f\"Training Data Score: {rf.score(X_train, y_train)}\")\n",
    "print(f\"Testing Data Score: {rf.score(X_test, y_test)}\")"
   ]
  },
  {
   "cell_type": "code",
   "execution_count": 25,
   "metadata": {},
   "outputs": [
    {
     "output_type": "execute_result",
     "data": {
      "text/plain": [
       "[(0.2674064738769352, 'CIGTRY'),\n",
       " (0.25300586965044, 'CIG100LF'),\n",
       " (0.20864180918835282, 'CIGEVER'),\n",
       " (0.18682143129227213, 'CIGDLYMO'),\n",
       " (0.024717671065791726, 'ALCUS30D'),\n",
       " (0.010625807344324658, 'ALCEVER'),\n",
       " (0.007217242518963189, 'MJEVER'),\n",
       " (0.006615774843930454, 'CG30EST'),\n",
       " (0.00449400592064161, 'ALCDAYS'),\n",
       " (0.004198445504117483, 'ALCYRTOT'),\n",
       " (0.004119139310831624, 'ALCREC'),\n",
       " (0.003969619849952927, 'MESC'),\n",
       " (0.0030963360068676418, 'AGE2'),\n",
       " (0.002759166032541311, 'HEREVER'),\n",
       " (0.002482517548388608, 'PSILCY'),\n",
       " (0.001572754461626421, 'METHAMEVR'),\n",
       " (0.0012456504619727778, 'IRMARIT'),\n",
       " (0.0011392819807958304, 'PNRANYLIF'),\n",
       " (0.0009804599538150846, 'LGAS'),\n",
       " (0.0008246748227645565, 'IRPINC3'),\n",
       " (0.0007494443173058704, 'TRQANYLIF'),\n",
       " (0.0007465964667163535, 'INHALOTH'),\n",
       " (0.00032658235685181336, 'WRKSTATWK2'),\n",
       " (0.00022367677618397532, 'IRWRKSTAT'),\n",
       " (0.0001870410364060273, 'STMANYLIF'),\n",
       " (0.0001673935331261748, 'IREDUHIGHST2'),\n",
       " (0.0001434160784214108, 'HEALTH'),\n",
       " (0.0001231352447549003, 'DSTCHR30'),\n",
       " (0.00012118822757292146, 'SERVICE'),\n",
       " (0.00011820428184814076, 'WRKNUMJOB2'),\n",
       " (0.00011600892609660533, 'SEDANYLIF'),\n",
       " (0.00011379818645244459, 'MOVSINPYR2'),\n",
       " (0.00011297275668264916, 'DSTHOP30'),\n",
       " (9.548443907343395e-05, 'DSTEFF30'),\n",
       " (8.557584689856332e-05, 'DSTNRV30'),\n",
       " (8.548443896902989e-05, 'DSTRST30'),\n",
       " (5.873970268744516e-05, 'SEXATRACT'),\n",
       " (5.150709270908878e-05, 'LSD'),\n",
       " (5.114204528589103e-05, 'HALLUCOTH'),\n",
       " (4.7263955347333175e-05, 'DMTAMTFXY'),\n",
       " (4.494024523988533e-05, 'ECSTMOLLY'),\n",
       " (3.791609427299007e-05, 'CRKEVER'),\n",
       " (3.560565516001767e-05, 'DIFFTHINK'),\n",
       " (3.234689867862983e-05, 'SEXIDENT'),\n",
       " (1.883798975513024e-05, 'DIFFWALK'),\n",
       " (1.6758921211980075e-05, 'NITOXID'),\n",
       " (1.630867013190589e-05, 'SPPAINT'),\n",
       " (1.5505136744194792e-05, 'CLEFLU'),\n",
       " (1.544768188241956e-05, 'PEYOTE'),\n",
       " (1.5389574466986216e-05, 'COCEVER'),\n",
       " (1.5127787304975555e-05, 'DIFFDRESS'),\n",
       " (1.4019542253415295e-05, 'GAS'),\n",
       " (1.3470329168463635e-05, 'DIFFERAND'),\n",
       " (1.2918440516092744e-05, 'KETMINESK'),\n",
       " (9.172845260408605e-06, 'SALVIADIV'),\n",
       " (6.814762307559534e-06, 'PCP'),\n",
       " (6.524188707291882e-06, 'GLUE'),\n",
       " (3.994044641750609e-06, 'AMYLNIT'),\n",
       " (3.0821460216894057e-06, 'ETHER'),\n",
       " (2.8825789234368924e-06, 'FELTMARKR'),\n",
       " (2.2552118167860086e-06, 'AIRDUSTER'),\n",
       " (1.21337731617113e-06, 'OTHAEROS'),\n",
       " (6.805335016070196e-07, 'SOLVENT')]"
      ]
     },
     "metadata": {},
     "execution_count": 25
    }
   ],
   "source": [
    "# Random Forests in sklearn will automatically calculate feature importance\n",
    "importances = rf.feature_importances_\n",
    "\n",
    "# We can sort the features by their importance\n",
    "sorted(zip(rf.feature_importances_, data_df.columns), reverse=True)"
   ]
  },
  {
   "cell_type": "code",
   "execution_count": 26,
   "metadata": {},
   "outputs": [
    {
     "output_type": "execute_result",
     "data": {
      "text/plain": [
       "    Prediction  Actual\n",
       "0            7       7\n",
       "1            7       7\n",
       "2            7       7\n",
       "3            7       7\n",
       "4            6       6\n",
       "5            7       7\n",
       "6            6       6\n",
       "7            6       6\n",
       "8            6       6\n",
       "9            7       7\n",
       "10           7       7\n",
       "11           7       7\n",
       "12           6       6\n",
       "13           7       7\n",
       "14           7       7"
      ],
      "text/html": "<div>\n<style scoped>\n    .dataframe tbody tr th:only-of-type {\n        vertical-align: middle;\n    }\n\n    .dataframe tbody tr th {\n        vertical-align: top;\n    }\n\n    .dataframe thead th {\n        text-align: right;\n    }\n</style>\n<table border=\"1\" class=\"dataframe\">\n  <thead>\n    <tr style=\"text-align: right;\">\n      <th></th>\n      <th>Prediction</th>\n      <th>Actual</th>\n    </tr>\n  </thead>\n  <tbody>\n    <tr>\n      <th>0</th>\n      <td>7</td>\n      <td>7</td>\n    </tr>\n    <tr>\n      <th>1</th>\n      <td>7</td>\n      <td>7</td>\n    </tr>\n    <tr>\n      <th>2</th>\n      <td>7</td>\n      <td>7</td>\n    </tr>\n    <tr>\n      <th>3</th>\n      <td>7</td>\n      <td>7</td>\n    </tr>\n    <tr>\n      <th>4</th>\n      <td>6</td>\n      <td>6</td>\n    </tr>\n    <tr>\n      <th>5</th>\n      <td>7</td>\n      <td>7</td>\n    </tr>\n    <tr>\n      <th>6</th>\n      <td>6</td>\n      <td>6</td>\n    </tr>\n    <tr>\n      <th>7</th>\n      <td>6</td>\n      <td>6</td>\n    </tr>\n    <tr>\n      <th>8</th>\n      <td>6</td>\n      <td>6</td>\n    </tr>\n    <tr>\n      <th>9</th>\n      <td>7</td>\n      <td>7</td>\n    </tr>\n    <tr>\n      <th>10</th>\n      <td>7</td>\n      <td>7</td>\n    </tr>\n    <tr>\n      <th>11</th>\n      <td>7</td>\n      <td>7</td>\n    </tr>\n    <tr>\n      <th>12</th>\n      <td>6</td>\n      <td>6</td>\n    </tr>\n    <tr>\n      <th>13</th>\n      <td>7</td>\n      <td>7</td>\n    </tr>\n    <tr>\n      <th>14</th>\n      <td>7</td>\n      <td>7</td>\n    </tr>\n  </tbody>\n</table>\n</div>"
     },
     "metadata": {},
     "execution_count": 26
    }
   ],
   "source": [
    "# make a prediction on the validation data\n",
    "rf_predictions = rf.predict(X_val)\n",
    "pd.DataFrame({\"Prediction\": predictions, \"Actual\": y_val}).head(15)"
   ]
  },
  {
   "cell_type": "code",
   "execution_count": 27,
   "metadata": {},
   "outputs": [],
   "source": [
    "# Create the GridSearch estimator along with a parameter object containing the values to adjust\n",
    "rf = RandomForestClassifier()\n",
    "rf_param_grid = {'n_estimators': [100, 200, 500],\n",
    "                'max_features': [10, 20, 50]}\n",
    "grid_rf = GridSearchCV(rf, rf_param_grid, verbose=True, n_jobs=-2)"
   ]
  },
  {
   "cell_type": "code",
   "execution_count": 28,
   "metadata": {},
   "outputs": [
    {
     "output_type": "stream",
     "name": "stdout",
     "text": [
      "Fitting 5 folds for each of 9 candidates, totalling 45 fits\n",
      "[Parallel(n_jobs=-2)]: Using backend LokyBackend with 7 concurrent workers.\n",
      "[Parallel(n_jobs=-2)]: Done  45 out of  45 | elapsed:  4.5min finished\n"
     ]
    },
    {
     "output_type": "execute_result",
     "data": {
      "text/plain": [
       "GridSearchCV(estimator=RandomForestClassifier(), n_jobs=-2,\n",
       "             param_grid={'max_features': [10, 20, 50],\n",
       "                         'n_estimators': [100, 200, 500]},\n",
       "             verbose=True)"
      ]
     },
     "metadata": {},
     "execution_count": 28
    }
   ],
   "source": [
    "# Fit the model using the grid search estimator. \n",
    "grid_rf.fit(X_train, y_train)"
   ]
  },
  {
   "cell_type": "code",
   "execution_count": 29,
   "metadata": {},
   "outputs": [
    {
     "output_type": "stream",
     "name": "stdout",
     "text": [
      "{'max_features': 10, 'n_estimators': 100}\n"
     ]
    }
   ],
   "source": [
    "# List the best parameters for this dataset\n",
    "print(grid_rf.best_params_)"
   ]
  },
  {
   "cell_type": "code",
   "execution_count": 30,
   "metadata": {},
   "outputs": [
    {
     "output_type": "stream",
     "name": "stdout",
     "text": [
      "0.9993547643737758\n"
     ]
    }
   ],
   "source": [
    "# List the best score\n",
    "print(grid_rf.best_score_)"
   ]
  },
  {
   "cell_type": "code",
   "execution_count": 31,
   "metadata": {},
   "outputs": [
    {
     "output_type": "stream",
     "name": "stdout",
     "text": [
      "Training Data Score: 0.999988477935246\nTesting Data Score: 0.9994008664393031\n"
     ]
    }
   ],
   "source": [
    "# print the R2 score before adjusting parameters\n",
    "print(f\"Training Data Score: {grid_rf.score(X_train, y_train)}\")\n",
    "print(f\"Testing Data Score: {grid_rf.score(X_test, y_test)}\")\n",
    "# print(f\"Validation Data Score: {grid.score(X_val, y_val)}\")"
   ]
  },
  {
   "cell_type": "code",
   "execution_count": 32,
   "metadata": {},
   "outputs": [
    {
     "output_type": "execute_result",
     "data": {
      "text/plain": [
       "    Prediction  Actual\n",
       "0            7       7\n",
       "1            7       7\n",
       "2            7       7\n",
       "3            7       7\n",
       "4            6       6\n",
       "5            7       7\n",
       "6            6       6\n",
       "7            6       6\n",
       "8            6       6\n",
       "9            7       7\n",
       "10           7       7\n",
       "11           7       7\n",
       "12           6       6\n",
       "13           7       7\n",
       "14           7       7"
      ],
      "text/html": "<div>\n<style scoped>\n    .dataframe tbody tr th:only-of-type {\n        vertical-align: middle;\n    }\n\n    .dataframe tbody tr th {\n        vertical-align: top;\n    }\n\n    .dataframe thead th {\n        text-align: right;\n    }\n</style>\n<table border=\"1\" class=\"dataframe\">\n  <thead>\n    <tr style=\"text-align: right;\">\n      <th></th>\n      <th>Prediction</th>\n      <th>Actual</th>\n    </tr>\n  </thead>\n  <tbody>\n    <tr>\n      <th>0</th>\n      <td>7</td>\n      <td>7</td>\n    </tr>\n    <tr>\n      <th>1</th>\n      <td>7</td>\n      <td>7</td>\n    </tr>\n    <tr>\n      <th>2</th>\n      <td>7</td>\n      <td>7</td>\n    </tr>\n    <tr>\n      <th>3</th>\n      <td>7</td>\n      <td>7</td>\n    </tr>\n    <tr>\n      <th>4</th>\n      <td>6</td>\n      <td>6</td>\n    </tr>\n    <tr>\n      <th>5</th>\n      <td>7</td>\n      <td>7</td>\n    </tr>\n    <tr>\n      <th>6</th>\n      <td>6</td>\n      <td>6</td>\n    </tr>\n    <tr>\n      <th>7</th>\n      <td>6</td>\n      <td>6</td>\n    </tr>\n    <tr>\n      <th>8</th>\n      <td>6</td>\n      <td>6</td>\n    </tr>\n    <tr>\n      <th>9</th>\n      <td>7</td>\n      <td>7</td>\n    </tr>\n    <tr>\n      <th>10</th>\n      <td>7</td>\n      <td>7</td>\n    </tr>\n    <tr>\n      <th>11</th>\n      <td>7</td>\n      <td>7</td>\n    </tr>\n    <tr>\n      <th>12</th>\n      <td>6</td>\n      <td>6</td>\n    </tr>\n    <tr>\n      <th>13</th>\n      <td>7</td>\n      <td>7</td>\n    </tr>\n    <tr>\n      <th>14</th>\n      <td>7</td>\n      <td>7</td>\n    </tr>\n  </tbody>\n</table>\n</div>"
     },
     "metadata": {},
     "execution_count": 32
    }
   ],
   "source": [
    "# make a prediction on the validation data\n",
    "predictions_rf = grid_rf.predict(X_val)\n",
    "pd.DataFrame({\"Prediction\": predictions_rf, \"Actual\": y_val}).head(15)"
   ]
  },
  {
   "cell_type": "code",
   "execution_count": 33,
   "metadata": {},
   "outputs": [
    {
     "output_type": "stream",
     "name": "stdout",
     "text": [
      "Model is saved.\n"
     ]
    }
   ],
   "source": [
    "# save/ export the model\n",
    "joblib.dump(grid_rf, '../Machine_learning_models/Smoking_RandomForest_fulldataset.smd')\n",
    "print(\"Model is saved.\")"
   ]
  },
  {
   "cell_type": "code",
   "execution_count": 34,
   "metadata": {},
   "outputs": [],
   "source": [
    "load_model_rf = joblib.load('../Machine_learning_models/Smoking_RandomForest_fulldataset.smd')"
   ]
  },
  {
   "cell_type": "code",
   "execution_count": 35,
   "metadata": {},
   "outputs": [
    {
     "output_type": "execute_result",
     "data": {
      "text/plain": [
       "array([7, 7, 7, ..., 7, 6, 6])"
      ]
     },
     "metadata": {},
     "execution_count": 35
    }
   ],
   "source": [
    "load_model_rf.predict(X_val)"
   ]
  }
 ],
 "metadata": {
  "hide_input": false,
  "kernelspec": {
   "name": "python3",
   "display_name": "Python 3.7.9 64-bit ('homework': conda)",
   "metadata": {
    "interpreter": {
     "hash": "bda7821ce18a0b2c0f737a4544fda4e96b70694268c6080765f14fcf13080e2c"
    }
   }
  },
  "language_info": {
   "codemirror_mode": {
    "name": "ipython",
    "version": 3
   },
   "file_extension": ".py",
   "mimetype": "text/x-python",
   "name": "python",
   "nbconvert_exporter": "python",
   "pygments_lexer": "ipython3",
   "version": "3.7.9-final"
  },
  "toc": {
   "base_numbering": 1,
   "nav_menu": {},
   "number_sections": true,
   "sideBar": true,
   "skip_h1_title": false,
   "title_cell": "Table of Contents",
   "title_sidebar": "Contents",
   "toc_cell": false,
   "toc_position": {},
   "toc_section_display": true,
   "toc_window_display": false
  },
  "varInspector": {
   "cols": {
    "lenName": 16,
    "lenType": 16,
    "lenVar": 40
   },
   "kernels_config": {
    "python": {
     "delete_cmd_postfix": "",
     "delete_cmd_prefix": "del ",
     "library": "var_list.py",
     "varRefreshCmd": "print(var_dic_list())"
    },
    "r": {
     "delete_cmd_postfix": ") ",
     "delete_cmd_prefix": "rm(",
     "library": "var_list.r",
     "varRefreshCmd": "cat(var_dic_list()) "
    }
   },
   "types_to_exclude": [
    "module",
    "function",
    "builtin_function_or_method",
    "instance",
    "_Feature"
   ],
   "window_display": false
  }
 },
 "nbformat": 4,
 "nbformat_minor": 4
}